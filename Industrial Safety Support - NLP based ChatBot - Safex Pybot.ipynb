{
 "cells": [
  {
   "cell_type": "markdown",
   "metadata": {},
   "source": [
    "# Domain: Industrial Safety Support \n",
    "# NLP based ChatBot - Safex Pybot\n",
    "\n",
    "\n",
    "\n",
    "#### CONTEXT:\n",
    "The database comes from one of the biggest industry in Brazil and in the world. It is an urgent need for industries/companies around the\n",
    "globe to understand why employees still suffer some injuries/accidents in plants. Sometimes they also die in such environment.\n",
    "#### DATA DESCRIPTION:\n",
    "This The database is basically records of accidents from 12 different plants in 03 different countries which every line in the data is an occurrence of an accident.\n",
    "#### Columns description:\n",
    "‣ Data: timestamp or time/date information\n",
    "\n",
    "‣ Countries: which country the accident occurred (anonymised)\n",
    "\n",
    "‣ Local: the city where the manufacturing plant is located (anonymised)\n",
    "\n",
    "‣ Industry sector: which sector the plant belongs to\n",
    "\n",
    "‣ Accident level: from I to VI, it registers how severe was the accident (I means not severe but VI means very severe)\n",
    "\n",
    "‣ Potential Accident Level: Depending on the Accident Level, the database also registers how severe the accident could have been (due to other factors involved in the accident)\n",
    "\n",
    "‣ Genre: if the person is male of female\n",
    "\n",
    "‣ Employee or Third Party: if the injured person is an employee or a third party\n",
    "\n",
    "‣ Critical Risk: some description of the risk involved in the accident\n",
    "\n",
    "‣ Description: Detailed description of how the accident happened.\n",
    "\n",
    "Link to download the dataset: https://www.kaggle.com/ihmstefanini/industrial-safety-and-health-analytics-database [ for your reference only ]\n",
    "\n",
    "####  PROJECT OBJECTIVE:\n",
    "Design a ML/DL based chatbot utility which can help the professionals to highlight the safety risk as per the incident description."
   ]
  },
  {
   "cell_type": "code",
   "execution_count": 46,
   "metadata": {
    "scrolled": false
   },
   "outputs": [],
   "source": [
    "#Importing the data and files\n",
    "import numpy as np\n",
    "import pandas as pd\n",
    "import matplotlib.pyplot as plt\n",
    "%matplotlib inline\n",
    "import seaborn as sns\n",
    "from scipy import stats; from scipy.stats import zscore, norm, randint\n",
    "import pickle\n",
    "import warnings\n",
    "warnings.filterwarnings(\"ignore\")"
   ]
  },
  {
   "cell_type": "code",
   "execution_count": 47,
   "metadata": {
    "_cell_guid": "b1076dfc-b9ad-4769-8c92-a6c4dae69d19",
    "_uuid": "8f2839f25d086af736a60e9eeb907d3b93b6e0e5",
    "scrolled": false
   },
   "outputs": [],
   "source": [
    "# import the libraries\n",
    "\n",
    "import nltk\n",
    "from nltk.stem.lancaster import LancasterStemmer\n",
    "stemmer = LancasterStemmer()\n",
    "\n",
    "# things we need for Tensorflow\n",
    "\n",
    "import tensorflow as tf\n",
    "import tflearn\n",
    "import random"
   ]
  },
  {
   "cell_type": "code",
   "execution_count": 48,
   "metadata": {
    "scrolled": false
   },
   "outputs": [
    {
     "name": "stderr",
     "output_type": "stream",
     "text": [
      "[nltk_data] Downloading package punkt to\n",
      "[nltk_data]     C:\\Users\\Dell\\AppData\\Roaming\\nltk_data...\n",
      "[nltk_data]   Package punkt is already up-to-date!\n"
     ]
    },
    {
     "data": {
      "text/plain": [
       "True"
      ]
     },
     "execution_count": 48,
     "metadata": {},
     "output_type": "execute_result"
    }
   ],
   "source": [
    "import nltk\n",
    "nltk.download('punkt')"
   ]
  },
  {
   "cell_type": "markdown",
   "metadata": {},
   "source": [
    "Variable to handle model training"
   ]
  },
  {
   "cell_type": "code",
   "execution_count": 1,
   "metadata": {
    "scrolled": false
   },
   "outputs": [],
   "source": [
    "use_pretrained_model=True"
   ]
  },
  {
   "cell_type": "markdown",
   "metadata": {},
   "source": [
    "### Modeling and functions for Question and Answers"
   ]
  },
  {
   "cell_type": "code",
   "execution_count": 50,
   "metadata": {
    "_uuid": "1a10da399a40c2386b7a892db2f725bf2c2a4d91",
    "jupyter": {
     "outputs_hidden": true
    },
    "scrolled": false
   },
   "outputs": [],
   "source": [
    "# import our chat-bot intents file\n",
    "import json\n",
    "with open('safexpybot_intents_qna.json') as json_data:\n",
    "    intents = json.load(json_data)\n",
    "    "
   ]
  },
  {
   "cell_type": "code",
   "execution_count": 51,
   "metadata": {
    "_uuid": "f5bfc031e0908e044f0bb27ebd1fbf7bac7e66fe",
    "scrolled": false
   },
   "outputs": [],
   "source": [
    "# Initialize data fields for our file\n",
    "\n",
    "words = []\n",
    "classes = []\n",
    "documents = []\n",
    "ignore_words = ['?']\n",
    "# loop through each sentence in our intents patterns\n",
    "for intent in intents['intents']:\n",
    "    for pattern in intent['patterns']:\n",
    "        # tokenize each word in the sentence\n",
    "        w = nltk.word_tokenize(pattern)\n",
    "        # add to our words list\n",
    "        words.extend(w)\n",
    "        # add to documents in our corpus\n",
    "        documents.append((w, intent['tag']))\n",
    "        # add to our classes list\n",
    "        if intent['tag'] not in classes:\n",
    "            classes.append(intent['tag'])\n",
    "\n",
    "# stem and lower each word and remove duplicates\n",
    "words = [stemmer.stem(w.lower()) for w in words if w not in ignore_words]\n",
    "words = sorted(list(set(words)))\n",
    "\n",
    "# remove duplicates\n",
    "classes = sorted(list(set(classes)))\n"
   ]
  },
  {
   "cell_type": "code",
   "execution_count": 52,
   "metadata": {
    "_uuid": "d402102e6a2fe4b3d3abf6cf36338878c07402f8",
    "jupyter": {
     "outputs_hidden": true
    },
    "scrolled": false
   },
   "outputs": [],
   "source": [
    "# create our training data\n",
    "training = []\n",
    "output = []\n",
    "# create an empty array for our output\n",
    "output_empty = [0] * len(classes)\n",
    "\n",
    "# training set, bag of words for each sentence\n",
    "for doc in documents:\n",
    "    # initialize our bag of words\n",
    "    bag = []\n",
    "    # list of tokenized words for the pattern\n",
    "    pattern_words = doc[0]\n",
    "    # stem each word\n",
    "    pattern_words = [stemmer.stem(word.lower()) for word in pattern_words]\n",
    "    # create our bag of words array\n",
    "    for w in words:\n",
    "        bag.append(1) if w in pattern_words else bag.append(0)\n",
    "\n",
    "    # output is a '0' for each tag and '1' for current tag\n",
    "    output_row = list(output_empty)\n",
    "    output_row[classes.index(doc[1])] = 1\n",
    "\n",
    "    training.append([bag, output_row])\n",
    "\n",
    "# shuffle our features and turn into np.array\n",
    "random.shuffle(training)\n",
    "training = np.array(training)\n",
    "\n",
    "# create train and test lists\n",
    "X_train = list(training[:,0])\n",
    "y_train = list(training[:,1])"
   ]
  },
  {
   "cell_type": "code",
   "execution_count": 56,
   "metadata": {
    "_uuid": "d9ea1e5769bdd9c92282a502caa47a16db302ff5",
    "scrolled": false
   },
   "outputs": [
    {
     "name": "stdout",
     "output_type": "stream",
     "text": [
      "Training Step: 17999  | total loss: \u001b[1m\u001b[32m0.89035\u001b[0m\u001b[0m | time: 0.086s\n",
      "| Adam | epoch: 1000 | loss: 0.89035 - acc: 0.8707 -- iter: 136/143\n",
      "Training Step: 18000  | total loss: \u001b[1m\u001b[32m0.81619\u001b[0m\u001b[0m | time: 0.090s\n",
      "| Adam | epoch: 1000 | loss: 0.81619 - acc: 0.8711 -- iter: 143/143\n",
      "--\n",
      "INFO:tensorflow:C:\\Users\\Dell\\Desktop\\GreatLearning PGP AIML\\Capstone Project\\Final Capstone Project\\model_qna.tflearn is not in all_model_checkpoint_paths. Manually adding it.\n"
     ]
    }
   ],
   "source": [
    "# reset underlying graph data\n",
    "from tensorflow.python.framework import ops\n",
    "ops.reset_default_graph()\n",
    "    \n",
    "    # Build neural network\n",
    "net_qna = tflearn.input_data(shape=[None, len(X_train[0])])\n",
    "net_qna = tflearn.fully_connected(net_qna, 16)\n",
    "net_qna = tflearn.fully_connected(net_qna, 16)\n",
    "net_qna = tflearn.fully_connected(net_qna, len(y_train[0]), activation='softmax')\n",
    "net_qna = tflearn.regression(net_qna)\n",
    "\n",
    "# Define model and setup tensorboard\n",
    "model_qna = tflearn.DNN(net_qna, tensorboard_dir='tflearn_logs')\n",
    "\n",
    "if use_pretrained_model==False:\n",
    "    # Start training (apply gradient descent algorithm)\n",
    "    model_qna.fit(X_train, y_train, n_epoch=1000, batch_size=8, show_metric=True)\n",
    "    model_qna.save('model_qna.tflearn')\n",
    "    \n",
    "    pickle.dump( {'words':words, 'classes':classes, 'X_train':X_train, 'y_train':y_train}, open( \"qna_training_data\", \"wb\" ) )"
   ]
  },
  {
   "cell_type": "code",
   "execution_count": 57,
   "metadata": {
    "_uuid": "da5da061a3b18179176c491d0938412309823cff",
    "scrolled": false
   },
   "outputs": [],
   "source": [
    "# restore all of our data structures\n",
    "import pickle\n",
    "data_qna = pickle.load( open( \"qna_training_data\", \"rb\" ) )\n",
    "words_qna = data_qna['words']\n",
    "classes_qna = data_qna['classes']\n",
    "X_train_qna = data_qna['X_train']\n",
    "y_train_qna = data_qna['y_train']\n",
    "\n",
    "# import our chat-bot intents file\n",
    "import json\n",
    "with open('safexpybot_intents_qna.json') as json_data:\n",
    "    intents_qna = json.load(json_data)"
   ]
  },
  {
   "cell_type": "code",
   "execution_count": 58,
   "metadata": {
    "_uuid": "6dbca05cc97cd1c66896ec00a37bb0f932b02486",
    "scrolled": false
   },
   "outputs": [
    {
     "name": "stdout",
     "output_type": "stream",
     "text": [
      "INFO:tensorflow:Restoring parameters from C:\\Users\\Dell\\Desktop\\GreatLearning PGP AIML\\Capstone Project\\Final Capstone Project\\model_qna.tflearn\n"
     ]
    }
   ],
   "source": [
    "# load our saved model\n",
    "#if use_pretrained_model==True:\n",
    "model_qna.load('./model_qna.tflearn')"
   ]
  },
  {
   "cell_type": "code",
   "execution_count": 59,
   "metadata": {
    "_uuid": "0c4c7d32c560284a20da8b659075347f8eee17b5",
    "jupyter": {
     "outputs_hidden": true
    },
    "scrolled": false
   },
   "outputs": [],
   "source": [
    "# functions for cleansing the sentenses and to get the bag of words\n",
    "\n",
    "def clean_up_sentence(sentence):\n",
    "    # tokenize the pattern\n",
    "    sentence_words = nltk.word_tokenize(sentence)\n",
    "    # stem each word\n",
    "    sentence_words = [stemmer.stem(word.lower()) for word in sentence_words]\n",
    "    return sentence_words\n",
    "\n",
    "# return bag of words array: 0 or 1 for each word in the bag that exists in the sentence\n",
    "def bow(sentence, words, show_details=False):\n",
    "    # tokenize the pattern\n",
    "    sentence_words = clean_up_sentence(sentence)\n",
    "    # bag of words\n",
    "    bag = [0]*len(words)  \n",
    "    for s in sentence_words:\n",
    "        for i,w in enumerate(words):\n",
    "            if w == s: \n",
    "                bag[i] = 1\n",
    "                if show_details:\n",
    "                    print (\"found in bag: %s\" % w)\n",
    "\n",
    "    return(np.array(bag))"
   ]
  },
  {
   "cell_type": "markdown",
   "metadata": {},
   "source": [
    "### Response and Classify function for Question and Answer Chatbot"
   ]
  },
  {
   "cell_type": "code",
   "execution_count": 60,
   "metadata": {
    "_uuid": "4774b1be2f6419c305e36d45c4224452064128d8",
    "jupyter": {
     "outputs_hidden": true
    },
    "scrolled": false
   },
   "outputs": [],
   "source": [
    "# functions to classify the sentences and for respective responses\n",
    "# create a data structure to hold user context\n",
    "\n",
    "context = {}\n",
    "\n",
    "ERROR_THRESHOLD = 0.25\n",
    "def classify(sentence):\n",
    "    # generate probabilities from the model\n",
    "    results = model_qna.predict([bow(sentence, words_qna)])[0]\n",
    "    # filter out predictions below a threshold\n",
    "    results = [[i,r] for i,r in enumerate(results) if r>ERROR_THRESHOLD]\n",
    "    # sort by strength of probability\n",
    "    results.sort(key=lambda x: x[1], reverse=True)\n",
    "    return_list = []\n",
    "    for r in results:\n",
    "        return_list.append((classes_qna[r[0]], r[1]))\n",
    "    # return tuple of intent and probability\n",
    "    return return_list\n",
    "\n",
    "\n",
    "def response(sentence, show_details=False):\n",
    "    results = classify(sentence)\n",
    "    # if we have a classification then find the matching intent tag\n",
    "    if results:\n",
    "        # loop as long as there are matches to process\n",
    "        while results:\n",
    "            for i in intents_qna['intents']:\n",
    "                # find a tag matching the first result\n",
    "                if i['tag'] == results[0][0]:\n",
    "                    # a random response from the intent\n",
    "                    return print('BOT: ', random.choice(i['responses']))\n",
    "\n",
    "            results.pop(0)\n",
    "            "
   ]
  },
  {
   "cell_type": "markdown",
   "metadata": {},
   "source": [
    "## Chatbot : Historical Data Insights"
   ]
  },
  {
   "cell_type": "code",
   "execution_count": 61,
   "metadata": {
    "scrolled": false
   },
   "outputs": [],
   "source": [
    "dataset= pd.read_csv('data.csv')\n",
    "#print(\"Shape of the dataset is :\",dataset.shape)\n",
    "#dataset.head()"
   ]
  },
  {
   "cell_type": "markdown",
   "metadata": {},
   "source": [
    "Creating a list of possible features allowed for showing the data insights"
   ]
  },
  {
   "cell_type": "code",
   "execution_count": 62,
   "metadata": {
    "scrolled": false
   },
   "outputs": [],
   "source": [
    "dataset_features=['Country', 'Local', 'Industry Sector', 'Accident Level',\n",
    "       'Potential Accident Level', 'Gender', 'Natureofemployee','Year','Local','Season']"
   ]
  },
  {
   "cell_type": "markdown",
   "metadata": {},
   "source": [
    "### Function to be called by the Chatbot for showing data insights"
   ]
  },
  {
   "cell_type": "code",
   "execution_count": 63,
   "metadata": {
    "scrolled": false
   },
   "outputs": [],
   "source": [
    "def show_eda(response_result):\n",
    "    eda_flag = True\n",
    "    result = list(response_result.split(\",\"))\n",
    "    result_items = len(result)\n",
    "    \n",
    "    for item in result:\n",
    "        if item not in dataset_features:\n",
    "            eda_flag = False\n",
    "    \n",
    "    if eda_flag == True:\n",
    "        if result_items == 1:\n",
    "            univariate_analysis_categorical(dataset,result[0])\n",
    "        elif result_items == 2:\n",
    "           \n",
    "            bivariate_analysis_categorical(dataset,result[0],result[1])\n",
    "        else:\n",
    "            print(\"Sorry, not able to find appropriate answer. Please ask teh question again\")\n",
    "    else:\n",
    "        print(response_result)  \n",
    "        \n",
    "        \n",
    "            \n",
    "    "
   ]
  },
  {
   "cell_type": "code",
   "execution_count": 64,
   "metadata": {
    "scrolled": false
   },
   "outputs": [],
   "source": [
    "def univariate_analysis_categorical(dataset,feature):    \n",
    "    print(\"\\n\")\n",
    "    print(\"===========================================================================================\")\n",
    "    print(\"Data Analysis of feature: \",feature)\n",
    "    print(\"===========================================================================================\\n\")\n",
    "                \n",
    "    print(\"\\n\")  \n",
    "    print(\"-----------------\")\n",
    "    print(\"Countplot  for feature: \",feature)\n",
    "    print(\"-----------------\")\n",
    "        \n",
    "    plt.figure(figsize=(10,6))\n",
    "    sns.countplot(dataset[feature],order = dataset[feature].value_counts().index)\n",
    "    plt.xticks(rotation = 'vertical')\n",
    "    plt.show()\n",
    "    \n",
    "    print(\"-----------------\")\n",
    "    print(\"Pie Chart for feature: \",feature)\n",
    "    print(\"------------------\")      \n",
    "        \n",
    "    labels=dataset[feature].unique()\n",
    "    plt.figure(figsize=(10,6))\n",
    "    dataset[feature].value_counts().plot.pie(autopct=\"%.1f%%\")\n",
    "    plt.show()\n",
    "            \n",
    "    \n",
    "    print(\"\\n\")\n",
    "    print(\"-----------------\")\n",
    "    print(\"Value Counts for feature: \",feature)\n",
    "    print(\"-------------------\")\n",
    "    \n",
    "    print(dataset[feature].value_counts().sort_values(ascending=False))\n",
    "    print('')"
   ]
  },
  {
   "cell_type": "code",
   "execution_count": 65,
   "metadata": {
    "scrolled": false
   },
   "outputs": [],
   "source": [
    "def bivariate_analysis_categorical(dataset,feature1,feature2):\n",
    "    \n",
    "       \n",
    "            if feature1 != feature2:              \n",
    "                   \n",
    "\n",
    "                print(\"\\n\")\n",
    "                print(\"===========================================================================================\")\n",
    "                print(\"Data Analysis of features: \",feature1,' and  ', feature2)\n",
    "                print(\"===========================================================================================\")\n",
    "\n",
    "                \n",
    "                bivariate_analysis_df = pd.crosstab(index=dataset[feature1], \n",
    "                                          columns=dataset[feature2])\n",
    "                \n",
    "                print(\"\\n\")\n",
    "                print(\"------------------------------------------\")\n",
    "                print(\"Cross table Analysis of features: \",feature1,' and  ', feature2)\n",
    "                print(\"------------------------------------------\")\n",
    "                \n",
    "                display(bivariate_analysis_df)\n",
    "                \n",
    "                print(\"\\n\")\n",
    "                print(\"------------------------------------------\")\n",
    "                print(\"Count plot Analysis of features: \",feature1,' and  ', feature2)\n",
    "                print(\"------------------------------------------\")\n",
    "                \n",
    "                plt.figure(figsize=(12,6))\n",
    "                sns.countplot(x=feature1, hue=feature2, data=dataset)\n",
    "                plt.show()\n",
    "                \n",
    "\n"
   ]
  },
  {
   "cell_type": "markdown",
   "metadata": {},
   "source": [
    "## Modeling and Functions for Historical Data Insights through chatbot"
   ]
  },
  {
   "cell_type": "code",
   "execution_count": 66,
   "metadata": {
    "scrolled": false
   },
   "outputs": [
    {
     "name": "stdout",
     "output_type": "stream",
     "text": [
      "Training Step: 14999  | total loss: \u001b[1m\u001b[32m0.10880\u001b[0m\u001b[0m | time: 0.058s\n",
      "| Adam | epoch: 1000 | loss: 0.10880 - acc: 0.9851 -- iter: 112/113\n",
      "Training Step: 15000  | total loss: \u001b[1m\u001b[32m0.09793\u001b[0m\u001b[0m | time: 0.064s\n",
      "| Adam | epoch: 1000 | loss: 0.09793 - acc: 0.9866 -- iter: 113/113\n",
      "--\n",
      "INFO:tensorflow:C:\\Users\\Dell\\Desktop\\GreatLearning PGP AIML\\Capstone Project\\Final Capstone Project\\model_eda.tflearn is not in all_model_checkpoint_paths. Manually adding it.\n"
     ]
    }
   ],
   "source": [
    "# import our chat-bot intents file\n",
    "import json\n",
    "with open('safexpybot_intents_eda.json') as json_data:\n",
    "    intents_eda = json.load(json_data)\n",
    "\n",
    "# Initialize data fields for our file\n",
    "\n",
    "words = []\n",
    "classes = []\n",
    "documents = []\n",
    "ignore_words = ['?']\n",
    "# loop through each sentence in our intents patterns\n",
    "for intent in intents_eda['intents']:\n",
    "    for pattern in intent['patterns']:\n",
    "        # tokenize each word in the sentence\n",
    "        w = nltk.word_tokenize(pattern)\n",
    "        # add to our words list\n",
    "        words.extend(w)\n",
    "        # add to documents in our corpus\n",
    "        documents.append((w, intent['tag']))\n",
    "        # add to our classes list\n",
    "        if intent['tag'] not in classes:\n",
    "            classes.append(intent['tag'])\n",
    "\n",
    "# stem and lower each word and remove duplicates\n",
    "words = [stemmer.stem(w.lower()) for w in words if w not in ignore_words]\n",
    "words = sorted(list(set(words)))\n",
    "\n",
    "# remove duplicates\n",
    "classes = sorted(list(set(classes)))\n",
    "\n",
    "#print (len(documents), \"documents\")\n",
    "#print (len(classes), \"classes\", classes)\n",
    "#print (len(words), \"unique stemmed words\", words)\n",
    "\n",
    "\n",
    "# create our training data\n",
    "training = []\n",
    "output = []\n",
    "# create an empty array for our output\n",
    "output_empty = [0] * len(classes)\n",
    "\n",
    "# training set, bag of words for each sentence\n",
    "for doc in documents:\n",
    "    # initialize our bag of words\n",
    "    bag = []\n",
    "    # list of tokenized words for the pattern\n",
    "    pattern_words = doc[0]\n",
    "    # stem each word\n",
    "    pattern_words = [stemmer.stem(word.lower()) for word in pattern_words]\n",
    "    # create our bag of words array\n",
    "    for w in words:\n",
    "        bag.append(1) if w in pattern_words else bag.append(0)\n",
    "\n",
    "    # output is a '0' for each tag and '1' for current tag\n",
    "    output_row = list(output_empty)\n",
    "    output_row[classes.index(doc[1])] = 1\n",
    "\n",
    "    training.append([bag, output_row])\n",
    "\n",
    "# shuffle our features and turn into np.array\n",
    "random.shuffle(training)\n",
    "training = np.array(training)\n",
    "\n",
    "# create train and test lists\n",
    "X_train = list(training[:,0])\n",
    "y_train = list(training[:,1])\n",
    "\n",
    "\n",
    "# reset underlying graph data\n",
    "from tensorflow.python.framework import ops\n",
    "ops.reset_default_graph()\n",
    "\n",
    "# Build neural network\n",
    "net_eda = tflearn.input_data(shape=[None, len(X_train[0])])\n",
    "net_eda = tflearn.fully_connected(net_eda, 16)\n",
    "net_eda = tflearn.fully_connected(net_eda, 16)\n",
    "net_eda = tflearn.fully_connected(net_eda, len(y_train[0]), activation='softmax')\n",
    "net_eda = tflearn.regression(net_eda)\n",
    "\n",
    "# Define model and setup tensorboard\n",
    "model_eda = tflearn.DNN(net_eda, tensorboard_dir='tflearn_logs')\n",
    "\n",
    "if use_pretrained_model==False:\n",
    "    # Start training (apply gradient descent algorithm)\n",
    "    model_eda.fit(X_train, y_train, n_epoch=1000, batch_size=8, show_metric=True)\n",
    "    model_eda.save('model_eda.tflearn')\n",
    "    pickle.dump( {'words':words, 'classes':classes, 'X_train':X_train, 'y_train':y_train}, open( \"eda_training_data\", \"wb\" ) )\n"
   ]
  },
  {
   "cell_type": "code",
   "execution_count": 67,
   "metadata": {
    "scrolled": false
   },
   "outputs": [],
   "source": [
    "# restore all of our data structures\n",
    "import pickle\n",
    "data_eda = pickle.load( open( \"eda_training_data\", \"rb\" ) )\n",
    "words_eda = data_eda['words']\n",
    "classes_eda = data_eda['classes']\n",
    "X_train_eda = data_eda['X_train']\n",
    "y_train_eda = data_eda['y_train']\n"
   ]
  },
  {
   "cell_type": "code",
   "execution_count": 68,
   "metadata": {
    "scrolled": false
   },
   "outputs": [
    {
     "name": "stdout",
     "output_type": "stream",
     "text": [
      "INFO:tensorflow:Restoring parameters from C:\\Users\\Dell\\Desktop\\GreatLearning PGP AIML\\Capstone Project\\Final Capstone Project\\model_eda.tflearn\n"
     ]
    }
   ],
   "source": [
    "# import our chat-bot intents file\n",
    "import json\n",
    "with open('safexpybot_intents_eda.json') as json_data:\n",
    "    intents_eda = json.load(json_data)\n",
    "\n",
    "#if use_pretrained_model==True:\n",
    "# load our saved model\n",
    "model_eda.load('./model_eda.tflearn')"
   ]
  },
  {
   "cell_type": "markdown",
   "metadata": {},
   "source": [
    "### Response and Classify function for Historical Data Insights"
   ]
  },
  {
   "cell_type": "code",
   "execution_count": 69,
   "metadata": {
    "scrolled": false
   },
   "outputs": [],
   "source": [
    "\n",
    "# functions to classify the sentences and for respective responses\n",
    "# create a data structure to hold user context\n",
    "\n",
    "context = {}\n",
    "\n",
    "ERROR_THRESHOLD = 0.25\n",
    "def classify_eda(sentence):\n",
    "    # generate probabilities from the model\n",
    "    results = model_eda.predict([bow(sentence, words_eda)])[0]\n",
    "    # filter out predictions below a threshold\n",
    "    results = [[i,r] for i,r in enumerate(results) if r>ERROR_THRESHOLD]\n",
    "    # sort by strength of probability\n",
    "    results.sort(key=lambda x: x[1], reverse=True)\n",
    "    return_list = []\n",
    "    for r in results:\n",
    "        return_list.append((classes_eda[r[0]], r[1]))\n",
    "    # return tuple of intent and probability\n",
    "    return return_list\n",
    "\n",
    "\n",
    "def response_eda(sentence, show_details=False):\n",
    "    \n",
    "    results = classify_eda(sentence)\n",
    "    \n",
    "    # if we have a classification then find the matching intent tag\n",
    "    if results:\n",
    "        # loop as long as there are matches to process\n",
    "        while results:\n",
    "            for i in intents_eda['intents']:\n",
    "                \n",
    "                # find a tag matching the first result\n",
    "                if i['tag'] == results[0][0]:\n",
    "                    \n",
    "                    #return print(random.choice(i['responses']))\n",
    "                    response_result = random.choice(i['responses'])\n",
    "                    show_eda(response_result)\n",
    "                    \n",
    "\n",
    "            results.pop(0)\n",
    "            "
   ]
  },
  {
   "cell_type": "code",
   "execution_count": 70,
   "metadata": {
    "scrolled": false
   },
   "outputs": [],
   "source": [
    "#print(response_eda('analysis for Accident'))"
   ]
  },
  {
   "cell_type": "markdown",
   "metadata": {
    "scrolled": true
   },
   "source": [
    "## Chatbot : Classification Model"
   ]
  },
  {
   "cell_type": "code",
   "execution_count": 71,
   "metadata": {
    "scrolled": false
   },
   "outputs": [],
   "source": [
    "dataset_clf = dataset.copy()"
   ]
  },
  {
   "cell_type": "code",
   "execution_count": 72,
   "metadata": {
    "scrolled": false
   },
   "outputs": [
    {
     "name": "stderr",
     "output_type": "stream",
     "text": [
      "[nltk_data] Downloading package punkt to\n",
      "[nltk_data]     C:\\Users\\Dell\\AppData\\Roaming\\nltk_data...\n",
      "[nltk_data]   Package punkt is already up-to-date!\n",
      "[nltk_data] Downloading package wordnet to\n",
      "[nltk_data]     C:\\Users\\Dell\\AppData\\Roaming\\nltk_data...\n",
      "[nltk_data]   Package wordnet is already up-to-date!\n",
      "[nltk_data] Downloading package stopwords to\n",
      "[nltk_data]     C:\\Users\\Dell\\AppData\\Roaming\\nltk_data...\n",
      "[nltk_data]   Package stopwords is already up-to-date!\n"
     ]
    }
   ],
   "source": [
    "from nltk.corpus import stopwords\n",
    "from nltk.stem import WordNetLemmatizer,PorterStemmer\n",
    "from nltk.tokenize import word_tokenize\n",
    "#from wordcloud import WordCloud, STOPWORDS\n",
    "import nltk\n",
    "nltk.download('punkt')\n",
    "nltk.download('wordnet')\n",
    "import string\n",
    "nltk.download('stopwords')\n",
    "stop=set(stopwords.words('english'))\n",
    "\n",
    "def preprocess_text(text):\n",
    "      corpus=[]\n",
    "      #stem=PorterStemmer()\n",
    "      lem=WordNetLemmatizer()\n",
    "      for news in text:\n",
    "          words=[w for w in word_tokenize(news) if (w not in stop)]\n",
    "          \n",
    "          words=[lem.lemmatize(w) for w in words if len(w)>2]\n",
    "          words = [''.join(c for c in s if c not in string.punctuation) for s in words if s]\n",
    "          words = [word.lower() for word in words]\n",
    "          words = [word for word in words if word.isalpha()]\n",
    "          corpus.append(words) \n",
    "         \n",
    "      return corpus      \n",
    "      \n",
    "dataset_clf['processed_text']= preprocess_text(dataset_clf['Description'])\n",
    "\n",
    "desc_processed = []\n",
    "for i in range(len(dataset_clf['processed_text'])):\n",
    "   desc_processed.append(' '.join(wrd for wrd in dataset_clf.iloc[:,14][i]))\n",
    "\n",
    "dataset_clf['description_processed'] = desc_processed\n"
   ]
  },
  {
   "cell_type": "markdown",
   "metadata": {},
   "source": [
    "### Modeling and functions for  Accident Level"
   ]
  },
  {
   "cell_type": "code",
   "execution_count": 73,
   "metadata": {
    "scrolled": false
   },
   "outputs": [],
   "source": [
    "#Count vectorization\n",
    "from sklearn.model_selection import train_test_split\n",
    "from sklearn.feature_extraction.text import CountVectorizer\n",
    "\n",
    "X = dataset_clf['description_processed']\n",
    "y = dataset_clf['Accident Level']\n",
    "\n",
    "vectorizer = CountVectorizer(binary=True, ngram_range=(1, 2))\n",
    "Xc = vectorizer.fit_transform(X).toarray()\n",
    "Xc_train, Xc_test, yc_train, yc_test = train_test_split(Xc, y, test_size=0.15, random_state=42)"
   ]
  },
  {
   "cell_type": "code",
   "execution_count": 74,
   "metadata": {
    "scrolled": false
   },
   "outputs": [
    {
     "name": "stdout",
     "output_type": "stream",
     "text": [
      "\n",
      "\n",
      "Train accuracy of the SVC model : 99.44\n",
      "\n",
      "\n",
      "Test accuracy of the SVC model : 79.37\n",
      "\n",
      "\n",
      "Classification report:               precision    recall  f1-score   support\n",
      "\n",
      "           I       0.80      1.00      0.89        48\n",
      "          II       0.00      0.00      0.00         5\n",
      "         III       1.00      0.25      0.40         4\n",
      "          IV       1.00      0.20      0.33         5\n",
      "           V       0.00      0.00      0.00         1\n",
      "\n",
      "    accuracy                           0.79        63\n",
      "   macro avg       0.56      0.29      0.32        63\n",
      "weighted avg       0.75      0.79      0.73        63\n",
      "\n"
     ]
    }
   ],
   "source": [
    "#SVC\n",
    "from sklearn.metrics import accuracy_score\n",
    "from sklearn.metrics import confusion_matrix, classification_report\n",
    "from sklearn.svm import LinearSVC\n",
    "\n",
    "svc = LinearSVC( max_iter=2500)\n",
    "if use_pretrained_model==False:\n",
    "    svc.fit(Xc_train, yc_train)\n",
    "    yc_pred_SVC = svc.predict(Xc_test)\n",
    "    acc_svc = accuracy_score(yc_test, yc_pred_SVC)\n",
    "    acc_svc_tr = svc.score(Xc_train, yc_train)\n",
    "    print('\\n')\n",
    "    print(\"Train accuracy of the SVC model : {:.2f}\".format(acc_svc_tr*100))\n",
    "    print('\\n')\n",
    "    print(\"Test accuracy of the SVC model : {:.2f}\".format(acc_svc*100))\n",
    "    print('\\n')\n",
    "    print('Classification report:',classification_report(yc_test, yc_pred_SVC))\n",
    "    # save the model\n",
    "    filename = 'svc_model_acclevel.sav'\n",
    "    pickle.dump(svc, open(filename, 'wb'))"
   ]
  },
  {
   "cell_type": "code",
   "execution_count": 75,
   "metadata": {
    "scrolled": false
   },
   "outputs": [],
   "source": [
    "loaded_model_acclevel = pickle.load(open('./svc_model_acclevel.sav', 'rb'))"
   ]
  },
  {
   "cell_type": "markdown",
   "metadata": {},
   "source": [
    "#### Reponse function for Accident Level Predictor chatbot"
   ]
  },
  {
   "cell_type": "code",
   "execution_count": 76,
   "metadata": {
    "scrolled": false
   },
   "outputs": [],
   "source": [
    "def response_acclevel(sentence):\n",
    "    \n",
    "    df_user_input=pd.DataFrame()\n",
    "    df=pd.DataFrame()\n",
    "    user_input = {'Description': sentence}\n",
    "    df_user_input = df_user_input.append(user_input, ignore_index = True)\n",
    "    df_user_input['processed_text']= preprocess_text(df_user_input['Description'])\n",
    "    df['processed_text']=df_user_input['processed_text']\n",
    "    df.reset_index(inplace=True)\n",
    "    desc_processed = []\n",
    "    for i in range(len(df['processed_text'])):\n",
    "        desc_processed.append(' '.join(wrd for wrd in df.iloc[:,1][i]))\n",
    "    test = vectorizer.transform(desc_processed)\n",
    "    result = loaded_model_acclevel.predict(test)\n",
    "    return result\n",
    "    "
   ]
  },
  {
   "cell_type": "markdown",
   "metadata": {},
   "source": [
    "### Modeling and functions for Potential Accident Level"
   ]
  },
  {
   "cell_type": "code",
   "execution_count": 77,
   "metadata": {
    "scrolled": false
   },
   "outputs": [],
   "source": [
    "#Count vectorization\n",
    "from sklearn.model_selection import train_test_split\n",
    "from sklearn.feature_extraction.text import CountVectorizer\n",
    "\n",
    "X = dataset_clf['description_processed']\n",
    "y = dataset_clf['Potential Accident Level']\n",
    "\n",
    "vectorizer = CountVectorizer(binary=True, ngram_range=(1, 2))\n",
    "Xc = vectorizer.fit_transform(X).toarray()\n",
    "Xc_train, Xc_test, yc_train, yc_test = train_test_split(Xc, y, test_size=0.15, random_state=42)"
   ]
  },
  {
   "cell_type": "code",
   "execution_count": 78,
   "metadata": {
    "scrolled": false
   },
   "outputs": [
    {
     "name": "stdout",
     "output_type": "stream",
     "text": [
      "\n",
      "\n",
      "Train accuracy of the SVC model : 19.44\n",
      "\n",
      "\n",
      "Test accuracy of the SVC model : 46.03\n",
      "\n",
      "\n",
      "Classification report:               precision    recall  f1-score   support\n",
      "\n",
      "           I       1.00      0.14      0.25         7\n",
      "          II       0.43      0.55      0.48        11\n",
      "         III       0.35      0.32      0.33        19\n",
      "          IV       0.52      0.70      0.59        23\n",
      "           V       0.00      0.00      0.00         3\n",
      "\n",
      "    accuracy                           0.46        63\n",
      "   macro avg       0.46      0.34      0.33        63\n",
      "weighted avg       0.48      0.46      0.43        63\n",
      "\n"
     ]
    }
   ],
   "source": [
    "#SVC\n",
    "from sklearn.metrics import accuracy_score\n",
    "from sklearn.metrics import confusion_matrix, classification_report\n",
    "from sklearn.svm import LinearSVC\n",
    "\n",
    "svc_potacclevel = LinearSVC( max_iter=2500)\n",
    "if use_pretrained_model==False:\n",
    "    svc_potacclevel.fit(Xc_train, yc_train)\n",
    "    yc_pred_SVC_potacclevel = svc_potacclevel.predict(Xc_test)\n",
    "    acc_svc_potacclevel = accuracy_score(yc_test, yc_pred_SVC_potacclevel)\n",
    "    acc_svc_tr_potacclevel = svc.score(Xc_train, yc_train)\n",
    "    print('\\n')\n",
    "    print(\"Train accuracy of the SVC model : {:.2f}\".format(acc_svc_tr_potacclevel*100))\n",
    "    print('\\n')\n",
    "    print(\"Test accuracy of the SVC model : {:.2f}\".format(acc_svc_potacclevel*100))\n",
    "    print('\\n')\n",
    "    print('Classification report:',classification_report(yc_test, yc_pred_SVC_potacclevel))\n",
    "    #save the model\n",
    "    filename = 'svc_model_potacclevel.sav'\n",
    "    pickle.dump(svc_potacclevel, open(filename, 'wb'))"
   ]
  },
  {
   "cell_type": "code",
   "execution_count": 79,
   "metadata": {
    "scrolled": false
   },
   "outputs": [],
   "source": [
    "loaded_model_potacclevel = pickle.load(open('./svc_model_potacclevel.sav', 'rb'))"
   ]
  },
  {
   "cell_type": "markdown",
   "metadata": {},
   "source": [
    "#### Reponse function for Potential Accident Level Predictor chatbot"
   ]
  },
  {
   "cell_type": "code",
   "execution_count": 80,
   "metadata": {
    "scrolled": false
   },
   "outputs": [],
   "source": [
    "def response_potacclevel(sentence):\n",
    "    \n",
    "    df_user_input=pd.DataFrame()\n",
    "    df=pd.DataFrame()\n",
    "    user_input = {'Description': sentence}\n",
    "    df_user_input = df_user_input.append(user_input, ignore_index = True)\n",
    "    df_user_input['processed_text']= preprocess_text(df_user_input['Description'])\n",
    "    df['processed_text']=df_user_input['processed_text']\n",
    "    df.reset_index(inplace=True)\n",
    "    \n",
    "    desc_processed = []\n",
    "    for i in range(len(df['processed_text'])):\n",
    "        desc_processed.append(' '.join(wrd for wrd in df.iloc[:,1][i]))\n",
    "    test = vectorizer.transform(desc_processed)\n",
    "    result = loaded_model_potacclevel.predict(test)\n",
    "    return result\n",
    "    "
   ]
  },
  {
   "cell_type": "markdown",
   "metadata": {},
   "source": [
    "## Chatbot with Conditions"
   ]
  },
  {
   "cell_type": "markdown",
   "metadata": {},
   "source": [
    "### Chatbot function for Question and Answers"
   ]
  },
  {
   "cell_type": "code",
   "execution_count": 81,
   "metadata": {
    "scrolled": false
   },
   "outputs": [],
   "source": [
    "def chatbot_qna():\n",
    "    flag=True\n",
    "    print('\\n')\n",
    "    print(\"BOT: I am your Virtual assistant. I will try to answer your questions on Accidents Data! \\\n",
    "    \\n \\t If you want to exit any time, just type Bye!\")\n",
    "    while(flag==True):\n",
    "        print('\\n')\n",
    "        user_response = input(\"You: \")\n",
    "        user_response=user_response.lower()\n",
    "        if(user_response!='bye') and (user_response!='exit') and (user_response!='quit'):\n",
    "            if(user_response=='thanks' or user_response=='thank you' ):\n",
    "                flag=False\n",
    "                print('\\n')\n",
    "                print(\"BOT: You are welcome..\")\n",
    "                print(\"BOT: Exited from Question and Answer Module\")\n",
    "\n",
    "            else:\n",
    "                print('\\n')\n",
    "                response(user_response)\n",
    "                print('\\n')\n",
    "        else:\n",
    "            flag=False\n",
    "            print('\\n')\n",
    "            print(\"BOT: Exited from Question and Answer Module\")\n",
    "            #print(\"BOT: Goodbye! Take care  \")\n",
    "            print('\\n')\n",
    "            print('-----------------------------------------------------')\n",
    "            print('\\n')\n",
    "            "
   ]
  },
  {
   "cell_type": "markdown",
   "metadata": {},
   "source": [
    "### Chatbot function for Accident Level Classification"
   ]
  },
  {
   "cell_type": "code",
   "execution_count": 82,
   "metadata": {
    "scrolled": false
   },
   "outputs": [],
   "source": [
    "def chatbot_acclevel():\n",
    "    flag=True\n",
    "    print('\\n')\n",
    "    print(\"BOT: I am your Virtual assistant. I will try to Predict Accident Level for your description \\\n",
    "    \\n \\t If you want to exit any time, just type Bye!\")\n",
    "    while(flag==True):\n",
    "        print('\\n')\n",
    "        user_response = input(\"You: \")\n",
    "        user_response=user_response.lower()\n",
    "        if(user_response!='bye') and (user_response!='exit') and (user_response!='quit'):\n",
    "            if(user_response=='thanks' or user_response=='thank you' ):\n",
    "                flag=False\n",
    "                print('\\n')\n",
    "                print(\"BOT: You are welcome..\")\n",
    "                print(\"BOT: Exited from Accident Level Predictor\")\n",
    "\n",
    "            else:\n",
    "                print('\\n')\n",
    "                response = response_acclevel(user_response)\n",
    "                \n",
    "                if response:\n",
    "                    print (\"Bot: Accident Level is --> \",response[0])\n",
    "                print('\\n')\n",
    "        else:\n",
    "            flag=False\n",
    "            print('\\n')\n",
    "            print(\"BOT: Exited from Accident Level Predictor Module\")\n",
    "            #print(\"BOT: Goodbye! Take care  \")\n",
    "            print('\\n')\n",
    "            print('-----------------------------------------------------')\n",
    "            print('\\n')"
   ]
  },
  {
   "cell_type": "markdown",
   "metadata": {},
   "source": [
    "### Chatbot function for Potential Accident Level Classification"
   ]
  },
  {
   "cell_type": "code",
   "execution_count": 83,
   "metadata": {
    "scrolled": false
   },
   "outputs": [],
   "source": [
    "def chatbot_potacclevel():\n",
    "    flag=True\n",
    "    print('\\n')\n",
    "    print(\"BOT: I am your Virtual assistant. I will try to predict Potential Accident Level for your description \\\n",
    "    \\n \\t If you want to exit any time, just type Bye!\")\n",
    "    while(flag==True):\n",
    "        print('\\n')\n",
    "        user_response = input(\"You: \")\n",
    "        user_response=user_response.lower()\n",
    "        if(user_response!='bye') and (user_response!='exit') and (user_response!='quit'):\n",
    "            if(user_response=='thanks' or user_response=='thank you' ):\n",
    "                flag=False\n",
    "                print('\\n')\n",
    "                print(\"BOT: You are welcome..\")\n",
    "                print(\"BOT: Exited from Potential Accident Level Predictor\")\n",
    "\n",
    "            else:\n",
    "                print('\\n')\n",
    "                response = response_potacclevel(user_response)\n",
    "                \n",
    "                if response:\n",
    "                    print (\"Bot: Potential Accident Level is --> \",response[0])\n",
    "                print('\\n')\n",
    "        else:\n",
    "            flag=False\n",
    "            print('\\n')\n",
    "            print(\"BOT: Exited from Potential Accident Level Predictor Module\")\n",
    "            #print(\"BOT: Goodbye! Take care  \")\n",
    "            print('\\n')\n",
    "            print('-----------------------------------------------------')\n",
    "            print('\\n')"
   ]
  },
  {
   "cell_type": "markdown",
   "metadata": {},
   "source": [
    "### Chat bot function for showing Historical Data Insights"
   ]
  },
  {
   "cell_type": "code",
   "execution_count": 84,
   "metadata": {
    "scrolled": false
   },
   "outputs": [],
   "source": [
    "def chatbot_eda():\n",
    "    flag=True\n",
    "    print('\\n')\n",
    "    print(\"BOT: I am your Virtual assistant. I will help you with Insights of Accident Historical Data! \\\n",
    "          \\n \\t If you want to exit any time, just type Bye!\")\n",
    "    while(flag==True):\n",
    "        \n",
    "        print('\\n')\n",
    "        user_response = input(\"You: \")\n",
    "        user_response=user_response.lower()\n",
    "        if(user_response!='bye') and (user_response!='exit') and (user_response!='quit'):\n",
    "            if(user_response=='thanks' or user_response=='thank you' ):\n",
    "                flag=False\n",
    "                print('\\n')\n",
    "                print(\"BOT: You are welcome..\")\n",
    "                print(\"BOT: Exited from Data Insights Module\")\n",
    "\n",
    "            else:                    \n",
    "                    print('\\n')\n",
    "                    response_eda(user_response)\n",
    "                    print('\\n')\n",
    "        else:\n",
    "            flag=False\n",
    "            print('\\n')\n",
    "            #print(\"BOT: Goodbye! Take care  \")\n",
    "            print(\"BOT: Exited from Data Insights Module\")\n",
    "            print('\\n')\n",
    "            print('-----------------------------------------------------')\n",
    "            print('\\n')"
   ]
  },
  {
   "cell_type": "markdown",
   "metadata": {},
   "source": [
    "## Chatbot : Home Page"
   ]
  },
  {
   "cell_type": "code",
   "execution_count": 85,
   "metadata": {
    "scrolled": false
   },
   "outputs": [],
   "source": [
    "def chatbot_main():\n",
    "    mainflag=True\n",
    "    flag = False\n",
    "\n",
    "    while(mainflag==True):\n",
    "        if flag == False:\n",
    "            print('')\n",
    "            print(\"BOT: Please Select appropriate option: \\\n",
    "              \\n \\t  \\\n",
    "              \\n \\t 1 --> For Question and Answers \\\n",
    "              \\n \\t 2 --> For finding the Accident level for your problem \\\n",
    "              \\n \\t 3 --> For finding the Potential Accident level for your problem \\\n",
    "              \\n \\t 4 --> For Historical Data Insights \\\n",
    "              \\n \\t  \\\n",
    "              \\n \\t if you want to exit any time, just type Bye!\")\n",
    "\n",
    "        print('\\n')\n",
    "        user_response = input(\"You: \")\n",
    "        user_response=user_response.lower()\n",
    "        if(user_response!='bye') and (user_response!='exit') and (user_response!='quit'):\n",
    "            if(user_response=='thanks' or user_response=='thank you' ):\n",
    "                mainflag=False\n",
    "                print('\\n')\n",
    "                print(\"BOT: You are welcome..\")\n",
    "\n",
    "            elif (user_response=='1'):\n",
    "                    chatbot_qna()\n",
    "            elif (user_response=='2'):\n",
    "                    chatbot_acclevel()\n",
    "            elif (user_response=='3'):\n",
    "                    chatbot_potacclevel()   \n",
    "            elif (user_response=='4'):\n",
    "                    chatbot_eda()  \n",
    "\n",
    "        else:\n",
    "            mainflag=False\n",
    "            print('\\n')\n",
    "            print(\"BOT: Goodbye! Take care  \")\n",
    "            print('\\n')\n",
    "            print('================================================================')\n",
    "            print('\\n')"
   ]
  },
  {
   "cell_type": "markdown",
   "metadata": {},
   "source": [
    "## Start the Chatbot"
   ]
  },
  {
   "cell_type": "code",
   "execution_count": 87,
   "metadata": {
    "scrolled": false
   },
   "outputs": [
    {
     "name": "stdout",
     "output_type": "stream",
     "text": [
      "\n",
      "BOT: Please Select appropriate option:               \n",
      " \t                \n",
      " \t 1 --> For Question and Answers               \n",
      " \t 2 --> For finding the Accident level for your problem               \n",
      " \t 3 --> For finding the Potential Accident level for your problem               \n",
      " \t 4 --> For Historical Data Insights               \n",
      " \t                \n",
      " \t if you want to exit any time, just type Bye!\n",
      "\n",
      "\n",
      "You: 1\n",
      "\n",
      "\n",
      "BOT: I am your Virtual assistant. I will try to answer your questions on Accidents Data!     \n",
      " \t If you want to exit any time, just type Bye!\n",
      "\n",
      "\n",
      "You: tell me the issues related to zinc\n",
      "\n",
      "\n",
      "BOT:  Volumetric balloon and cyclone duct and conveyor and Zinc Employees are major accidents which have result in small burns on the body parts including face as well. Proper training and Experience is required\n",
      "\n",
      "\n",
      "\n",
      "\n",
      "You: can you tell me the issues related to cleaning\n",
      "\n",
      "\n",
      "BOT:  Volumetric balloon and cyclone duct and conveyor and Zinc Employees are major accidents which have result in small burns on the body parts including face as well. Proper training and Experience is required\n",
      "\n",
      "\n",
      "\n",
      "\n",
      "You: What are the issues realted to volumetric balloon\n",
      "\n",
      "\n",
      "BOT:  Volumetric balloon and cyclone duct and conveyor and Zinc Employees are major accidents which have result in small burns on the body parts including face as well. Proper training and Experience is required\n",
      "\n",
      "\n",
      "\n",
      "\n",
      "You: Are many accidents caused during installation of HDPE pipe\n",
      "\n",
      "\n",
      "BOT:  In MiningTPRemoteEmployee type, drilling and Hose Pipe types are major cause of accidents due to Lack of experience in usage, but not any other reason\n",
      "\n",
      "\n",
      "\n",
      "\n",
      "You: bye\n",
      "\n",
      "\n",
      "BOT: Exited from Question and Answer Module\n",
      "\n",
      "\n",
      "-----------------------------------------------------\n",
      "\n",
      "\n",
      "\n",
      "BOT: Please Select appropriate option:               \n",
      " \t                \n",
      " \t 1 --> For Question and Answers               \n",
      " \t 2 --> For finding the Accident level for your problem               \n",
      " \t 3 --> For finding the Potential Accident level for your problem               \n",
      " \t 4 --> For Historical Data Insights               \n",
      " \t                \n",
      " \t if you want to exit any time, just type Bye!\n",
      "\n",
      "\n",
      "You: 2\n",
      "\n",
      "\n",
      "BOT: I am your Virtual assistant. I will try to Predict Accident Level for your description     \n",
      " \t If you want to exit any time, just type Bye!\n",
      "\n",
      "\n",
      "You: In the sub-station MILPO located at level +170 when the collaborator was doing the excavation work with a pick (hand tool), hitting a rock with the flat part of the beak, it bounces off hitting the steel tip of the safety shoe and then the metatarsal area of â€‹â€‹the left foot of the collaborator causing the injury\n",
      "\n",
      "\n",
      "Bot: Accident Level is -->  I\n",
      "\n",
      "\n",
      "\n",
      "\n",
      "You: bye\n",
      "\n",
      "\n",
      "BOT: Exited from Accident Level Predictor Module\n",
      "\n",
      "\n",
      "-----------------------------------------------------\n",
      "\n",
      "\n",
      "\n",
      "BOT: Please Select appropriate option:               \n",
      " \t                \n",
      " \t 1 --> For Question and Answers               \n",
      " \t 2 --> For finding the Accident level for your problem               \n",
      " \t 3 --> For finding the Potential Accident level for your problem               \n",
      " \t 4 --> For Historical Data Insights               \n",
      " \t                \n",
      " \t if you want to exit any time, just type Bye!\n",
      "\n",
      "\n",
      "You: 3\n",
      "\n",
      "\n",
      "BOT: I am your Virtual assistant. I will try to predict Potential Accident Level for your description     \n",
      " \t If you want to exit any time, just type Bye!\n",
      "\n",
      "\n",
      "You: In the sub-station MILPO located at level +170 when the collaborator was doing the excavation work with a pick (hand tool), hitting a rock with the flat part of the beak, it bounces off hitting the steel tip of the safety shoe and then the metatarsal area of â€‹â€‹the left foot of the collaborator causing the injury\n",
      "\n",
      "\n",
      "Bot: Potential Accident Level is -->  III\n",
      "\n",
      "\n",
      "\n",
      "\n",
      "You: exit\n",
      "\n",
      "\n",
      "BOT: Exited from Potential Accident Level Predictor Module\n",
      "\n",
      "\n",
      "-----------------------------------------------------\n",
      "\n",
      "\n",
      "\n",
      "BOT: Please Select appropriate option:               \n",
      " \t                \n",
      " \t 1 --> For Question and Answers               \n",
      " \t 2 --> For finding the Accident level for your problem               \n",
      " \t 3 --> For finding the Potential Accident level for your problem               \n",
      " \t 4 --> For Historical Data Insights               \n",
      " \t                \n",
      " \t if you want to exit any time, just type Bye!\n",
      "\n",
      "\n",
      "You: 4\n",
      "\n",
      "\n",
      "BOT: I am your Virtual assistant. I will help you with Insights of Accident Historical Data!           \n",
      " \t If you want to exit any time, just type Bye!\n",
      "\n",
      "\n",
      "You: tell me the details related Country\n",
      "\n",
      "\n",
      "\n",
      "\n",
      "===========================================================================================\n",
      "Data Analysis of feature:  Country\n",
      "===========================================================================================\n",
      "\n",
      "\n",
      "\n",
      "-----------------\n",
      "Countplot  for feature:  Country\n",
      "-----------------\n"
     ]
    },
    {
     "data": {
      "image/png": "[encoded data removed]",
      "text/plain": [
       "<Figure size 720x432 with 1 Axes>"
      ]
     },
     "metadata": {
      "needs_background": "light"
     },
     "output_type": "display_data"
    },
    {
     "name": "stdout",
     "output_type": "stream",
     "text": [
      "-----------------\n",
      "Pie Chart for feature:  Country\n",
      "------------------\n"
     ]
    },
    {
     "data": {
      "image/png": "[encoded data removed]",
      "text/plain": [
       "<Figure size 720x432 with 1 Axes>"
      ]
     },
     "metadata": {},
     "output_type": "display_data"
    },
    {
     "name": "stdout",
     "output_type": "stream",
     "text": [
      "\n",
      "\n",
      "-----------------\n",
      "Value Counts for feature:  Country\n",
      "-------------------\n",
      "Country_01    248\n",
      "Country_02    129\n",
      "Country_03     41\n",
      "Name: Country, dtype: int64\n",
      "\n",
      "\n",
      "\n",
      "\n",
      "\n",
      "You: give me the details of accident and country\n",
      "\n",
      "\n",
      "\n",
      "\n",
      "===========================================================================================\n",
      "Data Analysis of features:  Accident Level  and   Country\n",
      "===========================================================================================\n",
      "\n",
      "\n",
      "------------------------------------------\n",
      "Cross table Analysis of features:  Accident Level  and   Country\n",
      "------------------------------------------\n"
     ]
    },
    {
     "data": {
      "text/html": [
       "<div>\n",
       "<style scoped>\n",
       "    .dataframe tbody tr th:only-of-type {\n",
       "        vertical-align: middle;\n",
       "    }\n",
       "\n",
       "    .dataframe tbody tr th {\n",
       "        vertical-align: top;\n",
       "    }\n",
       "\n",
       "    .dataframe thead th {\n",
       "        text-align: right;\n",
       "    }\n",
       "</style>\n",
       "<table border=\"1\" class=\"dataframe\">\n",
       "  <thead>\n",
       "    <tr style=\"text-align: right;\">\n",
       "      <th>Country</th>\n",
       "      <th>Country_01</th>\n",
       "      <th>Country_02</th>\n",
       "      <th>Country_03</th>\n",
       "    </tr>\n",
       "    <tr>\n",
       "      <th>Accident Level</th>\n",
       "      <th></th>\n",
       "      <th></th>\n",
       "      <th></th>\n",
       "    </tr>\n",
       "  </thead>\n",
       "  <tbody>\n",
       "    <tr>\n",
       "      <th>I</th>\n",
       "      <td>177</td>\n",
       "      <td>98</td>\n",
       "      <td>34</td>\n",
       "    </tr>\n",
       "    <tr>\n",
       "      <th>II</th>\n",
       "      <td>19</td>\n",
       "      <td>19</td>\n",
       "      <td>2</td>\n",
       "    </tr>\n",
       "    <tr>\n",
       "      <th>III</th>\n",
       "      <td>21</td>\n",
       "      <td>7</td>\n",
       "      <td>3</td>\n",
       "    </tr>\n",
       "    <tr>\n",
       "      <th>IV</th>\n",
       "      <td>23</td>\n",
       "      <td>5</td>\n",
       "      <td>2</td>\n",
       "    </tr>\n",
       "    <tr>\n",
       "      <th>V</th>\n",
       "      <td>8</td>\n",
       "      <td>0</td>\n",
       "      <td>0</td>\n",
       "    </tr>\n",
       "  </tbody>\n",
       "</table>\n",
       "</div>"
      ],
      "text/plain": [
       "Country         Country_01  Country_02  Country_03\n",
       "Accident Level                                    \n",
       "I                      177          98          34\n",
       "II                      19          19           2\n",
       "III                     21           7           3\n",
       "IV                      23           5           2\n",
       "V                        8           0           0"
      ]
     },
     "metadata": {},
     "output_type": "display_data"
    },
    {
     "name": "stdout",
     "output_type": "stream",
     "text": [
      "\n",
      "\n",
      "------------------------------------------\n",
      "Count plot Analysis of features:  Accident Level  and   Country\n",
      "------------------------------------------\n"
     ]
    },
    {
     "data": {
      "image/png": "[encoded data removed]",
      "text/plain": [
       "<Figure size 864x432 with 1 Axes>"
      ]
     },
     "metadata": {
      "needs_background": "light"
     },
     "output_type": "display_data"
    },
    {
     "name": "stdout",
     "output_type": "stream",
     "text": [
      "\n",
      "\n",
      "\n",
      "\n",
      "You: tell me about local\n",
      "\n",
      "\n",
      "What type of detail do you want to see for Local : 'Univariate analysis for Local' or 'bivariate analysis for accident and local' \n",
      "\n",
      "\n",
      "\n",
      "\n",
      "You: Univariate analysis for Local\n",
      "\n",
      "\n",
      "\n",
      "\n",
      "===========================================================================================\n",
      "Data Analysis of feature:  Local\n",
      "===========================================================================================\n",
      "\n",
      "\n",
      "\n",
      "-----------------\n",
      "Countplot  for feature:  Local\n",
      "-----------------\n"
     ]
    },
    {
     "data": {
      "image/png": "[encoded data removed]",
      "text/plain": [
       "<Figure size 720x432 with 1 Axes>"
      ]
     },
     "metadata": {
      "needs_background": "light"
     },
     "output_type": "display_data"
    },
    {
     "name": "stdout",
     "output_type": "stream",
     "text": [
      "-----------------\n",
      "Pie Chart for feature:  Local\n",
      "------------------\n"
     ]
    },
    {
     "data": {
      "image/png": "[encoded data removed]",
      "text/plain": [
       "<Figure size 720x432 with 1 Axes>"
      ]
     },
     "metadata": {},
     "output_type": "display_data"
    },
    {
     "name": "stdout",
     "output_type": "stream",
     "text": [
      "\n",
      "\n",
      "-----------------\n",
      "Value Counts for feature:  Local\n",
      "-------------------\n",
      "3     89\n",
      "5     59\n",
      "1     56\n",
      "4     55\n",
      "6     46\n",
      "10    41\n",
      "8     27\n",
      "2     23\n",
      "7     14\n",
      "12     4\n",
      "9      2\n",
      "11     2\n",
      "Name: Local, dtype: int64\n",
      "\n",
      "\n",
      "\n",
      "\n",
      "\n",
      "You: bye\n",
      "\n",
      "\n",
      "BOT: Exited from Data Insights Module\n",
      "\n",
      "\n",
      "-----------------------------------------------------\n",
      "\n",
      "\n",
      "\n",
      "BOT: Please Select appropriate option:               \n",
      " \t                \n",
      " \t 1 --> For Question and Answers               \n",
      " \t 2 --> For finding the Accident level for your problem               \n",
      " \t 3 --> For finding the Potential Accident level for your problem               \n",
      " \t 4 --> For Historical Data Insights               \n",
      " \t                \n",
      " \t if you want to exit any time, just type Bye!\n",
      "\n",
      "\n",
      "You: exit\n",
      "\n",
      "\n",
      "BOT: Goodbye! Take care  \n",
      "\n",
      "\n",
      "================================================================\n",
      "\n",
      "\n"
     ]
    }
   ],
   "source": [
    "chatbot_main()"
   ]
  },
  {
   "cell_type": "code",
   "execution_count": null,
   "metadata": {
    "collapsed": true,
    "scrolled": false
   },
   "outputs": [],
   "source": []
  }
 ],
 "metadata": {
  "kernelspec": {
   "display_name": "Python 3 (ipykernel)",
   "language": "python",
   "name": "python3"
  },
  "language_info": {
   "codemirror_mode": {
    "name": "ipython",
    "version": 3
   },
   "file_extension": ".py",
   "mimetype": "text/x-python",
   "name": "python",
   "nbconvert_exporter": "python",
   "pygments_lexer": "ipython3",
   "version": "3.9.7"
  }
 },
 "nbformat": 4,
 "nbformat_minor": 4
}
