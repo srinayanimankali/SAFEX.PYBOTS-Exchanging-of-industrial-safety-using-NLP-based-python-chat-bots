{
 "cells": [
  {
   "cell_type": "code",
   "execution_count": 1,
   "metadata": {},
   "outputs": [],
   "source": [
    "#Importing the pandas library for reading"
   ]
  },
  {
   "cell_type": "code",
   "execution_count": 2,
   "metadata": {
    "id": "GgzBtwVdSWH3"
   },
   "outputs": [],
   "source": [
    "import pandas as pd"
   ]
  },
  {
   "cell_type": "code",
   "execution_count": 6,
   "metadata": {},
   "outputs": [],
   "source": [
    "#Reading the dataset"
   ]
  },
  {
   "cell_type": "code",
   "execution_count": 7,
   "metadata": {
    "id": "V73YWWDISD9J"
   },
   "outputs": [],
   "source": [
    "data1 = pd.read_csv('data.csv')"
   ]
  },
  {
   "cell_type": "code",
   "execution_count": 8,
   "metadata": {},
   "outputs": [],
   "source": [
    "#Checking the info of the dataset"
   ]
  },
  {
   "cell_type": "code",
   "execution_count": 9,
   "metadata": {
    "colab": {
     "base_uri": "https://localhost:8080/"
    },
    "id": "Mxg-XqrY213b",
    "outputId": "15ef6ef7-a846-4b75-a409-62d74bce1b47"
   },
   "outputs": [
    {
     "data": {
      "text/plain": [
       "<bound method DataFrame.info of            Date     Country  Local Industry Sector Accident Level  \\\n",
       "0    2016-01-01  Country_01      1          Mining              I   \n",
       "1    2016-01-02  Country_02      2          Mining              I   \n",
       "2    2016-01-06  Country_01      3          Mining              I   \n",
       "3    2016-01-08  Country_01      4          Mining              I   \n",
       "4    2016-01-10  Country_01      4          Mining             IV   \n",
       "..          ...         ...    ...             ...            ...   \n",
       "413  2017-07-04  Country_01      4          Mining              I   \n",
       "414  2017-07-04  Country_01      3          Mining              I   \n",
       "415  2017-07-05  Country_02      9          Metals              I   \n",
       "416  2017-07-06  Country_02      5          Metals              I   \n",
       "417  2017-07-09  Country_01      4          Mining              I   \n",
       "\n",
       "    Potential Accident Level  Gender      Natureofemployee  \\\n",
       "0                         IV    Male           Third Party   \n",
       "1                         IV    Male              Employee   \n",
       "2                        III    Male  Third Party (Remote)   \n",
       "3                          I    Male           Third Party   \n",
       "4                         IV    Male           Third Party   \n",
       "..                       ...     ...                   ...   \n",
       "413                      III    Male           Third Party   \n",
       "414                       II  Female              Employee   \n",
       "415                       II    Male              Employee   \n",
       "416                       II    Male              Employee   \n",
       "417                       II  Female           Third Party   \n",
       "\n",
       "                    Critical Risk  \\\n",
       "0                         Pressed   \n",
       "1             Pressurized Systems   \n",
       "2                    Manual Tools   \n",
       "3                          Others   \n",
       "4                          Others   \n",
       "..                            ...   \n",
       "413                        Others   \n",
       "414                        Others   \n",
       "415              Venomous Animals   \n",
       "416                           Cut   \n",
       "417  Fall prevention (same level)   \n",
       "\n",
       "                                           Description  Year  Month  \\\n",
       "0    While removing the drill rod of the Jumbo 08 f...  2016      1   \n",
       "1    During the activation of a sodium sulphide pum...  2016      1   \n",
       "2    In the sub-station MILPO located at level +170...  2016      1   \n",
       "3    Being 9:45 am. approximately in the Nv. 1880 C...  2016      1   \n",
       "4    Approximately at 11:45 a.m. in circumstances t...  2016      1   \n",
       "..                                                 ...   ...    ...   \n",
       "413  Being approximately 5:00 a.m. approximately, w...  2017      7   \n",
       "414  The collaborator moved from the infrastructure...  2017      7   \n",
       "415  During the environmental monitoring activity i...  2017      7   \n",
       "416  The Employee performed the activity of strippi...  2017      7   \n",
       "417  At 10:00 a.m., when the assistant cleaned the ...  2017      7   \n",
       "\n",
       "       Weekday  Season  \n",
       "0       Friday  Summer  \n",
       "1     Saturday  Summer  \n",
       "2    Wednesday  Summer  \n",
       "3       Friday  Summer  \n",
       "4       Sunday  Summer  \n",
       "..         ...     ...  \n",
       "413    Tuesday  Winter  \n",
       "414    Tuesday  Winter  \n",
       "415  Wednesday  Winter  \n",
       "416   Thursday  Winter  \n",
       "417     Sunday  Winter  \n",
       "\n",
       "[418 rows x 14 columns]>"
      ]
     },
     "execution_count": 9,
     "metadata": {},
     "output_type": "execute_result"
    }
   ],
   "source": [
    "data1.info"
   ]
  },
  {
   "cell_type": "code",
   "execution_count": 42,
   "metadata": {},
   "outputs": [],
   "source": [
    "#Step 1: NLP pre processing"
   ]
  },
  {
   "cell_type": "code",
   "execution_count": 10,
   "metadata": {},
   "outputs": [],
   "source": [
    "#Prepocessing the text (description column). i.e- removing the stop words and lemmatizing"
   ]
  },
  {
   "cell_type": "code",
   "execution_count": 11,
   "metadata": {
    "colab": {
     "base_uri": "https://localhost:8080/"
    },
    "id": "iTE3xafaSiGJ",
    "outputId": "1f5471e8-5488-4693-dd50-491f537080c3"
   },
   "outputs": [
    {
     "name": "stderr",
     "output_type": "stream",
     "text": [
      "[nltk_data] Downloading package punkt to\n",
      "[nltk_data]     C:\\Users\\manka\\AppData\\Roaming\\nltk_data...\n",
      "[nltk_data]   Package punkt is already up-to-date!\n",
      "[nltk_data] Downloading package wordnet to\n",
      "[nltk_data]     C:\\Users\\manka\\AppData\\Roaming\\nltk_data...\n",
      "[nltk_data]   Package wordnet is already up-to-date!\n",
      "[nltk_data] Downloading package stopwords to\n",
      "[nltk_data]     C:\\Users\\manka\\AppData\\Roaming\\nltk_data...\n",
      "[nltk_data]   Package stopwords is already up-to-date!\n"
     ]
    }
   ],
   "source": [
    "from nltk.corpus import stopwords\n",
    "from nltk.stem import WordNetLemmatizer,PorterStemmer\n",
    "from nltk.tokenize import word_tokenize\n",
    "from wordcloud import WordCloud, STOPWORDS\n",
    "import nltk\n",
    "nltk.download('punkt')\n",
    "nltk.download('wordnet')\n",
    "import string\n",
    "nltk.download('stopwords')\n",
    "stop=set(stopwords.words('english'))\n",
    "\n",
    "def preprocess_text(text):\n",
    "      corpus=[]\n",
    "      #stem=PorterStemmer()\n",
    "      lem=WordNetLemmatizer()\n",
    "      for news in text:\n",
    "          words=[w for w in word_tokenize(news) if (w not in stop)]\n",
    "          \n",
    "          words=[lem.lemmatize(w) for w in words if len(w)>2]\n",
    "          words = [''.join(c for c in s if c not in string.punctuation) for s in words if s]\n",
    "          words = [word.lower() for word in words]\n",
    "          words = [word for word in words if word.isalpha()]\n",
    "          corpus.append(words) \n",
    "         \n",
    "      return corpus     \n",
    "      \n",
    "data1['processed_text']= preprocess_text(data1['Description'])\n"
   ]
  },
  {
   "cell_type": "code",
   "execution_count": 12,
   "metadata": {},
   "outputs": [],
   "source": [
    "#Printing the first 5 elements of the dataset"
   ]
  },
  {
   "cell_type": "code",
   "execution_count": 13,
   "metadata": {
    "colab": {
     "base_uri": "https://localhost:8080/",
     "height": 617
    },
    "id": "ufF2l_yoS0NF",
    "outputId": "deb3c72e-90a9-426e-bce4-0f54ee13a455"
   },
   "outputs": [
    {
     "data": {
      "text/html": [
       "<div>\n",
       "<style scoped>\n",
       "    .dataframe tbody tr th:only-of-type {\n",
       "        vertical-align: middle;\n",
       "    }\n",
       "\n",
       "    .dataframe tbody tr th {\n",
       "        vertical-align: top;\n",
       "    }\n",
       "\n",
       "    .dataframe thead th {\n",
       "        text-align: right;\n",
       "    }\n",
       "</style>\n",
       "<table border=\"1\" class=\"dataframe\">\n",
       "  <thead>\n",
       "    <tr style=\"text-align: right;\">\n",
       "      <th></th>\n",
       "      <th>Date</th>\n",
       "      <th>Country</th>\n",
       "      <th>Local</th>\n",
       "      <th>Industry Sector</th>\n",
       "      <th>Accident Level</th>\n",
       "      <th>Potential Accident Level</th>\n",
       "      <th>Gender</th>\n",
       "      <th>Natureofemployee</th>\n",
       "      <th>Critical Risk</th>\n",
       "      <th>Description</th>\n",
       "      <th>Year</th>\n",
       "      <th>Month</th>\n",
       "      <th>Weekday</th>\n",
       "      <th>Season</th>\n",
       "      <th>processed_text</th>\n",
       "    </tr>\n",
       "  </thead>\n",
       "  <tbody>\n",
       "    <tr>\n",
       "      <th>0</th>\n",
       "      <td>2016-01-01</td>\n",
       "      <td>Country_01</td>\n",
       "      <td>1</td>\n",
       "      <td>Mining</td>\n",
       "      <td>I</td>\n",
       "      <td>IV</td>\n",
       "      <td>Male</td>\n",
       "      <td>Third Party</td>\n",
       "      <td>Pressed</td>\n",
       "      <td>While removing the drill rod of the Jumbo 08 f...</td>\n",
       "      <td>2016</td>\n",
       "      <td>1</td>\n",
       "      <td>Friday</td>\n",
       "      <td>Summer</td>\n",
       "      <td>[while, removing, drill, rod, jumbo, maintenan...</td>\n",
       "    </tr>\n",
       "    <tr>\n",
       "      <th>1</th>\n",
       "      <td>2016-01-02</td>\n",
       "      <td>Country_02</td>\n",
       "      <td>2</td>\n",
       "      <td>Mining</td>\n",
       "      <td>I</td>\n",
       "      <td>IV</td>\n",
       "      <td>Male</td>\n",
       "      <td>Employee</td>\n",
       "      <td>Pressurized Systems</td>\n",
       "      <td>During the activation of a sodium sulphide pum...</td>\n",
       "      <td>2016</td>\n",
       "      <td>1</td>\n",
       "      <td>Saturday</td>\n",
       "      <td>Summer</td>\n",
       "      <td>[during, activation, sodium, sulphide, pump, p...</td>\n",
       "    </tr>\n",
       "    <tr>\n",
       "      <th>2</th>\n",
       "      <td>2016-01-06</td>\n",
       "      <td>Country_01</td>\n",
       "      <td>3</td>\n",
       "      <td>Mining</td>\n",
       "      <td>I</td>\n",
       "      <td>III</td>\n",
       "      <td>Male</td>\n",
       "      <td>Third Party (Remote)</td>\n",
       "      <td>Manual Tools</td>\n",
       "      <td>In the sub-station MILPO located at level +170...</td>\n",
       "      <td>2016</td>\n",
       "      <td>1</td>\n",
       "      <td>Wednesday</td>\n",
       "      <td>Summer</td>\n",
       "      <td>[substation, milpo, located, level, collaborat...</td>\n",
       "    </tr>\n",
       "    <tr>\n",
       "      <th>3</th>\n",
       "      <td>2016-01-08</td>\n",
       "      <td>Country_01</td>\n",
       "      <td>4</td>\n",
       "      <td>Mining</td>\n",
       "      <td>I</td>\n",
       "      <td>I</td>\n",
       "      <td>Male</td>\n",
       "      <td>Third Party</td>\n",
       "      <td>Others</td>\n",
       "      <td>Being 9:45 am. approximately in the Nv. 1880 C...</td>\n",
       "      <td>2016</td>\n",
       "      <td>1</td>\n",
       "      <td>Friday</td>\n",
       "      <td>Summer</td>\n",
       "      <td>[being, approximately, personnel, begin, task,...</td>\n",
       "    </tr>\n",
       "    <tr>\n",
       "      <th>4</th>\n",
       "      <td>2016-01-10</td>\n",
       "      <td>Country_01</td>\n",
       "      <td>4</td>\n",
       "      <td>Mining</td>\n",
       "      <td>IV</td>\n",
       "      <td>IV</td>\n",
       "      <td>Male</td>\n",
       "      <td>Third Party</td>\n",
       "      <td>Others</td>\n",
       "      <td>Approximately at 11:45 a.m. in circumstances t...</td>\n",
       "      <td>2016</td>\n",
       "      <td>1</td>\n",
       "      <td>Sunday</td>\n",
       "      <td>Summer</td>\n",
       "      <td>[approximately, am, circumstance, mechanic, an...</td>\n",
       "    </tr>\n",
       "  </tbody>\n",
       "</table>\n",
       "</div>"
      ],
      "text/plain": [
       "         Date     Country  Local Industry Sector Accident Level  \\\n",
       "0  2016-01-01  Country_01      1          Mining              I   \n",
       "1  2016-01-02  Country_02      2          Mining              I   \n",
       "2  2016-01-06  Country_01      3          Mining              I   \n",
       "3  2016-01-08  Country_01      4          Mining              I   \n",
       "4  2016-01-10  Country_01      4          Mining             IV   \n",
       "\n",
       "  Potential Accident Level Gender      Natureofemployee        Critical Risk  \\\n",
       "0                       IV   Male           Third Party              Pressed   \n",
       "1                       IV   Male              Employee  Pressurized Systems   \n",
       "2                      III   Male  Third Party (Remote)         Manual Tools   \n",
       "3                        I   Male           Third Party               Others   \n",
       "4                       IV   Male           Third Party               Others   \n",
       "\n",
       "                                         Description  Year  Month    Weekday  \\\n",
       "0  While removing the drill rod of the Jumbo 08 f...  2016      1     Friday   \n",
       "1  During the activation of a sodium sulphide pum...  2016      1   Saturday   \n",
       "2  In the sub-station MILPO located at level +170...  2016      1  Wednesday   \n",
       "3  Being 9:45 am. approximately in the Nv. 1880 C...  2016      1     Friday   \n",
       "4  Approximately at 11:45 a.m. in circumstances t...  2016      1     Sunday   \n",
       "\n",
       "   Season                                     processed_text  \n",
       "0  Summer  [while, removing, drill, rod, jumbo, maintenan...  \n",
       "1  Summer  [during, activation, sodium, sulphide, pump, p...  \n",
       "2  Summer  [substation, milpo, located, level, collaborat...  \n",
       "3  Summer  [being, approximately, personnel, begin, task,...  \n",
       "4  Summer  [approximately, am, circumstance, mechanic, an...  "
      ]
     },
     "execution_count": 13,
     "metadata": {},
     "output_type": "execute_result"
    }
   ],
   "source": [
    "data1.head()"
   ]
  },
  {
   "cell_type": "code",
   "execution_count": 14,
   "metadata": {},
   "outputs": [],
   "source": [
    "#Viewing the processed text."
   ]
  },
  {
   "cell_type": "code",
   "execution_count": 15,
   "metadata": {
    "colab": {
     "base_uri": "https://localhost:8080/"
    },
    "id": "1SiwmojBS5I2",
    "outputId": "6d3374ca-180b-4d8f-e7d8-41aa336da03b"
   },
   "outputs": [
    {
     "data": {
      "text/plain": [
       "0      [while, removing, drill, rod, jumbo, maintenan...\n",
       "1      [during, activation, sodium, sulphide, pump, p...\n",
       "2      [substation, milpo, located, level, collaborat...\n",
       "3      [being, approximately, personnel, begin, task,...\n",
       "4      [approximately, am, circumstance, mechanic, an...\n",
       "                             ...                        \n",
       "413    [being, approximately, am, approximately, lift...\n",
       "414    [the, collaborator, moved, infrastructure, off...\n",
       "415    [during, environmental, monitoring, activity, ...\n",
       "416    [the, employee, performed, activity, stripping...\n",
       "417    [am, assistant, cleaned, floor, module, centra...\n",
       "Name: processed_text, Length: 418, dtype: object"
      ]
     },
     "execution_count": 15,
     "metadata": {},
     "output_type": "execute_result"
    }
   ],
   "source": [
    "data1['processed_text']"
   ]
  },
  {
   "cell_type": "markdown",
   "metadata": {},
   "source": [
    "It can be observed that the processed_text doesn't consist any stop words and it is lemmatized"
   ]
  },
  {
   "cell_type": "code",
   "execution_count": 16,
   "metadata": {},
   "outputs": [],
   "source": [
    "#Finding and printing the maximum length of the sentence in the processed text"
   ]
  },
  {
   "cell_type": "code",
   "execution_count": 17,
   "metadata": {
    "colab": {
     "base_uri": "https://localhost:8080/"
    },
    "id": "QxlATJLlS8Hr",
    "outputId": "c4104fbf-84b2-46f3-cf1e-b8f1201d74b1"
   },
   "outputs": [
    {
     "name": "stdout",
     "output_type": "stream",
     "text": [
      "Maximum length of the sentence in processed text (in list) : 95\n"
     ]
    }
   ],
   "source": [
    "lgt = []\n",
    "for i in data1['processed_text']:\n",
    "  lgt.append(len(i))\n",
    "print('Maximum length of the sentence in processed text (in list) :',max(lgt))"
   ]
  },
  {
   "cell_type": "code",
   "execution_count": 18,
   "metadata": {
    "id": "fFImb5dqTAwt"
   },
   "outputs": [],
   "source": [
    "desc_processed = []\n",
    "for i in range(len(data1['processed_text'])):\n",
    "   desc_processed.append(' '.join(wrd for wrd in data1.iloc[:,14][i]))"
   ]
  },
  {
   "cell_type": "code",
   "execution_count": 19,
   "metadata": {
    "id": "k3g24hSgTMfB"
   },
   "outputs": [],
   "source": [
    "data1['description_processed'] = desc_processed"
   ]
  },
  {
   "cell_type": "code",
   "execution_count": 20,
   "metadata": {
    "colab": {
     "base_uri": "https://localhost:8080/",
     "height": 617
    },
    "id": "wiu0Ogd0WEsH",
    "outputId": "8a34eb9b-a844-4790-f8e8-f90e89ab8926"
   },
   "outputs": [
    {
     "data": {
      "text/html": [
       "<div>\n",
       "<style scoped>\n",
       "    .dataframe tbody tr th:only-of-type {\n",
       "        vertical-align: middle;\n",
       "    }\n",
       "\n",
       "    .dataframe tbody tr th {\n",
       "        vertical-align: top;\n",
       "    }\n",
       "\n",
       "    .dataframe thead th {\n",
       "        text-align: right;\n",
       "    }\n",
       "</style>\n",
       "<table border=\"1\" class=\"dataframe\">\n",
       "  <thead>\n",
       "    <tr style=\"text-align: right;\">\n",
       "      <th></th>\n",
       "      <th>Date</th>\n",
       "      <th>Country</th>\n",
       "      <th>Local</th>\n",
       "      <th>Industry Sector</th>\n",
       "      <th>Accident Level</th>\n",
       "      <th>Potential Accident Level</th>\n",
       "      <th>Gender</th>\n",
       "      <th>Natureofemployee</th>\n",
       "      <th>Critical Risk</th>\n",
       "      <th>Description</th>\n",
       "      <th>Year</th>\n",
       "      <th>Month</th>\n",
       "      <th>Weekday</th>\n",
       "      <th>Season</th>\n",
       "      <th>processed_text</th>\n",
       "      <th>description_processed</th>\n",
       "    </tr>\n",
       "  </thead>\n",
       "  <tbody>\n",
       "    <tr>\n",
       "      <th>0</th>\n",
       "      <td>2016-01-01</td>\n",
       "      <td>Country_01</td>\n",
       "      <td>1</td>\n",
       "      <td>Mining</td>\n",
       "      <td>I</td>\n",
       "      <td>IV</td>\n",
       "      <td>Male</td>\n",
       "      <td>Third Party</td>\n",
       "      <td>Pressed</td>\n",
       "      <td>While removing the drill rod of the Jumbo 08 f...</td>\n",
       "      <td>2016</td>\n",
       "      <td>1</td>\n",
       "      <td>Friday</td>\n",
       "      <td>Summer</td>\n",
       "      <td>[while, removing, drill, rod, jumbo, maintenan...</td>\n",
       "      <td>while removing drill rod jumbo maintenance sup...</td>\n",
       "    </tr>\n",
       "    <tr>\n",
       "      <th>1</th>\n",
       "      <td>2016-01-02</td>\n",
       "      <td>Country_02</td>\n",
       "      <td>2</td>\n",
       "      <td>Mining</td>\n",
       "      <td>I</td>\n",
       "      <td>IV</td>\n",
       "      <td>Male</td>\n",
       "      <td>Employee</td>\n",
       "      <td>Pressurized Systems</td>\n",
       "      <td>During the activation of a sodium sulphide pum...</td>\n",
       "      <td>2016</td>\n",
       "      <td>1</td>\n",
       "      <td>Saturday</td>\n",
       "      <td>Summer</td>\n",
       "      <td>[during, activation, sodium, sulphide, pump, p...</td>\n",
       "      <td>during activation sodium sulphide pump piping ...</td>\n",
       "    </tr>\n",
       "    <tr>\n",
       "      <th>2</th>\n",
       "      <td>2016-01-06</td>\n",
       "      <td>Country_01</td>\n",
       "      <td>3</td>\n",
       "      <td>Mining</td>\n",
       "      <td>I</td>\n",
       "      <td>III</td>\n",
       "      <td>Male</td>\n",
       "      <td>Third Party (Remote)</td>\n",
       "      <td>Manual Tools</td>\n",
       "      <td>In the sub-station MILPO located at level +170...</td>\n",
       "      <td>2016</td>\n",
       "      <td>1</td>\n",
       "      <td>Wednesday</td>\n",
       "      <td>Summer</td>\n",
       "      <td>[substation, milpo, located, level, collaborat...</td>\n",
       "      <td>substation milpo located level collaborator ex...</td>\n",
       "    </tr>\n",
       "    <tr>\n",
       "      <th>3</th>\n",
       "      <td>2016-01-08</td>\n",
       "      <td>Country_01</td>\n",
       "      <td>4</td>\n",
       "      <td>Mining</td>\n",
       "      <td>I</td>\n",
       "      <td>I</td>\n",
       "      <td>Male</td>\n",
       "      <td>Third Party</td>\n",
       "      <td>Others</td>\n",
       "      <td>Being 9:45 am. approximately in the Nv. 1880 C...</td>\n",
       "      <td>2016</td>\n",
       "      <td>1</td>\n",
       "      <td>Friday</td>\n",
       "      <td>Summer</td>\n",
       "      <td>[being, approximately, personnel, begin, task,...</td>\n",
       "      <td>being approximately personnel begin task unloc...</td>\n",
       "    </tr>\n",
       "    <tr>\n",
       "      <th>4</th>\n",
       "      <td>2016-01-10</td>\n",
       "      <td>Country_01</td>\n",
       "      <td>4</td>\n",
       "      <td>Mining</td>\n",
       "      <td>IV</td>\n",
       "      <td>IV</td>\n",
       "      <td>Male</td>\n",
       "      <td>Third Party</td>\n",
       "      <td>Others</td>\n",
       "      <td>Approximately at 11:45 a.m. in circumstances t...</td>\n",
       "      <td>2016</td>\n",
       "      <td>1</td>\n",
       "      <td>Sunday</td>\n",
       "      <td>Summer</td>\n",
       "      <td>[approximately, am, circumstance, mechanic, an...</td>\n",
       "      <td>approximately am circumstance mechanic anthony...</td>\n",
       "    </tr>\n",
       "  </tbody>\n",
       "</table>\n",
       "</div>"
      ],
      "text/plain": [
       "         Date     Country  Local Industry Sector Accident Level  \\\n",
       "0  2016-01-01  Country_01      1          Mining              I   \n",
       "1  2016-01-02  Country_02      2          Mining              I   \n",
       "2  2016-01-06  Country_01      3          Mining              I   \n",
       "3  2016-01-08  Country_01      4          Mining              I   \n",
       "4  2016-01-10  Country_01      4          Mining             IV   \n",
       "\n",
       "  Potential Accident Level Gender      Natureofemployee        Critical Risk  \\\n",
       "0                       IV   Male           Third Party              Pressed   \n",
       "1                       IV   Male              Employee  Pressurized Systems   \n",
       "2                      III   Male  Third Party (Remote)         Manual Tools   \n",
       "3                        I   Male           Third Party               Others   \n",
       "4                       IV   Male           Third Party               Others   \n",
       "\n",
       "                                         Description  Year  Month    Weekday  \\\n",
       "0  While removing the drill rod of the Jumbo 08 f...  2016      1     Friday   \n",
       "1  During the activation of a sodium sulphide pum...  2016      1   Saturday   \n",
       "2  In the sub-station MILPO located at level +170...  2016      1  Wednesday   \n",
       "3  Being 9:45 am. approximately in the Nv. 1880 C...  2016      1     Friday   \n",
       "4  Approximately at 11:45 a.m. in circumstances t...  2016      1     Sunday   \n",
       "\n",
       "   Season                                     processed_text  \\\n",
       "0  Summer  [while, removing, drill, rod, jumbo, maintenan...   \n",
       "1  Summer  [during, activation, sodium, sulphide, pump, p...   \n",
       "2  Summer  [substation, milpo, located, level, collaborat...   \n",
       "3  Summer  [being, approximately, personnel, begin, task,...   \n",
       "4  Summer  [approximately, am, circumstance, mechanic, an...   \n",
       "\n",
       "                               description_processed  \n",
       "0  while removing drill rod jumbo maintenance sup...  \n",
       "1  during activation sodium sulphide pump piping ...  \n",
       "2  substation milpo located level collaborator ex...  \n",
       "3  being approximately personnel begin task unloc...  \n",
       "4  approximately am circumstance mechanic anthony...  "
      ]
     },
     "execution_count": 20,
     "metadata": {},
     "output_type": "execute_result"
    }
   ],
   "source": [
    "data1.head()"
   ]
  },
  {
   "cell_type": "code",
   "execution_count": 21,
   "metadata": {
    "colab": {
     "base_uri": "https://localhost:8080/",
     "height": 268
    },
    "id": "JYDo5PMwWEJK",
    "outputId": "0e7f6532-3193-4970-82a3-ef7497e071ec"
   },
   "outputs": [
    {
     "data": {
      "image/png": "[encoded data removed]",
      "text/plain": [
       "<Figure size 432x288 with 1 Axes>"
      ]
     },
     "metadata": {
      "needs_background": "light"
     },
     "output_type": "display_data"
    }
   ],
   "source": [
    "#Number of characters present in each sentence\n",
    "data1['Description'].str.len().hist();"
   ]
  },
  {
   "cell_type": "code",
   "execution_count": 22,
   "metadata": {
    "colab": {
     "base_uri": "https://localhost:8080/",
     "height": 265
    },
    "id": "1tzQy8htmvtY",
    "outputId": "a7e178f9-c25a-44c1-b0ed-30ab346dce34"
   },
   "outputs": [
    {
     "data": {
      "image/png": "[encoded data removed]",
      "text/plain": [
       "<Figure size 432x288 with 1 Axes>"
      ]
     },
     "metadata": {
      "needs_background": "light"
     },
     "output_type": "display_data"
    }
   ],
   "source": [
    "data1['description_processed'].str.len().hist();"
   ]
  },
  {
   "cell_type": "code",
   "execution_count": 23,
   "metadata": {
    "colab": {
     "base_uri": "https://localhost:8080/",
     "height": 265
    },
    "id": "CN1XGlVSm5QY",
    "outputId": "8a0374a7-18fa-4fee-893d-8a4e77508a91"
   },
   "outputs": [
    {
     "data": {
      "image/png": "[encoded data removed]",
      "text/plain": [
       "<Figure size 432x288 with 1 Axes>"
      ]
     },
     "metadata": {
      "needs_background": "light"
     },
     "output_type": "display_data"
    }
   ],
   "source": [
    "#Number of words appearing in each description\n",
    "data1['Description'].str.split().map(lambda x: len(x)).hist();"
   ]
  },
  {
   "cell_type": "code",
   "execution_count": 24,
   "metadata": {
    "colab": {
     "base_uri": "https://localhost:8080/",
     "height": 265
    },
    "id": "HBuEIpDbnA5h",
    "outputId": "fc2e7d5c-69ed-4b9f-c962-30502cd67fbf"
   },
   "outputs": [
    {
     "data": {
      "image/png": "[encoded data removed]",
      "text/plain": [
       "<Figure size 432x288 with 1 Axes>"
      ]
     },
     "metadata": {
      "needs_background": "light"
     },
     "output_type": "display_data"
    }
   ],
   "source": [
    "data1['description_processed'].str.split().map(lambda x: len(x)).hist();"
   ]
  },
  {
   "cell_type": "code",
   "execution_count": 25,
   "metadata": {
    "colab": {
     "base_uri": "https://localhost:8080/",
     "height": 265
    },
    "id": "d-EwzDyMnGMy",
    "outputId": "c979cd19-570a-4392-8656-93385b44bb88"
   },
   "outputs": [
    {
     "data": {
      "image/png": "[encoded data removed]",
      "text/plain": [
       "<Figure size 432x288 with 1 Axes>"
      ]
     },
     "metadata": {
      "needs_background": "light"
     },
     "output_type": "display_data"
    }
   ],
   "source": [
    "#Average word length\n",
    "import numpy as np\n",
    "data1['Description'].str.split().apply(lambda x : [len(i) for i in x]). \\\n",
    "   map(lambda x: np.mean(x)).hist();"
   ]
  },
  {
   "cell_type": "code",
   "execution_count": 26,
   "metadata": {
    "colab": {
     "base_uri": "https://localhost:8080/",
     "height": 265
    },
    "id": "mj_4rmMOnQ_N",
    "outputId": "512353e7-f356-4000-ac9f-bc9bee6b29e7"
   },
   "outputs": [
    {
     "data": {
      "image/png": "[encoded data removed]",
      "text/plain": [
       "<Figure size 432x288 with 1 Axes>"
      ]
     },
     "metadata": {
      "needs_background": "light"
     },
     "output_type": "display_data"
    }
   ],
   "source": [
    "data1['description_processed'].str.split().apply(lambda x : [len(i) for i in x]). \\\n",
    "   map(lambda x: np.mean(x)).hist();"
   ]
  },
  {
   "cell_type": "code",
   "execution_count": 27,
   "metadata": {
    "id": "9ouvw9YQnM_N"
   },
   "outputs": [],
   "source": [
    "#N-gram analysis\n",
    "from sklearn.feature_extraction.text import CountVectorizer\n",
    "import seaborn as sns\n",
    "\n",
    "def plot_top_ngrams_barchart(text, n=2):\n",
    "    stop=set(stopwords.words('english'))\n",
    "\n",
    "    new= text.str.split()\n",
    "    new=new.values.tolist()\n",
    "    corpus=[word for i in new for word in i]\n",
    "\n",
    "    def get_top_ngram(corpus, n=None):\n",
    "        vec = CountVectorizer(ngram_range=(n, n)).fit(corpus)\n",
    "        bag_of_words = vec.transform(corpus)\n",
    "        sum_words = bag_of_words.sum(axis=0) \n",
    "        words_freq = [(word, sum_words[0, idx]) \n",
    "                      for word, idx in vec.vocabulary_.items()]\n",
    "        words_freq =sorted(words_freq, key = lambda x: x[1], reverse=True)\n",
    "        return words_freq[:10]\n",
    "\n",
    "    top_n_bigrams= get_top_ngram(text,n)[:10]\n",
    "    x,y=map(list,zip(*top_n_bigrams))\n",
    "    sns.barplot(x=y,y=x)"
   ]
  },
  {
   "cell_type": "code",
   "execution_count": 28,
   "metadata": {
    "colab": {
     "base_uri": "https://localhost:8080/",
     "height": 265
    },
    "id": "bEw2AOHinnYW",
    "outputId": "9dc67e54-836e-48ad-e78f-42651b2c48c2"
   },
   "outputs": [
    {
     "data": {
      "image/png": "[encoded data removed]",
      "text/plain": [
       "<Figure size 432x288 with 1 Axes>"
      ]
     },
     "metadata": {
      "needs_background": "light"
     },
     "output_type": "display_data"
    }
   ],
   "source": [
    "#Bigram analysis\n",
    "plot_top_ngrams_barchart(data1['description_processed'],2)"
   ]
  },
  {
   "cell_type": "code",
   "execution_count": 29,
   "metadata": {
    "colab": {
     "base_uri": "https://localhost:8080/",
     "height": 265
    },
    "id": "aTfH0eY_nuPb",
    "outputId": "8d894473-15d1-4e9c-82eb-48006ebcd58b"
   },
   "outputs": [
    {
     "data": {
      "image/png": "[encoded data removed]",
      "text/plain": [
       "<Figure size 432x288 with 1 Axes>"
      ]
     },
     "metadata": {
      "needs_background": "light"
     },
     "output_type": "display_data"
    }
   ],
   "source": [
    "#Trigram analysis\n",
    "plot_top_ngrams_barchart(data1['description_processed'],3)"
   ]
  },
  {
   "cell_type": "code",
   "execution_count": 30,
   "metadata": {
    "colab": {
     "base_uri": "https://localhost:8080/",
     "height": 265
    },
    "id": "XyapACjyn2cM",
    "outputId": "df509963-6c66-41e6-f7e1-9c994223d187"
   },
   "outputs": [
    {
     "data": {
      "image/png": "[encoded data removed]",
      "text/plain": [
       "<Figure size 432x288 with 1 Axes>"
      ]
     },
     "metadata": {
      "needs_background": "light"
     },
     "output_type": "display_data"
    }
   ],
   "source": [
    "#For n=4\n",
    "plot_top_ngrams_barchart(data1['description_processed'],4)"
   ]
  },
  {
   "cell_type": "code",
   "execution_count": 31,
   "metadata": {
    "colab": {
     "base_uri": "https://localhost:8080/",
     "height": 366
    },
    "id": "HL9vPI1Hn_L8",
    "outputId": "532e7fc7-077b-40d6-f97c-78281e4dcf80"
   },
   "outputs": [
    {
     "data": {
      "image/png": "[encoded data removed]",
      "text/plain": [
       "<Figure size 864x864 with 1 Axes>"
      ]
     },
     "metadata": {
      "needs_background": "light"
     },
     "output_type": "display_data"
    }
   ],
   "source": [
    "#Wordcloud\n",
    "import matplotlib.pyplot as plt\n",
    "%matplotlib inline\n",
    "wordcloud = WordCloud(\n",
    "        background_color='white',\n",
    "        stopwords=set(STOPWORDS),\n",
    "        max_words=100,\n",
    "        max_font_size=30, \n",
    "        scale=3,\n",
    "        random_state=1)\n",
    "desc = data1['description_processed']\n",
    "wordcloud=wordcloud.generate(str(desc))\n",
    "\n",
    "fig = plt.figure(1, figsize=(12, 12)) \n",
    "plt.axis('off')\n",
    " \n",
    "plt.imshow(wordcloud)\n",
    "plt.show()\n"
   ]
  },
  {
   "cell_type": "code",
   "execution_count": 32,
   "metadata": {
    "id": "42X9K4zYTRIO"
   },
   "outputs": [],
   "source": [
    "#Model building \n",
    "#Bag of words\n",
    "#Target variable- accident level\n"
   ]
  },
  {
   "cell_type": "code",
   "execution_count": 34,
   "metadata": {
    "id": "f6Xiiu2RVOMl"
   },
   "outputs": [],
   "source": [
    "#Count vectorization\n",
    "from sklearn.model_selection import train_test_split\n",
    "from sklearn.feature_extraction.text import CountVectorizer\n",
    "\n",
    "X = data1['description_processed']\n",
    "y = data1['Accident Level']\n",
    "\n",
    "count_vec = CountVectorizer(analyzer='word', ngram_range=(1, 2))\n",
    "Xc = count_vec.fit_transform(X).toarray()\n",
    "Xc_train, Xc_test, yc_train, yc_test = train_test_split(Xc, y, test_size=0.15, random_state=42)"
   ]
  },
  {
   "cell_type": "code",
   "execution_count": 35,
   "metadata": {},
   "outputs": [],
   "source": [
    "#Printing the unique values of accident level"
   ]
  },
  {
   "cell_type": "code",
   "execution_count": 36,
   "metadata": {},
   "outputs": [
    {
     "data": {
      "text/plain": [
       "array(['I', 'IV', 'III', 'II', 'V'], dtype=object)"
      ]
     },
     "execution_count": 36,
     "metadata": {},
     "output_type": "execute_result"
    }
   ],
   "source": [
    "data1['Accident Level'].unique()"
   ]
  },
  {
   "cell_type": "code",
   "execution_count": 37,
   "metadata": {},
   "outputs": [],
   "source": [
    "#Shape of the Xc_train"
   ]
  },
  {
   "cell_type": "code",
   "execution_count": 38,
   "metadata": {
    "colab": {
     "base_uri": "https://localhost:8080/"
    },
    "id": "KxikKi3QVdsj",
    "outputId": "03999513-bf8b-4ddd-9cda-4ff6d6034906"
   },
   "outputs": [
    {
     "data": {
      "text/plain": [
       "(355, 13242)"
      ]
     },
     "execution_count": 38,
     "metadata": {},
     "output_type": "execute_result"
    }
   ],
   "source": [
    "Xc_train.shape"
   ]
  },
  {
   "cell_type": "code",
   "execution_count": 39,
   "metadata": {},
   "outputs": [],
   "source": [
    "#Shape of Xc_test"
   ]
  },
  {
   "cell_type": "code",
   "execution_count": 40,
   "metadata": {
    "colab": {
     "base_uri": "https://localhost:8080/"
    },
    "id": "6FWGc1OfW1K9",
    "outputId": "a9303ad2-6220-4bf3-fe18-a153d8ed7c8c"
   },
   "outputs": [
    {
     "data": {
      "text/plain": [
       "(63, 13242)"
      ]
     },
     "execution_count": 40,
     "metadata": {},
     "output_type": "execute_result"
    }
   ],
   "source": [
    "Xc_test.shape"
   ]
  },
  {
   "cell_type": "code",
   "execution_count": 43,
   "metadata": {},
   "outputs": [],
   "source": [
    "#Step 2: Design, train and test machine learning classifiers "
   ]
  },
  {
   "cell_type": "code",
   "execution_count": 44,
   "metadata": {},
   "outputs": [],
   "source": [
    "#SVC"
   ]
  },
  {
   "cell_type": "code",
   "execution_count": 46,
   "metadata": {},
   "outputs": [
    {
     "name": "stdout",
     "output_type": "stream",
     "text": [
      "              precision    recall  f1-score   support\n",
      "\n",
      "           I       0.76      1.00      0.86        48\n",
      "          II       0.00      0.00      0.00         5\n",
      "         III       0.00      0.00      0.00         4\n",
      "          IV       0.00      0.00      0.00         5\n",
      "           V       0.00      0.00      0.00         1\n",
      "\n",
      "    accuracy                           0.76        63\n",
      "   macro avg       0.15      0.20      0.17        63\n",
      "weighted avg       0.58      0.76      0.66        63\n",
      "\n"
     ]
    },
    {
     "name": "stderr",
     "output_type": "stream",
     "text": [
      "D:\\anaconda\\lib\\site-packages\\sklearn\\metrics\\_classification.py:1248: UndefinedMetricWarning: Precision and F-score are ill-defined and being set to 0.0 in labels with no predicted samples. Use `zero_division` parameter to control this behavior.\n",
      "  _warn_prf(average, modifier, msg_start, len(result))\n",
      "D:\\anaconda\\lib\\site-packages\\sklearn\\metrics\\_classification.py:1248: UndefinedMetricWarning: Precision and F-score are ill-defined and being set to 0.0 in labels with no predicted samples. Use `zero_division` parameter to control this behavior.\n",
      "  _warn_prf(average, modifier, msg_start, len(result))\n",
      "D:\\anaconda\\lib\\site-packages\\sklearn\\metrics\\_classification.py:1248: UndefinedMetricWarning: Precision and F-score are ill-defined and being set to 0.0 in labels with no predicted samples. Use `zero_division` parameter to control this behavior.\n",
      "  _warn_prf(average, modifier, msg_start, len(result))\n"
     ]
    }
   ],
   "source": [
    "from sklearn.svm import SVC\n",
    "from sklearn.metrics import accuracy_score\n",
    "from sklearn.metrics import confusion_matrix, classification_report\n",
    "model_c = SVC()\n",
    "model_c.fit(Xc_train, yc_train)\n",
    " \n",
    "# print prediction results\n",
    "predictions = model_c.predict(Xc_test)\n",
    "print(classification_report(yc_test, predictions))"
   ]
  },
  {
   "cell_type": "code",
   "execution_count": 47,
   "metadata": {},
   "outputs": [],
   "source": [
    "#Printing the accuracy scores"
   ]
  },
  {
   "cell_type": "code",
   "execution_count": 48,
   "metadata": {},
   "outputs": [
    {
     "name": "stdout",
     "output_type": "stream",
     "text": [
      "Train accuracy of the SVC model : 81.69\n",
      "Test accuracy of the SVC model : 76.19\n"
     ]
    }
   ],
   "source": [
    "acc = accuracy_score(yc_test,predictions)\n",
    "acc_svc_t = model_c.score(Xc_train, yc_train)\n",
    "print(\"Train accuracy of the SVC model : {:.2f}\".format(acc_svc_t*100))\n",
    "print(\"Test accuracy of the SVC model : {:.2f}\".format(acc*100))\n"
   ]
  },
  {
   "cell_type": "code",
   "execution_count": 49,
   "metadata": {},
   "outputs": [],
   "source": [
    "#Tuning the model with gridsearchCV"
   ]
  },
  {
   "cell_type": "code",
   "execution_count": 50,
   "metadata": {},
   "outputs": [
    {
     "name": "stdout",
     "output_type": "stream",
     "text": [
      "Fitting 5 folds for each of 25 candidates, totalling 125 fits\n",
      "[CV 1/5] END ........C=0.1, gamma=1, kernel=rbf;, score=0.746 total time=   1.0s\n",
      "[CV 2/5] END ........C=0.1, gamma=1, kernel=rbf;, score=0.732 total time=   0.9s\n",
      "[CV 3/5] END ........C=0.1, gamma=1, kernel=rbf;, score=0.732 total time=   1.0s\n",
      "[CV 4/5] END ........C=0.1, gamma=1, kernel=rbf;, score=0.732 total time=   0.9s\n",
      "[CV 5/5] END ........C=0.1, gamma=1, kernel=rbf;, score=0.732 total time=   0.9s\n",
      "[CV 1/5] END ......C=0.1, gamma=0.1, kernel=rbf;, score=0.746 total time=   1.0s\n",
      "[CV 2/5] END ......C=0.1, gamma=0.1, kernel=rbf;, score=0.732 total time=   1.1s\n",
      "[CV 3/5] END ......C=0.1, gamma=0.1, kernel=rbf;, score=0.732 total time=   1.0s\n",
      "[CV 4/5] END ......C=0.1, gamma=0.1, kernel=rbf;, score=0.732 total time=   1.1s\n",
      "[CV 5/5] END ......C=0.1, gamma=0.1, kernel=rbf;, score=0.732 total time=   1.0s\n",
      "[CV 1/5] END .....C=0.1, gamma=0.01, kernel=rbf;, score=0.746 total time=   0.9s\n",
      "[CV 2/5] END .....C=0.1, gamma=0.01, kernel=rbf;, score=0.732 total time=   0.9s\n",
      "[CV 3/5] END .....C=0.1, gamma=0.01, kernel=rbf;, score=0.732 total time=   0.9s\n",
      "[CV 4/5] END .....C=0.1, gamma=0.01, kernel=rbf;, score=0.732 total time=   0.9s\n",
      "[CV 5/5] END .....C=0.1, gamma=0.01, kernel=rbf;, score=0.732 total time=   0.9s\n",
      "[CV 1/5] END ....C=0.1, gamma=0.001, kernel=rbf;, score=0.746 total time=   0.7s\n",
      "[CV 2/5] END ....C=0.1, gamma=0.001, kernel=rbf;, score=0.732 total time=   0.7s\n",
      "[CV 3/5] END ....C=0.1, gamma=0.001, kernel=rbf;, score=0.732 total time=   0.6s\n",
      "[CV 4/5] END ....C=0.1, gamma=0.001, kernel=rbf;, score=0.732 total time=   0.7s\n",
      "[CV 5/5] END ....C=0.1, gamma=0.001, kernel=rbf;, score=0.732 total time=   0.7s\n",
      "[CV 1/5] END ...C=0.1, gamma=0.0001, kernel=rbf;, score=0.746 total time=   0.3s\n",
      "[CV 2/5] END ...C=0.1, gamma=0.0001, kernel=rbf;, score=0.732 total time=   0.3s\n",
      "[CV 3/5] END ...C=0.1, gamma=0.0001, kernel=rbf;, score=0.732 total time=   0.3s\n",
      "[CV 4/5] END ...C=0.1, gamma=0.0001, kernel=rbf;, score=0.732 total time=   0.3s\n",
      "[CV 5/5] END ...C=0.1, gamma=0.0001, kernel=rbf;, score=0.732 total time=   0.3s\n",
      "[CV 1/5] END ..........C=1, gamma=1, kernel=rbf;, score=0.746 total time=   1.1s\n",
      "[CV 2/5] END ..........C=1, gamma=1, kernel=rbf;, score=0.732 total time=   1.2s\n",
      "[CV 3/5] END ..........C=1, gamma=1, kernel=rbf;, score=0.732 total time=   1.4s\n",
      "[CV 4/5] END ..........C=1, gamma=1, kernel=rbf;, score=0.732 total time=   1.1s\n",
      "[CV 5/5] END ..........C=1, gamma=1, kernel=rbf;, score=0.718 total time=   1.1s\n",
      "[CV 1/5] END ........C=1, gamma=0.1, kernel=rbf;, score=0.746 total time=   1.1s\n",
      "[CV 2/5] END ........C=1, gamma=0.1, kernel=rbf;, score=0.732 total time=   1.1s\n",
      "[CV 3/5] END ........C=1, gamma=0.1, kernel=rbf;, score=0.732 total time=   1.1s\n",
      "[CV 4/5] END ........C=1, gamma=0.1, kernel=rbf;, score=0.732 total time=   1.1s\n",
      "[CV 5/5] END ........C=1, gamma=0.1, kernel=rbf;, score=0.718 total time=   1.1s\n",
      "[CV 1/5] END .......C=1, gamma=0.01, kernel=rbf;, score=0.746 total time=   1.0s\n",
      "[CV 2/5] END .......C=1, gamma=0.01, kernel=rbf;, score=0.732 total time=   1.0s\n",
      "[CV 3/5] END .......C=1, gamma=0.01, kernel=rbf;, score=0.732 total time=   1.0s\n",
      "[CV 4/5] END .......C=1, gamma=0.01, kernel=rbf;, score=0.732 total time=   1.0s\n",
      "[CV 5/5] END .......C=1, gamma=0.01, kernel=rbf;, score=0.704 total time=   1.0s\n",
      "[CV 1/5] END ......C=1, gamma=0.001, kernel=rbf;, score=0.746 total time=   0.9s\n",
      "[CV 2/5] END ......C=1, gamma=0.001, kernel=rbf;, score=0.732 total time=   0.9s\n",
      "[CV 3/5] END ......C=1, gamma=0.001, kernel=rbf;, score=0.732 total time=   0.9s\n",
      "[CV 4/5] END ......C=1, gamma=0.001, kernel=rbf;, score=0.732 total time=   0.9s\n",
      "[CV 5/5] END ......C=1, gamma=0.001, kernel=rbf;, score=0.732 total time=   0.9s\n",
      "[CV 1/5] END .....C=1, gamma=0.0001, kernel=rbf;, score=0.746 total time=   0.8s\n",
      "[CV 2/5] END .....C=1, gamma=0.0001, kernel=rbf;, score=0.732 total time=   0.8s\n",
      "[CV 3/5] END .....C=1, gamma=0.0001, kernel=rbf;, score=0.732 total time=   0.7s\n",
      "[CV 4/5] END .....C=1, gamma=0.0001, kernel=rbf;, score=0.732 total time=   0.8s\n",
      "[CV 5/5] END .....C=1, gamma=0.0001, kernel=rbf;, score=0.732 total time=   0.8s\n",
      "[CV 1/5] END .........C=10, gamma=1, kernel=rbf;, score=0.746 total time=   1.2s\n",
      "[CV 2/5] END .........C=10, gamma=1, kernel=rbf;, score=0.732 total time=   1.2s\n",
      "[CV 3/5] END .........C=10, gamma=1, kernel=rbf;, score=0.732 total time=   1.2s\n",
      "[CV 4/5] END .........C=10, gamma=1, kernel=rbf;, score=0.732 total time=   1.2s\n",
      "[CV 5/5] END .........C=10, gamma=1, kernel=rbf;, score=0.718 total time=   1.2s\n",
      "[CV 1/5] END .......C=10, gamma=0.1, kernel=rbf;, score=0.746 total time=   1.5s\n",
      "[CV 2/5] END .......C=10, gamma=0.1, kernel=rbf;, score=0.732 total time=   1.2s\n",
      "[CV 3/5] END .......C=10, gamma=0.1, kernel=rbf;, score=0.732 total time=   1.2s\n",
      "[CV 4/5] END .......C=10, gamma=0.1, kernel=rbf;, score=0.732 total time=   1.2s\n",
      "[CV 5/5] END .......C=10, gamma=0.1, kernel=rbf;, score=0.704 total time=   1.2s\n",
      "[CV 1/5] END ......C=10, gamma=0.01, kernel=rbf;, score=0.746 total time=   1.1s\n",
      "[CV 2/5] END ......C=10, gamma=0.01, kernel=rbf;, score=0.732 total time=   1.1s\n",
      "[CV 3/5] END ......C=10, gamma=0.01, kernel=rbf;, score=0.732 total time=   1.1s\n",
      "[CV 4/5] END ......C=10, gamma=0.01, kernel=rbf;, score=0.732 total time=   1.1s\n",
      "[CV 5/5] END ......C=10, gamma=0.01, kernel=rbf;, score=0.704 total time=   1.1s\n",
      "[CV 1/5] END .....C=10, gamma=0.001, kernel=rbf;, score=0.746 total time=   1.0s\n",
      "[CV 2/5] END .....C=10, gamma=0.001, kernel=rbf;, score=0.732 total time=   1.0s\n",
      "[CV 3/5] END .....C=10, gamma=0.001, kernel=rbf;, score=0.732 total time=   1.0s\n",
      "[CV 4/5] END .....C=10, gamma=0.001, kernel=rbf;, score=0.732 total time=   1.0s\n",
      "[CV 5/5] END .....C=10, gamma=0.001, kernel=rbf;, score=0.704 total time=   1.0s\n",
      "[CV 1/5] END ....C=10, gamma=0.0001, kernel=rbf;, score=0.746 total time=   0.9s\n",
      "[CV 2/5] END ....C=10, gamma=0.0001, kernel=rbf;, score=0.732 total time=   0.9s\n",
      "[CV 3/5] END ....C=10, gamma=0.0001, kernel=rbf;, score=0.732 total time=   0.9s\n",
      "[CV 4/5] END ....C=10, gamma=0.0001, kernel=rbf;, score=0.732 total time=   0.9s\n",
      "[CV 5/5] END ....C=10, gamma=0.0001, kernel=rbf;, score=0.732 total time=   0.9s\n",
      "[CV 1/5] END ........C=100, gamma=1, kernel=rbf;, score=0.746 total time=   1.2s\n",
      "[CV 2/5] END ........C=100, gamma=1, kernel=rbf;, score=0.732 total time=   1.2s\n",
      "[CV 3/5] END ........C=100, gamma=1, kernel=rbf;, score=0.732 total time=   1.2s\n",
      "[CV 4/5] END ........C=100, gamma=1, kernel=rbf;, score=0.732 total time=   1.2s\n",
      "[CV 5/5] END ........C=100, gamma=1, kernel=rbf;, score=0.718 total time=   1.2s\n",
      "[CV 1/5] END ......C=100, gamma=0.1, kernel=rbf;, score=0.746 total time=   1.2s\n",
      "[CV 2/5] END ......C=100, gamma=0.1, kernel=rbf;, score=0.732 total time=   1.2s\n",
      "[CV 3/5] END ......C=100, gamma=0.1, kernel=rbf;, score=0.732 total time=   1.2s\n",
      "[CV 4/5] END ......C=100, gamma=0.1, kernel=rbf;, score=0.732 total time=   1.2s\n",
      "[CV 5/5] END ......C=100, gamma=0.1, kernel=rbf;, score=0.704 total time=   1.2s\n",
      "[CV 1/5] END .....C=100, gamma=0.01, kernel=rbf;, score=0.746 total time=   1.2s\n",
      "[CV 2/5] END .....C=100, gamma=0.01, kernel=rbf;, score=0.732 total time=   1.1s\n",
      "[CV 3/5] END .....C=100, gamma=0.01, kernel=rbf;, score=0.732 total time=   1.2s\n",
      "[CV 4/5] END .....C=100, gamma=0.01, kernel=rbf;, score=0.732 total time=   1.2s\n",
      "[CV 5/5] END .....C=100, gamma=0.01, kernel=rbf;, score=0.704 total time=   1.4s\n",
      "[CV 1/5] END ....C=100, gamma=0.001, kernel=rbf;, score=0.746 total time=   1.2s\n",
      "[CV 2/5] END ....C=100, gamma=0.001, kernel=rbf;, score=0.732 total time=   1.1s\n",
      "[CV 3/5] END ....C=100, gamma=0.001, kernel=rbf;, score=0.732 total time=   1.1s\n",
      "[CV 4/5] END ....C=100, gamma=0.001, kernel=rbf;, score=0.732 total time=   1.1s\n",
      "[CV 5/5] END ....C=100, gamma=0.001, kernel=rbf;, score=0.704 total time=   1.1s\n",
      "[CV 1/5] END ...C=100, gamma=0.0001, kernel=rbf;, score=0.746 total time=   1.1s\n",
      "[CV 2/5] END ...C=100, gamma=0.0001, kernel=rbf;, score=0.732 total time=   1.0s\n",
      "[CV 3/5] END ...C=100, gamma=0.0001, kernel=rbf;, score=0.732 total time=   1.0s\n",
      "[CV 4/5] END ...C=100, gamma=0.0001, kernel=rbf;, score=0.732 total time=   1.1s\n",
      "[CV 5/5] END ...C=100, gamma=0.0001, kernel=rbf;, score=0.704 total time=   1.2s\n",
      "[CV 1/5] END .......C=1000, gamma=1, kernel=rbf;, score=0.746 total time=   1.5s\n",
      "[CV 2/5] END .......C=1000, gamma=1, kernel=rbf;, score=0.732 total time=   1.5s\n",
      "[CV 3/5] END .......C=1000, gamma=1, kernel=rbf;, score=0.732 total time=   1.4s\n",
      "[CV 4/5] END .......C=1000, gamma=1, kernel=rbf;, score=0.732 total time=   1.5s\n",
      "[CV 5/5] END .......C=1000, gamma=1, kernel=rbf;, score=0.718 total time=   1.3s\n",
      "[CV 1/5] END .....C=1000, gamma=0.1, kernel=rbf;, score=0.746 total time=   1.4s\n",
      "[CV 2/5] END .....C=1000, gamma=0.1, kernel=rbf;, score=0.732 total time=   1.3s\n",
      "[CV 3/5] END .....C=1000, gamma=0.1, kernel=rbf;, score=0.732 total time=   1.4s\n",
      "[CV 4/5] END .....C=1000, gamma=0.1, kernel=rbf;, score=0.732 total time=   1.3s\n",
      "[CV 5/5] END .....C=1000, gamma=0.1, kernel=rbf;, score=0.704 total time=   1.2s\n",
      "[CV 1/5] END ....C=1000, gamma=0.01, kernel=rbf;, score=0.746 total time=   1.2s\n",
      "[CV 2/5] END ....C=1000, gamma=0.01, kernel=rbf;, score=0.732 total time=   1.2s\n",
      "[CV 3/5] END ....C=1000, gamma=0.01, kernel=rbf;, score=0.732 total time=   1.2s\n",
      "[CV 4/5] END ....C=1000, gamma=0.01, kernel=rbf;, score=0.732 total time=   1.2s\n",
      "[CV 5/5] END ....C=1000, gamma=0.01, kernel=rbf;, score=0.704 total time=   1.2s\n",
      "[CV 1/5] END ...C=1000, gamma=0.001, kernel=rbf;, score=0.746 total time=   1.1s\n",
      "[CV 2/5] END ...C=1000, gamma=0.001, kernel=rbf;, score=0.732 total time=   1.1s\n",
      "[CV 3/5] END ...C=1000, gamma=0.001, kernel=rbf;, score=0.732 total time=   1.2s\n",
      "[CV 4/5] END ...C=1000, gamma=0.001, kernel=rbf;, score=0.732 total time=   1.3s\n",
      "[CV 5/5] END ...C=1000, gamma=0.001, kernel=rbf;, score=0.704 total time=   1.1s\n",
      "[CV 1/5] END ..C=1000, gamma=0.0001, kernel=rbf;, score=0.746 total time=   1.1s\n",
      "[CV 2/5] END ..C=1000, gamma=0.0001, kernel=rbf;, score=0.732 total time=   1.1s\n",
      "[CV 3/5] END ..C=1000, gamma=0.0001, kernel=rbf;, score=0.732 total time=   1.1s\n",
      "[CV 4/5] END ..C=1000, gamma=0.0001, kernel=rbf;, score=0.732 total time=   1.1s\n",
      "[CV 5/5] END ..C=1000, gamma=0.0001, kernel=rbf;, score=0.718 total time=   1.1s\n"
     ]
    },
    {
     "data": {
      "text/plain": [
       "GridSearchCV(estimator=SVC(),\n",
       "             param_grid={'C': [0.1, 1, 10, 100, 1000],\n",
       "                         'gamma': [1, 0.1, 0.01, 0.001, 0.0001],\n",
       "                         'kernel': ['rbf']},\n",
       "             verbose=3)"
      ]
     },
     "execution_count": 50,
     "metadata": {},
     "output_type": "execute_result"
    }
   ],
   "source": [
    "from sklearn.model_selection import GridSearchCV\n",
    " \n",
    "# defining parameter range\n",
    "param_grid = {'C': [0.1, 1, 10, 100, 1000],\n",
    "              'gamma': [1, 0.1, 0.01, 0.001, 0.0001],\n",
    "              'kernel': ['rbf']}\n",
    " \n",
    "grid = GridSearchCV(SVC(), param_grid, refit = True, verbose = 3)\n",
    " \n",
    "# fitting the model for grid search\n",
    "grid.fit(Xc_train, yc_train)"
   ]
  },
  {
   "cell_type": "code",
   "execution_count": 51,
   "metadata": {},
   "outputs": [
    {
     "name": "stdout",
     "output_type": "stream",
     "text": [
      "{'C': 0.1, 'gamma': 1, 'kernel': 'rbf'}\n",
      "SVC(C=0.1, gamma=1)\n"
     ]
    }
   ],
   "source": [
    "# print best parameter after tuning\n",
    "print(grid.best_params_)\n",
    " \n",
    "# print how our model looks after hyper-parameter tuning\n",
    "print(grid.best_estimator_)"
   ]
  },
  {
   "cell_type": "code",
   "execution_count": 52,
   "metadata": {},
   "outputs": [
    {
     "name": "stdout",
     "output_type": "stream",
     "text": [
      "              precision    recall  f1-score   support\n",
      "\n",
      "           I       0.76      1.00      0.86        48\n",
      "          II       0.00      0.00      0.00         5\n",
      "         III       0.00      0.00      0.00         4\n",
      "          IV       0.00      0.00      0.00         5\n",
      "           V       0.00      0.00      0.00         1\n",
      "\n",
      "    accuracy                           0.76        63\n",
      "   macro avg       0.15      0.20      0.17        63\n",
      "weighted avg       0.58      0.76      0.66        63\n",
      "\n"
     ]
    },
    {
     "name": "stderr",
     "output_type": "stream",
     "text": [
      "D:\\anaconda\\lib\\site-packages\\sklearn\\metrics\\_classification.py:1248: UndefinedMetricWarning: Precision and F-score are ill-defined and being set to 0.0 in labels with no predicted samples. Use `zero_division` parameter to control this behavior.\n",
      "  _warn_prf(average, modifier, msg_start, len(result))\n",
      "D:\\anaconda\\lib\\site-packages\\sklearn\\metrics\\_classification.py:1248: UndefinedMetricWarning: Precision and F-score are ill-defined and being set to 0.0 in labels with no predicted samples. Use `zero_division` parameter to control this behavior.\n",
      "  _warn_prf(average, modifier, msg_start, len(result))\n",
      "D:\\anaconda\\lib\\site-packages\\sklearn\\metrics\\_classification.py:1248: UndefinedMetricWarning: Precision and F-score are ill-defined and being set to 0.0 in labels with no predicted samples. Use `zero_division` parameter to control this behavior.\n",
      "  _warn_prf(average, modifier, msg_start, len(result))\n"
     ]
    }
   ],
   "source": [
    "grid_predictions = grid.predict(Xc_test)\n",
    " \n",
    "# print classification report\n",
    "print(classification_report(yc_test, grid_predictions))"
   ]
  },
  {
   "cell_type": "code",
   "execution_count": 53,
   "metadata": {
    "colab": {
     "base_uri": "https://localhost:8080/",
     "height": 217
    },
    "id": "nLfh12yrW5NM",
    "outputId": "f11b26a0-f992-4ba4-9402-7e5e6d59132d"
   },
   "outputs": [],
   "source": [
    "# LinearSVC\n",
    "from sklearn.metrics import accuracy_score\n",
    "from sklearn.metrics import confusion_matrix, classification_report\n",
    "from sklearn.svm import LinearSVC\n",
    "\n",
    "svc = LinearSVC( max_iter=2500)\n",
    "svc.fit(Xc_train, yc_train)\n",
    "yc_pred_SVC = svc.predict(Xc_test)"
   ]
  },
  {
   "cell_type": "code",
   "execution_count": 54,
   "metadata": {
    "colab": {
     "base_uri": "https://localhost:8080/"
    },
    "id": "ToVmEsGUXBpV",
    "outputId": "8add4b2e-5514-42d8-f40a-15c6ca9106ff"
   },
   "outputs": [
    {
     "name": "stdout",
     "output_type": "stream",
     "text": [
      "Train accuracy of the SVC model : 99.44\n",
      "Test accuracy of the SVC model : 76.19\n"
     ]
    }
   ],
   "source": [
    "acc_svc = accuracy_score(yc_test, yc_pred_SVC)\n",
    "acc_svc_tr = svc.score(Xc_train, yc_train)\n",
    "print(\"Train accuracy of the SVC model : {:.2f}\".format(acc_svc_tr*100))\n",
    "print(\"Test accuracy of the SVC model : {:.2f}\".format(acc_svc*100))\n"
   ]
  },
  {
   "cell_type": "code",
   "execution_count": 55,
   "metadata": {
    "colab": {
     "base_uri": "https://localhost:8080/"
    },
    "id": "FrMiCe5sXR0f",
    "outputId": "8c93b11c-128a-426b-8a09-ce70e7ed2b60"
   },
   "outputs": [
    {
     "name": "stdout",
     "output_type": "stream",
     "text": [
      "Classification report:               precision    recall  f1-score   support\n",
      "\n",
      "           I       0.80      0.98      0.88        48\n",
      "          II       0.00      0.00      0.00         5\n",
      "         III       0.50      0.25      0.33         4\n",
      "          IV       0.00      0.00      0.00         5\n",
      "           V       0.00      0.00      0.00         1\n",
      "\n",
      "    accuracy                           0.76        63\n",
      "   macro avg       0.26      0.25      0.24        63\n",
      "weighted avg       0.64      0.76      0.69        63\n",
      "\n"
     ]
    },
    {
     "name": "stderr",
     "output_type": "stream",
     "text": [
      "D:\\anaconda\\lib\\site-packages\\sklearn\\metrics\\_classification.py:1248: UndefinedMetricWarning: Precision and F-score are ill-defined and being set to 0.0 in labels with no predicted samples. Use `zero_division` parameter to control this behavior.\n",
      "  _warn_prf(average, modifier, msg_start, len(result))\n",
      "D:\\anaconda\\lib\\site-packages\\sklearn\\metrics\\_classification.py:1248: UndefinedMetricWarning: Precision and F-score are ill-defined and being set to 0.0 in labels with no predicted samples. Use `zero_division` parameter to control this behavior.\n",
      "  _warn_prf(average, modifier, msg_start, len(result))\n",
      "D:\\anaconda\\lib\\site-packages\\sklearn\\metrics\\_classification.py:1248: UndefinedMetricWarning: Precision and F-score are ill-defined and being set to 0.0 in labels with no predicted samples. Use `zero_division` parameter to control this behavior.\n",
      "  _warn_prf(average, modifier, msg_start, len(result))\n"
     ]
    }
   ],
   "source": [
    "print('Classification report:',classification_report(yc_test, yc_pred_SVC))"
   ]
  },
  {
   "cell_type": "code",
   "execution_count": 56,
   "metadata": {
    "colab": {
     "base_uri": "https://localhost:8080/"
    },
    "id": "DN0SJSJmXdI6",
    "outputId": "27c99685-fa00-40a2-8e68-1c2c314ce4f0"
   },
   "outputs": [
    {
     "name": "stdout",
     "output_type": "stream",
     "text": [
      "Confusion matrix: [[47  1  0  0  0]\n",
      " [ 5  0  0  0  0]\n",
      " [ 3  0  1  0  0]\n",
      " [ 3  1  1  0  0]\n",
      " [ 1  0  0  0  0]]\n"
     ]
    }
   ],
   "source": [
    "print('Confusion matrix:', confusion_matrix(yc_test,yc_pred_SVC))"
   ]
  },
  {
   "cell_type": "code",
   "execution_count": 57,
   "metadata": {
    "colab": {
     "base_uri": "https://localhost:8080/"
    },
    "id": "i0v8MVTcXi8x",
    "outputId": "b8b44196-04f6-4465-d3fd-30a54ff88c5b"
   },
   "outputs": [
    {
     "name": "stdout",
     "output_type": "stream",
     "text": [
      "Train Accuracy of the Random Forest model : 99.44\n",
      "Test Accuracy of the Random Forest model : 76.19\n",
      "Classification report:               precision    recall  f1-score   support\n",
      "\n",
      "           I       0.76      1.00      0.86        48\n",
      "          II       0.00      0.00      0.00         5\n",
      "         III       0.00      0.00      0.00         4\n",
      "          IV       0.00      0.00      0.00         5\n",
      "           V       0.00      0.00      0.00         1\n",
      "\n",
      "    accuracy                           0.76        63\n",
      "   macro avg       0.15      0.20      0.17        63\n",
      "weighted avg       0.58      0.76      0.66        63\n",
      "\n",
      "Confusion matrix: [[48  0  0  0  0]\n",
      " [ 5  0  0  0  0]\n",
      " [ 4  0  0  0  0]\n",
      " [ 5  0  0  0  0]\n",
      " [ 1  0  0  0  0]]\n"
     ]
    },
    {
     "name": "stderr",
     "output_type": "stream",
     "text": [
      "D:\\anaconda\\lib\\site-packages\\sklearn\\metrics\\_classification.py:1248: UndefinedMetricWarning: Precision and F-score are ill-defined and being set to 0.0 in labels with no predicted samples. Use `zero_division` parameter to control this behavior.\n",
      "  _warn_prf(average, modifier, msg_start, len(result))\n",
      "D:\\anaconda\\lib\\site-packages\\sklearn\\metrics\\_classification.py:1248: UndefinedMetricWarning: Precision and F-score are ill-defined and being set to 0.0 in labels with no predicted samples. Use `zero_division` parameter to control this behavior.\n",
      "  _warn_prf(average, modifier, msg_start, len(result))\n",
      "D:\\anaconda\\lib\\site-packages\\sklearn\\metrics\\_classification.py:1248: UndefinedMetricWarning: Precision and F-score are ill-defined and being set to 0.0 in labels with no predicted samples. Use `zero_division` parameter to control this behavior.\n",
      "  _warn_prf(average, modifier, msg_start, len(result))\n"
     ]
    }
   ],
   "source": [
    "#Random forest\n",
    "from sklearn.ensemble import RandomForestClassifier\n",
    "\n",
    "rfc = RandomForestClassifier(random_state=42)\n",
    "rfc.fit(Xc_train, yc_train)\n",
    "yc_pred_rfc = rfc.predict(Xc_test)\n",
    "\n",
    "acc_rfc = accuracy_score(yc_test, yc_pred_rfc)\n",
    "acc_rfc_tr = rfc.score(Xc_train,yc_train)\n",
    "\n",
    "print(\"Train Accuracy of the Random Forest model : {:.2f}\".format(acc_rfc_tr*100))\n",
    "print(\"Test Accuracy of the Random Forest model : {:.2f}\".format(acc_rfc*100))\n",
    "print('Classification report:',classification_report(yc_test, yc_pred_rfc))\n",
    "print('Confusion matrix:', confusion_matrix(yc_test,yc_pred_rfc))"
   ]
  },
  {
   "cell_type": "code",
   "execution_count": 58,
   "metadata": {
    "colab": {
     "base_uri": "https://localhost:8080/"
    },
    "id": "H1fMs96pX2VX",
    "outputId": "9dc9a204-06e3-4516-901d-781a19af0d0e"
   },
   "outputs": [
    {
     "name": "stdout",
     "output_type": "stream",
     "text": [
      " Test accuracy of the Gradient boosting model : 71.43\n",
      "Train accuracy of the Gradient boosting model : 99.44\n",
      "Classification report:               precision    recall  f1-score   support\n",
      "\n",
      "           I       0.79      0.94      0.86        48\n",
      "          II       0.00      0.00      0.00         5\n",
      "         III       0.00      0.00      0.00         4\n",
      "          IV       0.00      0.00      0.00         5\n",
      "           V       0.00      0.00      0.00         1\n",
      "\n",
      "    accuracy                           0.71        63\n",
      "   macro avg       0.16      0.19      0.17        63\n",
      "weighted avg       0.60      0.71      0.65        63\n",
      "\n"
     ]
    }
   ],
   "source": [
    "#Gradient boosting\n",
    "from sklearn.ensemble import GradientBoostingClassifier\n",
    "\n",
    "gbc = GradientBoostingClassifier(n_estimators=100)\n",
    "gbc.fit(Xc_train, yc_train)\n",
    "yc_pred_gb = gbc.predict(Xc_test)\n",
    "acc_gbc = accuracy_score(yc_test, yc_pred_gb)\n",
    "acc_gbc_tr = gbc.score(Xc_train,yc_train)\n",
    "\n",
    "print(\" Test accuracy of the Gradient boosting model : {:.2f}\".format(acc_gbc*100))\n",
    "print(\"Train accuracy of the Gradient boosting model : {:.2f}\".format(acc_gbc_tr*100))\n",
    "print('Classification report:',classification_report(yc_test,yc_pred_gb ))"
   ]
  },
  {
   "cell_type": "code",
   "execution_count": 59,
   "metadata": {
    "colab": {
     "base_uri": "https://localhost:8080/"
    },
    "id": "xj0kKXo_Yd8a",
    "outputId": "7f378447-d0d1-497a-87a5-07ec65b928ff"
   },
   "outputs": [
    {
     "name": "stdout",
     "output_type": "stream",
     "text": [
      "Confusion matrix: [[45  1  0  1  1]\n",
      " [ 5  0  0  0  0]\n",
      " [ 3  0  0  1  0]\n",
      " [ 3  0  2  0  0]\n",
      " [ 1  0  0  0  0]]\n"
     ]
    }
   ],
   "source": [
    "print('Confusion matrix:', confusion_matrix(yc_test,yc_pred_gb))"
   ]
  },
  {
   "cell_type": "code",
   "execution_count": 60,
   "metadata": {
    "colab": {
     "base_uri": "https://localhost:8080/"
    },
    "id": "7tyMyBXtYjfT",
    "outputId": "04dd5503-f20b-4133-fed3-ab09866bb14a"
   },
   "outputs": [
    {
     "name": "stderr",
     "output_type": "stream",
     "text": [
      "D:\\anaconda\\lib\\site-packages\\xgboost\\sklearn.py:1146: UserWarning: The use of label encoder in XGBClassifier is deprecated and will be removed in a future release. To remove this warning, do the following: 1) Pass option use_label_encoder=False when constructing XGBClassifier object; and 2) Encode your labels (y) as integers starting with 0, i.e. 0, 1, 2, ..., [num_class - 1].\n",
      "  warnings.warn(label_encoder_deprecation_msg, UserWarning)\n"
     ]
    },
    {
     "name": "stdout",
     "output_type": "stream",
     "text": [
      "[00:14:21] WARNING: C:/Users/Administrator/workspace/xgboost-win64_release_1.4.0/src/learner.cc:1095: Starting in XGBoost 1.3.0, the default evaluation metric used with the objective 'multi:softprob' was changed from 'merror' to 'mlogloss'. Explicitly set eval_metric if you'd like to restore the old behavior.\n",
      " Test accuracy of the XGBoost model : 66.67\n",
      "Train accuracy of the XGBoost model : 99.44\n",
      "Classification report:               precision    recall  f1-score   support\n",
      "\n",
      "           I       0.75      0.88      0.81        48\n",
      "          II       0.00      0.00      0.00         5\n",
      "         III       0.00      0.00      0.00         4\n",
      "          IV       0.00      0.00      0.00         5\n",
      "           V       0.00      0.00      0.00         1\n",
      "\n",
      "    accuracy                           0.67        63\n",
      "   macro avg       0.15      0.17      0.16        63\n",
      "weighted avg       0.57      0.67      0.62        63\n",
      "\n",
      "Confusion matrix: [[42  3  1  0  2]\n",
      " [ 5  0  0  0  0]\n",
      " [ 4  0  0  0  0]\n",
      " [ 4  0  0  0  1]\n",
      " [ 1  0  0  0  0]]\n"
     ]
    },
    {
     "name": "stderr",
     "output_type": "stream",
     "text": [
      "D:\\anaconda\\lib\\site-packages\\sklearn\\metrics\\_classification.py:1248: UndefinedMetricWarning: Precision and F-score are ill-defined and being set to 0.0 in labels with no predicted samples. Use `zero_division` parameter to control this behavior.\n",
      "  _warn_prf(average, modifier, msg_start, len(result))\n",
      "D:\\anaconda\\lib\\site-packages\\sklearn\\metrics\\_classification.py:1248: UndefinedMetricWarning: Precision and F-score are ill-defined and being set to 0.0 in labels with no predicted samples. Use `zero_division` parameter to control this behavior.\n",
      "  _warn_prf(average, modifier, msg_start, len(result))\n",
      "D:\\anaconda\\lib\\site-packages\\sklearn\\metrics\\_classification.py:1248: UndefinedMetricWarning: Precision and F-score are ill-defined and being set to 0.0 in labels with no predicted samples. Use `zero_division` parameter to control this behavior.\n",
      "  _warn_prf(average, modifier, msg_start, len(result))\n"
     ]
    }
   ],
   "source": [
    "#XGBOOST\n",
    "from xgboost import XGBClassifier\n",
    "\n",
    "xgbc = XGBClassifier()\n",
    "xgbc.fit(Xc_train, yc_train)\n",
    "yc_pred_xg = xgbc.predict(Xc_test)\n",
    "acc_xgbc = accuracy_score(yc_test, yc_pred_xg)\n",
    "acc_xgbc_tr = xgbc.score(Xc_train,yc_train)\n",
    "\n",
    "print(\" Test accuracy of the XGBoost model : {:.2f}\".format(acc_xgbc*100))\n",
    "print(\"Train accuracy of the XGBoost model : {:.2f}\".format(acc_xgbc_tr*100))\n",
    "print('Classification report:',classification_report(yc_test,yc_pred_xg))\n",
    "print('Confusion matrix:', confusion_matrix(yc_test,yc_pred_xg))\n"
   ]
  },
  {
   "cell_type": "code",
   "execution_count": 61,
   "metadata": {
    "colab": {
     "base_uri": "https://localhost:8080/"
    },
    "id": "UqBRezphbvsA",
    "outputId": "3c6d93df-49f9-49c2-961d-131ed0a6395b"
   },
   "outputs": [
    {
     "data": {
      "text/plain": [
       "KNeighborsClassifier(n_neighbors=3)"
      ]
     },
     "execution_count": 61,
     "metadata": {},
     "output_type": "execute_result"
    }
   ],
   "source": [
    "#Kneighbours classifier\n",
    "from sklearn.neighbors import KNeighborsClassifier\n",
    "neigh = KNeighborsClassifier(n_neighbors=3)\n",
    "neigh.fit(Xc_train, yc_train)"
   ]
  },
  {
   "cell_type": "code",
   "execution_count": 62,
   "metadata": {
    "id": "_NYBYeG-b49t"
   },
   "outputs": [],
   "source": [
    "yc_pred_k = neigh.predict(Xc_test)\n",
    "acc_neigh = accuracy_score(yc_test, yc_pred_k)\n",
    "acc_neigh_tr = neigh.score(Xc_train,yc_train)\n"
   ]
  },
  {
   "cell_type": "code",
   "execution_count": 63,
   "metadata": {
    "colab": {
     "base_uri": "https://localhost:8080/"
    },
    "id": "0hRJXc1TcT_i",
    "outputId": "66c78c10-cc21-459f-e235-a9f2daae9d61"
   },
   "outputs": [
    {
     "name": "stdout",
     "output_type": "stream",
     "text": [
      " Test accuracy of the KNeighbours model : 76.19\n",
      "Train accuracy of the Kneighbours model : 74.08\n",
      "Classification report:               precision    recall  f1-score   support\n",
      "\n",
      "           I       0.77      1.00      0.87        48\n",
      "          II       0.00      0.00      0.00         5\n",
      "         III       0.00      0.00      0.00         4\n",
      "          IV       0.00      0.00      0.00         5\n",
      "           V       0.00      0.00      0.00         1\n",
      "\n",
      "    accuracy                           0.76        63\n",
      "   macro avg       0.15      0.20      0.17        63\n",
      "weighted avg       0.59      0.76      0.66        63\n",
      "\n",
      "Confusion matrix: [[48  0  0  0  0]\n",
      " [ 5  0  0  0  0]\n",
      " [ 4  0  0  0  0]\n",
      " [ 4  1  0  0  0]\n",
      " [ 1  0  0  0  0]]\n"
     ]
    },
    {
     "name": "stderr",
     "output_type": "stream",
     "text": [
      "D:\\anaconda\\lib\\site-packages\\sklearn\\metrics\\_classification.py:1248: UndefinedMetricWarning: Precision and F-score are ill-defined and being set to 0.0 in labels with no predicted samples. Use `zero_division` parameter to control this behavior.\n",
      "  _warn_prf(average, modifier, msg_start, len(result))\n",
      "D:\\anaconda\\lib\\site-packages\\sklearn\\metrics\\_classification.py:1248: UndefinedMetricWarning: Precision and F-score are ill-defined and being set to 0.0 in labels with no predicted samples. Use `zero_division` parameter to control this behavior.\n",
      "  _warn_prf(average, modifier, msg_start, len(result))\n",
      "D:\\anaconda\\lib\\site-packages\\sklearn\\metrics\\_classification.py:1248: UndefinedMetricWarning: Precision and F-score are ill-defined and being set to 0.0 in labels with no predicted samples. Use `zero_division` parameter to control this behavior.\n",
      "  _warn_prf(average, modifier, msg_start, len(result))\n"
     ]
    }
   ],
   "source": [
    "print(\" Test accuracy of the KNeighbours model : {:.2f}\".format(acc_neigh*100))\n",
    "print(\"Train accuracy of the Kneighbours model : {:.2f}\".format(acc_neigh_tr*100))\n",
    "print('Classification report:',classification_report(yc_test,yc_pred_k))\n",
    "print('Confusion matrix:', confusion_matrix(yc_test,yc_pred_k))\n"
   ]
  },
  {
   "cell_type": "code",
   "execution_count": 64,
   "metadata": {
    "id": "HIVdxGDxclGo"
   },
   "outputs": [],
   "source": [
    "#naive bayes\n",
    "from sklearn.naive_bayes import GaussianNB\n",
    "g_model1 = GaussianNB()\n",
    "g_model1.fit(Xc_train, yc_train)\n",
    "g_pred1 = g_model1.predict(Xc_test)\n",
    "\n",
    "#print('Accuracy on Training data:',g_model1.score(Xc_train, yc_train) ) #accuracy of training data\n",
    "#print('Accuracy on Test data:',g_model1.score(Xc_test, yc_test) ) #accuracy data of testing data"
   ]
  },
  {
   "cell_type": "code",
   "execution_count": 65,
   "metadata": {
    "colab": {
     "base_uri": "https://localhost:8080/"
    },
    "id": "ZsrQ_r4FfJfX",
    "outputId": "5d0797db-775a-4a4a-ddbd-b8d5febc624c"
   },
   "outputs": [
    {
     "name": "stdout",
     "output_type": "stream",
     "text": [
      "Accuracy on Training data: 0.9943661971830986\n",
      "Accuracy on Test data: 0.746031746031746\n"
     ]
    }
   ],
   "source": [
    "print('Accuracy on Training data:',g_model1.score(Xc_train, yc_train) ) #accuracy of training data\n",
    "print('Accuracy on Test data:',g_model1.score(Xc_test, yc_test) ) #accuracy data of testing data"
   ]
  },
  {
   "cell_type": "code",
   "execution_count": 66,
   "metadata": {
    "colab": {
     "base_uri": "https://localhost:8080/"
    },
    "id": "rs39NO4mfMGL",
    "outputId": "1490afce-f3a0-4ff2-ae8c-de710be4d4f4"
   },
   "outputs": [
    {
     "name": "stdout",
     "output_type": "stream",
     "text": [
      "Classification report:               precision    recall  f1-score   support\n",
      "\n",
      "           I       0.76      0.98      0.85        48\n",
      "          II       0.00      0.00      0.00         5\n",
      "         III       0.00      0.00      0.00         4\n",
      "          IV       0.00      0.00      0.00         5\n",
      "           V       0.00      0.00      0.00         1\n",
      "\n",
      "    accuracy                           0.75        63\n",
      "   macro avg       0.15      0.20      0.17        63\n",
      "weighted avg       0.58      0.75      0.65        63\n",
      "\n",
      "Confusion matrix: [[47  0  0  1  0]\n",
      " [ 5  0  0  0  0]\n",
      " [ 4  0  0  0  0]\n",
      " [ 5  0  0  0  0]\n",
      " [ 1  0  0  0  0]]\n"
     ]
    },
    {
     "name": "stderr",
     "output_type": "stream",
     "text": [
      "D:\\anaconda\\lib\\site-packages\\sklearn\\metrics\\_classification.py:1248: UndefinedMetricWarning: Precision and F-score are ill-defined and being set to 0.0 in labels with no predicted samples. Use `zero_division` parameter to control this behavior.\n",
      "  _warn_prf(average, modifier, msg_start, len(result))\n",
      "D:\\anaconda\\lib\\site-packages\\sklearn\\metrics\\_classification.py:1248: UndefinedMetricWarning: Precision and F-score are ill-defined and being set to 0.0 in labels with no predicted samples. Use `zero_division` parameter to control this behavior.\n",
      "  _warn_prf(average, modifier, msg_start, len(result))\n",
      "D:\\anaconda\\lib\\site-packages\\sklearn\\metrics\\_classification.py:1248: UndefinedMetricWarning: Precision and F-score are ill-defined and being set to 0.0 in labels with no predicted samples. Use `zero_division` parameter to control this behavior.\n",
      "  _warn_prf(average, modifier, msg_start, len(result))\n"
     ]
    }
   ],
   "source": [
    "print('Classification report:',classification_report(yc_test,g_pred1))\n",
    "print('Confusion matrix:', confusion_matrix(yc_test,g_pred1))"
   ]
  },
  {
   "cell_type": "code",
   "execution_count": 67,
   "metadata": {
    "id": "QuIjL8dy0jlD"
   },
   "outputs": [],
   "source": [
    "#Bagging"
   ]
  },
  {
   "cell_type": "code",
   "execution_count": 69,
   "metadata": {
    "colab": {
     "base_uri": "https://localhost:8080/"
    },
    "id": "J9oDdfelh9Ay",
    "outputId": "eb754ade-5de5-471d-9fa2-e80e8d6e3b5b"
   },
   "outputs": [
    {
     "data": {
      "text/plain": [
       "GridSearchCV(cv=StratifiedShuffleSplit(n_splits=10, random_state=15, test_size=0.3,\n",
       "            train_size=None),\n",
       "             estimator=BaggingClassifier(), n_jobs=-1,\n",
       "             param_grid={'n_estimators': [10, 30, 50, 70, 80, 150, 160, 170,\n",
       "                                          175, 180, 185]})"
      ]
     },
     "execution_count": 69,
     "metadata": {},
     "output_type": "execute_result"
    }
   ],
   "source": [
    "from sklearn.ensemble import BaggingClassifier\n",
    "from sklearn.model_selection import GridSearchCV, StratifiedShuffleSplit\n",
    "n_estimators = [10,30,50,70,80,150,160, 170,175,180,185];\n",
    "cv = StratifiedShuffleSplit(n_splits=10, test_size=.30, random_state=15)\n",
    "\n",
    "parameters_b = {'n_estimators':n_estimators,\n",
    "              \n",
    "        }\n",
    "grid_b = GridSearchCV(BaggingClassifier(base_estimator= None, ## If None, then the base estimator is a decision tree.\n",
    "                                      bootstrap_features=False),\n",
    "                                 param_grid=parameters_b,\n",
    "                                 cv=cv,\n",
    "                                 n_jobs = -1)\n",
    "grid_b.fit(Xc_train, yc_train) "
   ]
  },
  {
   "cell_type": "code",
   "execution_count": 70,
   "metadata": {
    "colab": {
     "base_uri": "https://localhost:8080/"
    },
    "id": "LPpdB0h5tY1n",
    "outputId": "d98cf0ae-80b3-4104-f2d6-6bd73b37bf0b"
   },
   "outputs": [
    {
     "name": "stdout",
     "output_type": "stream",
     "text": [
      " Test accuracy of the Bagging model : 76.19\n",
      "Train accuracy of the Bagging model : 99.44\n",
      "Classification report:               precision    recall  f1-score   support\n",
      "\n",
      "           I       0.77      1.00      0.87        48\n",
      "          II       0.00      0.00      0.00         5\n",
      "         III       0.00      0.00      0.00         4\n",
      "          IV       0.00      0.00      0.00         5\n",
      "           V       0.00      0.00      0.00         1\n",
      "\n",
      "    accuracy                           0.76        63\n",
      "   macro avg       0.15      0.20      0.17        63\n",
      "weighted avg       0.59      0.76      0.66        63\n",
      "\n",
      "Confusion matrix: [[48  0  0  0  0]\n",
      " [ 5  0  0  0  0]\n",
      " [ 4  0  0  0  0]\n",
      " [ 4  0  1  0  0]\n",
      " [ 1  0  0  0  0]]\n"
     ]
    },
    {
     "name": "stderr",
     "output_type": "stream",
     "text": [
      "D:\\anaconda\\lib\\site-packages\\sklearn\\metrics\\_classification.py:1248: UndefinedMetricWarning: Precision and F-score are ill-defined and being set to 0.0 in labels with no predicted samples. Use `zero_division` parameter to control this behavior.\n",
      "  _warn_prf(average, modifier, msg_start, len(result))\n",
      "D:\\anaconda\\lib\\site-packages\\sklearn\\metrics\\_classification.py:1248: UndefinedMetricWarning: Precision and F-score are ill-defined and being set to 0.0 in labels with no predicted samples. Use `zero_division` parameter to control this behavior.\n",
      "  _warn_prf(average, modifier, msg_start, len(result))\n",
      "D:\\anaconda\\lib\\site-packages\\sklearn\\metrics\\_classification.py:1248: UndefinedMetricWarning: Precision and F-score are ill-defined and being set to 0.0 in labels with no predicted samples. Use `zero_division` parameter to control this behavior.\n",
      "  _warn_prf(average, modifier, msg_start, len(result))\n"
     ]
    }
   ],
   "source": [
    "yc_pred_b = grid_b.predict(Xc_test)\n",
    "acc_b = accuracy_score(yc_test, yc_pred_b)\n",
    "acc_b_tr = grid_b.score(Xc_train,yc_train)\n",
    "\n",
    "print(\" Test accuracy of the Bagging model : {:.2f}\".format(acc_b*100))\n",
    "print(\"Train accuracy of the Bagging model : {:.2f}\".format(acc_b_tr*100))\n",
    "print('Classification report:',classification_report(yc_test,yc_pred_b))\n",
    "print('Confusion matrix:', confusion_matrix(yc_test,yc_pred_b))"
   ]
  },
  {
   "cell_type": "code",
   "execution_count": 71,
   "metadata": {
    "id": "lXyi-P-h0mb0"
   },
   "outputs": [],
   "source": [
    "#ADABOOST"
   ]
  },
  {
   "cell_type": "code",
   "execution_count": 72,
   "metadata": {
    "colab": {
     "base_uri": "https://localhost:8080/"
    },
    "id": "H4ukp61fuIT5",
    "outputId": "b9296d58-b97c-45a6-df94-56f0420d9b88"
   },
   "outputs": [
    {
     "data": {
      "text/plain": [
       "AdaBoostClassifier(n_estimators=100, random_state=0)"
      ]
     },
     "execution_count": 72,
     "metadata": {},
     "output_type": "execute_result"
    }
   ],
   "source": [
    "from sklearn.ensemble import AdaBoostClassifier\n",
    "clf_ada = AdaBoostClassifier(n_estimators=100, random_state=0)\n",
    "clf_ada.fit(Xc_train, yc_train)"
   ]
  },
  {
   "cell_type": "code",
   "execution_count": 73,
   "metadata": {
    "colab": {
     "base_uri": "https://localhost:8080/"
    },
    "id": "pn8TuFBburlT",
    "outputId": "13247332-dec5-4a1f-de33-8cac0d8e6f8f"
   },
   "outputs": [
    {
     "name": "stdout",
     "output_type": "stream",
     "text": [
      " Test accuracy of the ADA model : 73.02\n",
      "Train accuracy of the ADA model : 75.77\n",
      "Classification report:               precision    recall  f1-score   support\n",
      "\n",
      "           I       0.75      0.96      0.84        48\n",
      "          II       0.00      0.00      0.00         5\n",
      "         III       0.00      0.00      0.00         4\n",
      "          IV       0.00      0.00      0.00         5\n",
      "           V       0.00      0.00      0.00         1\n",
      "\n",
      "    accuracy                           0.73        63\n",
      "   macro avg       0.15      0.19      0.17        63\n",
      "weighted avg       0.57      0.73      0.64        63\n",
      "\n",
      "Confusion matrix: [[46  1  0  1  0]\n",
      " [ 5  0  0  0  0]\n",
      " [ 4  0  0  0  0]\n",
      " [ 5  0  0  0  0]\n",
      " [ 1  0  0  0  0]]\n"
     ]
    },
    {
     "name": "stderr",
     "output_type": "stream",
     "text": [
      "D:\\anaconda\\lib\\site-packages\\sklearn\\metrics\\_classification.py:1248: UndefinedMetricWarning: Precision and F-score are ill-defined and being set to 0.0 in labels with no predicted samples. Use `zero_division` parameter to control this behavior.\n",
      "  _warn_prf(average, modifier, msg_start, len(result))\n",
      "D:\\anaconda\\lib\\site-packages\\sklearn\\metrics\\_classification.py:1248: UndefinedMetricWarning: Precision and F-score are ill-defined and being set to 0.0 in labels with no predicted samples. Use `zero_division` parameter to control this behavior.\n",
      "  _warn_prf(average, modifier, msg_start, len(result))\n",
      "D:\\anaconda\\lib\\site-packages\\sklearn\\metrics\\_classification.py:1248: UndefinedMetricWarning: Precision and F-score are ill-defined and being set to 0.0 in labels with no predicted samples. Use `zero_division` parameter to control this behavior.\n",
      "  _warn_prf(average, modifier, msg_start, len(result))\n"
     ]
    }
   ],
   "source": [
    "yc_pred_ada = clf_ada.predict(Xc_test)\n",
    "acc_ada = accuracy_score(yc_test, yc_pred_ada)\n",
    "acc_ada_tr = clf_ada.score(Xc_train,yc_train)\n",
    "\n",
    "print(\" Test accuracy of the ADA model : {:.2f}\".format(acc_ada*100))\n",
    "print(\"Train accuracy of the ADA model : {:.2f}\".format(acc_ada_tr*100))\n",
    "print('Classification report:',classification_report(yc_test,yc_pred_ada))\n",
    "print('Confusion matrix:', confusion_matrix(yc_test,yc_pred_ada))"
   ]
  },
  {
   "cell_type": "code",
   "execution_count": 74,
   "metadata": {
    "id": "8lkEqp7uu_jq"
   },
   "outputs": [],
   "source": [
    "#Target variable- potential accident level\n"
   ]
  },
  {
   "cell_type": "code",
   "execution_count": 75,
   "metadata": {
    "id": "OEgIL_GiojRN"
   },
   "outputs": [],
   "source": [
    "\n",
    "from sklearn.model_selection import train_test_split\n",
    "from sklearn.feature_extraction.text import CountVectorizer\n",
    "\n",
    "X1 = data1['description_processed']\n",
    "yp = data1['Potential Accident Level']\n",
    "\n",
    "cnt_vecp = CountVectorizer(analyzer='word', ngram_range=(1, 2))\n",
    "Xp = cnt_vecp.fit_transform(X1).toarray()\n",
    "Xp_train, Xp_test, yp_train, yp_test = train_test_split(Xp, yp, test_size=0.15, random_state=42)"
   ]
  },
  {
   "cell_type": "code",
   "execution_count": 76,
   "metadata": {
    "colab": {
     "base_uri": "https://localhost:8080/"
    },
    "id": "xvteLVnrp8nY",
    "outputId": "984661c5-2d71-491b-c8d5-2165d6c57578"
   },
   "outputs": [
    {
     "data": {
      "text/plain": [
       "(355, 13242)"
      ]
     },
     "execution_count": 76,
     "metadata": {},
     "output_type": "execute_result"
    }
   ],
   "source": [
    "#Shape of training data\n",
    "Xp_train.shape"
   ]
  },
  {
   "cell_type": "code",
   "execution_count": 77,
   "metadata": {
    "colab": {
     "base_uri": "https://localhost:8080/"
    },
    "id": "LxvJYojgqKAu",
    "outputId": "07870b4d-6a5f-4eaf-c894-c6c3e98b4890"
   },
   "outputs": [
    {
     "data": {
      "text/plain": [
       "(63, 13242)"
      ]
     },
     "execution_count": 77,
     "metadata": {},
     "output_type": "execute_result"
    }
   ],
   "source": [
    "#Shape of testing data\n",
    "Xp_test.shape"
   ]
  },
  {
   "cell_type": "code",
   "execution_count": 78,
   "metadata": {
    "id": "ahzuwRV6fmNh"
   },
   "outputs": [
    {
     "name": "stdout",
     "output_type": "stream",
     "text": [
      "              precision    recall  f1-score   support\n",
      "\n",
      "           I       1.00      0.14      0.25         7\n",
      "          II       0.60      0.27      0.37        11\n",
      "         III       0.40      0.42      0.41        19\n",
      "          IV       0.43      0.70      0.53        23\n",
      "           V       0.00      0.00      0.00         3\n",
      "\n",
      "    accuracy                           0.44        63\n",
      "   macro avg       0.49      0.31      0.31        63\n",
      "weighted avg       0.49      0.44      0.41        63\n",
      "\n"
     ]
    },
    {
     "name": "stderr",
     "output_type": "stream",
     "text": [
      "D:\\anaconda\\lib\\site-packages\\sklearn\\metrics\\_classification.py:1248: UndefinedMetricWarning: Precision and F-score are ill-defined and being set to 0.0 in labels with no predicted samples. Use `zero_division` parameter to control this behavior.\n",
      "  _warn_prf(average, modifier, msg_start, len(result))\n",
      "D:\\anaconda\\lib\\site-packages\\sklearn\\metrics\\_classification.py:1248: UndefinedMetricWarning: Precision and F-score are ill-defined and being set to 0.0 in labels with no predicted samples. Use `zero_division` parameter to control this behavior.\n",
      "  _warn_prf(average, modifier, msg_start, len(result))\n",
      "D:\\anaconda\\lib\\site-packages\\sklearn\\metrics\\_classification.py:1248: UndefinedMetricWarning: Precision and F-score are ill-defined and being set to 0.0 in labels with no predicted samples. Use `zero_division` parameter to control this behavior.\n",
      "  _warn_prf(average, modifier, msg_start, len(result))\n"
     ]
    }
   ],
   "source": [
    "#SVC\n",
    "from sklearn.svm import SVC\n",
    "model_p1 = SVC()\n",
    "model_p1.fit(Xp_train, yp_train)\n",
    " \n",
    "# print prediction results\n",
    "predictions_p = model_p1.predict(Xp_test)\n",
    "print(classification_report(yp_test, predictions_p))"
   ]
  },
  {
   "cell_type": "code",
   "execution_count": 79,
   "metadata": {},
   "outputs": [
    {
     "name": "stdout",
     "output_type": "stream",
     "text": [
      "Train accuracy of the SVC model : 91.83\n",
      "Test accuracy of the SVC model : 44.44\n"
     ]
    }
   ],
   "source": [
    "acc_p1 = accuracy_score(yp_test, predictions_p)\n",
    "acc_svc_tp1 = model_p1.score(Xp_train, yp_train)\n",
    "print(\"Train accuracy of the SVC model : {:.2f}\".format(acc_svc_tp1*100))\n",
    "print(\"Test accuracy of the SVC model : {:.2f}\".format(acc_p1*100))\n"
   ]
  },
  {
   "cell_type": "code",
   "execution_count": 81,
   "metadata": {},
   "outputs": [
    {
     "name": "stdout",
     "output_type": "stream",
     "text": [
      "Fitting 5 folds for each of 25 candidates, totalling 125 fits\n"
     ]
    },
    {
     "name": "stderr",
     "output_type": "stream",
     "text": [
      "D:\\anaconda\\lib\\site-packages\\sklearn\\model_selection\\_split.py:666: UserWarning: The least populated class in y has only 1 members, which is less than n_splits=5.\n",
      "  warnings.warn((\"The least populated class in y has only %d\"\n"
     ]
    },
    {
     "name": "stdout",
     "output_type": "stream",
     "text": [
      "[CV 1/5] END ........C=0.1, gamma=1, kernel=rbf;, score=0.338 total time=   0.8s\n",
      "[CV 2/5] END ........C=0.1, gamma=1, kernel=rbf;, score=0.338 total time=   0.8s\n",
      "[CV 3/5] END ........C=0.1, gamma=1, kernel=rbf;, score=0.338 total time=   0.7s\n",
      "[CV 4/5] END ........C=0.1, gamma=1, kernel=rbf;, score=0.324 total time=   0.9s\n",
      "[CV 5/5] END ........C=0.1, gamma=1, kernel=rbf;, score=0.324 total time=   0.7s\n",
      "[CV 1/5] END ......C=0.1, gamma=0.1, kernel=rbf;, score=0.338 total time=   0.9s\n",
      "[CV 2/5] END ......C=0.1, gamma=0.1, kernel=rbf;, score=0.338 total time=   0.8s\n",
      "[CV 3/5] END ......C=0.1, gamma=0.1, kernel=rbf;, score=0.338 total time=   0.9s\n",
      "[CV 4/5] END ......C=0.1, gamma=0.1, kernel=rbf;, score=0.324 total time=   0.9s\n",
      "[CV 5/5] END ......C=0.1, gamma=0.1, kernel=rbf;, score=0.324 total time=   1.0s\n",
      "[CV 1/5] END .....C=0.1, gamma=0.01, kernel=rbf;, score=0.338 total time=   1.1s\n",
      "[CV 2/5] END .....C=0.1, gamma=0.01, kernel=rbf;, score=0.338 total time=   1.0s\n",
      "[CV 3/5] END .....C=0.1, gamma=0.01, kernel=rbf;, score=0.338 total time=   0.8s\n",
      "[CV 4/5] END .....C=0.1, gamma=0.01, kernel=rbf;, score=0.324 total time=   0.9s\n",
      "[CV 5/5] END .....C=0.1, gamma=0.01, kernel=rbf;, score=0.324 total time=   0.9s\n",
      "[CV 1/5] END ....C=0.1, gamma=0.001, kernel=rbf;, score=0.338 total time=   0.8s\n",
      "[CV 2/5] END ....C=0.1, gamma=0.001, kernel=rbf;, score=0.338 total time=   0.9s\n",
      "[CV 3/5] END ....C=0.1, gamma=0.001, kernel=rbf;, score=0.338 total time=   0.9s\n",
      "[CV 4/5] END ....C=0.1, gamma=0.001, kernel=rbf;, score=0.324 total time=   0.9s\n",
      "[CV 5/5] END ....C=0.1, gamma=0.001, kernel=rbf;, score=0.324 total time=   0.9s\n",
      "[CV 1/5] END ...C=0.1, gamma=0.0001, kernel=rbf;, score=0.338 total time=   0.8s\n",
      "[CV 2/5] END ...C=0.1, gamma=0.0001, kernel=rbf;, score=0.338 total time=   0.8s\n",
      "[CV 3/5] END ...C=0.1, gamma=0.0001, kernel=rbf;, score=0.338 total time=   0.8s\n",
      "[CV 4/5] END ...C=0.1, gamma=0.0001, kernel=rbf;, score=0.324 total time=   0.9s\n",
      "[CV 5/5] END ...C=0.1, gamma=0.0001, kernel=rbf;, score=0.324 total time=   0.9s\n",
      "[CV 1/5] END ..........C=1, gamma=1, kernel=rbf;, score=0.338 total time=   1.0s\n",
      "[CV 2/5] END ..........C=1, gamma=1, kernel=rbf;, score=0.352 total time=   1.0s\n",
      "[CV 3/5] END ..........C=1, gamma=1, kernel=rbf;, score=0.366 total time=   0.9s\n",
      "[CV 4/5] END ..........C=1, gamma=1, kernel=rbf;, score=0.324 total time=   1.0s\n",
      "[CV 5/5] END ..........C=1, gamma=1, kernel=rbf;, score=0.324 total time=   0.8s\n",
      "[CV 1/5] END ........C=1, gamma=0.1, kernel=rbf;, score=0.338 total time=   0.9s\n",
      "[CV 2/5] END ........C=1, gamma=0.1, kernel=rbf;, score=0.352 total time=   1.1s\n",
      "[CV 3/5] END ........C=1, gamma=0.1, kernel=rbf;, score=0.366 total time=   1.1s\n",
      "[CV 4/5] END ........C=1, gamma=0.1, kernel=rbf;, score=0.324 total time=   1.0s\n",
      "[CV 5/5] END ........C=1, gamma=0.1, kernel=rbf;, score=0.324 total time=   1.0s\n",
      "[CV 1/5] END .......C=1, gamma=0.01, kernel=rbf;, score=0.338 total time=   1.0s\n",
      "[CV 2/5] END .......C=1, gamma=0.01, kernel=rbf;, score=0.380 total time=   0.9s\n",
      "[CV 3/5] END .......C=1, gamma=0.01, kernel=rbf;, score=0.352 total time=   1.0s\n",
      "[CV 4/5] END .......C=1, gamma=0.01, kernel=rbf;, score=0.366 total time=   1.1s\n",
      "[CV 5/5] END .......C=1, gamma=0.01, kernel=rbf;, score=0.366 total time=   1.0s\n",
      "[CV 1/5] END ......C=1, gamma=0.001, kernel=rbf;, score=0.338 total time=   0.9s\n",
      "[CV 2/5] END ......C=1, gamma=0.001, kernel=rbf;, score=0.338 total time=   1.1s\n",
      "[CV 3/5] END ......C=1, gamma=0.001, kernel=rbf;, score=0.338 total time=   1.2s\n",
      "[CV 4/5] END ......C=1, gamma=0.001, kernel=rbf;, score=0.324 total time=   1.0s\n",
      "[CV 5/5] END ......C=1, gamma=0.001, kernel=rbf;, score=0.324 total time=   0.9s\n",
      "[CV 1/5] END .....C=1, gamma=0.0001, kernel=rbf;, score=0.338 total time=   0.9s\n",
      "[CV 2/5] END .....C=1, gamma=0.0001, kernel=rbf;, score=0.338 total time=   1.0s\n",
      "[CV 3/5] END .....C=1, gamma=0.0001, kernel=rbf;, score=0.338 total time=   1.0s\n",
      "[CV 4/5] END .....C=1, gamma=0.0001, kernel=rbf;, score=0.324 total time=   1.0s\n",
      "[CV 5/5] END .....C=1, gamma=0.0001, kernel=rbf;, score=0.324 total time=   0.9s\n",
      "[CV 1/5] END .........C=10, gamma=1, kernel=rbf;, score=0.338 total time=   1.4s\n",
      "[CV 2/5] END .........C=10, gamma=1, kernel=rbf;, score=0.352 total time=   1.2s\n",
      "[CV 3/5] END .........C=10, gamma=1, kernel=rbf;, score=0.366 total time=   1.1s\n",
      "[CV 4/5] END .........C=10, gamma=1, kernel=rbf;, score=0.324 total time=   1.1s\n",
      "[CV 5/5] END .........C=10, gamma=1, kernel=rbf;, score=0.324 total time=   0.9s\n",
      "[CV 1/5] END .......C=10, gamma=0.1, kernel=rbf;, score=0.338 total time=   1.0s\n",
      "[CV 2/5] END .......C=10, gamma=0.1, kernel=rbf;, score=0.352 total time=   1.0s\n",
      "[CV 3/5] END .......C=10, gamma=0.1, kernel=rbf;, score=0.380 total time=   1.0s\n",
      "[CV 4/5] END .......C=10, gamma=0.1, kernel=rbf;, score=0.352 total time=   1.1s\n",
      "[CV 5/5] END .......C=10, gamma=0.1, kernel=rbf;, score=0.338 total time=   1.1s\n",
      "[CV 1/5] END ......C=10, gamma=0.01, kernel=rbf;, score=0.380 total time=   1.1s\n",
      "[CV 2/5] END ......C=10, gamma=0.01, kernel=rbf;, score=0.465 total time=   1.0s\n",
      "[CV 3/5] END ......C=10, gamma=0.01, kernel=rbf;, score=0.380 total time=   0.9s\n",
      "[CV 4/5] END ......C=10, gamma=0.01, kernel=rbf;, score=0.366 total time=   1.1s\n",
      "[CV 5/5] END ......C=10, gamma=0.01, kernel=rbf;, score=0.408 total time=   1.1s\n",
      "[CV 1/5] END .....C=10, gamma=0.001, kernel=rbf;, score=0.479 total time=   1.1s\n",
      "[CV 2/5] END .....C=10, gamma=0.001, kernel=rbf;, score=0.408 total time=   1.0s\n",
      "[CV 3/5] END .....C=10, gamma=0.001, kernel=rbf;, score=0.408 total time=   1.0s\n",
      "[CV 4/5] END .....C=10, gamma=0.001, kernel=rbf;, score=0.324 total time=   1.0s\n",
      "[CV 5/5] END .....C=10, gamma=0.001, kernel=rbf;, score=0.465 total time=   1.3s\n",
      "[CV 1/5] END ....C=10, gamma=0.0001, kernel=rbf;, score=0.338 total time=   1.3s\n",
      "[CV 2/5] END ....C=10, gamma=0.0001, kernel=rbf;, score=0.338 total time=   1.3s\n",
      "[CV 3/5] END ....C=10, gamma=0.0001, kernel=rbf;, score=0.338 total time=   1.0s\n",
      "[CV 4/5] END ....C=10, gamma=0.0001, kernel=rbf;, score=0.324 total time=   1.1s\n",
      "[CV 5/5] END ....C=10, gamma=0.0001, kernel=rbf;, score=0.324 total time=   1.1s\n",
      "[CV 1/5] END ........C=100, gamma=1, kernel=rbf;, score=0.338 total time=   1.1s\n",
      "[CV 2/5] END ........C=100, gamma=1, kernel=rbf;, score=0.352 total time=   1.0s\n",
      "[CV 3/5] END ........C=100, gamma=1, kernel=rbf;, score=0.366 total time=   1.1s\n",
      "[CV 4/5] END ........C=100, gamma=1, kernel=rbf;, score=0.324 total time=   1.0s\n",
      "[CV 5/5] END ........C=100, gamma=1, kernel=rbf;, score=0.324 total time=   1.0s\n",
      "[CV 1/5] END ......C=100, gamma=0.1, kernel=rbf;, score=0.338 total time=   1.1s\n",
      "[CV 2/5] END ......C=100, gamma=0.1, kernel=rbf;, score=0.352 total time=   1.2s\n",
      "[CV 3/5] END ......C=100, gamma=0.1, kernel=rbf;, score=0.380 total time=   1.1s\n",
      "[CV 4/5] END ......C=100, gamma=0.1, kernel=rbf;, score=0.352 total time=   1.2s\n",
      "[CV 5/5] END ......C=100, gamma=0.1, kernel=rbf;, score=0.338 total time=   1.0s\n",
      "[CV 1/5] END .....C=100, gamma=0.01, kernel=rbf;, score=0.380 total time=   1.1s\n",
      "[CV 2/5] END .....C=100, gamma=0.01, kernel=rbf;, score=0.465 total time=   1.2s\n",
      "[CV 3/5] END .....C=100, gamma=0.01, kernel=rbf;, score=0.380 total time=   1.1s\n",
      "[CV 4/5] END .....C=100, gamma=0.01, kernel=rbf;, score=0.366 total time=   1.1s\n",
      "[CV 5/5] END .....C=100, gamma=0.01, kernel=rbf;, score=0.408 total time=   1.1s\n",
      "[CV 1/5] END ....C=100, gamma=0.001, kernel=rbf;, score=0.451 total time=   1.0s\n",
      "[CV 2/5] END ....C=100, gamma=0.001, kernel=rbf;, score=0.437 total time=   1.0s\n",
      "[CV 3/5] END ....C=100, gamma=0.001, kernel=rbf;, score=0.451 total time=   0.9s\n",
      "[CV 4/5] END ....C=100, gamma=0.001, kernel=rbf;, score=0.338 total time=   0.9s\n",
      "[CV 5/5] END ....C=100, gamma=0.001, kernel=rbf;, score=0.451 total time=   0.9s\n",
      "[CV 1/5] END ...C=100, gamma=0.0001, kernel=rbf;, score=0.451 total time=   0.9s\n",
      "[CV 2/5] END ...C=100, gamma=0.0001, kernel=rbf;, score=0.423 total time=   1.0s\n",
      "[CV 3/5] END ...C=100, gamma=0.0001, kernel=rbf;, score=0.423 total time=   1.1s\n",
      "[CV 4/5] END ...C=100, gamma=0.0001, kernel=rbf;, score=0.324 total time=   1.0s\n",
      "[CV 5/5] END ...C=100, gamma=0.0001, kernel=rbf;, score=0.437 total time=   1.0s\n",
      "[CV 1/5] END .......C=1000, gamma=1, kernel=rbf;, score=0.338 total time=   1.0s\n",
      "[CV 2/5] END .......C=1000, gamma=1, kernel=rbf;, score=0.352 total time=   1.0s\n",
      "[CV 3/5] END .......C=1000, gamma=1, kernel=rbf;, score=0.366 total time=   1.1s\n",
      "[CV 4/5] END .......C=1000, gamma=1, kernel=rbf;, score=0.324 total time=   1.0s\n",
      "[CV 5/5] END .......C=1000, gamma=1, kernel=rbf;, score=0.324 total time=   1.0s\n",
      "[CV 1/5] END .....C=1000, gamma=0.1, kernel=rbf;, score=0.338 total time=   1.1s\n",
      "[CV 2/5] END .....C=1000, gamma=0.1, kernel=rbf;, score=0.352 total time=   1.2s\n",
      "[CV 3/5] END .....C=1000, gamma=0.1, kernel=rbf;, score=0.380 total time=   1.1s\n",
      "[CV 4/5] END .....C=1000, gamma=0.1, kernel=rbf;, score=0.352 total time=   1.0s\n",
      "[CV 5/5] END .....C=1000, gamma=0.1, kernel=rbf;, score=0.338 total time=   1.1s\n",
      "[CV 1/5] END ....C=1000, gamma=0.01, kernel=rbf;, score=0.380 total time=   1.4s\n",
      "[CV 2/5] END ....C=1000, gamma=0.01, kernel=rbf;, score=0.465 total time=   1.2s\n",
      "[CV 3/5] END ....C=1000, gamma=0.01, kernel=rbf;, score=0.380 total time=   1.1s\n",
      "[CV 4/5] END ....C=1000, gamma=0.01, kernel=rbf;, score=0.366 total time=   1.1s\n",
      "[CV 5/5] END ....C=1000, gamma=0.01, kernel=rbf;, score=0.408 total time=   1.0s\n",
      "[CV 1/5] END ...C=1000, gamma=0.001, kernel=rbf;, score=0.451 total time=   1.0s\n",
      "[CV 2/5] END ...C=1000, gamma=0.001, kernel=rbf;, score=0.437 total time=   1.0s\n",
      "[CV 3/5] END ...C=1000, gamma=0.001, kernel=rbf;, score=0.451 total time=   1.5s\n",
      "[CV 4/5] END ...C=1000, gamma=0.001, kernel=rbf;, score=0.338 total time=   1.4s\n",
      "[CV 5/5] END ...C=1000, gamma=0.001, kernel=rbf;, score=0.451 total time=   1.3s\n",
      "[CV 1/5] END ..C=1000, gamma=0.0001, kernel=rbf;, score=0.423 total time=   1.3s\n",
      "[CV 2/5] END ..C=1000, gamma=0.0001, kernel=rbf;, score=0.423 total time=   1.0s\n",
      "[CV 3/5] END ..C=1000, gamma=0.0001, kernel=rbf;, score=0.479 total time=   1.0s\n",
      "[CV 4/5] END ..C=1000, gamma=0.0001, kernel=rbf;, score=0.338 total time=   1.0s\n",
      "[CV 5/5] END ..C=1000, gamma=0.0001, kernel=rbf;, score=0.451 total time=   1.0s\n"
     ]
    },
    {
     "data": {
      "text/plain": [
       "GridSearchCV(estimator=SVC(),\n",
       "             param_grid={'C': [0.1, 1, 10, 100, 1000],\n",
       "                         'gamma': [1, 0.1, 0.01, 0.001, 0.0001],\n",
       "                         'kernel': ['rbf']},\n",
       "             verbose=3)"
      ]
     },
     "execution_count": 81,
     "metadata": {},
     "output_type": "execute_result"
    }
   ],
   "source": [
    "#Tuning\n",
    "from sklearn.model_selection import GridSearchCV\n",
    " \n",
    "# defining parameter range\n",
    "param_grid_p = {'C': [0.1, 1, 10, 100, 1000],\n",
    "              'gamma': [1, 0.1, 0.01, 0.001, 0.0001],\n",
    "              'kernel': ['rbf']}\n",
    " \n",
    "grid_p = GridSearchCV(SVC(), param_grid_p, refit = True, verbose = 3)\n",
    " \n",
    "# fitting the model for grid search\n",
    "grid_p.fit(Xp_train, yp_train)"
   ]
  },
  {
   "cell_type": "code",
   "execution_count": 82,
   "metadata": {},
   "outputs": [
    {
     "name": "stdout",
     "output_type": "stream",
     "text": [
      "              precision    recall  f1-score   support\n",
      "\n",
      "           I       1.00      0.14      0.25         7\n",
      "          II       0.55      0.55      0.55        11\n",
      "         III       0.39      0.37      0.38        19\n",
      "          IV       0.52      0.74      0.61        23\n",
      "           V       0.00      0.00      0.00         3\n",
      "\n",
      "    accuracy                           0.49        63\n",
      "   macro avg       0.49      0.36      0.36        63\n",
      "weighted avg       0.51      0.49      0.46        63\n",
      "\n"
     ]
    },
    {
     "name": "stderr",
     "output_type": "stream",
     "text": [
      "D:\\anaconda\\lib\\site-packages\\sklearn\\metrics\\_classification.py:1248: UndefinedMetricWarning: Precision and F-score are ill-defined and being set to 0.0 in labels with no predicted samples. Use `zero_division` parameter to control this behavior.\n",
      "  _warn_prf(average, modifier, msg_start, len(result))\n",
      "D:\\anaconda\\lib\\site-packages\\sklearn\\metrics\\_classification.py:1248: UndefinedMetricWarning: Precision and F-score are ill-defined and being set to 0.0 in labels with no predicted samples. Use `zero_division` parameter to control this behavior.\n",
      "  _warn_prf(average, modifier, msg_start, len(result))\n",
      "D:\\anaconda\\lib\\site-packages\\sklearn\\metrics\\_classification.py:1248: UndefinedMetricWarning: Precision and F-score are ill-defined and being set to 0.0 in labels with no predicted samples. Use `zero_division` parameter to control this behavior.\n",
      "  _warn_prf(average, modifier, msg_start, len(result))\n"
     ]
    }
   ],
   "source": [
    "grid_predictions_p = grid_p.predict(Xp_test)\n",
    " \n",
    "# print classification report\n",
    "print(classification_report(yp_test, grid_predictions_p))"
   ]
  },
  {
   "cell_type": "code",
   "execution_count": 84,
   "metadata": {
    "colab": {
     "base_uri": "https://localhost:8080/"
    },
    "id": "wdxJtwdRqQVQ",
    "outputId": "cb585ffb-25d1-455a-922b-2eb6c153d8aa"
   },
   "outputs": [
    {
     "name": "stdout",
     "output_type": "stream",
     "text": [
      "Test accuracy of the SVC model : 44.44\n",
      "Train accuracy of the SVC model : 99.72\n"
     ]
    }
   ],
   "source": [
    "#LinearSVC\n",
    "svc_1 = LinearSVC( max_iter=5500)\n",
    "svc_1.fit(Xp_train, yp_train)\n",
    "yp_predsvc_1 = svc_1.predict(Xp_test)\n",
    "\n",
    "# Evaluation\n",
    "accp_svc = accuracy_score(yp_test, yp_predsvc_1)\n",
    "accp_svc_tr = svc_1.score(Xp_train,yp_train)\n",
    "\n",
    "print(\"Test accuracy of the SVC model : {:.2f}\".format(accp_svc*100))\n",
    "print(\"Train accuracy of the SVC model : {:.2f}\".format(accp_svc_tr*100))"
   ]
  },
  {
   "cell_type": "code",
   "execution_count": 85,
   "metadata": {
    "colab": {
     "base_uri": "https://localhost:8080/"
    },
    "id": "KXOVr_kjqmOz",
    "outputId": "f4279ceb-e0ff-400b-903b-e231c97d0057"
   },
   "outputs": [
    {
     "name": "stdout",
     "output_type": "stream",
     "text": [
      "Classification report:               precision    recall  f1-score   support\n",
      "\n",
      "           I       0.50      0.14      0.22         7\n",
      "          II       0.46      0.55      0.50        11\n",
      "         III       0.35      0.32      0.33        19\n",
      "          IV       0.48      0.65      0.56        23\n",
      "           V       0.00      0.00      0.00         3\n",
      "\n",
      "    accuracy                           0.44        63\n",
      "   macro avg       0.36      0.33      0.32        63\n",
      "weighted avg       0.42      0.44      0.42        63\n",
      "\n",
      "Confusion matrix: [[ 1  1  4  1  0]\n",
      " [ 0  6  2  3  0]\n",
      " [ 0  3  6 10  0]\n",
      " [ 1  3  4 15  0]\n",
      " [ 0  0  1  2  0]]\n"
     ]
    },
    {
     "name": "stderr",
     "output_type": "stream",
     "text": [
      "D:\\anaconda\\lib\\site-packages\\sklearn\\metrics\\_classification.py:1248: UndefinedMetricWarning: Precision and F-score are ill-defined and being set to 0.0 in labels with no predicted samples. Use `zero_division` parameter to control this behavior.\n",
      "  _warn_prf(average, modifier, msg_start, len(result))\n",
      "D:\\anaconda\\lib\\site-packages\\sklearn\\metrics\\_classification.py:1248: UndefinedMetricWarning: Precision and F-score are ill-defined and being set to 0.0 in labels with no predicted samples. Use `zero_division` parameter to control this behavior.\n",
      "  _warn_prf(average, modifier, msg_start, len(result))\n",
      "D:\\anaconda\\lib\\site-packages\\sklearn\\metrics\\_classification.py:1248: UndefinedMetricWarning: Precision and F-score are ill-defined and being set to 0.0 in labels with no predicted samples. Use `zero_division` parameter to control this behavior.\n",
      "  _warn_prf(average, modifier, msg_start, len(result))\n"
     ]
    }
   ],
   "source": [
    "print('Classification report:',classification_report(yp_test, yp_predsvc_1))\n",
    "print('Confusion matrix:', confusion_matrix(yp_test,yp_predsvc_1))"
   ]
  },
  {
   "cell_type": "code",
   "execution_count": 86,
   "metadata": {
    "colab": {
     "base_uri": "https://localhost:8080/"
    },
    "id": "MzfFZ5Dvq1D0",
    "outputId": "684a2d55-7b46-4057-a488-473254175fcd"
   },
   "outputs": [
    {
     "name": "stdout",
     "output_type": "stream",
     "text": [
      "Test accuracy of the Random Forest model : 38.10\n",
      "Train accuracy of the Random Forest model : 99.72\n"
     ]
    }
   ],
   "source": [
    "#Random Forest model Training and Evaluation\n",
    "rf1 = RandomForestClassifier(random_state=42)\n",
    "rf1.fit(Xp_train, yp_train)\n",
    "yp_pred_rf = rf1.predict(Xp_test)\n",
    "\n",
    "#Evaluation\n",
    "accp_rfc = accuracy_score(yp_test, yp_pred_rf)\n",
    "accp_rfc_tr = rf1.score(Xp_train,yp_train)\n",
    "\n",
    "print(\"Test accuracy of the Random Forest model : {:.2f}\".format(accp_rfc*100))\n",
    "print(\"Train accuracy of the Random Forest model : {:.2f}\".format(accp_rfc_tr*100))"
   ]
  },
  {
   "cell_type": "code",
   "execution_count": 87,
   "metadata": {
    "colab": {
     "base_uri": "https://localhost:8080/"
    },
    "id": "soaqrN2IrF0n",
    "outputId": "db53023d-4aa3-4419-e501-37cc47ffef28"
   },
   "outputs": [
    {
     "name": "stdout",
     "output_type": "stream",
     "text": [
      "Classification report:               precision    recall  f1-score   support\n",
      "\n",
      "           I       0.50      0.14      0.22         7\n",
      "          II       0.50      0.27      0.35        11\n",
      "         III       0.45      0.26      0.33        19\n",
      "          IV       0.34      0.65      0.45        23\n",
      "           V       0.00      0.00      0.00         3\n",
      "\n",
      "    accuracy                           0.38        63\n",
      "   macro avg       0.36      0.27      0.27        63\n",
      "weighted avg       0.40      0.38      0.35        63\n",
      "\n",
      "Confusion matrix: [[ 1  0  0  6  0]\n",
      " [ 0  3  2  6  0]\n",
      " [ 0  0  5 14  0]\n",
      " [ 1  3  4 15  0]\n",
      " [ 0  0  0  3  0]]\n"
     ]
    },
    {
     "name": "stderr",
     "output_type": "stream",
     "text": [
      "D:\\anaconda\\lib\\site-packages\\sklearn\\metrics\\_classification.py:1248: UndefinedMetricWarning: Precision and F-score are ill-defined and being set to 0.0 in labels with no predicted samples. Use `zero_division` parameter to control this behavior.\n",
      "  _warn_prf(average, modifier, msg_start, len(result))\n",
      "D:\\anaconda\\lib\\site-packages\\sklearn\\metrics\\_classification.py:1248: UndefinedMetricWarning: Precision and F-score are ill-defined and being set to 0.0 in labels with no predicted samples. Use `zero_division` parameter to control this behavior.\n",
      "  _warn_prf(average, modifier, msg_start, len(result))\n",
      "D:\\anaconda\\lib\\site-packages\\sklearn\\metrics\\_classification.py:1248: UndefinedMetricWarning: Precision and F-score are ill-defined and being set to 0.0 in labels with no predicted samples. Use `zero_division` parameter to control this behavior.\n",
      "  _warn_prf(average, modifier, msg_start, len(result))\n"
     ]
    }
   ],
   "source": [
    "print('Classification report:',classification_report(yp_test, yp_pred_rf))\n",
    "print('Confusion matrix:', confusion_matrix(yp_test,yp_pred_rf))"
   ]
  },
  {
   "cell_type": "code",
   "execution_count": 88,
   "metadata": {
    "colab": {
     "base_uri": "https://localhost:8080/"
    },
    "id": "VO-1c5QurboO",
    "outputId": "d7897b62-7a22-43d9-c5ab-aeafdcafa848"
   },
   "outputs": [
    {
     "name": "stdout",
     "output_type": "stream",
     "text": [
      "Test accuracy of the Gradient boosting model : 38.10\n",
      "Train accuracy of the Gradient boosting model : 99.72\n"
     ]
    }
   ],
   "source": [
    "#Gradient Boosting Model Building and Evaluation\n",
    "gb_1 = GradientBoostingClassifier(n_estimators=100,)\n",
    "gb_1.fit(Xp_train, yp_train)\n",
    "yp_pred_gb1 = gb_1.predict(Xp_test)\n",
    "accp_gbc = accuracy_score(yp_test, yp_pred_gb1)\n",
    "accp_gbc_tr = gb_1.score(Xp_train,yp_train)\n",
    "\n",
    "print(\"Test accuracy of the Gradient boosting model : {:.2f}\".format(accp_gbc*100))\n",
    "print(\"Train accuracy of the Gradient boosting model : {:.2f}\".format(accp_gbc_tr*100))"
   ]
  },
  {
   "cell_type": "code",
   "execution_count": 89,
   "metadata": {
    "colab": {
     "base_uri": "https://localhost:8080/"
    },
    "id": "wVuj7bW0rtH5",
    "outputId": "f7c24fa2-e693-4114-d70a-fe74c84e255c"
   },
   "outputs": [
    {
     "name": "stdout",
     "output_type": "stream",
     "text": [
      "Classification report:               precision    recall  f1-score   support\n",
      "\n",
      "           I       0.50      0.14      0.22         7\n",
      "          II       0.60      0.27      0.37        11\n",
      "         III       0.25      0.21      0.23        19\n",
      "          IV       0.41      0.70      0.52        23\n",
      "           V       0.00      0.00      0.00         3\n",
      "\n",
      "    accuracy                           0.38        63\n",
      "   macro avg       0.35      0.26      0.27        63\n",
      "weighted avg       0.39      0.38      0.35        63\n",
      "\n",
      "Confusion matrix: [[ 1  1  4  1  0]\n",
      " [ 0  3  3  4  1]\n",
      " [ 0  0  4 15  0]\n",
      " [ 1  1  5 16  0]\n",
      " [ 0  0  0  3  0]]\n"
     ]
    }
   ],
   "source": [
    "print('Classification report:',classification_report(yp_test,yp_pred_gb1 ))\n",
    "print('Confusion matrix:', confusion_matrix(yp_test,yp_pred_gb1))"
   ]
  },
  {
   "cell_type": "code",
   "execution_count": 90,
   "metadata": {
    "colab": {
     "base_uri": "https://localhost:8080/"
    },
    "id": "zTEyL5DLr6X5",
    "outputId": "7844524d-2aeb-420e-dc3d-8b6bc8f50d99"
   },
   "outputs": [
    {
     "name": "stderr",
     "output_type": "stream",
     "text": [
      "D:\\anaconda\\lib\\site-packages\\xgboost\\sklearn.py:1146: UserWarning: The use of label encoder in XGBClassifier is deprecated and will be removed in a future release. To remove this warning, do the following: 1) Pass option use_label_encoder=False when constructing XGBClassifier object; and 2) Encode your labels (y) as integers starting with 0, i.e. 0, 1, 2, ..., [num_class - 1].\n",
      "  warnings.warn(label_encoder_deprecation_msg, UserWarning)\n"
     ]
    },
    {
     "name": "stdout",
     "output_type": "stream",
     "text": [
      "[00:33:11] WARNING: C:/Users/Administrator/workspace/xgboost-win64_release_1.4.0/src/learner.cc:1095: Starting in XGBoost 1.3.0, the default evaluation metric used with the objective 'multi:softprob' was changed from 'merror' to 'mlogloss'. Explicitly set eval_metric if you'd like to restore the old behavior.\n",
      "Test accuracy of the XGBoost model : 39.68\n",
      "Train accuracy of the XGBoost model : 99.72\n"
     ]
    }
   ],
   "source": [
    "#XGBoost Model for Training and Evaluation\n",
    "xgb_1 = XGBClassifier()\n",
    "xgb_1.fit(Xp_train, yp_train)\n",
    "yp_pred_xgb = xgb_1.predict(Xp_test)\n",
    "accp_xgbc = accuracy_score(yp_test, yp_pred_xgb)\n",
    "accp_xgbc_tr = xgb_1.score(Xp_train,yp_train)\n",
    "\n",
    "print(\"Test accuracy of the XGBoost model : {:.2f}\".format(accp_xgbc*100))\n",
    "print(\"Train accuracy of the XGBoost model : {:.2f}\".format(accp_xgbc_tr*100))"
   ]
  },
  {
   "cell_type": "code",
   "execution_count": 92,
   "metadata": {
    "colab": {
     "base_uri": "https://localhost:8080/"
    },
    "id": "MDyg4yOesLWf",
    "outputId": "4a345127-1e8e-4d3c-9b39-7953212a52b5"
   },
   "outputs": [
    {
     "name": "stdout",
     "output_type": "stream",
     "text": [
      "Classification report:               precision    recall  f1-score   support\n",
      "\n",
      "           I       1.00      0.14      0.25         7\n",
      "          II       0.31      0.45      0.37        11\n",
      "         III       0.38      0.26      0.31        19\n",
      "          IV       0.42      0.61      0.50        23\n",
      "           V       0.00      0.00      0.00         3\n",
      "\n",
      "    accuracy                           0.40        63\n",
      "   macro avg       0.42      0.29      0.29        63\n",
      "weighted avg       0.44      0.40      0.37        63\n",
      "\n",
      "Confusion matrix: [[ 1  2  3  1  0]\n",
      " [ 0  5  2  4  0]\n",
      " [ 0  3  5 11  0]\n",
      " [ 0  6  3 14  0]\n",
      " [ 0  0  0  3  0]]\n"
     ]
    },
    {
     "name": "stderr",
     "output_type": "stream",
     "text": [
      "D:\\anaconda\\lib\\site-packages\\sklearn\\metrics\\_classification.py:1248: UndefinedMetricWarning: Precision and F-score are ill-defined and being set to 0.0 in labels with no predicted samples. Use `zero_division` parameter to control this behavior.\n",
      "  _warn_prf(average, modifier, msg_start, len(result))\n",
      "D:\\anaconda\\lib\\site-packages\\sklearn\\metrics\\_classification.py:1248: UndefinedMetricWarning: Precision and F-score are ill-defined and being set to 0.0 in labels with no predicted samples. Use `zero_division` parameter to control this behavior.\n",
      "  _warn_prf(average, modifier, msg_start, len(result))\n",
      "D:\\anaconda\\lib\\site-packages\\sklearn\\metrics\\_classification.py:1248: UndefinedMetricWarning: Precision and F-score are ill-defined and being set to 0.0 in labels with no predicted samples. Use `zero_division` parameter to control this behavior.\n",
      "  _warn_prf(average, modifier, msg_start, len(result))\n"
     ]
    }
   ],
   "source": [
    "print('Classification report:',classification_report(yp_test,yp_pred_xgb))\n",
    "print('Confusion matrix:', confusion_matrix(yp_test,yp_pred_xgb))"
   ]
  },
  {
   "cell_type": "code",
   "execution_count": 93,
   "metadata": {
    "colab": {
     "base_uri": "https://localhost:8080/"
    },
    "id": "HrKO6h9nsVZv",
    "outputId": "9364d0e3-d49f-4fc1-9062-44facfd48024"
   },
   "outputs": [
    {
     "data": {
      "text/plain": [
       "KNeighborsClassifier(n_neighbors=3)"
      ]
     },
     "execution_count": 93,
     "metadata": {},
     "output_type": "execute_result"
    }
   ],
   "source": [
    "#Kneighbours\n",
    "from sklearn.neighbors import KNeighborsClassifier\n",
    "neigh_1 = KNeighborsClassifier(n_neighbors=3)\n",
    "neigh_1.fit(Xp_train, yp_train)"
   ]
  },
  {
   "cell_type": "code",
   "execution_count": 94,
   "metadata": {
    "id": "dAOzG0RisorU"
   },
   "outputs": [],
   "source": [
    "yp_pred_k1 = neigh_1.predict(Xp_test)\n",
    "acc_neigh1 = accuracy_score(yp_test, yp_pred_k1)\n",
    "acc_neigh_tr1 = neigh_1.score(Xp_train,yp_train)\n"
   ]
  },
  {
   "cell_type": "code",
   "execution_count": 95,
   "metadata": {
    "colab": {
     "base_uri": "https://localhost:8080/"
    },
    "id": "tRCOmwh6s7S6",
    "outputId": "394f5536-8c11-4133-d9a6-e3b6aa155609"
   },
   "outputs": [
    {
     "name": "stdout",
     "output_type": "stream",
     "text": [
      " Test accuracy of the KNeighbours model : 25.40\n",
      "Train accuracy of the Kneighbours model : 54.65\n",
      "Classification report:               precision    recall  f1-score   support\n",
      "\n",
      "           I       1.00      0.14      0.25         7\n",
      "          II       0.18      0.45      0.26        11\n",
      "         III       0.31      0.53      0.39        19\n",
      "          IV       0.00      0.00      0.00        23\n",
      "           V       0.00      0.00      0.00         3\n",
      "\n",
      "    accuracy                           0.25        63\n",
      "   macro avg       0.30      0.22      0.18        63\n",
      "weighted avg       0.24      0.25      0.19        63\n",
      "\n",
      "Confusion matrix: [[ 1  3  3  0  0]\n",
      " [ 0  5  5  1  0]\n",
      " [ 0  9 10  0  0]\n",
      " [ 0  9 14  0  0]\n",
      " [ 0  2  0  1  0]]\n"
     ]
    },
    {
     "name": "stderr",
     "output_type": "stream",
     "text": [
      "D:\\anaconda\\lib\\site-packages\\sklearn\\metrics\\_classification.py:1248: UndefinedMetricWarning: Precision and F-score are ill-defined and being set to 0.0 in labels with no predicted samples. Use `zero_division` parameter to control this behavior.\n",
      "  _warn_prf(average, modifier, msg_start, len(result))\n",
      "D:\\anaconda\\lib\\site-packages\\sklearn\\metrics\\_classification.py:1248: UndefinedMetricWarning: Precision and F-score are ill-defined and being set to 0.0 in labels with no predicted samples. Use `zero_division` parameter to control this behavior.\n",
      "  _warn_prf(average, modifier, msg_start, len(result))\n",
      "D:\\anaconda\\lib\\site-packages\\sklearn\\metrics\\_classification.py:1248: UndefinedMetricWarning: Precision and F-score are ill-defined and being set to 0.0 in labels with no predicted samples. Use `zero_division` parameter to control this behavior.\n",
      "  _warn_prf(average, modifier, msg_start, len(result))\n"
     ]
    }
   ],
   "source": [
    "print(\" Test accuracy of the KNeighbours model : {:.2f}\".format(acc_neigh1*100))\n",
    "print(\"Train accuracy of the Kneighbours model : {:.2f}\".format(acc_neigh_tr1*100))\n",
    "print('Classification report:',classification_report(yp_test,yp_pred_k1))\n",
    "print('Confusion matrix:', confusion_matrix(yp_test,yp_pred_k1))"
   ]
  },
  {
   "cell_type": "code",
   "execution_count": 96,
   "metadata": {
    "id": "0cApKUIRtJ44"
   },
   "outputs": [],
   "source": [
    "#naive bayes\n",
    "from sklearn.naive_bayes import GaussianNB\n",
    "g_model2 = GaussianNB()\n",
    "g_model2.fit(Xp_train, yp_train)\n",
    "g_pred2 = g_model2.predict(Xp_test)"
   ]
  },
  {
   "cell_type": "code",
   "execution_count": 97,
   "metadata": {
    "colab": {
     "base_uri": "https://localhost:8080/"
    },
    "id": "Fr7ig-nQtbor",
    "outputId": "d06c6d56-ba8a-4e88-d5a5-5497f13cbe34"
   },
   "outputs": [
    {
     "name": "stdout",
     "output_type": "stream",
     "text": [
      "Accuracy on Training data: 0.9971830985915493\n",
      "Accuracy on Test data: 0.42857142857142855\n"
     ]
    }
   ],
   "source": [
    "print('Accuracy on Training data:',g_model2.score(Xp_train, yp_train) ) #accuracy of training data\n",
    "print('Accuracy on Test data:',g_model2.score(Xp_test, yp_test) ) #accuracy data of testing data"
   ]
  },
  {
   "cell_type": "code",
   "execution_count": 98,
   "metadata": {
    "colab": {
     "base_uri": "https://localhost:8080/"
    },
    "id": "6m1TPdMStnsz",
    "outputId": "cea61cdd-addd-47c6-da35-0e513db15b33"
   },
   "outputs": [
    {
     "name": "stdout",
     "output_type": "stream",
     "text": [
      "Classification report:               precision    recall  f1-score   support\n",
      "\n",
      "           I       0.25      0.14      0.18         7\n",
      "          II       0.44      0.36      0.40        11\n",
      "         III       0.40      0.32      0.35        19\n",
      "          IV       0.46      0.70      0.55        23\n",
      "           V       0.00      0.00      0.00         3\n",
      "\n",
      "    accuracy                           0.43        63\n",
      "   macro avg       0.31      0.30      0.30        63\n",
      "weighted avg       0.39      0.43      0.40        63\n",
      "\n",
      "Confusion matrix: [[ 1  3  2  1  0]\n",
      " [ 1  4  1  5  0]\n",
      " [ 0  1  6 12  0]\n",
      " [ 2  0  5 16  0]\n",
      " [ 0  1  1  1  0]]\n"
     ]
    },
    {
     "name": "stderr",
     "output_type": "stream",
     "text": [
      "D:\\anaconda\\lib\\site-packages\\sklearn\\metrics\\_classification.py:1248: UndefinedMetricWarning: Precision and F-score are ill-defined and being set to 0.0 in labels with no predicted samples. Use `zero_division` parameter to control this behavior.\n",
      "  _warn_prf(average, modifier, msg_start, len(result))\n",
      "D:\\anaconda\\lib\\site-packages\\sklearn\\metrics\\_classification.py:1248: UndefinedMetricWarning: Precision and F-score are ill-defined and being set to 0.0 in labels with no predicted samples. Use `zero_division` parameter to control this behavior.\n",
      "  _warn_prf(average, modifier, msg_start, len(result))\n",
      "D:\\anaconda\\lib\\site-packages\\sklearn\\metrics\\_classification.py:1248: UndefinedMetricWarning: Precision and F-score are ill-defined and being set to 0.0 in labels with no predicted samples. Use `zero_division` parameter to control this behavior.\n",
      "  _warn_prf(average, modifier, msg_start, len(result))\n"
     ]
    }
   ],
   "source": [
    "print('Classification report:',classification_report(yp_test,g_pred2))\n",
    "print('Confusion matrix:', confusion_matrix(yp_test,g_pred2))"
   ]
  },
  {
   "cell_type": "code",
   "execution_count": 101,
   "metadata": {
    "id": "pfbI1ee7t1j8"
   },
   "outputs": [],
   "source": [
    "#Bagging\n",
    "from sklearn.ensemble import BaggingClassifier\n",
    "from sklearn.model_selection import GridSearchCV, ShuffleSplit\n",
    "n_estimators1 = [10,30,50,70,80,150,160, 170,175,180,185];\n",
    "cv1 = ShuffleSplit(n_splits=10, test_size=.30, random_state=15)\n",
    "\n",
    "parameters_b1 = {'n_estimators':n_estimators1,\n",
    "              \n",
    "        }\n",
    "grid_b1 = GridSearchCV(BaggingClassifier(base_estimator= None, ## If None, then the base estimator is a decision tree.\n",
    "                                      bootstrap_features=False),\n",
    "                                 param_grid=parameters1,\n",
    "                                 cv=cv1,\n",
    "                                 n_jobs = -1)\n"
   ]
  },
  {
   "cell_type": "code",
   "execution_count": 102,
   "metadata": {
    "colab": {
     "base_uri": "https://localhost:8080/"
    },
    "id": "rQ82eMpvuUmn",
    "outputId": "d8072576-718e-487f-c76d-f20f2a083688"
   },
   "outputs": [
    {
     "data": {
      "text/plain": [
       "GridSearchCV(cv=ShuffleSplit(n_splits=10, random_state=15, test_size=0.3, train_size=None),\n",
       "             estimator=BaggingClassifier(), n_jobs=-1,\n",
       "             param_grid={'n_estimators': [10, 30, 50, 70, 80, 150, 160, 170,\n",
       "                                          175, 180, 185]})"
      ]
     },
     "execution_count": 102,
     "metadata": {},
     "output_type": "execute_result"
    }
   ],
   "source": [
    "grid_b1.fit(Xp_train, yp_train) "
   ]
  },
  {
   "cell_type": "code",
   "execution_count": 103,
   "metadata": {
    "colab": {
     "base_uri": "https://localhost:8080/"
    },
    "id": "ruSLemnJy0qG",
    "outputId": "eba6552b-493a-4956-9ade-31d142d9fa5b"
   },
   "outputs": [
    {
     "name": "stdout",
     "output_type": "stream",
     "text": [
      " Test accuracy of the Bagging model : 36.51\n",
      "Train accuracy of the Bagging model : 99.72\n",
      "Classification report:               precision    recall  f1-score   support\n",
      "\n",
      "           I       1.00      0.14      0.25         7\n",
      "          II       0.20      0.18      0.19        11\n",
      "         III       0.38      0.26      0.31        19\n",
      "          IV       0.38      0.65      0.48        23\n",
      "           V       0.00      0.00      0.00         3\n",
      "\n",
      "    accuracy                           0.37        63\n",
      "   macro avg       0.39      0.25      0.25        63\n",
      "weighted avg       0.40      0.37      0.33        63\n",
      "\n",
      "Confusion matrix: [[ 1  2  1  3  0]\n",
      " [ 0  2  3  6  0]\n",
      " [ 0  2  5 12  0]\n",
      " [ 0  4  4 15  0]\n",
      " [ 0  0  0  3  0]]\n"
     ]
    },
    {
     "name": "stderr",
     "output_type": "stream",
     "text": [
      "D:\\anaconda\\lib\\site-packages\\sklearn\\metrics\\_classification.py:1248: UndefinedMetricWarning: Precision and F-score are ill-defined and being set to 0.0 in labels with no predicted samples. Use `zero_division` parameter to control this behavior.\n",
      "  _warn_prf(average, modifier, msg_start, len(result))\n",
      "D:\\anaconda\\lib\\site-packages\\sklearn\\metrics\\_classification.py:1248: UndefinedMetricWarning: Precision and F-score are ill-defined and being set to 0.0 in labels with no predicted samples. Use `zero_division` parameter to control this behavior.\n",
      "  _warn_prf(average, modifier, msg_start, len(result))\n",
      "D:\\anaconda\\lib\\site-packages\\sklearn\\metrics\\_classification.py:1248: UndefinedMetricWarning: Precision and F-score are ill-defined and being set to 0.0 in labels with no predicted samples. Use `zero_division` parameter to control this behavior.\n",
      "  _warn_prf(average, modifier, msg_start, len(result))\n"
     ]
    }
   ],
   "source": [
    "yp_pred_b1 = grid_b1.predict(Xp_test)\n",
    "acc_b1 = accuracy_score(yp_test, yp_pred_b1)\n",
    "acc_b1_tr = grid_b1.score(Xp_train,yp_train)\n",
    "\n",
    "print(\" Test accuracy of the Bagging model : {:.2f}\".format(acc_b1*100))\n",
    "print(\"Train accuracy of the Bagging model : {:.2f}\".format(acc_b1_tr*100))\n",
    "print('Classification report:',classification_report(yp_test,yp_pred_b1))\n",
    "print('Confusion matrix:', confusion_matrix(yp_test,yp_pred_b1))"
   ]
  },
  {
   "cell_type": "code",
   "execution_count": 104,
   "metadata": {
    "colab": {
     "base_uri": "https://localhost:8080/"
    },
    "id": "EjiU8XZAzLLw",
    "outputId": "aafb3fb0-78f9-4a3a-a7f2-bf2c76ef9897"
   },
   "outputs": [
    {
     "data": {
      "text/plain": [
       "AdaBoostClassifier(n_estimators=100, random_state=0)"
      ]
     },
     "execution_count": 104,
     "metadata": {},
     "output_type": "execute_result"
    }
   ],
   "source": [
    "#ADA boosting\n",
    "from sklearn.ensemble import AdaBoostClassifier\n",
    "clf_ada1 = AdaBoostClassifier(n_estimators=100, random_state=0)\n",
    "clf_ada1.fit(Xp_train, yp_train)"
   ]
  },
  {
   "cell_type": "code",
   "execution_count": 105,
   "metadata": {
    "colab": {
     "base_uri": "https://localhost:8080/"
    },
    "id": "87mM2fYezdyc",
    "outputId": "81ac5ef8-384d-49d7-a94b-42043a6c4334"
   },
   "outputs": [
    {
     "name": "stdout",
     "output_type": "stream",
     "text": [
      " Test accuracy of the ADA model : 36.51\n",
      "Train accuracy of the ADA model : 43.38\n",
      "Classification report:               precision    recall  f1-score   support\n",
      "\n",
      "           I       1.00      0.14      0.25         7\n",
      "          II       0.25      0.18      0.21        11\n",
      "         III       0.00      0.00      0.00        19\n",
      "          IV       0.39      0.78      0.52        23\n",
      "           V       0.29      0.67      0.40         3\n",
      "\n",
      "    accuracy                           0.37        63\n",
      "   macro avg       0.39      0.35      0.28        63\n",
      "weighted avg       0.31      0.37      0.27        63\n",
      "\n",
      "Confusion matrix: [[ 1  0  1  5  0]\n",
      " [ 0  2  0  8  1]\n",
      " [ 0  4  0 14  1]\n",
      " [ 0  2  0 18  3]\n",
      " [ 0  0  0  1  2]]\n"
     ]
    }
   ],
   "source": [
    "yp_pred_ada1 = clf_ada1.predict(Xp_test)\n",
    "acc_ada1 = accuracy_score(yp_test, yp_pred_ada1)\n",
    "acc_ada1_tr = clf_ada1.score(Xp_train,yp_train)\n",
    "\n",
    "print(\" Test accuracy of the ADA model : {:.2f}\".format(acc_ada1*100))\n",
    "print(\"Train accuracy of the ADA model : {:.2f}\".format(acc_ada1_tr*100))\n",
    "print('Classification report:',classification_report(yp_test,yp_pred_ada1))\n",
    "print('Confusion matrix:', confusion_matrix(yp_test,yp_pred_ada1))"
   ]
  },
  {
   "cell_type": "code",
   "execution_count": 106,
   "metadata": {
    "id": "Tl9hFUKTztKe"
   },
   "outputs": [],
   "source": [
    "#TF-IDF\n",
    "#Target variable- accident level\n"
   ]
  },
  {
   "cell_type": "code",
   "execution_count": 107,
   "metadata": {
    "id": "TyfTAQbQz4tR"
   },
   "outputs": [],
   "source": [
    "from sklearn.feature_extraction.text import TfidfVectorizer\n",
    "\n",
    "tfidf_vec = TfidfVectorizer(ngram_range=(1,2))\n",
    "Xt = tfidf_vec.fit_transform(X).toarray()\n",
    "\n",
    "Xt_train, Xt_test, yt_train, yt_test = train_test_split(Xt, y, test_size=0.15, random_state=42)"
   ]
  },
  {
   "cell_type": "code",
   "execution_count": 108,
   "metadata": {
    "colab": {
     "base_uri": "https://localhost:8080/"
    },
    "id": "Sc-Uy9aPz97d",
    "outputId": "110127f4-7885-41e0-e4cf-c6c62963d556"
   },
   "outputs": [
    {
     "name": "stdout",
     "output_type": "stream",
     "text": [
      "Test accuracy of the SVC model : 76.19\n",
      "Train accuracy of the SVC model : 99.15\n"
     ]
    }
   ],
   "source": [
    "#SVC Model Training and Evaluation\n",
    "svctf = LinearSVC(max_iter=5500)\n",
    "svctf.fit(Xt_train, yt_train)\n",
    "yt_pred_tf = svctf.predict(Xt_test)\n",
    "\n",
    "# Evaluation\n",
    "acct_svctf = accuracy_score(yt_test, yt_pred_tf)\n",
    "acct_svctf_tr = svctf.score(Xt_train,yt_train)\n",
    "\n",
    "print(\"Test accuracy of the SVC model : {:.2f}\".format(acct_svctf*100))\n",
    "print(\"Train accuracy of the SVC model : {:.2f}\".format(acct_svctf_tr*100))"
   ]
  },
  {
   "cell_type": "code",
   "execution_count": 109,
   "metadata": {
    "colab": {
     "base_uri": "https://localhost:8080/"
    },
    "id": "hq5J_pKf0sDS",
    "outputId": "3e332d33-62e3-4447-9766-e2d19226010f"
   },
   "outputs": [
    {
     "name": "stdout",
     "output_type": "stream",
     "text": [
      "Classification report:               precision    recall  f1-score   support\n",
      "\n",
      "           I       0.76      1.00      0.86        48\n",
      "          II       0.00      0.00      0.00         5\n",
      "         III       0.00      0.00      0.00         4\n",
      "          IV       0.00      0.00      0.00         5\n",
      "           V       0.00      0.00      0.00         1\n",
      "\n",
      "    accuracy                           0.76        63\n",
      "   macro avg       0.15      0.20      0.17        63\n",
      "weighted avg       0.58      0.76      0.66        63\n",
      "\n",
      "Confusion matrix: [[48  0  0  0  0]\n",
      " [ 5  0  0  0  0]\n",
      " [ 4  0  0  0  0]\n",
      " [ 5  0  0  0  0]\n",
      " [ 1  0  0  0  0]]\n"
     ]
    },
    {
     "name": "stderr",
     "output_type": "stream",
     "text": [
      "D:\\anaconda\\lib\\site-packages\\sklearn\\metrics\\_classification.py:1248: UndefinedMetricWarning: Precision and F-score are ill-defined and being set to 0.0 in labels with no predicted samples. Use `zero_division` parameter to control this behavior.\n",
      "  _warn_prf(average, modifier, msg_start, len(result))\n",
      "D:\\anaconda\\lib\\site-packages\\sklearn\\metrics\\_classification.py:1248: UndefinedMetricWarning: Precision and F-score are ill-defined and being set to 0.0 in labels with no predicted samples. Use `zero_division` parameter to control this behavior.\n",
      "  _warn_prf(average, modifier, msg_start, len(result))\n",
      "D:\\anaconda\\lib\\site-packages\\sklearn\\metrics\\_classification.py:1248: UndefinedMetricWarning: Precision and F-score are ill-defined and being set to 0.0 in labels with no predicted samples. Use `zero_division` parameter to control this behavior.\n",
      "  _warn_prf(average, modifier, msg_start, len(result))\n"
     ]
    }
   ],
   "source": [
    "print('Classification report:',classification_report(yt_test,yt_pred_tf))\n",
    "print('Confusion matrix:', confusion_matrix(yt_test,yt_pred_tf))"
   ]
  },
  {
   "cell_type": "code",
   "execution_count": 110,
   "metadata": {
    "colab": {
     "base_uri": "https://localhost:8080/"
    },
    "id": "CW2E-xBb0V7M",
    "outputId": "c33cf8bd-4087-4406-ba94-c251caaa9638"
   },
   "outputs": [
    {
     "name": "stdout",
     "output_type": "stream",
     "text": [
      "Test accuracy of the Random Forest model : 76.19\n",
      "Train accuracy of the Random Forest model : 99.44\n"
     ]
    }
   ],
   "source": [
    "#Random Forest model Training and Evaluation\n",
    "rfc_tf = RandomForestClassifier(random_state=42)\n",
    "rfc_tf.fit(Xt_train, yt_train)\n",
    "yt_pred_rftf = rfc_tf.predict(Xt_test)\n",
    "\n",
    "acct_rfc_tf = accuracy_score(yt_test, yt_pred_rftf)\n",
    "acct_rfc_tf_tr = rfc_tf.score(Xt_train,yt_train)\n",
    "\n",
    "print(\"Test accuracy of the Random Forest model : {:.2f}\".format(acct_rfc_tf*100))\n",
    "print(\"Train accuracy of the Random Forest model : {:.2f}\".format(acct_rfc_tf_tr*100))"
   ]
  },
  {
   "cell_type": "code",
   "execution_count": 111,
   "metadata": {
    "colab": {
     "base_uri": "https://localhost:8080/"
    },
    "id": "0Js23pED04GG",
    "outputId": "aa107b4e-7ba0-44e5-ba23-76fbc283bcc7"
   },
   "outputs": [
    {
     "name": "stdout",
     "output_type": "stream",
     "text": [
      "Classification report:               precision    recall  f1-score   support\n",
      "\n",
      "           I       0.76      1.00      0.86        48\n",
      "          II       0.00      0.00      0.00         5\n",
      "         III       0.00      0.00      0.00         4\n",
      "          IV       0.00      0.00      0.00         5\n",
      "           V       0.00      0.00      0.00         1\n",
      "\n",
      "    accuracy                           0.76        63\n",
      "   macro avg       0.15      0.20      0.17        63\n",
      "weighted avg       0.58      0.76      0.66        63\n",
      "\n",
      "Confusion matrix: [[48  0  0  0  0]\n",
      " [ 5  0  0  0  0]\n",
      " [ 4  0  0  0  0]\n",
      " [ 5  0  0  0  0]\n",
      " [ 1  0  0  0  0]]\n"
     ]
    },
    {
     "name": "stderr",
     "output_type": "stream",
     "text": [
      "D:\\anaconda\\lib\\site-packages\\sklearn\\metrics\\_classification.py:1248: UndefinedMetricWarning: Precision and F-score are ill-defined and being set to 0.0 in labels with no predicted samples. Use `zero_division` parameter to control this behavior.\n",
      "  _warn_prf(average, modifier, msg_start, len(result))\n",
      "D:\\anaconda\\lib\\site-packages\\sklearn\\metrics\\_classification.py:1248: UndefinedMetricWarning: Precision and F-score are ill-defined and being set to 0.0 in labels with no predicted samples. Use `zero_division` parameter to control this behavior.\n",
      "  _warn_prf(average, modifier, msg_start, len(result))\n",
      "D:\\anaconda\\lib\\site-packages\\sklearn\\metrics\\_classification.py:1248: UndefinedMetricWarning: Precision and F-score are ill-defined and being set to 0.0 in labels with no predicted samples. Use `zero_division` parameter to control this behavior.\n",
      "  _warn_prf(average, modifier, msg_start, len(result))\n"
     ]
    }
   ],
   "source": [
    "print('Classification report:',classification_report(yt_test,yt_pred_rftf))\n",
    "print('Confusion matrix:', confusion_matrix(yt_test,yt_pred_rftf))"
   ]
  },
  {
   "cell_type": "code",
   "execution_count": 112,
   "metadata": {
    "colab": {
     "base_uri": "https://localhost:8080/"
    },
    "id": "DAaIPQ0i0_BM",
    "outputId": "521145bf-79fa-45d4-9c29-cff225a16bb9"
   },
   "outputs": [
    {
     "name": "stdout",
     "output_type": "stream",
     "text": [
      "Train accuracy of the Gradient boosting model : 69.84\n",
      "Test accuracy of the Gradient boosting model : 99.44\n",
      "Classification report:               precision    recall  f1-score   support\n",
      "\n",
      "           I       0.77      0.92      0.84        48\n",
      "          II       0.00      0.00      0.00         5\n",
      "         III       0.00      0.00      0.00         4\n",
      "          IV       0.00      0.00      0.00         5\n",
      "           V       0.00      0.00      0.00         1\n",
      "\n",
      "    accuracy                           0.70        63\n",
      "   macro avg       0.15      0.18      0.17        63\n",
      "weighted avg       0.59      0.70      0.64        63\n",
      "\n"
     ]
    },
    {
     "name": "stderr",
     "output_type": "stream",
     "text": [
      "D:\\anaconda\\lib\\site-packages\\sklearn\\metrics\\_classification.py:1248: UndefinedMetricWarning: Precision and F-score are ill-defined and being set to 0.0 in labels with no predicted samples. Use `zero_division` parameter to control this behavior.\n",
      "  _warn_prf(average, modifier, msg_start, len(result))\n",
      "D:\\anaconda\\lib\\site-packages\\sklearn\\metrics\\_classification.py:1248: UndefinedMetricWarning: Precision and F-score are ill-defined and being set to 0.0 in labels with no predicted samples. Use `zero_division` parameter to control this behavior.\n",
      "  _warn_prf(average, modifier, msg_start, len(result))\n",
      "D:\\anaconda\\lib\\site-packages\\sklearn\\metrics\\_classification.py:1248: UndefinedMetricWarning: Precision and F-score are ill-defined and being set to 0.0 in labels with no predicted samples. Use `zero_division` parameter to control this behavior.\n",
      "  _warn_prf(average, modifier, msg_start, len(result))\n"
     ]
    }
   ],
   "source": [
    "#Gradient Boosting Model Building and Evaluation\n",
    "from sklearn.ensemble import GradientBoostingClassifier\n",
    "gb_tf = GradientBoostingClassifier(n_estimators=100)\n",
    "gb_tf.fit(Xt_train, yt_train)\n",
    "yt_pred_gbtf = gb_tf.predict(Xt_test)\n",
    "acct_gb_tf = accuracy_score(yt_test,yt_pred_gbtf )\n",
    "acct_gb_tf_tr = gb_tf.score(Xt_train,yt_train)\n",
    "\n",
    "print(\"Train accuracy of the Gradient boosting model : {:.2f}\".format(acct_gb_tf*100))\n",
    "print(\"Test accuracy of the Gradient boosting model : {:.2f}\".format(acct_gb_tf_tr*100))\n",
    "print('Classification report:',classification_report(yt_test,yt_pred_gbtf ))"
   ]
  },
  {
   "cell_type": "code",
   "execution_count": 113,
   "metadata": {
    "colab": {
     "base_uri": "https://localhost:8080/"
    },
    "id": "zTRuuFpk1mG1",
    "outputId": "72c73556-203b-4be2-b1c6-dfe9b4bd3f02"
   },
   "outputs": [
    {
     "name": "stdout",
     "output_type": "stream",
     "text": [
      "Confusion matrix: [[44  1  2  1  0]\n",
      " [ 5  0  0  0  0]\n",
      " [ 4  0  0  0  0]\n",
      " [ 3  0  2  0  0]\n",
      " [ 1  0  0  0  0]]\n"
     ]
    }
   ],
   "source": [
    "print('Confusion matrix:', confusion_matrix(yt_test,yt_pred_gbtf))"
   ]
  },
  {
   "cell_type": "code",
   "execution_count": 114,
   "metadata": {
    "colab": {
     "base_uri": "https://localhost:8080/"
    },
    "id": "ultb7L111vuK",
    "outputId": "27b8372b-be02-4dc0-a29d-699fc2a6ee4b"
   },
   "outputs": [
    {
     "name": "stderr",
     "output_type": "stream",
     "text": [
      "D:\\anaconda\\lib\\site-packages\\xgboost\\sklearn.py:1146: UserWarning: The use of label encoder in XGBClassifier is deprecated and will be removed in a future release. To remove this warning, do the following: 1) Pass option use_label_encoder=False when constructing XGBClassifier object; and 2) Encode your labels (y) as integers starting with 0, i.e. 0, 1, 2, ..., [num_class - 1].\n",
      "  warnings.warn(label_encoder_deprecation_msg, UserWarning)\n"
     ]
    },
    {
     "name": "stdout",
     "output_type": "stream",
     "text": [
      "[00:50:02] WARNING: C:/Users/Administrator/workspace/xgboost-win64_release_1.4.0/src/learner.cc:1095: Starting in XGBoost 1.3.0, the default evaluation metric used with the objective 'multi:softprob' was changed from 'merror' to 'mlogloss'. Explicitly set eval_metric if you'd like to restore the old behavior.\n",
      " Test accuracy of the XGBoost model : 71.43\n",
      "Train accuracy of the XGBoost model : 99.44\n"
     ]
    }
   ],
   "source": [
    "#XGBoost Model for Training and Evaluation\n",
    "xgb_tf = XGBClassifier()\n",
    "xgb_tf.fit(Xt_train, yt_train)\n",
    "yt_predxgb_tf = xgb_tf.predict(Xt_test)\n",
    "acct_xgb_tf = accuracy_score(yt_test, yt_predxgb_tf)\n",
    "acct_xgb_tf_tr = xgb_tf.score(Xt_train,yt_train)\n",
    "\n",
    "print(\" Test accuracy of the XGBoost model : {:.2f}\".format(acct_xgb_tf*100))\n",
    "print(\"Train accuracy of the XGBoost model : {:.2f}\".format(acct_xgb_tf_tr*100))"
   ]
  },
  {
   "cell_type": "code",
   "execution_count": 115,
   "metadata": {
    "colab": {
     "base_uri": "https://localhost:8080/"
    },
    "id": "rgL9zNV02fbt",
    "outputId": "a0226ca3-3f79-4f03-bc10-be89673bc82c"
   },
   "outputs": [
    {
     "name": "stdout",
     "output_type": "stream",
     "text": [
      "Classification report:               precision    recall  f1-score   support\n",
      "\n",
      "           I       0.76      0.94      0.84        48\n",
      "          II       0.00      0.00      0.00         5\n",
      "         III       0.00      0.00      0.00         4\n",
      "          IV       0.00      0.00      0.00         5\n",
      "           V       0.00      0.00      0.00         1\n",
      "\n",
      "    accuracy                           0.71        63\n",
      "   macro avg       0.15      0.19      0.17        63\n",
      "weighted avg       0.58      0.71      0.64        63\n",
      "\n",
      "Confusion matrix: [[45  0  1  1  1]\n",
      " [ 5  0  0  0  0]\n",
      " [ 4  0  0  0  0]\n",
      " [ 4  0  1  0  0]\n",
      " [ 1  0  0  0  0]]\n"
     ]
    },
    {
     "name": "stderr",
     "output_type": "stream",
     "text": [
      "D:\\anaconda\\lib\\site-packages\\sklearn\\metrics\\_classification.py:1248: UndefinedMetricWarning: Precision and F-score are ill-defined and being set to 0.0 in labels with no predicted samples. Use `zero_division` parameter to control this behavior.\n",
      "  _warn_prf(average, modifier, msg_start, len(result))\n",
      "D:\\anaconda\\lib\\site-packages\\sklearn\\metrics\\_classification.py:1248: UndefinedMetricWarning: Precision and F-score are ill-defined and being set to 0.0 in labels with no predicted samples. Use `zero_division` parameter to control this behavior.\n",
      "  _warn_prf(average, modifier, msg_start, len(result))\n",
      "D:\\anaconda\\lib\\site-packages\\sklearn\\metrics\\_classification.py:1248: UndefinedMetricWarning: Precision and F-score are ill-defined and being set to 0.0 in labels with no predicted samples. Use `zero_division` parameter to control this behavior.\n",
      "  _warn_prf(average, modifier, msg_start, len(result))\n"
     ]
    }
   ],
   "source": [
    "print('Classification report:',classification_report(yt_test,yt_predxgb_tf ))\n",
    "print('Confusion matrix:', confusion_matrix(yt_test,yt_predxgb_tf))"
   ]
  },
  {
   "cell_type": "code",
   "execution_count": 116,
   "metadata": {
    "colab": {
     "base_uri": "https://localhost:8080/"
    },
    "id": "LLz-Gk092pNr",
    "outputId": "1935bfc6-0a49-4180-ff8a-53eb8256af98"
   },
   "outputs": [
    {
     "data": {
      "text/plain": [
       "KNeighborsClassifier(n_neighbors=3)"
      ]
     },
     "execution_count": 116,
     "metadata": {},
     "output_type": "execute_result"
    }
   ],
   "source": [
    "#Kneighbours\n",
    "from sklearn.neighbors import KNeighborsClassifier\n",
    "neigh_2 = KNeighborsClassifier(n_neighbors=3)\n",
    "neigh_2.fit(Xt_train, yt_train)"
   ]
  },
  {
   "cell_type": "code",
   "execution_count": 117,
   "metadata": {
    "id": "diMxWx0h246w"
   },
   "outputs": [],
   "source": [
    "yt_pred_k2 = neigh_2.predict(Xt_test)\n",
    "acc_neigh2 = accuracy_score(yt_test, yt_pred_k2)\n",
    "acc_neigh_tr2 = neigh_2.score(Xt_train,yt_train)\n"
   ]
  },
  {
   "cell_type": "code",
   "execution_count": 118,
   "metadata": {
    "colab": {
     "base_uri": "https://localhost:8080/"
    },
    "id": "MJDNjQ2f3E0e",
    "outputId": "ad24164f-0478-476f-c0f1-bef82d6a855d"
   },
   "outputs": [
    {
     "name": "stdout",
     "output_type": "stream",
     "text": [
      " Test accuracy of the KNeighbours model : 74.60\n",
      "Train accuracy of the Kneighbours model : 77.18\n",
      "Classification report:               precision    recall  f1-score   support\n",
      "\n",
      "           I       0.77      0.98      0.86        48\n",
      "          II       0.00      0.00      0.00         5\n",
      "         III       0.00      0.00      0.00         4\n",
      "          IV       0.00      0.00      0.00         5\n",
      "           V       0.00      0.00      0.00         1\n",
      "\n",
      "    accuracy                           0.75        63\n",
      "   macro avg       0.15      0.20      0.17        63\n",
      "weighted avg       0.59      0.75      0.66        63\n",
      "\n",
      "Confusion matrix: [[47  1  0  0  0]\n",
      " [ 5  0  0  0  0]\n",
      " [ 4  0  0  0  0]\n",
      " [ 4  1  0  0  0]\n",
      " [ 1  0  0  0  0]]\n"
     ]
    },
    {
     "name": "stderr",
     "output_type": "stream",
     "text": [
      "D:\\anaconda\\lib\\site-packages\\sklearn\\metrics\\_classification.py:1248: UndefinedMetricWarning: Precision and F-score are ill-defined and being set to 0.0 in labels with no predicted samples. Use `zero_division` parameter to control this behavior.\n",
      "  _warn_prf(average, modifier, msg_start, len(result))\n",
      "D:\\anaconda\\lib\\site-packages\\sklearn\\metrics\\_classification.py:1248: UndefinedMetricWarning: Precision and F-score are ill-defined and being set to 0.0 in labels with no predicted samples. Use `zero_division` parameter to control this behavior.\n",
      "  _warn_prf(average, modifier, msg_start, len(result))\n",
      "D:\\anaconda\\lib\\site-packages\\sklearn\\metrics\\_classification.py:1248: UndefinedMetricWarning: Precision and F-score are ill-defined and being set to 0.0 in labels with no predicted samples. Use `zero_division` parameter to control this behavior.\n",
      "  _warn_prf(average, modifier, msg_start, len(result))\n"
     ]
    }
   ],
   "source": [
    "print(\" Test accuracy of the KNeighbours model : {:.2f}\".format(acc_neigh2*100))\n",
    "print(\"Train accuracy of the Kneighbours model : {:.2f}\".format(acc_neigh_tr2*100))\n",
    "print('Classification report:',classification_report(yt_test,yt_pred_k2))\n",
    "print('Confusion matrix:', confusion_matrix(yt_test,yt_pred_k2))"
   ]
  },
  {
   "cell_type": "code",
   "execution_count": 119,
   "metadata": {
    "id": "1E8Kvb4F3Rzm"
   },
   "outputs": [],
   "source": [
    "#naive bayes\n",
    "from sklearn.naive_bayes import GaussianNB\n",
    "g_model3 = GaussianNB()\n",
    "g_model3.fit(Xt_train, yt_train)\n",
    "g_pred3 = g_model3.predict(Xt_test)"
   ]
  },
  {
   "cell_type": "code",
   "execution_count": 120,
   "metadata": {
    "colab": {
     "base_uri": "https://localhost:8080/"
    },
    "id": "3mw93Ooe3kqZ",
    "outputId": "c314b575-51a3-4d79-cb3a-c9cd863be993"
   },
   "outputs": [
    {
     "name": "stdout",
     "output_type": "stream",
     "text": [
      "Accuracy on Training data: 0.9943661971830986\n",
      "Accuracy on Test data: 0.746031746031746\n"
     ]
    }
   ],
   "source": [
    "print('Accuracy on Training data:',g_model3.score(Xt_train, yt_train) ) #accuracy of training data\n",
    "print('Accuracy on Test data:',g_model3.score(Xt_test, yt_test) ) #accuracy data of testing data"
   ]
  },
  {
   "cell_type": "code",
   "execution_count": 121,
   "metadata": {
    "colab": {
     "base_uri": "https://localhost:8080/"
    },
    "id": "YBGAyPK93p6t",
    "outputId": "d31850d8-0743-4528-9c5b-5ccc7f99d1f0"
   },
   "outputs": [
    {
     "name": "stdout",
     "output_type": "stream",
     "text": [
      "Classification report:               precision    recall  f1-score   support\n",
      "\n",
      "           I       0.76      0.98      0.85        48\n",
      "          II       0.00      0.00      0.00         5\n",
      "         III       0.00      0.00      0.00         4\n",
      "          IV       0.00      0.00      0.00         5\n",
      "           V       0.00      0.00      0.00         1\n",
      "\n",
      "    accuracy                           0.75        63\n",
      "   macro avg       0.15      0.20      0.17        63\n",
      "weighted avg       0.58      0.75      0.65        63\n",
      "\n",
      "Confusion matrix: [[47  0  0  1  0]\n",
      " [ 5  0  0  0  0]\n",
      " [ 4  0  0  0  0]\n",
      " [ 5  0  0  0  0]\n",
      " [ 1  0  0  0  0]]\n"
     ]
    },
    {
     "name": "stderr",
     "output_type": "stream",
     "text": [
      "D:\\anaconda\\lib\\site-packages\\sklearn\\metrics\\_classification.py:1248: UndefinedMetricWarning: Precision and F-score are ill-defined and being set to 0.0 in labels with no predicted samples. Use `zero_division` parameter to control this behavior.\n",
      "  _warn_prf(average, modifier, msg_start, len(result))\n",
      "D:\\anaconda\\lib\\site-packages\\sklearn\\metrics\\_classification.py:1248: UndefinedMetricWarning: Precision and F-score are ill-defined and being set to 0.0 in labels with no predicted samples. Use `zero_division` parameter to control this behavior.\n",
      "  _warn_prf(average, modifier, msg_start, len(result))\n",
      "D:\\anaconda\\lib\\site-packages\\sklearn\\metrics\\_classification.py:1248: UndefinedMetricWarning: Precision and F-score are ill-defined and being set to 0.0 in labels with no predicted samples. Use `zero_division` parameter to control this behavior.\n",
      "  _warn_prf(average, modifier, msg_start, len(result))\n"
     ]
    }
   ],
   "source": [
    "print('Classification report:',classification_report(yt_test,g_pred3))\n",
    "print('Confusion matrix:', confusion_matrix(yt_test,g_pred3))"
   ]
  },
  {
   "cell_type": "code",
   "execution_count": 126,
   "metadata": {},
   "outputs": [],
   "source": [
    "#Bagging"
   ]
  },
  {
   "cell_type": "code",
   "execution_count": 122,
   "metadata": {
    "colab": {
     "base_uri": "https://localhost:8080/"
    },
    "id": "nmWM0seS3zQf",
    "outputId": "574c7ec2-be40-4cc9-f466-792695b5c283"
   },
   "outputs": [
    {
     "data": {
      "text/plain": [
       "GridSearchCV(cv=StratifiedShuffleSplit(n_splits=10, random_state=15, test_size=0.3,\n",
       "            train_size=None),\n",
       "             estimator=BaggingClassifier(), n_jobs=-1,\n",
       "             param_grid={'n_estimators': [10, 30, 50, 70, 80, 150, 160, 170,\n",
       "                                          175, 180, 185]})"
      ]
     },
     "execution_count": 122,
     "metadata": {},
     "output_type": "execute_result"
    }
   ],
   "source": [
    "from sklearn.ensemble import BaggingClassifier\n",
    "from sklearn.model_selection import GridSearchCV, StratifiedShuffleSplit\n",
    "n_estimators3 = [10,30,50,70,80,150,160, 170,175,180,185];\n",
    "cv3 = StratifiedShuffleSplit(n_splits=10, test_size=.30, random_state=15)\n",
    "\n",
    "parameters3 = {'n_estimators':n_estimators3,\n",
    "              \n",
    "        }\n",
    "grid3 = GridSearchCV(BaggingClassifier(base_estimator= None, ## If None, then the base estimator is a decision tree.\n",
    "                                      bootstrap_features=False),\n",
    "                                 param_grid=parameters3,\n",
    "                                 cv=cv3,\n",
    "                                 n_jobs = -1)\n",
    "grid3.fit(Xt_train, yt_train) "
   ]
  },
  {
   "cell_type": "code",
   "execution_count": 123,
   "metadata": {
    "colab": {
     "base_uri": "https://localhost:8080/"
    },
    "id": "P0mCyaG24N5J",
    "outputId": "44203e67-856d-43af-ca56-516c8a8f2875"
   },
   "outputs": [
    {
     "name": "stdout",
     "output_type": "stream",
     "text": [
      " Test accuracy of the Bagging model : 74.60\n",
      "Train accuracy of the Bagging model : 99.44\n",
      "Classification report:               precision    recall  f1-score   support\n",
      "\n",
      "           I       0.76      0.98      0.85        48\n",
      "          II       0.00      0.00      0.00         5\n",
      "         III       0.00      0.00      0.00         4\n",
      "          IV       0.00      0.00      0.00         5\n",
      "           V       0.00      0.00      0.00         1\n",
      "\n",
      "    accuracy                           0.75        63\n",
      "   macro avg       0.15      0.20      0.17        63\n",
      "weighted avg       0.58      0.75      0.65        63\n",
      "\n",
      "Confusion matrix: [[47  1  0  0  0]\n",
      " [ 5  0  0  0  0]\n",
      " [ 4  0  0  0  0]\n",
      " [ 5  0  0  0  0]\n",
      " [ 1  0  0  0  0]]\n"
     ]
    },
    {
     "name": "stderr",
     "output_type": "stream",
     "text": [
      "D:\\anaconda\\lib\\site-packages\\sklearn\\metrics\\_classification.py:1248: UndefinedMetricWarning: Precision and F-score are ill-defined and being set to 0.0 in labels with no predicted samples. Use `zero_division` parameter to control this behavior.\n",
      "  _warn_prf(average, modifier, msg_start, len(result))\n",
      "D:\\anaconda\\lib\\site-packages\\sklearn\\metrics\\_classification.py:1248: UndefinedMetricWarning: Precision and F-score are ill-defined and being set to 0.0 in labels with no predicted samples. Use `zero_division` parameter to control this behavior.\n",
      "  _warn_prf(average, modifier, msg_start, len(result))\n",
      "D:\\anaconda\\lib\\site-packages\\sklearn\\metrics\\_classification.py:1248: UndefinedMetricWarning: Precision and F-score are ill-defined and being set to 0.0 in labels with no predicted samples. Use `zero_division` parameter to control this behavior.\n",
      "  _warn_prf(average, modifier, msg_start, len(result))\n"
     ]
    }
   ],
   "source": [
    "yt_pred_b3 = grid3.predict(Xt_test)\n",
    "acc_b3 = accuracy_score(yt_test, yt_pred_b3)\n",
    "acc_b3_tr = grid3.score(Xt_train,yt_train)\n",
    "\n",
    "print(\" Test accuracy of the Bagging model : {:.2f}\".format(acc_b3*100))\n",
    "print(\"Train accuracy of the Bagging model : {:.2f}\".format(acc_b3_tr*100))\n",
    "print('Classification report:',classification_report(yt_test,yt_pred_b3))\n",
    "print('Confusion matrix:', confusion_matrix(yt_test,yt_pred_b3))"
   ]
  },
  {
   "cell_type": "code",
   "execution_count": 124,
   "metadata": {
    "colab": {
     "base_uri": "https://localhost:8080/"
    },
    "id": "ODmLsc1p4mkL",
    "outputId": "6a7ff749-2c11-4085-d863-55b7248211c2"
   },
   "outputs": [
    {
     "data": {
      "text/plain": [
       "AdaBoostClassifier(n_estimators=100, random_state=0)"
      ]
     },
     "execution_count": 124,
     "metadata": {},
     "output_type": "execute_result"
    }
   ],
   "source": [
    "#AdaBoosting\n",
    "from sklearn.ensemble import AdaBoostClassifier\n",
    "clf_ada_t = AdaBoostClassifier(n_estimators=100, random_state=0)\n",
    "clf_ada_t.fit(Xt_train, yt_train)"
   ]
  },
  {
   "cell_type": "code",
   "execution_count": 125,
   "metadata": {
    "colab": {
     "base_uri": "https://localhost:8080/"
    },
    "id": "neMNYsMQ4x9n",
    "outputId": "c9393ab1-53fd-466a-b3ab-c89f62afbb03"
   },
   "outputs": [
    {
     "name": "stdout",
     "output_type": "stream",
     "text": [
      " Test accuracy of the ADA model : 71.43\n",
      "Train accuracy of the ADA model : 74.08\n",
      "Classification report:               precision    recall  f1-score   support\n",
      "\n",
      "           I       0.79      0.92      0.85        48\n",
      "          II       0.00      0.00      0.00         5\n",
      "         III       0.33      0.25      0.29         4\n",
      "          IV       0.00      0.00      0.00         5\n",
      "           V       0.00      0.00      0.00         1\n",
      "\n",
      "    accuracy                           0.71        63\n",
      "   macro avg       0.22      0.23      0.23        63\n",
      "weighted avg       0.62      0.71      0.66        63\n",
      "\n",
      "Confusion matrix: [[44  3  0  1  0]\n",
      " [ 3  0  2  0  0]\n",
      " [ 3  0  1  0  0]\n",
      " [ 5  0  0  0  0]\n",
      " [ 1  0  0  0  0]]\n"
     ]
    },
    {
     "name": "stderr",
     "output_type": "stream",
     "text": [
      "D:\\anaconda\\lib\\site-packages\\sklearn\\metrics\\_classification.py:1248: UndefinedMetricWarning: Precision and F-score are ill-defined and being set to 0.0 in labels with no predicted samples. Use `zero_division` parameter to control this behavior.\n",
      "  _warn_prf(average, modifier, msg_start, len(result))\n",
      "D:\\anaconda\\lib\\site-packages\\sklearn\\metrics\\_classification.py:1248: UndefinedMetricWarning: Precision and F-score are ill-defined and being set to 0.0 in labels with no predicted samples. Use `zero_division` parameter to control this behavior.\n",
      "  _warn_prf(average, modifier, msg_start, len(result))\n",
      "D:\\anaconda\\lib\\site-packages\\sklearn\\metrics\\_classification.py:1248: UndefinedMetricWarning: Precision and F-score are ill-defined and being set to 0.0 in labels with no predicted samples. Use `zero_division` parameter to control this behavior.\n",
      "  _warn_prf(average, modifier, msg_start, len(result))\n"
     ]
    }
   ],
   "source": [
    "yt_pred_ada_1 = clf_ada_t.predict(Xt_test)\n",
    "acc_ada_t1 = accuracy_score(yt_test, yt_pred_ada_1)\n",
    "acc_ada_t1_tr = clf_ada_t.score(Xt_train,yt_train)\n",
    "\n",
    "print(\" Test accuracy of the ADA model : {:.2f}\".format(acc_ada_t1*100))\n",
    "print(\"Train accuracy of the ADA model : {:.2f}\".format(acc_ada_t1_tr*100))\n",
    "print('Classification report:',classification_report(yt_test,yt_pred_ada_1))\n",
    "print('Confusion matrix:', confusion_matrix(yt_test,yt_pred_ada_1))"
   ]
  },
  {
   "cell_type": "code",
   "execution_count": 127,
   "metadata": {
    "id": "iOs9Lq8L5NGH"
   },
   "outputs": [],
   "source": [
    "#Target variable- potential accident level\n",
    "tfidf_vecp = TfidfVectorizer(ngram_range=(1,2))\n",
    "Xpa = tfidf_vecp.fit_transform(X).toarray()\n",
    "\n",
    "Xpa_train, Xpa_test, ypa_train, ypa_test = train_test_split(Xpa, yp, test_size=0.15, random_state=42)"
   ]
  },
  {
   "cell_type": "code",
   "execution_count": 128,
   "metadata": {
    "colab": {
     "base_uri": "https://localhost:8080/"
    },
    "id": "w-7wHx7h5kvx",
    "outputId": "a9b23c1f-61c4-40a4-ac9f-73c438da7138"
   },
   "outputs": [
    {
     "name": "stdout",
     "output_type": "stream",
     "text": [
      "Test accuracy of the SVC model : 42.86\n",
      "Train accuracy of the SVC model : 99.72\n"
     ]
    }
   ],
   "source": [
    "#SVC Model Training and Evaluation\n",
    "svc_pa = LinearSVC(max_iter=5500)\n",
    "svc_pa.fit(Xpa_train, ypa_train)\n",
    "ypa_pred_pa = svc_pa.predict(Xpa_test)\n",
    "\n",
    "# Evaluation\n",
    "accpa_svc = accuracy_score(ypa_test,ypa_pred_pa  )\n",
    "accpa_svc_pa_tr = svc_pa.score(Xpa_train,ypa_train)\n",
    "\n",
    "print(\"Test accuracy of the SVC model : {:.2f}\".format(accpa_svc*100))\n",
    "print(\"Train accuracy of the SVC model : {:.2f}\".format(accpa_svc_pa_tr*100))"
   ]
  },
  {
   "cell_type": "code",
   "execution_count": 129,
   "metadata": {
    "colab": {
     "base_uri": "https://localhost:8080/"
    },
    "id": "2KkPhUzy6FQe",
    "outputId": "9e79cc8c-f9de-4d97-d918-09d2f74cbcec"
   },
   "outputs": [
    {
     "name": "stdout",
     "output_type": "stream",
     "text": [
      "Classification report:               precision    recall  f1-score   support\n",
      "\n",
      "           I       0.50      0.14      0.22         7\n",
      "          II       0.56      0.45      0.50        11\n",
      "         III       0.43      0.16      0.23        19\n",
      "          IV       0.40      0.78      0.53        23\n",
      "           V       0.00      0.00      0.00         3\n",
      "\n",
      "    accuracy                           0.43        63\n",
      "   macro avg       0.38      0.31      0.30        63\n",
      "weighted avg       0.43      0.43      0.37        63\n",
      "\n",
      "Confusion matrix: [[ 1  1  2  3  0]\n",
      " [ 0  5  1  5  0]\n",
      " [ 0  0  3 16  0]\n",
      " [ 1  3  1 18  0]\n",
      " [ 0  0  0  3  0]]\n"
     ]
    },
    {
     "name": "stderr",
     "output_type": "stream",
     "text": [
      "D:\\anaconda\\lib\\site-packages\\sklearn\\metrics\\_classification.py:1248: UndefinedMetricWarning: Precision and F-score are ill-defined and being set to 0.0 in labels with no predicted samples. Use `zero_division` parameter to control this behavior.\n",
      "  _warn_prf(average, modifier, msg_start, len(result))\n",
      "D:\\anaconda\\lib\\site-packages\\sklearn\\metrics\\_classification.py:1248: UndefinedMetricWarning: Precision and F-score are ill-defined and being set to 0.0 in labels with no predicted samples. Use `zero_division` parameter to control this behavior.\n",
      "  _warn_prf(average, modifier, msg_start, len(result))\n",
      "D:\\anaconda\\lib\\site-packages\\sklearn\\metrics\\_classification.py:1248: UndefinedMetricWarning: Precision and F-score are ill-defined and being set to 0.0 in labels with no predicted samples. Use `zero_division` parameter to control this behavior.\n",
      "  _warn_prf(average, modifier, msg_start, len(result))\n"
     ]
    }
   ],
   "source": [
    "print('Classification report:',classification_report(ypa_test,ypa_pred_pa))\n",
    "print('Confusion matrix:', confusion_matrix(ypa_test,ypa_pred_pa))"
   ]
  },
  {
   "cell_type": "code",
   "execution_count": 130,
   "metadata": {
    "colab": {
     "base_uri": "https://localhost:8080/"
    },
    "id": "uKVu-xAV6PGG",
    "outputId": "bd189c18-9db4-4f5e-f918-0443f20a944e"
   },
   "outputs": [
    {
     "name": "stdout",
     "output_type": "stream",
     "text": [
      "Test accuracy of the Random Forest model : 41.27\n",
      "Train accuracy of the Random Forest model : 99.72\n",
      "Classification report:               precision    recall  f1-score   support\n",
      "\n",
      "           I       1.00      0.14      0.25         7\n",
      "          II       0.75      0.27      0.40        11\n",
      "         III       0.36      0.21      0.27        19\n",
      "          IV       0.38      0.78      0.51        23\n",
      "           V       0.00      0.00      0.00         3\n",
      "\n",
      "    accuracy                           0.41        63\n",
      "   macro avg       0.50      0.28      0.29        63\n",
      "weighted avg       0.49      0.41      0.37        63\n",
      "\n",
      "Confusion matrix: [[ 1  0  1  5  0]\n",
      " [ 0  3  2  6  0]\n",
      " [ 0  0  4 15  0]\n",
      " [ 0  1  4 18  0]\n",
      " [ 0  0  0  3  0]]\n"
     ]
    },
    {
     "name": "stderr",
     "output_type": "stream",
     "text": [
      "D:\\anaconda\\lib\\site-packages\\sklearn\\metrics\\_classification.py:1248: UndefinedMetricWarning: Precision and F-score are ill-defined and being set to 0.0 in labels with no predicted samples. Use `zero_division` parameter to control this behavior.\n",
      "  _warn_prf(average, modifier, msg_start, len(result))\n",
      "D:\\anaconda\\lib\\site-packages\\sklearn\\metrics\\_classification.py:1248: UndefinedMetricWarning: Precision and F-score are ill-defined and being set to 0.0 in labels with no predicted samples. Use `zero_division` parameter to control this behavior.\n",
      "  _warn_prf(average, modifier, msg_start, len(result))\n",
      "D:\\anaconda\\lib\\site-packages\\sklearn\\metrics\\_classification.py:1248: UndefinedMetricWarning: Precision and F-score are ill-defined and being set to 0.0 in labels with no predicted samples. Use `zero_division` parameter to control this behavior.\n",
      "  _warn_prf(average, modifier, msg_start, len(result))\n"
     ]
    }
   ],
   "source": [
    "#Random forest\n",
    "rf_pa = RandomForestClassifier(random_state=42)\n",
    "rf_pa.fit(Xpa_train, ypa_train)\n",
    "ypa_pred_rf = rf_pa.predict(Xpa_test)\n",
    "\n",
    "acc_pa_rf = accuracy_score(ypa_test, ypa_pred_rf)\n",
    "acc_pa_rf_tr = rf_pa.score(Xpa_train, ypa_train)\n",
    "\n",
    "print(\"Test accuracy of the Random Forest model : {:.2f}\".format(acc_pa_rf*100))\n",
    "print(\"Train accuracy of the Random Forest model : {:.2f}\".format(acc_pa_rf_tr*100))\n",
    "print('Classification report:',classification_report(ypa_test,ypa_pred_rf))\n",
    "print('Confusion matrix:', confusion_matrix(ypa_test,ypa_pred_rf))"
   ]
  },
  {
   "cell_type": "code",
   "execution_count": 131,
   "metadata": {
    "colab": {
     "base_uri": "https://localhost:8080/"
    },
    "id": "_UNmDeu161MK",
    "outputId": "729f5ed5-8736-4bc4-c4e9-758bb3ac759d"
   },
   "outputs": [
    {
     "name": "stdout",
     "output_type": "stream",
     "text": [
      "Test accuracy of the Gradient boosting model : 42.86\n",
      "Train accuracy of the Gradient boosting model : 99.72\n",
      "Classification report:               precision    recall  f1-score   support\n",
      "\n",
      "           I       1.00      0.14      0.25         7\n",
      "          II       0.25      0.09      0.13        11\n",
      "         III       0.36      0.42      0.39        19\n",
      "          IV       0.49      0.74      0.59        23\n",
      "           V       0.00      0.00      0.00         3\n",
      "\n",
      "    accuracy                           0.43        63\n",
      "   macro avg       0.42      0.28      0.27        63\n",
      "weighted avg       0.44      0.43      0.38        63\n",
      "\n",
      "Confusion matrix: [[ 1  1  3  2  0]\n",
      " [ 0  1  5  4  1]\n",
      " [ 0  2  8  9  0]\n",
      " [ 0  0  6 17  0]\n",
      " [ 0  0  0  3  0]]\n"
     ]
    }
   ],
   "source": [
    "#Gradient boosting\n",
    "gb_pa = GradientBoostingClassifier(n_estimators=100)\n",
    "gb_pa.fit(Xpa_train, ypa_train)\n",
    "ypa_pred_gb = gb_pa.predict(Xpa_test)\n",
    "acc_pa_gb = accuracy_score(ypa_test,ypa_pred_gb )\n",
    "acc_pa_gb_tr = gb_pa.score(Xpa_train, ypa_train)\n",
    "\n",
    "print(\"Test accuracy of the Gradient boosting model : {:.2f}\".format(acc_pa_gb*100))\n",
    "print(\"Train accuracy of the Gradient boosting model : {:.2f}\".format(acc_pa_gb_tr*100))\n",
    "print('Classification report:',classification_report(ypa_test,ypa_pred_gb))\n",
    "print('Confusion matrix:', confusion_matrix(ypa_test,ypa_pred_gb))"
   ]
  },
  {
   "cell_type": "code",
   "execution_count": 132,
   "metadata": {
    "colab": {
     "base_uri": "https://localhost:8080/"
    },
    "id": "r0vaXaQp7YTf",
    "outputId": "929f3905-1532-47f1-c02b-9468d07f476d"
   },
   "outputs": [
    {
     "name": "stderr",
     "output_type": "stream",
     "text": [
      "D:\\anaconda\\lib\\site-packages\\xgboost\\sklearn.py:1146: UserWarning: The use of label encoder in XGBClassifier is deprecated and will be removed in a future release. To remove this warning, do the following: 1) Pass option use_label_encoder=False when constructing XGBClassifier object; and 2) Encode your labels (y) as integers starting with 0, i.e. 0, 1, 2, ..., [num_class - 1].\n",
      "  warnings.warn(label_encoder_deprecation_msg, UserWarning)\n"
     ]
    },
    {
     "name": "stdout",
     "output_type": "stream",
     "text": [
      "[01:04:55] WARNING: C:/Users/Administrator/workspace/xgboost-win64_release_1.4.0/src/learner.cc:1095: Starting in XGBoost 1.3.0, the default evaluation metric used with the objective 'multi:softprob' was changed from 'merror' to 'mlogloss'. Explicitly set eval_metric if you'd like to restore the old behavior.\n",
      " Test accuracy of the XGBoost model : 44.44\n",
      "Train accuracy of the XGBoost model : 99.72\n",
      "Classification report:               precision    recall  f1-score   support\n",
      "\n",
      "           I       1.00      0.29      0.44         7\n",
      "          II       0.43      0.55      0.48        11\n",
      "         III       0.41      0.37      0.39        19\n",
      "          IV       0.46      0.57      0.51        23\n",
      "           V       0.00      0.00      0.00         3\n",
      "\n",
      "    accuracy                           0.44        63\n",
      "   macro avg       0.46      0.35      0.36        63\n",
      "weighted avg       0.48      0.44      0.44        63\n",
      "\n",
      "Confusion matrix: [[ 2  1  2  2  0]\n",
      " [ 0  6  2  2  1]\n",
      " [ 0  3  7  8  1]\n",
      " [ 0  4  6 13  0]\n",
      " [ 0  0  0  3  0]]\n"
     ]
    }
   ],
   "source": [
    "#XGBoost Model for Training and Evaluation\n",
    "xgb_pa = XGBClassifier()\n",
    "xgb_pa.fit(Xpa_train, ypa_train)\n",
    "ypa_pred_pa = xgb_pa.predict(Xpa_test)\n",
    "acc_pa_xgb = accuracy_score(ypa_test,ypa_pred_pa )\n",
    "acc_pa_xgb_tr = xgb_pa.score(Xpa_train,ypa_train)\n",
    "\n",
    "print(\" Test accuracy of the XGBoost model : {:.2f}\".format(acc_pa_xgb*100))\n",
    "print(\"Train accuracy of the XGBoost model : {:.2f}\".format(acc_pa_xgb_tr*100))\n",
    "print('Classification report:',classification_report(ypa_test,ypa_pred_pa))\n",
    "print('Confusion matrix:', confusion_matrix(ypa_test,ypa_pred_pa))"
   ]
  },
  {
   "cell_type": "code",
   "execution_count": 133,
   "metadata": {
    "colab": {
     "base_uri": "https://localhost:8080/"
    },
    "id": "Es8JNfFe8BTa",
    "outputId": "af05adb0-095d-4092-b282-8df18545dba2"
   },
   "outputs": [
    {
     "data": {
      "text/plain": [
       "KNeighborsClassifier(n_neighbors=3)"
      ]
     },
     "execution_count": 133,
     "metadata": {},
     "output_type": "execute_result"
    }
   ],
   "source": [
    "#Kneighbours\n",
    "from sklearn.neighbors import KNeighborsClassifier\n",
    "neigh_4 = KNeighborsClassifier(n_neighbors=3)\n",
    "neigh_4.fit(Xpa_train, ypa_train)"
   ]
  },
  {
   "cell_type": "code",
   "execution_count": 134,
   "metadata": {
    "id": "MAlp4aij8SBg"
   },
   "outputs": [],
   "source": [
    "ypa_pred_k1 = neigh_4.predict(Xpa_test)\n",
    "acc_pa_neigh1 = accuracy_score(ypa_test, ypa_pred_k1)\n",
    "acc_pa_neigh_tr1 = neigh_4.score(Xpa_train,ypa_train)\n"
   ]
  },
  {
   "cell_type": "code",
   "execution_count": 135,
   "metadata": {
    "colab": {
     "base_uri": "https://localhost:8080/"
    },
    "id": "AEw61AHG8eUL",
    "outputId": "be4bbe21-e931-45c0-b5a0-ec87dbb38635"
   },
   "outputs": [
    {
     "name": "stdout",
     "output_type": "stream",
     "text": [
      " Test accuracy of the KNeighbours model : 39.68\n",
      "Train accuracy of the Kneighbours model : 63.94\n",
      "Classification report:               precision    recall  f1-score   support\n",
      "\n",
      "           I       0.11      0.14      0.12         7\n",
      "          II       0.39      0.64      0.48        11\n",
      "         III       0.40      0.21      0.28        19\n",
      "          IV       0.50      0.57      0.53        23\n",
      "           V       0.00      0.00      0.00         3\n",
      "\n",
      "    accuracy                           0.40        63\n",
      "   macro avg       0.28      0.31      0.28        63\n",
      "weighted avg       0.38      0.40      0.38        63\n",
      "\n",
      "Confusion matrix: [[ 1  4  1  1  0]\n",
      " [ 1  7  1  2  0]\n",
      " [ 4  3  4  8  0]\n",
      " [ 3  3  4 13  0]\n",
      " [ 0  1  0  2  0]]\n"
     ]
    },
    {
     "name": "stderr",
     "output_type": "stream",
     "text": [
      "D:\\anaconda\\lib\\site-packages\\sklearn\\metrics\\_classification.py:1248: UndefinedMetricWarning: Precision and F-score are ill-defined and being set to 0.0 in labels with no predicted samples. Use `zero_division` parameter to control this behavior.\n",
      "  _warn_prf(average, modifier, msg_start, len(result))\n",
      "D:\\anaconda\\lib\\site-packages\\sklearn\\metrics\\_classification.py:1248: UndefinedMetricWarning: Precision and F-score are ill-defined and being set to 0.0 in labels with no predicted samples. Use `zero_division` parameter to control this behavior.\n",
      "  _warn_prf(average, modifier, msg_start, len(result))\n",
      "D:\\anaconda\\lib\\site-packages\\sklearn\\metrics\\_classification.py:1248: UndefinedMetricWarning: Precision and F-score are ill-defined and being set to 0.0 in labels with no predicted samples. Use `zero_division` parameter to control this behavior.\n",
      "  _warn_prf(average, modifier, msg_start, len(result))\n"
     ]
    }
   ],
   "source": [
    "print(\" Test accuracy of the KNeighbours model : {:.2f}\".format(acc_pa_neigh1*100))\n",
    "print(\"Train accuracy of the Kneighbours model : {:.2f}\".format(acc_pa_neigh_tr1*100))\n",
    "print('Classification report:',classification_report(ypa_test,ypa_pred_k1))\n",
    "print('Confusion matrix:', confusion_matrix(ypa_test,ypa_pred_k1))"
   ]
  },
  {
   "cell_type": "code",
   "execution_count": 136,
   "metadata": {
    "id": "vNyysc_V8pov"
   },
   "outputs": [],
   "source": [
    "#naive bayes\n",
    "from sklearn.naive_bayes import GaussianNB\n",
    "g_model_pa = GaussianNB()\n",
    "g_model_pa.fit(Xpa_train, ypa_train)\n",
    "g_pred_pa = g_model_pa.predict(Xpa_test)"
   ]
  },
  {
   "cell_type": "code",
   "execution_count": 137,
   "metadata": {
    "colab": {
     "base_uri": "https://localhost:8080/"
    },
    "id": "fV421-hL81CH",
    "outputId": "aff61b0f-8116-4aee-b176-acd58160c318"
   },
   "outputs": [
    {
     "name": "stdout",
     "output_type": "stream",
     "text": [
      "Accuracy on Training data: 0.9971830985915493\n",
      "Accuracy on Test data: 0.4444444444444444\n"
     ]
    }
   ],
   "source": [
    "print('Accuracy on Training data:',g_model_pa.score(Xpa_train, ypa_train) ) #accuracy of training data\n",
    "print('Accuracy on Test data:',g_model_pa.score(Xpa_test, ypa_test) ) #accuracy data of testing data"
   ]
  },
  {
   "cell_type": "code",
   "execution_count": 138,
   "metadata": {
    "colab": {
     "base_uri": "https://localhost:8080/"
    },
    "id": "VS3mf1oh89zB",
    "outputId": "3c0561ea-c8fd-417c-c4c6-d5e187112a4f"
   },
   "outputs": [
    {
     "name": "stdout",
     "output_type": "stream",
     "text": [
      "Classification report:               precision    recall  f1-score   support\n",
      "\n",
      "           I       0.25      0.14      0.18         7\n",
      "          II       0.50      0.36      0.42        11\n",
      "         III       0.42      0.26      0.32        19\n",
      "          IV       0.47      0.78      0.59        23\n",
      "           V       0.00      0.00      0.00         3\n",
      "\n",
      "    accuracy                           0.44        63\n",
      "   macro avg       0.33      0.31      0.30        63\n",
      "weighted avg       0.41      0.44      0.41        63\n",
      "\n",
      "Confusion matrix: [[ 1  2  2  1  1]\n",
      " [ 1  4  1  5  0]\n",
      " [ 0  1  5 13  0]\n",
      " [ 2  0  3 18  0]\n",
      " [ 0  1  1  1  0]]\n"
     ]
    }
   ],
   "source": [
    "print('Classification report:',classification_report(ypa_test,g_pred_pa))\n",
    "print('Confusion matrix:', confusion_matrix(ypa_test,g_pred_pa))"
   ]
  },
  {
   "cell_type": "code",
   "execution_count": 139,
   "metadata": {
    "id": "ZEtIhXHZ9HcN"
   },
   "outputs": [],
   "source": [
    "#Bagging\n",
    "from sklearn.ensemble import BaggingClassifier\n",
    "from sklearn.model_selection import GridSearchCV, ShuffleSplit\n",
    "n_estimators_pa = [10,30,50,70,80,150,160, 170,175,180,185];\n",
    "cvpa = ShuffleSplit(n_splits=10, test_size=.30, random_state=15)\n",
    "\n",
    "parameters_pa = {'n_estimators':n_estimators_pa,\n",
    "              \n",
    "        }\n",
    "grid_pa = GridSearchCV(BaggingClassifier(base_estimator= None, ## If None, then the base estimator is a decision tree.\n",
    "                                      bootstrap_features=False),\n",
    "                                 param_grid=parameters_pa,\n",
    "                                 cv=cvpa,\n",
    "                                 n_jobs = -1)\n"
   ]
  },
  {
   "cell_type": "code",
   "execution_count": 140,
   "metadata": {
    "id": "0Ys1c1us9Wr0"
   },
   "outputs": [
    {
     "data": {
      "text/plain": [
       "GridSearchCV(cv=ShuffleSplit(n_splits=10, random_state=15, test_size=0.3, train_size=None),\n",
       "             estimator=BaggingClassifier(), n_jobs=-1,\n",
       "             param_grid={'n_estimators': [10, 30, 50, 70, 80, 150, 160, 170,\n",
       "                                          175, 180, 185]})"
      ]
     },
     "execution_count": 140,
     "metadata": {},
     "output_type": "execute_result"
    }
   ],
   "source": [
    "grid_pa.fit(Xpa_train, ypa_train) "
   ]
  },
  {
   "cell_type": "code",
   "execution_count": 141,
   "metadata": {
    "id": "q8zjOGX49fHN"
   },
   "outputs": [
    {
     "name": "stdout",
     "output_type": "stream",
     "text": [
      " Test accuracy of the Bagging model : 41.27\n",
      "Train accuracy of the Bagging model : 99.72\n",
      "Classification report:               precision    recall  f1-score   support\n",
      "\n",
      "           I       1.00      0.14      0.25         7\n",
      "          II       0.40      0.36      0.38        11\n",
      "         III       0.46      0.32      0.37        19\n",
      "          IV       0.38      0.65      0.48        23\n",
      "           V       0.00      0.00      0.00         3\n",
      "\n",
      "    accuracy                           0.41        63\n",
      "   macro avg       0.45      0.29      0.30        63\n",
      "weighted avg       0.46      0.41      0.38        63\n",
      "\n",
      "Confusion matrix: [[ 1  0  0  6  0]\n",
      " [ 0  4  2  5  0]\n",
      " [ 0  3  6 10  0]\n",
      " [ 0  3  5 15  0]\n",
      " [ 0  0  0  3  0]]\n"
     ]
    },
    {
     "name": "stderr",
     "output_type": "stream",
     "text": [
      "D:\\anaconda\\lib\\site-packages\\sklearn\\metrics\\_classification.py:1248: UndefinedMetricWarning: Precision and F-score are ill-defined and being set to 0.0 in labels with no predicted samples. Use `zero_division` parameter to control this behavior.\n",
      "  _warn_prf(average, modifier, msg_start, len(result))\n",
      "D:\\anaconda\\lib\\site-packages\\sklearn\\metrics\\_classification.py:1248: UndefinedMetricWarning: Precision and F-score are ill-defined and being set to 0.0 in labels with no predicted samples. Use `zero_division` parameter to control this behavior.\n",
      "  _warn_prf(average, modifier, msg_start, len(result))\n",
      "D:\\anaconda\\lib\\site-packages\\sklearn\\metrics\\_classification.py:1248: UndefinedMetricWarning: Precision and F-score are ill-defined and being set to 0.0 in labels with no predicted samples. Use `zero_division` parameter to control this behavior.\n",
      "  _warn_prf(average, modifier, msg_start, len(result))\n"
     ]
    }
   ],
   "source": [
    "ypa_pred_b1 = grid_pa.predict(Xpa_test)\n",
    "acc_pa_b1 = accuracy_score(ypa_test, ypa_pred_b1)\n",
    "acc_pa_b1_tr = grid_pa.score(Xpa_train,ypa_train)\n",
    "\n",
    "print(\" Test accuracy of the Bagging model : {:.2f}\".format(acc_pa_b1*100))\n",
    "print(\"Train accuracy of the Bagging model : {:.2f}\".format(acc_pa_b1_tr*100))\n",
    "print('Classification report:',classification_report(ypa_test,ypa_pred_b1))\n",
    "print('Confusion matrix:', confusion_matrix(ypa_test,ypa_pred_b1))"
   ]
  },
  {
   "cell_type": "code",
   "execution_count": 142,
   "metadata": {
    "id": "pbV3Z7Hu9xsg"
   },
   "outputs": [
    {
     "data": {
      "text/plain": [
       "AdaBoostClassifier(n_estimators=100, random_state=0)"
      ]
     },
     "execution_count": 142,
     "metadata": {},
     "output_type": "execute_result"
    }
   ],
   "source": [
    "#ADA boosting\n",
    "from sklearn.ensemble import AdaBoostClassifier\n",
    "clf_pa_ada1 = AdaBoostClassifier(n_estimators=100, random_state=0)\n",
    "clf_pa_ada1.fit(Xpa_train, ypa_train)"
   ]
  },
  {
   "cell_type": "code",
   "execution_count": 143,
   "metadata": {
    "id": "wXWGvSDh97ku"
   },
   "outputs": [
    {
     "name": "stdout",
     "output_type": "stream",
     "text": [
      " Test accuracy of the ADA model : 28.57\n",
      "Train accuracy of the ADA model : 43.38\n",
      "Classification report:               precision    recall  f1-score   support\n",
      "\n",
      "           I       1.00      0.14      0.25         7\n",
      "          II       0.25      0.09      0.13        11\n",
      "         III       0.00      0.00      0.00        19\n",
      "          IV       0.32      0.70      0.44        23\n",
      "           V       0.00      0.00      0.00         3\n",
      "\n",
      "    accuracy                           0.29        63\n",
      "   macro avg       0.31      0.19      0.16        63\n",
      "weighted avg       0.27      0.29      0.21        63\n",
      "\n",
      "Confusion matrix: [[ 1  0  1  5  0]\n",
      " [ 0  1  0  9  1]\n",
      " [ 0  1  0 17  1]\n",
      " [ 0  2  3 16  2]\n",
      " [ 0  0  0  3  0]]\n"
     ]
    }
   ],
   "source": [
    "ypa_pred_ada1 = clf_pa_ada1.predict(Xpa_test)\n",
    "acc_pa_ada1 = accuracy_score(ypa_test, ypa_pred_ada1)\n",
    "acc_pa_ada1_tr = clf_pa_ada1.score(Xpa_train,ypa_train)\n",
    "\n",
    "print(\" Test accuracy of the ADA model : {:.2f}\".format(acc_pa_ada1*100))\n",
    "print(\"Train accuracy of the ADA model : {:.2f}\".format(acc_pa_ada1_tr*100))\n",
    "print('Classification report:',classification_report(ypa_test,ypa_pred_ada1))\n",
    "print('Confusion matrix:', confusion_matrix(ypa_test,ypa_pred_ada1))"
   ]
  },
  {
   "cell_type": "code",
   "execution_count": 144,
   "metadata": {
    "id": "dvW5apVbC-UR"
   },
   "outputs": [
    {
     "name": "stdout",
     "output_type": "stream",
     "text": [
      "[0.7619047619047619, 0.7619047619047619, 0.7619047619047619, 0.7142857142857143, 0.6666666666666666, 0.7619047619047619, 0.746031746031746, 0.7619047619047619, 0.7301587301587301]\n"
     ]
    }
   ],
   "source": [
    "#Comparing all machine learning models\n",
    "#Machine learning models with target variable as accident level and count vectorization\n",
    "models_list_accidentlevel = [\" SVC using countvectorizer\",\"LinearSVC using CountVectorizer\",\"Random forest using count vectorization\",\"Gradient Boosting using count vectorization\",\"Xgboost model using count vectorization\",\"Kneighbours using count vectorization\",\"Naive bayes using count vectorization\", \"Bagging using count vectorization\",\"ADA boosting using countvectorization\"]\n",
    "\n",
    "accuracy_accidentlevel = [accuracy_score(yc_test, predictions),acc_svc,acc_rfc,acc_gbc,acc_xgbc,acc_neigh,g_model1.score(Xc_test, yc_test),acc_b,acc_ada]\n",
    "print(accuracy_accidentlevel)"
   ]
  },
  {
   "cell_type": "code",
   "execution_count": 150,
   "metadata": {
    "id": "GidYRjG3iGoZ"
   },
   "outputs": [
    {
     "data": {
      "image/png": "[encoded data removed]",
      "text/plain": [
       "<Figure size 720x360 with 1 Axes>"
      ]
     },
     "metadata": {
      "needs_background": "light"
     },
     "output_type": "display_data"
    }
   ],
   "source": [
    "# creating the bar plot\n",
    "fig = plt.figure(figsize = (10, 5)) \n",
    "plt.bar(models_list_accidentlevel, accuracy_accidentlevel, color ='yellow',width=0.8,) \n",
    "  \n",
    "plt.xlabel(\"Models to predict Accident level\") \n",
    "plt.xticks(rotation = 'vertical')\n",
    "plt.ylabel(\"Accuracy\") \n",
    "plt.title(\"Comparison of accuracies of various models for Accident level using count vectorization\") \n",
    "plt.show() "
   ]
  },
  {
   "cell_type": "code",
   "execution_count": 146,
   "metadata": {
    "id": "vf3_rsOlicQ3"
   },
   "outputs": [
    {
     "name": "stdout",
     "output_type": "stream",
     "text": [
      "[0.7619047619047619, 0.7619047619047619, 0.6984126984126984, 0.7142857142857143, 0.746031746031746, 0.746031746031746, 0.746031746031746, 0.7142857142857143]\n"
     ]
    }
   ],
   "source": [
    "models_list_accidentlevel_tf = [\"LinearSVC using TF-IDF\",\"Random forest using TF-IDF\",\"Gradient Boosting using TF-IDF\",\"Xgboost model using TF-IDF\",\"Kneighbours using TF-IDF\",\"Naive bayes using TF-IDF\", \"Bagging using TF-IDF\",\"ADA boosting using TF-IDF\"]\n",
    "\n",
    "accuracy_accidentlevel_tf = [acct_svctf,acct_rfc_tf,acct_gb_tf,acct_xgb_tf,acc_neigh2,g_model3.score(Xt_test, yt_test),acc_b3,acc_ada_t1\n",
    "]\n",
    "print(accuracy_accidentlevel_tf)"
   ]
  },
  {
   "cell_type": "code",
   "execution_count": 149,
   "metadata": {
    "id": "7Jmxzi_GkICD"
   },
   "outputs": [
    {
     "data": {
      "image/png": "[encoded data removed]",
      "text/plain": [
       "<Figure size 720x360 with 1 Axes>"
      ]
     },
     "metadata": {
      "needs_background": "light"
     },
     "output_type": "display_data"
    }
   ],
   "source": [
    "# creating the bar plot\n",
    "fig = plt.figure(figsize = (10, 5)) \n",
    "plt.bar(models_list_accidentlevel_tf, accuracy_accidentlevel_tf, color ='red',width=0.8,) \n",
    "  \n",
    "plt.xlabel(\"Models to predict Accident level\") \n",
    "plt.xticks(rotation = 'vertical')\n",
    "plt.ylabel(\"Accuracy\") \n",
    "plt.title(\"Comparison of accuracies of various models for Accident level with TF-IDF\") \n",
    "plt.show() "
   ]
  },
  {
   "cell_type": "code",
   "execution_count": 152,
   "metadata": {
    "id": "KmXpzR0SkTfk"
   },
   "outputs": [
    {
     "name": "stdout",
     "output_type": "stream",
     "text": [
      "[0.49206349206349204, 0.4444444444444444, 0.38095238095238093, 0.38095238095238093, 0.3968253968253968, 0.25396825396825395, 0.42857142857142855, 0.36507936507936506, 0.36507936507936506]\n"
     ]
    }
   ],
   "source": [
    "#Comparing machine learning models with target variable as potential accidentlevel.\n",
    "#comparing count vectorization models\n",
    "models_list_potentialaccidentlevel = [\"SVC using countvectorizer\",\"LinearSVC using CountVectorizer\",\"Random forest using count vectorization\",\"Gradient Boosting using count vectorization\",\"Xgboost model using count vectorization\",\"Kneighbours using count vectorization\",\"Naive bayes using count vectorization\", \"Bagging using count vectorization\",\"ADA boosting using countvectorization\"]\n",
    "\n",
    "accuracy_paccidentlevel = [accuracy_score(yp_test, grid_predictions_p),accp_svc,accp_rfc,accp_gbc,accp_xgbc,acc_neigh1,g_model2.score(Xp_test, yp_test),acc_b1,acc_ada1]\n",
    "print(accuracy_paccidentlevel)"
   ]
  },
  {
   "cell_type": "code",
   "execution_count": 154,
   "metadata": {
    "id": "t5g7A_4klnkO"
   },
   "outputs": [
    {
     "data": {
      "image/png": "[encoded data removed]",
      "text/plain": [
       "<Figure size 720x360 with 1 Axes>"
      ]
     },
     "metadata": {
      "needs_background": "light"
     },
     "output_type": "display_data"
    }
   ],
   "source": [
    "# creating the bar plot\n",
    "fig = plt.figure(figsize = (10, 5)) \n",
    "plt.bar(models_list_potentialaccidentlevel, accuracy_paccidentlevel, color ='blue',width=0.8,) \n",
    "  \n",
    "plt.xlabel(\"Models to predict Potential Accident level\") \n",
    "plt.xticks(rotation = 'vertical')\n",
    "plt.ylabel(\"Accuracy\") \n",
    "plt.title(\"Comparison of accuracies of various models for Potential Accident level with count vectorizatiom\") \n",
    "plt.show() "
   ]
  },
  {
   "cell_type": "code",
   "execution_count": 155,
   "metadata": {
    "id": "iEOTO9tml01s"
   },
   "outputs": [
    {
     "name": "stdout",
     "output_type": "stream",
     "text": [
      "[0.42857142857142855, 0.4126984126984127, 0.42857142857142855, 0.4444444444444444, 0.3968253968253968, 0.4444444444444444, 0.4126984126984127, 0.2857142857142857]\n"
     ]
    }
   ],
   "source": [
    "#comparing machine learning models with TF-IDF for the target variable potential accident level.\n",
    "models_list_paccidentlevel_tf = [\"SVC using TF-IDF\",\"Random forest using TF-IDF\",\"Gradient Boosting using TF-IDF\",\"Xgboost model using TF-IDF\",\"Kneighbours using TF-IDF\",\"Naive bayes using TF-IDF\", \"Bagging using TF-IDF\",\"ADA boosting using TF-IDF\"]\n",
    "\n",
    "accuracy_paccidentlevel_tf = [accpa_svc,acc_pa_rf,acc_pa_gb,acc_pa_xgb,acc_pa_neigh1,g_model_pa.score(Xpa_test, ypa_test),acc_pa_b1,acc_pa_ada1]\n",
    "print(accuracy_paccidentlevel_tf)"
   ]
  },
  {
   "cell_type": "code",
   "execution_count": 157,
   "metadata": {
    "id": "txIm3V2rnNP2"
   },
   "outputs": [
    {
     "data": {
      "image/png": "[encoded data removed]",
      "text/plain": [
       "<Figure size 720x360 with 1 Axes>"
      ]
     },
     "metadata": {
      "needs_background": "light"
     },
     "output_type": "display_data"
    }
   ],
   "source": [
    "# creating the bar plot\n",
    "fig = plt.figure(figsize = (10, 5)) \n",
    "plt.bar(models_list_potentialaccidentlevel, accuracy_paccidentlevel, color ='black',width=0.8,) \n",
    "  \n",
    "plt.xlabel(\"Models to predict Potential Accident level\") \n",
    "plt.xticks(rotation = 'vertical')\n",
    "plt.ylabel(\"Accuracy\") \n",
    "plt.title(\"Comparison of accuracies of various models for Potential Accident level with TF-IDF\") \n",
    "plt.show()"
   ]
  },
  {
   "cell_type": "code",
   "execution_count": 158,
   "metadata": {},
   "outputs": [],
   "source": [
    "#Step 3: Design, train and test Neural networks classifiers"
   ]
  },
  {
   "cell_type": "code",
   "execution_count": 159,
   "metadata": {
    "id": "nFlsE16kMtUF"
   },
   "outputs": [],
   "source": [
    "df3=data1.copy()"
   ]
  },
  {
   "cell_type": "code",
   "execution_count": 160,
   "metadata": {
    "colab": {
     "base_uri": "https://localhost:8080/"
    },
    "id": "D2SGYPP33JaZ",
    "outputId": "6b69ab7a-5147-45d9-a9fa-604d6c767985"
   },
   "outputs": [
    {
     "data": {
      "text/plain": [
       "(418, 16)"
      ]
     },
     "execution_count": 160,
     "metadata": {},
     "output_type": "execute_result"
    }
   ],
   "source": [
    "df3.shape"
   ]
  },
  {
   "cell_type": "code",
   "execution_count": 161,
   "metadata": {
    "id": "gNvY6RSYMxf3"
   },
   "outputs": [],
   "source": [
    "from sklearn.preprocessing import LabelEncoder\n",
    "acident_level_encoder1 = LabelEncoder()\n",
    "df3['Accident Level'] = acident_level_encoder1.fit_transform(df3['Accident Level'])\n",
    "\n",
    "potentital_accident_level_encoder1 = LabelEncoder()\n",
    "df3['Potential Accident Level'] = potentital_accident_level_encoder1.fit_transform(df3['Potential Accident Level'])"
   ]
  },
  {
   "cell_type": "code",
   "execution_count": 162,
   "metadata": {
    "id": "mhpSBZJXOTtE"
   },
   "outputs": [],
   "source": [
    "y_p=df3['Accident Level']"
   ]
  },
  {
   "cell_type": "code",
   "execution_count": 163,
   "metadata": {},
   "outputs": [
    {
     "data": {
      "text/plain": [
       "array([0, 3, 2, 1, 4])"
      ]
     },
     "execution_count": 163,
     "metadata": {},
     "output_type": "execute_result"
    }
   ],
   "source": [
    "df3['Accident Level'].unique()"
   ]
  },
  {
   "cell_type": "code",
   "execution_count": 164,
   "metadata": {
    "colab": {
     "base_uri": "https://localhost:8080/",
     "height": 1000
    },
    "id": "mVFpU3E1PFJ7",
    "outputId": "6145a097-4352-4693-f1bf-413b8bca7919"
   },
   "outputs": [
    {
     "data": {
      "text/html": [
       "<div>\n",
       "<style scoped>\n",
       "    .dataframe tbody tr th:only-of-type {\n",
       "        vertical-align: middle;\n",
       "    }\n",
       "\n",
       "    .dataframe tbody tr th {\n",
       "        vertical-align: top;\n",
       "    }\n",
       "\n",
       "    .dataframe thead th {\n",
       "        text-align: right;\n",
       "    }\n",
       "</style>\n",
       "<table border=\"1\" class=\"dataframe\">\n",
       "  <thead>\n",
       "    <tr style=\"text-align: right;\">\n",
       "      <th></th>\n",
       "      <th>Date</th>\n",
       "      <th>Country</th>\n",
       "      <th>Local</th>\n",
       "      <th>Industry Sector</th>\n",
       "      <th>Accident Level</th>\n",
       "      <th>Potential Accident Level</th>\n",
       "      <th>Gender</th>\n",
       "      <th>Natureofemployee</th>\n",
       "      <th>Critical Risk</th>\n",
       "      <th>Description</th>\n",
       "      <th>Year</th>\n",
       "      <th>Month</th>\n",
       "      <th>Weekday</th>\n",
       "      <th>Season</th>\n",
       "      <th>processed_text</th>\n",
       "      <th>description_processed</th>\n",
       "    </tr>\n",
       "  </thead>\n",
       "  <tbody>\n",
       "    <tr>\n",
       "      <th>0</th>\n",
       "      <td>2016-01-01</td>\n",
       "      <td>Country_01</td>\n",
       "      <td>1</td>\n",
       "      <td>Mining</td>\n",
       "      <td>0</td>\n",
       "      <td>3</td>\n",
       "      <td>Male</td>\n",
       "      <td>Third Party</td>\n",
       "      <td>Pressed</td>\n",
       "      <td>While removing the drill rod of the Jumbo 08 f...</td>\n",
       "      <td>2016</td>\n",
       "      <td>1</td>\n",
       "      <td>Friday</td>\n",
       "      <td>Summer</td>\n",
       "      <td>[while, removing, drill, rod, jumbo, maintenan...</td>\n",
       "      <td>while removing drill rod jumbo maintenance sup...</td>\n",
       "    </tr>\n",
       "    <tr>\n",
       "      <th>1</th>\n",
       "      <td>2016-01-02</td>\n",
       "      <td>Country_02</td>\n",
       "      <td>2</td>\n",
       "      <td>Mining</td>\n",
       "      <td>0</td>\n",
       "      <td>3</td>\n",
       "      <td>Male</td>\n",
       "      <td>Employee</td>\n",
       "      <td>Pressurized Systems</td>\n",
       "      <td>During the activation of a sodium sulphide pum...</td>\n",
       "      <td>2016</td>\n",
       "      <td>1</td>\n",
       "      <td>Saturday</td>\n",
       "      <td>Summer</td>\n",
       "      <td>[during, activation, sodium, sulphide, pump, p...</td>\n",
       "      <td>during activation sodium sulphide pump piping ...</td>\n",
       "    </tr>\n",
       "    <tr>\n",
       "      <th>2</th>\n",
       "      <td>2016-01-06</td>\n",
       "      <td>Country_01</td>\n",
       "      <td>3</td>\n",
       "      <td>Mining</td>\n",
       "      <td>0</td>\n",
       "      <td>2</td>\n",
       "      <td>Male</td>\n",
       "      <td>Third Party (Remote)</td>\n",
       "      <td>Manual Tools</td>\n",
       "      <td>In the sub-station MILPO located at level +170...</td>\n",
       "      <td>2016</td>\n",
       "      <td>1</td>\n",
       "      <td>Wednesday</td>\n",
       "      <td>Summer</td>\n",
       "      <td>[substation, milpo, located, level, collaborat...</td>\n",
       "      <td>substation milpo located level collaborator ex...</td>\n",
       "    </tr>\n",
       "    <tr>\n",
       "      <th>3</th>\n",
       "      <td>2016-01-08</td>\n",
       "      <td>Country_01</td>\n",
       "      <td>4</td>\n",
       "      <td>Mining</td>\n",
       "      <td>0</td>\n",
       "      <td>0</td>\n",
       "      <td>Male</td>\n",
       "      <td>Third Party</td>\n",
       "      <td>Others</td>\n",
       "      <td>Being 9:45 am. approximately in the Nv. 1880 C...</td>\n",
       "      <td>2016</td>\n",
       "      <td>1</td>\n",
       "      <td>Friday</td>\n",
       "      <td>Summer</td>\n",
       "      <td>[being, approximately, personnel, begin, task,...</td>\n",
       "      <td>being approximately personnel begin task unloc...</td>\n",
       "    </tr>\n",
       "    <tr>\n",
       "      <th>4</th>\n",
       "      <td>2016-01-10</td>\n",
       "      <td>Country_01</td>\n",
       "      <td>4</td>\n",
       "      <td>Mining</td>\n",
       "      <td>3</td>\n",
       "      <td>3</td>\n",
       "      <td>Male</td>\n",
       "      <td>Third Party</td>\n",
       "      <td>Others</td>\n",
       "      <td>Approximately at 11:45 a.m. in circumstances t...</td>\n",
       "      <td>2016</td>\n",
       "      <td>1</td>\n",
       "      <td>Sunday</td>\n",
       "      <td>Summer</td>\n",
       "      <td>[approximately, am, circumstance, mechanic, an...</td>\n",
       "      <td>approximately am circumstance mechanic anthony...</td>\n",
       "    </tr>\n",
       "    <tr>\n",
       "      <th>...</th>\n",
       "      <td>...</td>\n",
       "      <td>...</td>\n",
       "      <td>...</td>\n",
       "      <td>...</td>\n",
       "      <td>...</td>\n",
       "      <td>...</td>\n",
       "      <td>...</td>\n",
       "      <td>...</td>\n",
       "      <td>...</td>\n",
       "      <td>...</td>\n",
       "      <td>...</td>\n",
       "      <td>...</td>\n",
       "      <td>...</td>\n",
       "      <td>...</td>\n",
       "      <td>...</td>\n",
       "      <td>...</td>\n",
       "    </tr>\n",
       "    <tr>\n",
       "      <th>413</th>\n",
       "      <td>2017-07-04</td>\n",
       "      <td>Country_01</td>\n",
       "      <td>4</td>\n",
       "      <td>Mining</td>\n",
       "      <td>0</td>\n",
       "      <td>2</td>\n",
       "      <td>Male</td>\n",
       "      <td>Third Party</td>\n",
       "      <td>Others</td>\n",
       "      <td>Being approximately 5:00 a.m. approximately, w...</td>\n",
       "      <td>2017</td>\n",
       "      <td>7</td>\n",
       "      <td>Tuesday</td>\n",
       "      <td>Winter</td>\n",
       "      <td>[being, approximately, am, approximately, lift...</td>\n",
       "      <td>being approximately am approximately lifting k...</td>\n",
       "    </tr>\n",
       "    <tr>\n",
       "      <th>414</th>\n",
       "      <td>2017-07-04</td>\n",
       "      <td>Country_01</td>\n",
       "      <td>3</td>\n",
       "      <td>Mining</td>\n",
       "      <td>0</td>\n",
       "      <td>1</td>\n",
       "      <td>Female</td>\n",
       "      <td>Employee</td>\n",
       "      <td>Others</td>\n",
       "      <td>The collaborator moved from the infrastructure...</td>\n",
       "      <td>2017</td>\n",
       "      <td>7</td>\n",
       "      <td>Tuesday</td>\n",
       "      <td>Winter</td>\n",
       "      <td>[the, collaborator, moved, infrastructure, off...</td>\n",
       "      <td>the collaborator moved infrastructure office j...</td>\n",
       "    </tr>\n",
       "    <tr>\n",
       "      <th>415</th>\n",
       "      <td>2017-07-05</td>\n",
       "      <td>Country_02</td>\n",
       "      <td>9</td>\n",
       "      <td>Metals</td>\n",
       "      <td>0</td>\n",
       "      <td>1</td>\n",
       "      <td>Male</td>\n",
       "      <td>Employee</td>\n",
       "      <td>Venomous Animals</td>\n",
       "      <td>During the environmental monitoring activity i...</td>\n",
       "      <td>2017</td>\n",
       "      <td>7</td>\n",
       "      <td>Wednesday</td>\n",
       "      <td>Winter</td>\n",
       "      <td>[during, environmental, monitoring, activity, ...</td>\n",
       "      <td>during environmental monitoring activity area ...</td>\n",
       "    </tr>\n",
       "    <tr>\n",
       "      <th>416</th>\n",
       "      <td>2017-07-06</td>\n",
       "      <td>Country_02</td>\n",
       "      <td>5</td>\n",
       "      <td>Metals</td>\n",
       "      <td>0</td>\n",
       "      <td>1</td>\n",
       "      <td>Male</td>\n",
       "      <td>Employee</td>\n",
       "      <td>Cut</td>\n",
       "      <td>The Employee performed the activity of strippi...</td>\n",
       "      <td>2017</td>\n",
       "      <td>7</td>\n",
       "      <td>Thursday</td>\n",
       "      <td>Winter</td>\n",
       "      <td>[the, employee, performed, activity, stripping...</td>\n",
       "      <td>the employee performed activity stripping cath...</td>\n",
       "    </tr>\n",
       "    <tr>\n",
       "      <th>417</th>\n",
       "      <td>2017-07-09</td>\n",
       "      <td>Country_01</td>\n",
       "      <td>4</td>\n",
       "      <td>Mining</td>\n",
       "      <td>0</td>\n",
       "      <td>1</td>\n",
       "      <td>Female</td>\n",
       "      <td>Third Party</td>\n",
       "      <td>Fall prevention (same level)</td>\n",
       "      <td>At 10:00 a.m., when the assistant cleaned the ...</td>\n",
       "      <td>2017</td>\n",
       "      <td>7</td>\n",
       "      <td>Sunday</td>\n",
       "      <td>Winter</td>\n",
       "      <td>[am, assistant, cleaned, floor, module, centra...</td>\n",
       "      <td>am assistant cleaned floor module central camp...</td>\n",
       "    </tr>\n",
       "  </tbody>\n",
       "</table>\n",
       "<p>418 rows × 16 columns</p>\n",
       "</div>"
      ],
      "text/plain": [
       "           Date     Country  Local Industry Sector  Accident Level  \\\n",
       "0    2016-01-01  Country_01      1          Mining               0   \n",
       "1    2016-01-02  Country_02      2          Mining               0   \n",
       "2    2016-01-06  Country_01      3          Mining               0   \n",
       "3    2016-01-08  Country_01      4          Mining               0   \n",
       "4    2016-01-10  Country_01      4          Mining               3   \n",
       "..          ...         ...    ...             ...             ...   \n",
       "413  2017-07-04  Country_01      4          Mining               0   \n",
       "414  2017-07-04  Country_01      3          Mining               0   \n",
       "415  2017-07-05  Country_02      9          Metals               0   \n",
       "416  2017-07-06  Country_02      5          Metals               0   \n",
       "417  2017-07-09  Country_01      4          Mining               0   \n",
       "\n",
       "     Potential Accident Level  Gender      Natureofemployee  \\\n",
       "0                           3    Male           Third Party   \n",
       "1                           3    Male              Employee   \n",
       "2                           2    Male  Third Party (Remote)   \n",
       "3                           0    Male           Third Party   \n",
       "4                           3    Male           Third Party   \n",
       "..                        ...     ...                   ...   \n",
       "413                         2    Male           Third Party   \n",
       "414                         1  Female              Employee   \n",
       "415                         1    Male              Employee   \n",
       "416                         1    Male              Employee   \n",
       "417                         1  Female           Third Party   \n",
       "\n",
       "                    Critical Risk  \\\n",
       "0                         Pressed   \n",
       "1             Pressurized Systems   \n",
       "2                    Manual Tools   \n",
       "3                          Others   \n",
       "4                          Others   \n",
       "..                            ...   \n",
       "413                        Others   \n",
       "414                        Others   \n",
       "415              Venomous Animals   \n",
       "416                           Cut   \n",
       "417  Fall prevention (same level)   \n",
       "\n",
       "                                           Description  Year  Month  \\\n",
       "0    While removing the drill rod of the Jumbo 08 f...  2016      1   \n",
       "1    During the activation of a sodium sulphide pum...  2016      1   \n",
       "2    In the sub-station MILPO located at level +170...  2016      1   \n",
       "3    Being 9:45 am. approximately in the Nv. 1880 C...  2016      1   \n",
       "4    Approximately at 11:45 a.m. in circumstances t...  2016      1   \n",
       "..                                                 ...   ...    ...   \n",
       "413  Being approximately 5:00 a.m. approximately, w...  2017      7   \n",
       "414  The collaborator moved from the infrastructure...  2017      7   \n",
       "415  During the environmental monitoring activity i...  2017      7   \n",
       "416  The Employee performed the activity of strippi...  2017      7   \n",
       "417  At 10:00 a.m., when the assistant cleaned the ...  2017      7   \n",
       "\n",
       "       Weekday  Season                                     processed_text  \\\n",
       "0       Friday  Summer  [while, removing, drill, rod, jumbo, maintenan...   \n",
       "1     Saturday  Summer  [during, activation, sodium, sulphide, pump, p...   \n",
       "2    Wednesday  Summer  [substation, milpo, located, level, collaborat...   \n",
       "3       Friday  Summer  [being, approximately, personnel, begin, task,...   \n",
       "4       Sunday  Summer  [approximately, am, circumstance, mechanic, an...   \n",
       "..         ...     ...                                                ...   \n",
       "413    Tuesday  Winter  [being, approximately, am, approximately, lift...   \n",
       "414    Tuesday  Winter  [the, collaborator, moved, infrastructure, off...   \n",
       "415  Wednesday  Winter  [during, environmental, monitoring, activity, ...   \n",
       "416   Thursday  Winter  [the, employee, performed, activity, stripping...   \n",
       "417     Sunday  Winter  [am, assistant, cleaned, floor, module, centra...   \n",
       "\n",
       "                                 description_processed  \n",
       "0    while removing drill rod jumbo maintenance sup...  \n",
       "1    during activation sodium sulphide pump piping ...  \n",
       "2    substation milpo located level collaborator ex...  \n",
       "3    being approximately personnel begin task unloc...  \n",
       "4    approximately am circumstance mechanic anthony...  \n",
       "..                                                 ...  \n",
       "413  being approximately am approximately lifting k...  \n",
       "414  the collaborator moved infrastructure office j...  \n",
       "415  during environmental monitoring activity area ...  \n",
       "416  the employee performed activity stripping cath...  \n",
       "417  am assistant cleaned floor module central camp...  \n",
       "\n",
       "[418 rows x 16 columns]"
      ]
     },
     "execution_count": 164,
     "metadata": {},
     "output_type": "execute_result"
    }
   ],
   "source": [
    "df3"
   ]
  },
  {
   "cell_type": "code",
   "execution_count": 165,
   "metadata": {
    "id": "m5OQUjpFO7cb"
   },
   "outputs": [],
   "source": [
    "x_p=df3['description_processed']\n"
   ]
  },
  {
   "cell_type": "code",
   "execution_count": 166,
   "metadata": {
    "id": "HC71fha_QcGt"
   },
   "outputs": [],
   "source": [
    "from sklearn.feature_extraction.text import TfidfTransformer\n",
    "from sklearn.feature_extraction.text import TfidfVectorizer\n",
    "tfidf_vec = TfidfVectorizer(ngram_range=(1,2))\n",
    "Xte = tfidf_vec.fit_transform(x_p).toarray()"
   ]
  },
  {
   "cell_type": "code",
   "execution_count": 167,
   "metadata": {
    "id": "sqIvIRfjOKU0"
   },
   "outputs": [],
   "source": [
    "#splitting training and testing data\n",
    "from sklearn.model_selection import train_test_split\n",
    "X_trainp, X_testp, y_trainp, y_testp = train_test_split(Xte, y_p, test_size=0.3, random_state=50)"
   ]
  },
  {
   "cell_type": "code",
   "execution_count": 168,
   "metadata": {
    "id": "dng4jGcOQxxb"
   },
   "outputs": [],
   "source": [
    "random_seed = 2\n",
    "X_testp, X_valp, y_testp, y_valp = train_test_split(X_testp,y_testp, test_size = 0.5, random_state=random_seed)"
   ]
  },
  {
   "cell_type": "code",
   "execution_count": 169,
   "metadata": {
    "id": "tgPtcu2RQ7iE"
   },
   "outputs": [
    {
     "name": "stdout",
     "output_type": "stream",
     "text": [
      "Shape of training and testing: (292, 13242) (63, 13242)\n"
     ]
    }
   ],
   "source": [
    "#shape of train and test\n",
    "print(\"Shape of training and testing:\",X_trainp.shape,X_testp.shape)"
   ]
  },
  {
   "cell_type": "code",
   "execution_count": 170,
   "metadata": {
    "id": "LbtypoPPC6G4"
   },
   "outputs": [],
   "source": [
    "from tensorflow.python.keras.layers import Dense, Dropout, InputLayer, Flatten\n",
    "from tensorflow.keras.layers import BatchNormalization\n",
    "from tensorflow.python.keras.layers import GlobalAveragePooling2D, Conv2D, MaxPool2D, GlobalMaxPool2D\n",
    "from tensorflow.python.keras.models import Sequential\n",
    "from tensorflow.python.keras.wrappers.scikit_learn import KerasRegressor\n",
    "from sklearn.preprocessing import StandardScaler\n",
    "from sklearn.metrics import mean_absolute_error\n",
    "from sklearn.metrics import mean_squared_error\n",
    "from sklearn.model_selection import StratifiedKFold\n",
    "from tensorflow.keras.utils import to_categorical  # convert to one-hot-encoding\n",
    "from tensorflow.keras.models import Sequential\n",
    "from tensorflow.keras.layers import Dense, Dropout, Flatten, Conv2D, MaxPool2D, GlobalMaxPooling2D\n",
    "from tensorflow.keras.preprocessing.image import ImageDataGenerator"
   ]
  },
  {
   "cell_type": "code",
   "execution_count": 171,
   "metadata": {
    "id": "l8ySrfLaRHoS"
   },
   "outputs": [],
   "source": [
    "def model_p():\n",
    "    model7 = Sequential()\n",
    "    \n",
    "    model7.add(Dense(50, input_shape = (13242, ), kernel_initializer='he_normal'))\n",
    "    model7.add(BatchNormalization())\n",
    "    model7.add(Activation('relu'))\n",
    "    model7.add(Dropout(0.2))\n",
    "    model7.add(Dense(50, kernel_initializer='he_normal'))\n",
    "    model7.add(BatchNormalization())\n",
    "    model7.add(Activation('relu'))    \n",
    "    model7.add(Dropout(0.2))\n",
    "    model7.add(Dense(50, kernel_initializer='he_normal'))\n",
    "    model7.add(BatchNormalization())\n",
    "    model7.add(Activation('relu'))\n",
    "    model7.add(Dropout(0.2))\n",
    "    model7.add(Dense(50, kernel_initializer='he_normal'))\n",
    "    model7.add(BatchNormalization())\n",
    "    model7.add(Activation('relu'))\n",
    "    model7.add(Dropout(0.2))\n",
    "    model7.add(Dense(1, kernel_initializer='he_normal'))\n",
    "    model7.add(Activation('softmax'))\n",
    "    \n",
    "    adam_7 = optimizers.Adam(lr = 0.001)\n",
    "    model7.compile(optimizer = adam_7, loss = 'mse', metrics = ['accuracy'])\n",
    "    \n",
    "    return model7"
   ]
  },
  {
   "cell_type": "code",
   "execution_count": 172,
   "metadata": {
    "id": "csASEe0kRiKG"
   },
   "outputs": [
    {
     "name": "stdout",
     "output_type": "stream",
     "text": [
      "Epoch 1/10\n"
     ]
    },
    {
     "name": "stderr",
     "output_type": "stream",
     "text": [
      "D:\\anaconda\\lib\\site-packages\\keras\\optimizer_v2\\adam.py:105: UserWarning: The `lr` argument is deprecated, use `learning_rate` instead.\n",
      "  super(Adam, self).__init__(name, **kwargs)\n"
     ]
    },
    {
     "name": "stdout",
     "output_type": "stream",
     "text": [
      "10/10 [==============================] - 1s 24ms/step - loss: 1.3288 - accuracy: 0.0856 - val_loss: 1.1905 - val_accuracy: 0.0952\n",
      "Epoch 2/10\n",
      "10/10 [==============================] - 0s 9ms/step - loss: 1.3288 - accuracy: 0.0856 - val_loss: 1.1905 - val_accuracy: 0.0952\n",
      "Epoch 3/10\n",
      "10/10 [==============================] - 0s 10ms/step - loss: 1.3288 - accuracy: 0.0856 - val_loss: 1.1905 - val_accuracy: 0.0952\n",
      "Epoch 4/10\n",
      "10/10 [==============================] - 0s 9ms/step - loss: 1.3288 - accuracy: 0.0856 - val_loss: 1.1905 - val_accuracy: 0.0952\n",
      "Epoch 5/10\n",
      "10/10 [==============================] - 0s 9ms/step - loss: 1.3288 - accuracy: 0.0856 - val_loss: 1.1905 - val_accuracy: 0.0952\n",
      "Epoch 6/10\n",
      "10/10 [==============================] - 0s 8ms/step - loss: 1.3288 - accuracy: 0.0856 - val_loss: 1.1905 - val_accuracy: 0.0952\n",
      "Epoch 7/10\n",
      "10/10 [==============================] - 0s 9ms/step - loss: 1.3288 - accuracy: 0.0856 - val_loss: 1.1905 - val_accuracy: 0.0952\n",
      "Epoch 8/10\n",
      "10/10 [==============================] - 0s 9ms/step - loss: 1.3288 - accuracy: 0.0856 - val_loss: 1.1905 - val_accuracy: 0.0952\n",
      "Epoch 9/10\n",
      "10/10 [==============================] - 0s 8ms/step - loss: 1.3288 - accuracy: 0.0856 - val_loss: 1.1905 - val_accuracy: 0.0952\n",
      "Epoch 10/10\n",
      "10/10 [==============================] - 0s 9ms/step - loss: 1.3288 - accuracy: 0.0856 - val_loss: 1.1905 - val_accuracy: 0.0952\n"
     ]
    }
   ],
   "source": [
    "from tensorflow.keras.layers import Activation, Dense\n",
    "from tensorflow.keras.layers import BatchNormalization, Dropout\n",
    "from tensorflow.keras import optimizers\n",
    "model_u = model_p()\n",
    "history_u = model_u.fit(X_trainp, y_trainp,validation_data=(X_testp,y_testp),epochs = 10, verbose = 1)"
   ]
  },
  {
   "cell_type": "code",
   "execution_count": 174,
   "metadata": {
    "id": "rnWSul4JScpG"
   },
   "outputs": [
    {
     "name": "stdout",
     "output_type": "stream",
     "text": [
      "2/2 [==============================] - 0s 0s/step - loss: 1.1905 - accuracy: 0.0952\n"
     ]
    }
   ],
   "source": [
    "#Evaluation of the model\n",
    "results = model_u.evaluate(X_testp, y_testp)\n",
    "\n"
   ]
  },
  {
   "cell_type": "code",
   "execution_count": 173,
   "metadata": {
    "id": "aAeZ-nRPStRV"
   },
   "outputs": [
    {
     "name": "stdout",
     "output_type": "stream",
     "text": [
      "2/2 [==============================] - 0s 0s/step - loss: 1.1905 - accuracy: 0.0952\n",
      "Test loss: 1.1904761791229248\n",
      "Test accuracy: 0.095238097012043\n"
     ]
    }
   ],
   "source": [
    "ann_loss, ann_accuracy = model_u.evaluate(X_testp, y_testp, verbose=1)\n",
    "print('Test loss:', ann_loss)\n",
    "print('Test accuracy:', ann_accuracy)"
   ]
  },
  {
   "cell_type": "code",
   "execution_count": 175,
   "metadata": {
    "id": "PnHwmTK7UmDm"
   },
   "outputs": [],
   "source": [
    "y_q=df3['Potential Accident Level']"
   ]
  },
  {
   "cell_type": "code",
   "execution_count": 176,
   "metadata": {},
   "outputs": [],
   "source": [
    "x_q=df3['description_processed']"
   ]
  },
  {
   "cell_type": "code",
   "execution_count": 177,
   "metadata": {},
   "outputs": [],
   "source": [
    "from sklearn.feature_extraction.text import TfidfTransformer\n",
    "from sklearn.feature_extraction.text import TfidfVectorizer\n",
    "tfidf_vec1 = TfidfVectorizer(ngram_range=(1,2))\n",
    "Xtq = tfidf_vec1.fit_transform(x_q).toarray()"
   ]
  },
  {
   "cell_type": "code",
   "execution_count": 178,
   "metadata": {},
   "outputs": [],
   "source": [
    "#splitting training and testing data\n",
    "from sklearn.model_selection import train_test_split\n",
    "X_trainq, X_testq, y_trainq, y_testq= train_test_split(Xtq, y_q, test_size=0.3, random_state=50)"
   ]
  },
  {
   "cell_type": "code",
   "execution_count": 179,
   "metadata": {},
   "outputs": [],
   "source": [
    "random_seed = 2\n",
    "X_testq, X_valq, y_testq, y_valq = train_test_split(X_testq,y_testq, test_size = 0.5, random_state=random_seed)"
   ]
  },
  {
   "cell_type": "code",
   "execution_count": 180,
   "metadata": {},
   "outputs": [
    {
     "name": "stdout",
     "output_type": "stream",
     "text": [
      "Shape of training and testing: (292, 13242) (63, 13242)\n"
     ]
    }
   ],
   "source": [
    "#shape of train and test\n",
    "print(\"Shape of training and testing:\",X_trainq.shape,X_testq.shape)"
   ]
  },
  {
   "cell_type": "code",
   "execution_count": 181,
   "metadata": {},
   "outputs": [],
   "source": [
    "from tensorflow.python.keras.layers import Dense, Dropout, InputLayer, Flatten\n",
    "from tensorflow.keras.layers import BatchNormalization\n",
    "from tensorflow.python.keras.layers import GlobalAveragePooling2D, Conv2D, MaxPool2D, GlobalMaxPool2D\n",
    "from tensorflow.python.keras.models import Sequential\n",
    "from tensorflow.python.keras.wrappers.scikit_learn import KerasRegressor\n",
    "from sklearn.preprocessing import StandardScaler\n",
    "from sklearn.metrics import mean_absolute_error\n",
    "from sklearn.metrics import mean_squared_error\n",
    "from sklearn.model_selection import StratifiedKFold\n",
    "from tensorflow.keras.utils import to_categorical  # convert to one-hot-encoding\n",
    "from tensorflow.keras.models import Sequential\n",
    "from tensorflow.keras.layers import Dense, Dropout, Flatten, Conv2D, MaxPool2D, GlobalMaxPooling2D\n",
    "from tensorflow.keras.preprocessing.image import ImageDataGenerator"
   ]
  },
  {
   "cell_type": "code",
   "execution_count": 182,
   "metadata": {},
   "outputs": [],
   "source": [
    "def model_q():\n",
    "    model8 = Sequential()\n",
    "    \n",
    "    model8.add(Dense(50, input_shape = (13242, ), kernel_initializer='he_normal'))\n",
    "    model8.add(BatchNormalization())\n",
    "    model8.add(Activation('relu'))\n",
    "    model8.add(Dropout(0.2))\n",
    "    model8.add(Dense(50, kernel_initializer='he_normal'))\n",
    "    model8.add(BatchNormalization())\n",
    "    model8.add(Activation('relu'))    \n",
    "    model8.add(Dropout(0.2))\n",
    "    model8.add(Dense(50, kernel_initializer='he_normal'))\n",
    "    model8.add(BatchNormalization())\n",
    "    model8.add(Activation('relu'))\n",
    "    model8.add(Dropout(0.2))\n",
    "    model8.add(Dense(50, kernel_initializer='he_normal'))\n",
    "    model8.add(BatchNormalization())\n",
    "    model8.add(Activation('relu'))\n",
    "    model8.add(Dropout(0.2))\n",
    "    model8.add(Dense(1, kernel_initializer='he_normal'))\n",
    "    model8.add(Activation('softmax'))\n",
    "    \n",
    "    adam_8 = optimizers.Adam(lr = 0.001)\n",
    "    model8.compile(optimizer = adam_8, loss = 'mse', metrics = ['accuracy'])\n",
    "    \n",
    "    return model8"
   ]
  },
  {
   "cell_type": "code",
   "execution_count": 183,
   "metadata": {},
   "outputs": [
    {
     "name": "stdout",
     "output_type": "stream",
     "text": [
      "Epoch 1/10\n",
      "10/10 [==============================] - 1s 24ms/step - loss: 1.3288 - accuracy: 0.0856 - val_loss: 2.5079 - val_accuracy: 0.2698\n",
      "Epoch 2/10\n",
      "10/10 [==============================] - 0s 9ms/step - loss: 1.3288 - accuracy: 0.0856 - val_loss: 2.5079 - val_accuracy: 0.2698\n",
      "Epoch 3/10\n",
      "10/10 [==============================] - 0s 10ms/step - loss: 1.3288 - accuracy: 0.0856 - val_loss: 2.5079 - val_accuracy: 0.2698\n",
      "Epoch 4/10\n",
      "10/10 [==============================] - 0s 12ms/step - loss: 1.3288 - accuracy: 0.0856 - val_loss: 2.5079 - val_accuracy: 0.2698\n",
      "Epoch 5/10\n",
      "10/10 [==============================] - 0s 12ms/step - loss: 1.3288 - accuracy: 0.0856 - val_loss: 2.5079 - val_accuracy: 0.2698\n",
      "Epoch 6/10\n",
      "10/10 [==============================] - 0s 12ms/step - loss: 1.3288 - accuracy: 0.0856 - val_loss: 2.5079 - val_accuracy: 0.2698\n",
      "Epoch 7/10\n",
      "10/10 [==============================] - 0s 13ms/step - loss: 1.3288 - accuracy: 0.0856 - val_loss: 2.5079 - val_accuracy: 0.2698\n",
      "Epoch 8/10\n",
      "10/10 [==============================] - 0s 13ms/step - loss: 1.3288 - accuracy: 0.0856 - val_loss: 2.5079 - val_accuracy: 0.2698\n",
      "Epoch 9/10\n",
      "10/10 [==============================] - 0s 12ms/step - loss: 1.3288 - accuracy: 0.0856 - val_loss: 2.5079 - val_accuracy: 0.2698\n",
      "Epoch 10/10\n",
      "10/10 [==============================] - 0s 12ms/step - loss: 1.3288 - accuracy: 0.0856 - val_loss: 2.5079 - val_accuracy: 0.2698\n"
     ]
    }
   ],
   "source": [
    "from tensorflow.keras.layers import Activation, Dense\n",
    "from tensorflow.keras.layers import BatchNormalization, Dropout\n",
    "from tensorflow.keras import optimizers\n",
    "model_w = model_q()\n",
    "history_w = model_w.fit(X_trainp, y_trainp,validation_data=(X_testq,y_testq),epochs = 10, verbose = 1)"
   ]
  },
  {
   "cell_type": "code",
   "execution_count": 184,
   "metadata": {},
   "outputs": [
    {
     "name": "stdout",
     "output_type": "stream",
     "text": [
      "2/2 [==============================] - 0s 4ms/step - loss: 2.5079 - accuracy: 0.2698\n"
     ]
    }
   ],
   "source": [
    "#Evaluation of the model\n",
    "results_q = model_w.evaluate(X_testq, y_testq)\n",
    "\n"
   ]
  },
  {
   "cell_type": "code",
   "execution_count": 185,
   "metadata": {},
   "outputs": [
    {
     "name": "stdout",
     "output_type": "stream",
     "text": [
      "2/2 [==============================] - 0s 4ms/step - loss: 2.5079 - accuracy: 0.2698\n",
      "Test loss: 2.507936477661133\n",
      "Test accuracy: 0.2698412835597992\n"
     ]
    }
   ],
   "source": [
    "ann_loss1, ann_accuracy1 = model_w.evaluate(X_testq, y_testq, verbose=1)\n",
    "print('Test loss:', ann_loss1)\n",
    "print('Test accuracy:', ann_accuracy1)"
   ]
  },
  {
   "cell_type": "code",
   "execution_count": 188,
   "metadata": {},
   "outputs": [],
   "source": [
    "#Comparing accuracies for ANN with target variable accident level and potential accident level"
   ]
  },
  {
   "cell_type": "code",
   "execution_count": 187,
   "metadata": {},
   "outputs": [
    {
     "name": "stdout",
     "output_type": "stream",
     "text": [
      "[0.095238097012043, 0.2698412835597992]\n"
     ]
    }
   ],
   "source": [
    "models_tlist_accidentlevel_tf = [\"ANN for accident level\",\"ANN for potential accident level\"]\n",
    "\n",
    "accuracyt_accidentlevel_tf = [ann_accuracy,ann_accuracy1]\n",
    "print(accuracyt_accidentlevel_tf)"
   ]
  },
  {
   "cell_type": "code",
   "execution_count": 191,
   "metadata": {},
   "outputs": [
    {
     "data": {
      "image/png": "[encoded data removed]",
      "text/plain": [
       "<Figure size 720x360 with 1 Axes>"
      ]
     },
     "metadata": {
      "needs_background": "light"
     },
     "output_type": "display_data"
    }
   ],
   "source": [
    "# creating the bar plot\n",
    "fig = plt.figure(figsize = (10, 5)) \n",
    "plt.bar(models_tlist_accidentlevel_tf, accuracyt_accidentlevel_tf, color ='blue',width=0.8,) \n",
    "  \n",
    "plt.xlabel(\"Models to predict Potential Accident level & Accident Level\") \n",
    "plt.xticks(rotation = 'vertical')\n",
    "plt.ylabel(\"Accuracy\") \n",
    "plt.title(\"Comparison of accuracies of Potential Accident level and Accident level with ANN\") \n",
    "plt.show()"
   ]
  },
  {
   "cell_type": "code",
   "execution_count": 194,
   "metadata": {},
   "outputs": [
    {
     "name": "stdout",
     "output_type": "stream",
     "text": [
      "[1.1904761791229248, 2.507936477661133]\n"
     ]
    }
   ],
   "source": [
    "#Comparing Loss of ANN with potential and accident level.\n",
    "models1_tlist_accidentlevel_tf = [\"ANN for accident level\",\"ANN for potential accident level\"]\n",
    "\n",
    "losst1_accidentlevel_tf = [ann_loss,ann_loss1]\n",
    "print(losst1_accidentlevel_tf)"
   ]
  },
  {
   "cell_type": "code",
   "execution_count": 307,
   "metadata": {},
   "outputs": [
    {
     "data": {
      "image/png": "[encoded data removed]",
      "text/plain": [
       "<Figure size 720x360 with 1 Axes>"
      ]
     },
     "metadata": {
      "needs_background": "light"
     },
     "output_type": "display_data"
    }
   ],
   "source": [
    "#Bar plot\n",
    "fig = plt.figure(figsize = (10, 5)) \n",
    "plt.bar(models1_tlist_accidentlevel_tf, losst1_accidentlevel_tf, color ='blue',width=0.8,) \n",
    "  \n",
    "plt.xlabel(\"Models to predict Potential Accident level & Accident Level\") \n",
    "plt.xticks(rotation = 'vertical')\n",
    "plt.ylabel(\"LOSS\") \n",
    "plt.title(\"Comparison of loss of Potential Accident level and Accident level with ANN\") \n",
    "plt.show()"
   ]
  },
  {
   "cell_type": "code",
   "execution_count": 196,
   "metadata": {},
   "outputs": [],
   "source": [
    "#Step 4: Design, train and test RNN or LSTM classifiers"
   ]
  },
  {
   "cell_type": "code",
   "execution_count": 238,
   "metadata": {
    "id": "_at8gPJwFbYI"
   },
   "outputs": [],
   "source": [
    "#  LSTM for target variable accident level"
   ]
  },
  {
   "cell_type": "code",
   "execution_count": 198,
   "metadata": {
    "id": "hQehPWHHtKQv"
   },
   "outputs": [],
   "source": [
    "df1=data1.copy()"
   ]
  },
  {
   "cell_type": "code",
   "execution_count": 199,
   "metadata": {
    "id": "z7CJwN2XFbl7"
   },
   "outputs": [],
   "source": [
    "country_encoder = LabelEncoder()\n",
    "df1['Country'] = country_encoder.fit_transform(df1['Country'])\n",
    "\n",
    "local_encoder = LabelEncoder()\n",
    "df1['Local'] = local_encoder.fit_transform(df1['Local'])\n",
    "\n",
    "industry_sector_encoder = LabelEncoder()\n",
    "df1['Industry Sector'] = industry_sector_encoder.fit_transform(df1['Industry Sector'])\n",
    "\n",
    "gender_encoder = LabelEncoder()\n",
    "df1['Gender'] = gender_encoder.fit_transform(df1['Gender'])\n",
    "\n",
    "employee_encoder = LabelEncoder()\n",
    "df1['Natureofemployee'] = employee_encoder.fit_transform(df1['Natureofemployee'])\n",
    "\n",
    "risk_encoder = LabelEncoder()\n",
    "df1['Critical Risk'] = risk_encoder.fit_transform(df1['Critical Risk'])\n",
    "\n",
    "acident_level_encoder = LabelEncoder()\n",
    "df1['Accident Level'] = acident_level_encoder.fit_transform(df1['Accident Level'])\n",
    "\n",
    "potentital_accident_level_encoder = LabelEncoder()\n",
    "df1['Potential Accident Level'] = potentital_accident_level_encoder.fit_transform(df1['Potential Accident Level'])"
   ]
  },
  {
   "cell_type": "code",
   "execution_count": 200,
   "metadata": {
    "id": "lvvseHtl17YA"
   },
   "outputs": [],
   "source": [
    "from tensorflow.keras.layers import TextVectorization"
   ]
  },
  {
   "cell_type": "code",
   "execution_count": 201,
   "metadata": {
    "id": "JgZ29wHAJFqs"
   },
   "outputs": [],
   "source": [
    "text_vectorizer = TextVectorization()"
   ]
  },
  {
   "cell_type": "code",
   "execution_count": 202,
   "metadata": {
    "colab": {
     "base_uri": "https://localhost:8080/",
     "height": 362
    },
    "id": "AbbLz59GT7f8",
    "outputId": "6d75f4d0-5ae0-4544-9c78-80c0899705d7"
   },
   "outputs": [
    {
     "data": {
      "text/plain": [
       "(2, ['', '[UNK]'])"
      ]
     },
     "execution_count": 202,
     "metadata": {},
     "output_type": "execute_result"
    }
   ],
   "source": [
    "# Get the vocabulary from the text vectorization layer\n",
    "import numpy as np\n",
    "\n",
    "words_in_vocab = text_vectorizer.get_vocabulary()\n",
    "len(words_in_vocab), words_in_vocab[:10]"
   ]
  },
  {
   "cell_type": "code",
   "execution_count": 203,
   "metadata": {
    "colab": {
     "base_uri": "https://localhost:8080/",
     "height": 617
    },
    "id": "Uf4wx7m5T7jL",
    "outputId": "435ad2f4-8e6f-4593-9f16-4bd758cb1754"
   },
   "outputs": [
    {
     "data": {
      "text/html": [
       "<div>\n",
       "<style scoped>\n",
       "    .dataframe tbody tr th:only-of-type {\n",
       "        vertical-align: middle;\n",
       "    }\n",
       "\n",
       "    .dataframe tbody tr th {\n",
       "        vertical-align: top;\n",
       "    }\n",
       "\n",
       "    .dataframe thead th {\n",
       "        text-align: right;\n",
       "    }\n",
       "</style>\n",
       "<table border=\"1\" class=\"dataframe\">\n",
       "  <thead>\n",
       "    <tr style=\"text-align: right;\">\n",
       "      <th></th>\n",
       "      <th>Date</th>\n",
       "      <th>Country</th>\n",
       "      <th>Local</th>\n",
       "      <th>Industry Sector</th>\n",
       "      <th>Accident Level</th>\n",
       "      <th>Potential Accident Level</th>\n",
       "      <th>Gender</th>\n",
       "      <th>Natureofemployee</th>\n",
       "      <th>Critical Risk</th>\n",
       "      <th>Description</th>\n",
       "      <th>Year</th>\n",
       "      <th>Month</th>\n",
       "      <th>Weekday</th>\n",
       "      <th>Season</th>\n",
       "      <th>processed_text</th>\n",
       "      <th>description_processed</th>\n",
       "    </tr>\n",
       "  </thead>\n",
       "  <tbody>\n",
       "    <tr>\n",
       "      <th>0</th>\n",
       "      <td>2016-01-01</td>\n",
       "      <td>0</td>\n",
       "      <td>0</td>\n",
       "      <td>1</td>\n",
       "      <td>0</td>\n",
       "      <td>3</td>\n",
       "      <td>1</td>\n",
       "      <td>1</td>\n",
       "      <td>20</td>\n",
       "      <td>While removing the drill rod of the Jumbo 08 f...</td>\n",
       "      <td>2016</td>\n",
       "      <td>1</td>\n",
       "      <td>Friday</td>\n",
       "      <td>Summer</td>\n",
       "      <td>[while, removing, drill, rod, jumbo, maintenan...</td>\n",
       "      <td>while removing drill rod jumbo maintenance sup...</td>\n",
       "    </tr>\n",
       "    <tr>\n",
       "      <th>1</th>\n",
       "      <td>2016-01-02</td>\n",
       "      <td>1</td>\n",
       "      <td>1</td>\n",
       "      <td>1</td>\n",
       "      <td>0</td>\n",
       "      <td>3</td>\n",
       "      <td>1</td>\n",
       "      <td>0</td>\n",
       "      <td>21</td>\n",
       "      <td>During the activation of a sodium sulphide pum...</td>\n",
       "      <td>2016</td>\n",
       "      <td>1</td>\n",
       "      <td>Saturday</td>\n",
       "      <td>Summer</td>\n",
       "      <td>[during, activation, sodium, sulphide, pump, p...</td>\n",
       "      <td>during activation sodium sulphide pump piping ...</td>\n",
       "    </tr>\n",
       "    <tr>\n",
       "      <th>2</th>\n",
       "      <td>2016-01-06</td>\n",
       "      <td>0</td>\n",
       "      <td>2</td>\n",
       "      <td>1</td>\n",
       "      <td>0</td>\n",
       "      <td>2</td>\n",
       "      <td>1</td>\n",
       "      <td>2</td>\n",
       "      <td>15</td>\n",
       "      <td>In the sub-station MILPO located at level +170...</td>\n",
       "      <td>2016</td>\n",
       "      <td>1</td>\n",
       "      <td>Wednesday</td>\n",
       "      <td>Summer</td>\n",
       "      <td>[substation, milpo, located, level, collaborat...</td>\n",
       "      <td>substation milpo located level collaborator ex...</td>\n",
       "    </tr>\n",
       "    <tr>\n",
       "      <th>3</th>\n",
       "      <td>2016-01-08</td>\n",
       "      <td>0</td>\n",
       "      <td>3</td>\n",
       "      <td>1</td>\n",
       "      <td>0</td>\n",
       "      <td>0</td>\n",
       "      <td>1</td>\n",
       "      <td>1</td>\n",
       "      <td>16</td>\n",
       "      <td>Being 9:45 am. approximately in the Nv. 1880 C...</td>\n",
       "      <td>2016</td>\n",
       "      <td>1</td>\n",
       "      <td>Friday</td>\n",
       "      <td>Summer</td>\n",
       "      <td>[being, approximately, personnel, begin, task,...</td>\n",
       "      <td>being approximately personnel begin task unloc...</td>\n",
       "    </tr>\n",
       "    <tr>\n",
       "      <th>4</th>\n",
       "      <td>2016-01-10</td>\n",
       "      <td>0</td>\n",
       "      <td>3</td>\n",
       "      <td>1</td>\n",
       "      <td>3</td>\n",
       "      <td>3</td>\n",
       "      <td>1</td>\n",
       "      <td>1</td>\n",
       "      <td>16</td>\n",
       "      <td>Approximately at 11:45 a.m. in circumstances t...</td>\n",
       "      <td>2016</td>\n",
       "      <td>1</td>\n",
       "      <td>Sunday</td>\n",
       "      <td>Summer</td>\n",
       "      <td>[approximately, am, circumstance, mechanic, an...</td>\n",
       "      <td>approximately am circumstance mechanic anthony...</td>\n",
       "    </tr>\n",
       "  </tbody>\n",
       "</table>\n",
       "</div>"
      ],
      "text/plain": [
       "         Date  Country  Local  Industry Sector  Accident Level  \\\n",
       "0  2016-01-01        0      0                1               0   \n",
       "1  2016-01-02        1      1                1               0   \n",
       "2  2016-01-06        0      2                1               0   \n",
       "3  2016-01-08        0      3                1               0   \n",
       "4  2016-01-10        0      3                1               3   \n",
       "\n",
       "   Potential Accident Level  Gender  Natureofemployee  Critical Risk  \\\n",
       "0                         3       1                 1             20   \n",
       "1                         3       1                 0             21   \n",
       "2                         2       1                 2             15   \n",
       "3                         0       1                 1             16   \n",
       "4                         3       1                 1             16   \n",
       "\n",
       "                                         Description  Year  Month    Weekday  \\\n",
       "0  While removing the drill rod of the Jumbo 08 f...  2016      1     Friday   \n",
       "1  During the activation of a sodium sulphide pum...  2016      1   Saturday   \n",
       "2  In the sub-station MILPO located at level +170...  2016      1  Wednesday   \n",
       "3  Being 9:45 am. approximately in the Nv. 1880 C...  2016      1     Friday   \n",
       "4  Approximately at 11:45 a.m. in circumstances t...  2016      1     Sunday   \n",
       "\n",
       "   Season                                     processed_text  \\\n",
       "0  Summer  [while, removing, drill, rod, jumbo, maintenan...   \n",
       "1  Summer  [during, activation, sodium, sulphide, pump, p...   \n",
       "2  Summer  [substation, milpo, located, level, collaborat...   \n",
       "3  Summer  [being, approximately, personnel, begin, task,...   \n",
       "4  Summer  [approximately, am, circumstance, mechanic, an...   \n",
       "\n",
       "                               description_processed  \n",
       "0  while removing drill rod jumbo maintenance sup...  \n",
       "1  during activation sodium sulphide pump piping ...  \n",
       "2  substation milpo located level collaborator ex...  \n",
       "3  being approximately personnel begin task unloc...  \n",
       "4  approximately am circumstance mechanic anthony...  "
      ]
     },
     "execution_count": 203,
     "metadata": {},
     "output_type": "execute_result"
    }
   ],
   "source": [
    "df1.head(5) # after label ecoding"
   ]
  },
  {
   "cell_type": "code",
   "execution_count": 204,
   "metadata": {
    "colab": {
     "base_uri": "https://localhost:8080/"
    },
    "id": "X8IfQsEOT7pf",
    "outputId": "de399922-dffa-4940-bcca-f34b45c9cc48"
   },
   "outputs": [
    {
     "name": "stdout",
     "output_type": "stream",
     "text": [
      "<class 'pandas.core.frame.DataFrame'>\n",
      "RangeIndex: 418 entries, 0 to 417\n",
      "Data columns (total 16 columns):\n",
      " #   Column                    Non-Null Count  Dtype \n",
      "---  ------                    --------------  ----- \n",
      " 0   Date                      418 non-null    object\n",
      " 1   Country                   418 non-null    int32 \n",
      " 2   Local                     418 non-null    int64 \n",
      " 3   Industry Sector           418 non-null    int32 \n",
      " 4   Accident Level            418 non-null    int32 \n",
      " 5   Potential Accident Level  418 non-null    int32 \n",
      " 6   Gender                    418 non-null    int32 \n",
      " 7   Natureofemployee          418 non-null    int32 \n",
      " 8   Critical Risk             418 non-null    int32 \n",
      " 9   Description               418 non-null    object\n",
      " 10  Year                      418 non-null    int64 \n",
      " 11  Month                     418 non-null    int64 \n",
      " 12  Weekday                   418 non-null    object\n",
      " 13  Season                    418 non-null    object\n",
      " 14  processed_text            418 non-null    object\n",
      " 15  description_processed     418 non-null    object\n",
      "dtypes: int32(7), int64(3), object(6)\n",
      "memory usage: 40.9+ KB\n"
     ]
    }
   ],
   "source": [
    "df1.info()"
   ]
  },
  {
   "cell_type": "code",
   "execution_count": 205,
   "metadata": {
    "colab": {
     "base_uri": "https://localhost:8080/"
    },
    "id": "1yGHNeu7Fbpc",
    "outputId": "34d10044-d974-4b05-b709-836397a32d46"
   },
   "outputs": [
    {
     "data": {
      "text/plain": [
       "((418,), (418, 5), (418,))"
      ]
     },
     "execution_count": 205,
     "metadata": {},
     "output_type": "execute_result"
    }
   ],
   "source": [
    "from keras.utils import np_utils\n",
    "import numpy as np\n",
    "X = data1['description_processed'].to_numpy()\n",
    "uniques, ids = np.unique(df1['Accident Level'], return_inverse=True)\n",
    "\n",
    "Y = np_utils.to_categorical(ids, len(uniques))\n",
    "\n",
    "X.shape, Y.shape, ids.shape\n"
   ]
  },
  {
   "cell_type": "code",
   "execution_count": 206,
   "metadata": {
    "id": "Ia-uihLuJQUg"
   },
   "outputs": [],
   "source": [
    "from sklearn.model_selection import train_test_split\n",
    "num_classes = 5 \n",
    "\n",
    "# Use train_test_split to split training data into training and validation sets\n",
    "X_train, X_test, Y_train, Y_test = train_test_split(X,\n",
    "                                                    Y,\n",
    "                                                    test_size=0.1, # dedicate 10% of samples to validation set\n",
    "                                                    random_state=42) # random state for reproducibility\n",
    "\n"
   ]
  },
  {
   "cell_type": "code",
   "execution_count": 207,
   "metadata": {
    "colab": {
     "base_uri": "https://localhost:8080/"
    },
    "id": "PCkR0O7uJFk0",
    "outputId": "816cc2ff-4be3-47a0-f340-428b0fbab751"
   },
   "outputs": [
    {
     "data": {
      "text/plain": [
       "array([1., 0., 0., 0., 0.], dtype=float32)"
      ]
     },
     "execution_count": 207,
     "metadata": {},
     "output_type": "execute_result"
    }
   ],
   "source": [
    "Y[0]"
   ]
  },
  {
   "cell_type": "code",
   "execution_count": 208,
   "metadata": {
    "colab": {
     "base_uri": "https://localhost:8080/"
    },
    "id": "n-iqXoWmJFny",
    "outputId": "9dfe77cb-d882-443d-aa34-2dc6e6077feb"
   },
   "outputs": [
    {
     "data": {
      "text/plain": [
       "((376,), (376, 5))"
      ]
     },
     "execution_count": 208,
     "metadata": {},
     "output_type": "execute_result"
    }
   ],
   "source": [
    "X_train.shape, Y_train.shape"
   ]
  },
  {
   "cell_type": "code",
   "execution_count": 209,
   "metadata": {
    "colab": {
     "base_uri": "https://localhost:8080/",
     "height": 328
    },
    "id": "6QrKUgRGJFtk",
    "outputId": "4a111dc2-ff74-45f8-a1c6-6539e7dccf8e"
   },
   "outputs": [],
   "source": [
    "# Fit the text vectorizer to the training text\n",
    "text_vectorizer.adapt(X_train)"
   ]
  },
  {
   "cell_type": "code",
   "execution_count": 210,
   "metadata": {
    "id": "Lnbf-MUbxDQN"
   },
   "outputs": [],
   "source": [
    "import tensorflow as tf"
   ]
  },
  {
   "cell_type": "code",
   "execution_count": 211,
   "metadata": {
    "colab": {
     "base_uri": "https://localhost:8080/"
    },
    "id": "jm5Rojm5JFwr",
    "outputId": "8fd4ccd6-f278-4d52-b9f9-a26f53f1dab8"
   },
   "outputs": [
    {
     "name": "stdout",
     "output_type": "stream",
     "text": [
      "Original text:\n",
      "during torch cutting activity new evaporator treatment fixing rupture hose near torch pen causing injury      \n",
      "\n",
      "Vectorized version:\n"
     ]
    },
    {
     "data": {
      "text/plain": [
       "<tf.Tensor: shape=(1, 15), dtype=int64, numpy=\n",
       "array([[  24,  957,  135,   10, 1875, 2194,  951, 1234, 1045,  102,  166,\n",
       "         957, 1107,    5,   11]], dtype=int64)>"
      ]
     },
     "execution_count": 211,
     "metadata": {},
     "output_type": "execute_result"
    }
   ],
   "source": [
    "import random\n",
    "\n",
    "# Choose a random sentence from the training dataset and tokenize it\n",
    "\n",
    "random_sentence = random.choice(X_train)\n",
    "print(f\"Original text:\\n{random_sentence}\\\n",
    "      \\n\\nVectorized version:\")\n",
    "text_vectorizer([random_sentence])\n"
   ]
  },
  {
   "cell_type": "code",
   "execution_count": 212,
   "metadata": {
    "colab": {
     "base_uri": "https://localhost:8080/"
    },
    "id": "_TEG0vHPJFzJ",
    "outputId": "1cd4c97b-2e57-4012-e0b9-b2f1708a7766"
   },
   "outputs": [
    {
     "name": "stdout",
     "output_type": "stream",
     "text": [
      "Number of words in vocab: 2598\n",
      "Top 5 most common words: ['', '[UNK]', 'the', 'hand', 'employee']\n",
      "Bottom 5 least common words: ['absorbing', 'absorbent', 'abratech', 'abdomen', 'abb']\n"
     ]
    }
   ],
   "source": [
    "# Get the unique words in the vocabulary\n",
    "words_in_vocab = text_vectorizer.get_vocabulary()\n",
    "top_5_words = words_in_vocab[:5] # most common tokens (notice the [UNK] token for \"unknown\" words)\n",
    "bottom_5_words = words_in_vocab[-5:] # least common tokens\n",
    "print(f\"Number of words in vocab: {len(words_in_vocab)}\")\n",
    "print(f\"Top 5 most common words: {top_5_words}\") \n",
    "print(f\"Bottom 5 least common words: {bottom_5_words}\")\n",
    "\n",
    "max_vocab_length = len(words_in_vocab)\n",
    "max_length = round(max([len(i.split()) for i in X_train]))\n"
   ]
  },
  {
   "cell_type": "code",
   "execution_count": 213,
   "metadata": {},
   "outputs": [
    {
     "data": {
      "text/plain": [
       "95"
      ]
     },
     "execution_count": 213,
     "metadata": {},
     "output_type": "execute_result"
    }
   ],
   "source": [
    "max_length"
   ]
  },
  {
   "cell_type": "code",
   "execution_count": 214,
   "metadata": {
    "colab": {
     "base_uri": "https://localhost:8080/"
    },
    "id": "ktFP5eqlJF2k",
    "outputId": "59731240-0624-48ea-fc5c-e03745a35f56"
   },
   "outputs": [
    {
     "data": {
      "text/plain": [
       "<keras.layers.embeddings.Embedding at 0x25b6c8c0070>"
      ]
     },
     "execution_count": 214,
     "metadata": {},
     "output_type": "execute_result"
    }
   ],
   "source": [
    "import tensorflow as tf\n",
    "from tensorflow.keras import layers\n",
    "tf.random.set_seed(42)\n",
    "\n",
    "embedding = layers.Embedding(input_dim=max_vocab_length, # set input shape\n",
    "                             output_dim=128, # set size of embedding vector\n",
    "                             embeddings_initializer=\"uniform\", # default, intialize randomly\n",
    "                             input_length=max_length, # how long is each input\n",
    "                             name=\"embedding_1\") \n",
    "\n",
    "embedding"
   ]
  },
  {
   "cell_type": "code",
   "execution_count": 215,
   "metadata": {
    "colab": {
     "base_uri": "https://localhost:8080/"
    },
    "id": "z3to4wfOOmvv",
    "outputId": "61fdfdba-8b38-4f4c-89e9-c142a614f256"
   },
   "outputs": [
    {
     "name": "stdout",
     "output_type": "stream",
     "text": [
      "Original text:\n",
      "when cutting vegetation open bite using sickle assistant struck vine twice when liana ruptured top branch projected face auxiliary causing cut upper lip      \n",
      "\n",
      "Embedded version:\n"
     ]
    },
    {
     "data": {
      "text/plain": [
       "<tf.Tensor: shape=(1, 23, 128), dtype=float32, numpy=\n",
       "array([[[-0.03624376,  0.04096097,  0.00048   , ..., -0.0216538 ,\n",
       "          0.00666716,  0.01672911],\n",
       "        [-0.00767387,  0.03244089, -0.00273246, ...,  0.0495437 ,\n",
       "         -0.02859933, -0.03865745],\n",
       "        [ 0.03118776, -0.04945146,  0.00428406, ..., -0.01781521,\n",
       "          0.03616799, -0.00525054],\n",
       "        ...,\n",
       "        [-0.01617707,  0.0422763 ,  0.00466955, ...,  0.0381538 ,\n",
       "          0.03315575,  0.04610637],\n",
       "        [-0.0357952 , -0.03596241,  0.0240985 , ..., -0.03533927,\n",
       "         -0.00157645,  0.01281765],\n",
       "        [ 0.04466719, -0.04735221,  0.02906582, ...,  0.01456075,\n",
       "         -0.03965676,  0.0335649 ]]], dtype=float32)>"
      ]
     },
     "execution_count": 215,
     "metadata": {},
     "output_type": "execute_result"
    }
   ],
   "source": [
    "# Get a random sentence from training set\n",
    "random_sentence = random.choice(X_train)\n",
    "print(f\"Original text:\\n{random_sentence}\\\n",
    "      \\n\\nEmbedded version:\")\n",
    "\n",
    "# Embed the random sentence (turn it into numerical representation)\n",
    "sample_embed = embedding(text_vectorizer([random_sentence]))\n",
    "sample_embed\n"
   ]
  },
  {
   "cell_type": "code",
   "execution_count": 216,
   "metadata": {
    "id": "j0wC5f8XOmy9"
   },
   "outputs": [],
   "source": [
    "# Create tensorboard callback (need to create a new one for each model)\n",
    "\n",
    "def create_tensorboard_callback(dir_name, experiment_name):\n",
    "  \"\"\"\n",
    "  Creates a TensorBoard callback instand to store log files.\n",
    "\n",
    "  Stores log files with the filepath:\n",
    "    \"dir_name/experiment_name/current_datetime/\"\n",
    "\n",
    "  Args:\n",
    "    dir_name: target directory to store TensorBoard log files\n",
    "    experiment_name: name of experiment directory (e.g. efficientnet_model_1)\n",
    "  \"\"\"\n",
    "  log_dir = dir_name + \"/\" + experiment_name + \"/\" + datetime.datetime.now().strftime(\"%Y%m%d-%H%M%S\")\n",
    "  tensorboard_callback = tf.keras.callbacks.TensorBoard(\n",
    "      log_dir=log_dir\n",
    "  )\n",
    "  print(f\"Saving TensorBoard log files to: {log_dir}\")\n",
    "  return tensorboard_callback\n",
    "\n",
    "# Create directory to save TensorBoard logs\n",
    "SAVE_DIR = \"model_logs\""
   ]
  },
  {
   "cell_type": "code",
   "execution_count": 217,
   "metadata": {
    "id": "SnkyQu5zOm1r"
   },
   "outputs": [],
   "source": [
    "# Build model with the Functional API\n",
    "\n",
    "inputs = layers.Input(shape=(1,), dtype=\"string\") # inputs are 1-dimensional strings\n",
    "x = text_vectorizer(inputs) # turn the input text into numbers\n",
    "x = embedding(x) # create an embedding of the numerized numbers\n",
    "x = layers.GlobalAveragePooling1D()(x) # lower the dimensionality of the embedding (try running the model without this layer and see what happens)\n",
    "outputs = layers.Dense(num_classes, activation=\"softmax\")(x) # create the output layer, want binary outputs so use softmax activation\n",
    "model_1 = tf.keras.Model(inputs, outputs, name=\"model_1_dense\") # construct the model\n",
    "\n"
   ]
  },
  {
   "cell_type": "code",
   "execution_count": 218,
   "metadata": {
    "id": "n6-gW0mCOm5e"
   },
   "outputs": [],
   "source": [
    "# Compile model\n",
    "model_1.compile(loss=\"categorical_crossentropy\",\n",
    "                optimizer=tf.keras.optimizers.Adam(),\n",
    "                metrics=[\"accuracy\"])\n",
    "\n"
   ]
  },
  {
   "cell_type": "code",
   "execution_count": 219,
   "metadata": {
    "colab": {
     "base_uri": "https://localhost:8080/"
    },
    "id": "R2jHtjJeOm8M",
    "outputId": "c381109a-8102-4028-c6fa-cd7848b825c9"
   },
   "outputs": [
    {
     "name": "stdout",
     "output_type": "stream",
     "text": [
      "Model: \"model_1_dense\"\n",
      "_________________________________________________________________\n",
      " Layer (type)                Output Shape              Param #   \n",
      "=================================================================\n",
      " input_1 (InputLayer)        [(None, 1)]               0         \n",
      "                                                                 \n",
      " text_vectorization (TextVec  (None, None)             0         \n",
      " torization)                                                     \n",
      "                                                                 \n",
      " embedding_1 (Embedding)     (None, None, 128)         332544    \n",
      "                                                                 \n",
      " global_average_pooling1d (G  (None, 128)              0         \n",
      " lobalAveragePooling1D)                                          \n",
      "                                                                 \n",
      " dense_10 (Dense)            (None, 5)                 645       \n",
      "                                                                 \n",
      "=================================================================\n",
      "Total params: 333,189\n",
      "Trainable params: 333,189\n",
      "Non-trainable params: 0\n",
      "_________________________________________________________________\n"
     ]
    }
   ],
   "source": [
    "model_1.summary()"
   ]
  },
  {
   "cell_type": "code",
   "execution_count": 220,
   "metadata": {
    "colab": {
     "base_uri": "https://localhost:8080/"
    },
    "id": "nt_zES8nQpSo",
    "outputId": "5e996d42-943b-4cf7-f753-75065f353eeb"
   },
   "outputs": [
    {
     "name": "stdout",
     "output_type": "stream",
     "text": [
      "Saving TensorBoard log files to: model_logs/simple_dense_model/20220507-104808\n",
      "Epoch 1/20\n",
      "12/12 [==============================] - 1s 23ms/step - loss: 1.5516 - accuracy: 0.7261 - val_loss: 1.4870 - val_accuracy: 0.7619\n",
      "Epoch 2/20\n",
      "12/12 [==============================] - 0s 11ms/step - loss: 1.4385 - accuracy: 0.7367 - val_loss: 1.3715 - val_accuracy: 0.7619\n",
      "Epoch 3/20\n",
      "12/12 [==============================] - 0s 11ms/step - loss: 1.3187 - accuracy: 0.7367 - val_loss: 1.2500 - val_accuracy: 0.7619\n",
      "Epoch 4/20\n",
      "12/12 [==============================] - 0s 15ms/step - loss: 1.1954 - accuracy: 0.7367 - val_loss: 1.1227 - val_accuracy: 0.7619\n",
      "Epoch 5/20\n",
      "12/12 [==============================] - 0s 14ms/step - loss: 1.0720 - accuracy: 0.7367 - val_loss: 1.0139 - val_accuracy: 0.7619\n",
      "Epoch 6/20\n",
      "12/12 [==============================] - 0s 11ms/step - loss: 0.9744 - accuracy: 0.7367 - val_loss: 0.9267 - val_accuracy: 0.7619\n",
      "Epoch 7/20\n",
      "12/12 [==============================] - 0s 12ms/step - loss: 0.9110 - accuracy: 0.7367 - val_loss: 0.8774 - val_accuracy: 0.7619\n",
      "Epoch 8/20\n",
      "12/12 [==============================] - 0s 13ms/step - loss: 0.8672 - accuracy: 0.7367 - val_loss: 0.8551 - val_accuracy: 0.7619\n",
      "Epoch 9/20\n",
      "12/12 [==============================] - 0s 13ms/step - loss: 0.8471 - accuracy: 0.7367 - val_loss: 0.8462 - val_accuracy: 0.7619\n",
      "Epoch 10/20\n",
      "12/12 [==============================] - 0s 11ms/step - loss: 0.8308 - accuracy: 0.7367 - val_loss: 0.8408 - val_accuracy: 0.7619\n",
      "Epoch 11/20\n",
      "12/12 [==============================] - 0s 12ms/step - loss: 0.8174 - accuracy: 0.7367 - val_loss: 0.8379 - val_accuracy: 0.7619\n",
      "Epoch 12/20\n",
      "12/12 [==============================] - 0s 13ms/step - loss: 0.8021 - accuracy: 0.7367 - val_loss: 0.8354 - val_accuracy: 0.7619\n",
      "Epoch 13/20\n",
      "12/12 [==============================] - 0s 11ms/step - loss: 0.7943 - accuracy: 0.7367 - val_loss: 0.8326 - val_accuracy: 0.7619\n",
      "Epoch 14/20\n",
      "12/12 [==============================] - 0s 11ms/step - loss: 0.7767 - accuracy: 0.7367 - val_loss: 0.8299 - val_accuracy: 0.7619\n",
      "Epoch 15/20\n",
      "12/12 [==============================] - 0s 11ms/step - loss: 0.7671 - accuracy: 0.7394 - val_loss: 0.8273 - val_accuracy: 0.7619\n",
      "Epoch 16/20\n",
      "12/12 [==============================] - 0s 12ms/step - loss: 0.7545 - accuracy: 0.7394 - val_loss: 0.8253 - val_accuracy: 0.7619\n",
      "Epoch 17/20\n",
      "12/12 [==============================] - 0s 10ms/step - loss: 0.7403 - accuracy: 0.7367 - val_loss: 0.8238 - val_accuracy: 0.7619\n",
      "Epoch 18/20\n",
      "12/12 [==============================] - 0s 11ms/step - loss: 0.7219 - accuracy: 0.7394 - val_loss: 0.8205 - val_accuracy: 0.7619\n",
      "Epoch 19/20\n",
      "12/12 [==============================] - 0s 12ms/step - loss: 0.7204 - accuracy: 0.7420 - val_loss: 0.8185 - val_accuracy: 0.7619\n",
      "Epoch 20/20\n",
      "12/12 [==============================] - 0s 13ms/step - loss: 0.6941 - accuracy: 0.7420 - val_loss: 0.8167 - val_accuracy: 0.7619\n"
     ]
    }
   ],
   "source": [
    "from keras.callbacks import EarlyStopping\n",
    "import datetime\n",
    "\n",
    "batch_size = 32\n",
    "custom_early_stopping = EarlyStopping(monitor = 'val_loss', patience = 10, mode = 'min',\n",
    "    restore_best_weights=True\n",
    ")\n",
    "\n",
    "# Fit the model\n",
    "model_1_history = model_1.fit(X_train, # input sentences can be a list of strings due to text preprocessing layer built-in model\n",
    "                              Y_train,\n",
    "                              epochs=20,\n",
    "                              validation_data=(X_test, Y_test),\n",
    "                              callbacks=[create_tensorboard_callback(dir_name=SAVE_DIR, experiment_name=\"simple_dense_model\"), custom_early_stopping])"
   ]
  },
  {
   "cell_type": "code",
   "execution_count": 221,
   "metadata": {
    "colab": {
     "base_uri": "https://localhost:8080/"
    },
    "id": "O-1fIo6ORQlg",
    "outputId": "cd4b5371-1c82-4d25-c785-e871b184efda"
   },
   "outputs": [
    {
     "name": "stdout",
     "output_type": "stream",
     "text": [
      "2/2 [==============================] - 0s 4ms/step - loss: 0.8167 - accuracy: 0.7619\n"
     ]
    },
    {
     "data": {
      "text/plain": [
       "[0.8166996836662292, 0.761904776096344]"
      ]
     },
     "execution_count": 221,
     "metadata": {},
     "output_type": "execute_result"
    }
   ],
   "source": [
    "model_1.evaluate(X_test, Y_test)\n"
   ]
  },
  {
   "cell_type": "code",
   "execution_count": 222,
   "metadata": {},
   "outputs": [
    {
     "name": "stdout",
     "output_type": "stream",
     "text": [
      "2/2 [==============================] - 0s 3ms/step - loss: 0.8167 - accuracy: 0.7619\n",
      "Test loss: 0.8166996836662292\n",
      "Test accuracy: 0.761904776096344\n"
     ]
    }
   ],
   "source": [
    "#Accuracy and loss of model_1\n",
    "model1_loss, model1_accuracy = model_1.evaluate(X_test, Y_test, verbose=1)\n",
    "print('Test loss:', model1_loss)\n",
    "print('Test accuracy:', model1_accuracy)"
   ]
  },
  {
   "cell_type": "code",
   "execution_count": 223,
   "metadata": {
    "id": "otxx7dQwXKlG"
   },
   "outputs": [],
   "source": [
    "from sklearn.metrics import confusion_matrix, classification_report"
   ]
  },
  {
   "cell_type": "code",
   "execution_count": 224,
   "metadata": {
    "colab": {
     "base_uri": "https://localhost:8080/"
    },
    "id": "IHtvMZw2Qpi-",
    "outputId": "e0acefb2-cf37-4029-a71a-c7db0d2442ed"
   },
   "outputs": [
    {
     "name": "stdout",
     "output_type": "stream",
     "text": [
      "Classification Report:- \n",
      "              precision    recall  f1-score   support\n",
      "\n",
      "           0       0.76      1.00      0.86        32\n",
      "           1       0.00      0.00      0.00         2\n",
      "           2       0.00      0.00      0.00         2\n",
      "           3       0.00      0.00      0.00         5\n",
      "           4       0.00      0.00      0.00         1\n",
      "\n",
      "    accuracy                           0.76        42\n",
      "   macro avg       0.15      0.20      0.17        42\n",
      "weighted avg       0.58      0.76      0.66        42\n",
      "\n"
     ]
    },
    {
     "name": "stderr",
     "output_type": "stream",
     "text": [
      "D:\\anaconda\\lib\\site-packages\\sklearn\\metrics\\_classification.py:1248: UndefinedMetricWarning: Precision and F-score are ill-defined and being set to 0.0 in labels with no predicted samples. Use `zero_division` parameter to control this behavior.\n",
      "  _warn_prf(average, modifier, msg_start, len(result))\n",
      "D:\\anaconda\\lib\\site-packages\\sklearn\\metrics\\_classification.py:1248: UndefinedMetricWarning: Precision and F-score are ill-defined and being set to 0.0 in labels with no predicted samples. Use `zero_division` parameter to control this behavior.\n",
      "  _warn_prf(average, modifier, msg_start, len(result))\n",
      "D:\\anaconda\\lib\\site-packages\\sklearn\\metrics\\_classification.py:1248: UndefinedMetricWarning: Precision and F-score are ill-defined and being set to 0.0 in labels with no predicted samples. Use `zero_division` parameter to control this behavior.\n",
      "  _warn_prf(average, modifier, msg_start, len(result))\n"
     ]
    }
   ],
   "source": [
    "Y_pred = model_1.predict(X_test)\n",
    "Y_test_decoded = uniques[np.argmax(Y_test, 1)]\n",
    "Y_pred_decoded = uniques[np.argmax(Y_pred, 1)]\n",
    "\n",
    "# Classification Report\n",
    "cr = classification_report(Y_test_decoded, Y_pred_decoded)\n",
    "print(\"Classification Report:- \")\n",
    "print(cr)"
   ]
  },
  {
   "cell_type": "code",
   "execution_count": 225,
   "metadata": {
    "id": "o6-YQ8XQFF6h"
   },
   "outputs": [],
   "source": [
    "#LSTM"
   ]
  },
  {
   "cell_type": "code",
   "execution_count": 226,
   "metadata": {
    "colab": {
     "base_uri": "https://localhost:8080/"
    },
    "id": "rOxhQW4oEwsd",
    "outputId": "bcaa0690-94d1-44ed-c601-82d1777df0ef"
   },
   "outputs": [
    {
     "name": "stdout",
     "output_type": "stream",
     "text": [
      "Model: \"sequential_2\"\n",
      "_________________________________________________________________\n",
      " Layer (type)                Output Shape              Param #   \n",
      "=================================================================\n",
      " text_vectorization (TextVec  (None, None)             0         \n",
      " torization)                                                     \n",
      "                                                                 \n",
      " embedding_2 (Embedding)     (None, None, 128)         332544    \n",
      "                                                                 \n",
      " lstm (LSTM)                 (None, None, 128)         131584    \n",
      "                                                                 \n",
      " lstm_1 (LSTM)               (None, 128)               131584    \n",
      "                                                                 \n",
      " dense_11 (Dense)            (None, 5)                 645       \n",
      "                                                                 \n",
      "=================================================================\n",
      "Total params: 596,357\n",
      "Trainable params: 596,357\n",
      "Non-trainable params: 0\n",
      "_________________________________________________________________\n",
      "None\n"
     ]
    }
   ],
   "source": [
    "\n",
    "lstm_out = 128\n",
    "\n",
    "model_2 = Sequential()\n",
    "model_2.add(layers.Input(shape=(1,), dtype=\"string\"))\n",
    "model_2.add(text_vectorizer)\n",
    "model_2.add(layers.Embedding(input_dim=max_vocab_length,\n",
    "                                     output_dim=128,\n",
    "                                     embeddings_initializer=\"uniform\",\n",
    "                                     input_length=max_length,\n",
    "                                     name=\"embedding_2\"))\n",
    "model_2.add(layers.LSTM(lstm_out, dropout=0.2, recurrent_dropout=0.2,return_sequences=True))\n",
    "model_2.add(layers.LSTM(lstm_out, dropout=0.2, recurrent_dropout=0.2))\n",
    "model_2.add(layers.Dense(num_classes, activation=\"softmax\")) # create the output layer, want binary outputs so use softmax activation\n",
    "print(model_2.summary())"
   ]
  },
  {
   "cell_type": "code",
   "execution_count": 227,
   "metadata": {
    "id": "BdViZq_7D6wG"
   },
   "outputs": [],
   "source": [
    "model_2.compile(loss=\"categorical_crossentropy\",\n",
    "                optimizer=tf.keras.optimizers.Adam(),\n",
    "                metrics=[\"accuracy\"])"
   ]
  },
  {
   "cell_type": "code",
   "execution_count": 228,
   "metadata": {
    "colab": {
     "base_uri": "https://localhost:8080/"
    },
    "id": "Ga_u0I_XEk3Y",
    "outputId": "c61756f4-dcd5-4038-e805-2ce5f63fb4f9"
   },
   "outputs": [
    {
     "name": "stdout",
     "output_type": "stream",
     "text": [
      "Model: \"sequential_2\"\n",
      "_________________________________________________________________\n",
      " Layer (type)                Output Shape              Param #   \n",
      "=================================================================\n",
      " text_vectorization (TextVec  (None, None)             0         \n",
      " torization)                                                     \n",
      "                                                                 \n",
      " embedding_2 (Embedding)     (None, None, 128)         332544    \n",
      "                                                                 \n",
      " lstm (LSTM)                 (None, None, 128)         131584    \n",
      "                                                                 \n",
      " lstm_1 (LSTM)               (None, 128)               131584    \n",
      "                                                                 \n",
      " dense_11 (Dense)            (None, 5)                 645       \n",
      "                                                                 \n",
      "=================================================================\n",
      "Total params: 596,357\n",
      "Trainable params: 596,357\n",
      "Non-trainable params: 0\n",
      "_________________________________________________________________\n"
     ]
    }
   ],
   "source": [
    "model_2.summary()"
   ]
  },
  {
   "cell_type": "code",
   "execution_count": 229,
   "metadata": {},
   "outputs": [],
   "source": [
    "#Running the model"
   ]
  },
  {
   "cell_type": "code",
   "execution_count": 230,
   "metadata": {
    "colab": {
     "base_uri": "https://localhost:8080/"
    },
    "id": "gmnTaA3OWMUb",
    "outputId": "69d16290-d0f8-4755-bd99-ea7fcf51efdf"
   },
   "outputs": [
    {
     "name": "stdout",
     "output_type": "stream",
     "text": [
      "Saving TensorBoard log files to: model_logs/LSTM/20220507-105237\n",
      "Epoch 1/50\n",
      "12/12 [==============================] - 6s 218ms/step - loss: 1.1610 - accuracy: 0.6809 - val_loss: 0.8939 - val_accuracy: 0.7619\n",
      "Epoch 2/50\n",
      "12/12 [==============================] - 2s 168ms/step - loss: 0.9246 - accuracy: 0.7367 - val_loss: 0.8631 - val_accuracy: 0.7619\n",
      "Epoch 3/50\n",
      "12/12 [==============================] - 2s 173ms/step - loss: 0.9101 - accuracy: 0.7367 - val_loss: 0.8656 - val_accuracy: 0.7619\n",
      "Epoch 4/50\n",
      "12/12 [==============================] - 2s 175ms/step - loss: 0.9042 - accuracy: 0.7367 - val_loss: 0.8287 - val_accuracy: 0.7619\n",
      "Epoch 5/50\n",
      "12/12 [==============================] - 2s 181ms/step - loss: 0.9027 - accuracy: 0.7394 - val_loss: 0.8167 - val_accuracy: 0.7619\n",
      "Epoch 6/50\n",
      "12/12 [==============================] - 2s 173ms/step - loss: 0.8508 - accuracy: 0.7367 - val_loss: 0.8203 - val_accuracy: 0.7619\n",
      "Epoch 7/50\n",
      "12/12 [==============================] - 2s 193ms/step - loss: 0.7692 - accuracy: 0.7473 - val_loss: 0.8426 - val_accuracy: 0.7619\n",
      "Epoch 8/50\n",
      "12/12 [==============================] - 3s 219ms/step - loss: 0.6975 - accuracy: 0.7713 - val_loss: 1.0731 - val_accuracy: 0.6190\n",
      "Epoch 9/50\n",
      "12/12 [==============================] - 3s 237ms/step - loss: 0.6203 - accuracy: 0.7793 - val_loss: 0.8589 - val_accuracy: 0.7619\n",
      "Epoch 10/50\n",
      "12/12 [==============================] - 3s 243ms/step - loss: 0.5130 - accuracy: 0.8032 - val_loss: 1.3898 - val_accuracy: 0.5714\n",
      "Epoch 11/50\n",
      "12/12 [==============================] - 2s 194ms/step - loss: 0.4814 - accuracy: 0.7793 - val_loss: 1.6652 - val_accuracy: 0.5714\n",
      "Epoch 12/50\n",
      "12/12 [==============================] - 2s 188ms/step - loss: 0.4421 - accuracy: 0.7899 - val_loss: 1.3940 - val_accuracy: 0.6429\n",
      "Epoch 13/50\n",
      "12/12 [==============================] - 2s 185ms/step - loss: 0.4206 - accuracy: 0.8191 - val_loss: 1.3856 - val_accuracy: 0.6429\n",
      "Epoch 14/50\n",
      "12/12 [==============================] - 3s 210ms/step - loss: 0.4957 - accuracy: 0.7553 - val_loss: 2.0305 - val_accuracy: 0.3810\n",
      "Epoch 15/50\n",
      "12/12 [==============================] - 3s 242ms/step - loss: 0.7633 - accuracy: 0.6755 - val_loss: 1.0410 - val_accuracy: 0.7619\n"
     ]
    }
   ],
   "source": [
    "batch_size = 32\n",
    "custom_early_stopping = EarlyStopping(monitor = 'val_loss', patience = 10, mode = 'min',\n",
    "    restore_best_weights=True\n",
    ")\n",
    "\n",
    "# Fit model\n",
    "model_2_history = model_2.fit(X_train,\n",
    "                              Y_train,\n",
    "                              epochs=50,\n",
    "                              validation_data=(X_test, Y_test),\n",
    "                              callbacks=[create_tensorboard_callback(SAVE_DIR,\"LSTM\"), custom_early_stopping])\n",
    "\n"
   ]
  },
  {
   "cell_type": "code",
   "execution_count": 231,
   "metadata": {},
   "outputs": [],
   "source": [
    "#Evaluating the model_2"
   ]
  },
  {
   "cell_type": "code",
   "execution_count": 232,
   "metadata": {
    "colab": {
     "base_uri": "https://localhost:8080/"
    },
    "id": "hKSQA-_iWMoc",
    "outputId": "c6b1ab7d-274b-467c-8b25-04cdb7e5fea5"
   },
   "outputs": [
    {
     "name": "stdout",
     "output_type": "stream",
     "text": [
      "2/2 [==============================] - 0s 16ms/step - loss: 0.8167 - accuracy: 0.7619\n"
     ]
    },
    {
     "data": {
      "text/plain": [
       "[0.8166620135307312, 0.761904776096344]"
      ]
     },
     "execution_count": 232,
     "metadata": {},
     "output_type": "execute_result"
    }
   ],
   "source": [
    "model_2.evaluate(X_test, Y_test)"
   ]
  },
  {
   "cell_type": "code",
   "execution_count": 233,
   "metadata": {},
   "outputs": [
    {
     "name": "stdout",
     "output_type": "stream",
     "text": [
      "2/2 [==============================] - 0s 14ms/step - loss: 0.8167 - accuracy: 0.7619\n",
      "Test loss: 0.8166620135307312\n",
      "Test accuracy: 0.761904776096344\n"
     ]
    }
   ],
   "source": [
    "#Accuracy and loss of model_2\n",
    "model2_loss, model2_accuracy = model_2.evaluate(X_test, Y_test, verbose=1)\n",
    "print('Test loss:', model2_loss)\n",
    "print('Test accuracy:', model2_accuracy)"
   ]
  },
  {
   "cell_type": "code",
   "execution_count": 234,
   "metadata": {},
   "outputs": [],
   "source": [
    "import os\n",
    "os.environ['TF_CPP_MIN_LOG_LEVEL'] = '2'"
   ]
  },
  {
   "cell_type": "code",
   "execution_count": 235,
   "metadata": {
    "colab": {
     "base_uri": "https://localhost:8080/"
    },
    "id": "aBjUIiTHWMru",
    "outputId": "c027314a-3f1e-46bc-968b-eeeb3957ba59"
   },
   "outputs": [
    {
     "name": "stdout",
     "output_type": "stream",
     "text": [
      "Classification Report:- \n",
      "              precision    recall  f1-score   support\n",
      "\n",
      "           0       0.78      1.00      0.88        32\n",
      "           1       0.00      0.00      0.00         2\n",
      "           2       0.00      0.00      0.00         2\n",
      "           3       0.00      0.00      0.00         5\n",
      "           4       0.00      0.00      0.00         1\n",
      "\n",
      "    accuracy                           0.76        42\n",
      "   macro avg       0.16      0.20      0.18        42\n",
      "weighted avg       0.59      0.76      0.67        42\n",
      "\n"
     ]
    },
    {
     "name": "stderr",
     "output_type": "stream",
     "text": [
      "D:\\anaconda\\lib\\site-packages\\sklearn\\metrics\\_classification.py:1248: UndefinedMetricWarning: Precision and F-score are ill-defined and being set to 0.0 in labels with no predicted samples. Use `zero_division` parameter to control this behavior.\n",
      "  _warn_prf(average, modifier, msg_start, len(result))\n",
      "D:\\anaconda\\lib\\site-packages\\sklearn\\metrics\\_classification.py:1248: UndefinedMetricWarning: Precision and F-score are ill-defined and being set to 0.0 in labels with no predicted samples. Use `zero_division` parameter to control this behavior.\n",
      "  _warn_prf(average, modifier, msg_start, len(result))\n",
      "D:\\anaconda\\lib\\site-packages\\sklearn\\metrics\\_classification.py:1248: UndefinedMetricWarning: Precision and F-score are ill-defined and being set to 0.0 in labels with no predicted samples. Use `zero_division` parameter to control this behavior.\n",
      "  _warn_prf(average, modifier, msg_start, len(result))\n"
     ]
    }
   ],
   "source": [
    "Y_pred = model_2.predict(X_test)\n",
    "Y_test_decoded = uniques[np.argmax(Y_test, 1)]\n",
    "Y_pred_decoded = uniques[np.argmax(Y_pred, 1)]\n",
    "\n",
    "# Classification Report\n",
    "cr = classification_report(Y_test_decoded, Y_pred_decoded)\n",
    "print(\"Classification Report:- \")\n",
    "print(cr)"
   ]
  },
  {
   "cell_type": "code",
   "execution_count": 236,
   "metadata": {
    "colab": {
     "base_uri": "https://localhost:8080/"
    },
    "id": "4508ytGZWMvK",
    "outputId": "fa5c45ae-3f11-4dee-81f8-9a541f58a309"
   },
   "outputs": [
    {
     "name": "stdout",
     "output_type": "stream",
     "text": [
      "Saving TensorBoard log files to: model_logs/LSTM/20220507-105459\n",
      "Epoch 1/50\n",
      "12/12 [==============================] - 3s 201ms/step - loss: 0.8693 - accuracy: 0.7420 - val_loss: 0.7905 - val_accuracy: 0.7857\n",
      "Epoch 2/50\n",
      "12/12 [==============================] - 2s 177ms/step - loss: 0.8565 - accuracy: 0.7500 - val_loss: 0.7911 - val_accuracy: 0.7857\n",
      "Epoch 3/50\n",
      "12/12 [==============================] - 2s 182ms/step - loss: 0.8102 - accuracy: 0.7553 - val_loss: 0.7483 - val_accuracy: 0.7619\n",
      "Epoch 4/50\n",
      "12/12 [==============================] - 2s 190ms/step - loss: 0.7535 - accuracy: 0.7553 - val_loss: 0.9219 - val_accuracy: 0.6667\n",
      "Epoch 5/50\n",
      "12/12 [==============================] - 2s 184ms/step - loss: 0.7875 - accuracy: 0.7287 - val_loss: 0.9045 - val_accuracy: 0.7619\n",
      "Epoch 6/50\n",
      "12/12 [==============================] - 2s 191ms/step - loss: 0.8273 - accuracy: 0.7234 - val_loss: 0.9535 - val_accuracy: 0.6667\n",
      "Epoch 7/50\n",
      "12/12 [==============================] - 2s 211ms/step - loss: 0.7630 - accuracy: 0.7154 - val_loss: 1.1423 - val_accuracy: 0.7619\n",
      "Epoch 8/50\n",
      "12/12 [==============================] - 2s 204ms/step - loss: 0.7694 - accuracy: 0.7367 - val_loss: 1.0938 - val_accuracy: 0.7619\n",
      "Epoch 9/50\n",
      "12/12 [==============================] - 3s 210ms/step - loss: 0.7950 - accuracy: 0.7367 - val_loss: 1.0475 - val_accuracy: 0.7619\n",
      "Epoch 10/50\n",
      "12/12 [==============================] - 2s 196ms/step - loss: 0.7937 - accuracy: 0.7367 - val_loss: 1.0246 - val_accuracy: 0.7619\n",
      "Epoch 11/50\n",
      "12/12 [==============================] - 2s 190ms/step - loss: 0.7713 - accuracy: 0.7367 - val_loss: 1.0057 - val_accuracy: 0.7619\n",
      "Epoch 12/50\n",
      "12/12 [==============================] - 2s 208ms/step - loss: 0.7726 - accuracy: 0.7367 - val_loss: 1.0463 - val_accuracy: 0.7619\n",
      "Epoch 13/50\n",
      "12/12 [==============================] - 2s 202ms/step - loss: 0.7611 - accuracy: 0.7367 - val_loss: 1.0693 - val_accuracy: 0.7619\n"
     ]
    }
   ],
   "source": [
    "#TUNING the model_2\n",
    "#Changing the batch size and epochs\n",
    "batch_size = 16\n",
    "custom_early_stopping = EarlyStopping(monitor = 'val_loss', patience = 10, mode = 'min',\n",
    "    restore_best_weights=True\n",
    ")\n",
    "\n",
    "# Fit model\n",
    "modelt_2_history = model_2.fit(X_train,\n",
    "                              Y_train,\n",
    "                              epochs=50,\n",
    "                              validation_data=(X_test, Y_test),\n",
    "                              callbacks=[create_tensorboard_callback(SAVE_DIR,\"LSTM\"), custom_early_stopping])\n"
   ]
  },
  {
   "cell_type": "code",
   "execution_count": 237,
   "metadata": {
    "colab": {
     "base_uri": "https://localhost:8080/"
    },
    "id": "ImWY0uBA6u_q",
    "outputId": "2e3de06b-8d7e-474d-a6d0-4f044db8b3e0"
   },
   "outputs": [
    {
     "name": "stdout",
     "output_type": "stream",
     "text": [
      "2/2 [==============================] - 0s 14ms/step - loss: 0.7483 - accuracy: 0.7619\n"
     ]
    },
    {
     "data": {
      "text/plain": [
       "[0.748318076133728, 0.761904776096344]"
      ]
     },
     "execution_count": 237,
     "metadata": {},
     "output_type": "execute_result"
    }
   ],
   "source": [
    "model_2.evaluate(X_test, Y_test)"
   ]
  },
  {
   "cell_type": "markdown",
   "metadata": {},
   "source": [
    "It can be noted that the accuarcy of the model before and after tuning is the same."
   ]
  },
  {
   "cell_type": "code",
   "execution_count": 239,
   "metadata": {},
   "outputs": [],
   "source": [
    "#bidirectional lstm for target variable accident level"
   ]
  },
  {
   "cell_type": "code",
   "execution_count": 240,
   "metadata": {
    "id": "FmJqYmCDWMzN"
   },
   "outputs": [
    {
     "name": "stdout",
     "output_type": "stream",
     "text": [
      "Model: \"sequential_3\"\n",
      "_________________________________________________________________\n",
      " Layer (type)                Output Shape              Param #   \n",
      "=================================================================\n",
      " text_vectorization (TextVec  (None, None)             0         \n",
      " torization)                                                     \n",
      "                                                                 \n",
      " embedding_2 (Embedding)     (None, None, 128)         332544    \n",
      "                                                                 \n",
      " bidirectional (Bidirectiona  (None, None, 256)        263168    \n",
      " l)                                                              \n",
      "                                                                 \n",
      " module_wrapper (ModuleWrapp  (None, 256)              0         \n",
      " er)                                                             \n",
      "                                                                 \n",
      " dropout_8 (Dropout)         (None, 256)               0         \n",
      "                                                                 \n",
      " dense_12 (Dense)            (None, 128)               32896     \n",
      "                                                                 \n",
      " dropout_9 (Dropout)         (None, 128)               0         \n",
      "                                                                 \n",
      " dense_13 (Dense)            (None, 64)                8256      \n",
      "                                                                 \n",
      " dropout_10 (Dropout)        (None, 64)                0         \n",
      "                                                                 \n",
      " dense_14 (Dense)            (None, 5)                 325       \n",
      "                                                                 \n",
      "=================================================================\n",
      "Total params: 637,189\n",
      "Trainable params: 637,189\n",
      "Non-trainable params: 0\n",
      "_________________________________________________________________\n",
      "None\n"
     ]
    }
   ],
   "source": [
    "from keras.layers import LSTM\n",
    "from keras.layers import Bidirectional\n",
    "from tensorflow.python.keras.layers import GlobalMaxPool1D\n",
    "\n",
    "lstm_out = 128\n",
    "\n",
    "model_3 = Sequential()\n",
    "model_3.add(layers.Input(shape=(1,), dtype=\"string\"))\n",
    "model_3.add(text_vectorizer)\n",
    "model_3.add(layers.Embedding(input_dim=max_vocab_length,\n",
    "                                     output_dim=128,\n",
    "                                     embeddings_initializer=\"uniform\",\n",
    "                                     input_length=max_length,\n",
    "                                     name=\"embedding_2\"))\n",
    "model_3.add(Bidirectional(LSTM(lstm_out, return_sequences = True)))\n",
    "model_3.add(GlobalMaxPool1D())\n",
    "model_3.add(Dropout(0.5, input_shape = (256,)))\n",
    "model_3.add(Dense(128, activation = 'relu'))\n",
    "model_3.add(Dropout(0.5, input_shape = (128,)))\n",
    "model_3.add(Dense(64, activation = 'relu'))\n",
    "model_3.add(Dropout(0.5, input_shape = (64,)))\n",
    "model_3.add(layers.Dense(num_classes, activation=\"softmax\")) # create the output layer, want binary outputs so use softmax activation\n",
    "print(model_3.summary())\n",
    "\n"
   ]
  },
  {
   "cell_type": "code",
   "execution_count": 241,
   "metadata": {
    "id": "bAHnF7lHWM2w"
   },
   "outputs": [],
   "source": [
    "# Compile model\n",
    "model_3.compile(loss=\"categorical_crossentropy\",\n",
    "                optimizer=tf.keras.optimizers.Adam(),\n",
    "                metrics=[\"accuracy\"])"
   ]
  },
  {
   "cell_type": "code",
   "execution_count": 242,
   "metadata": {
    "id": "p6ZeG-HTYiPU"
   },
   "outputs": [
    {
     "name": "stdout",
     "output_type": "stream",
     "text": [
      "Saving TensorBoard log files to: model_logs/BI-LSTM/20220507-105755\n",
      "WARNING:tensorflow:Model failed to serialize as JSON. Ignoring... \n",
      "Layer ModuleWrapper has arguments ['self', 'module', 'method_name']\n",
      "in `__init__` and therefore must override `get_config()`.\n",
      "\n",
      "Example:\n",
      "\n",
      "class CustomLayer(keras.layers.Layer):\n",
      "    def __init__(self, arg1, arg2):\n",
      "        super().__init__()\n",
      "        self.arg1 = arg1\n",
      "        self.arg2 = arg2\n",
      "\n",
      "    def get_config(self):\n",
      "        config = super().get_config()\n",
      "        config.update({\n",
      "            \"arg1\": self.arg1,\n",
      "            \"arg2\": self.arg2,\n",
      "        })\n",
      "        return config\n",
      "Epoch 1/50\n",
      "12/12 [==============================] - 5s 192ms/step - loss: 1.4655 - accuracy: 0.5559 - val_loss: 0.9183 - val_accuracy: 0.7619\n",
      "Epoch 2/50\n",
      "12/12 [==============================] - 1s 94ms/step - loss: 1.0669 - accuracy: 0.7340 - val_loss: 0.8605 - val_accuracy: 0.7619\n",
      "Epoch 3/50\n",
      "12/12 [==============================] - 1s 96ms/step - loss: 0.9919 - accuracy: 0.7314 - val_loss: 0.8918 - val_accuracy: 0.7619\n",
      "Epoch 4/50\n",
      "12/12 [==============================] - 1s 99ms/step - loss: 1.0221 - accuracy: 0.7367 - val_loss: 0.8908 - val_accuracy: 0.7619\n",
      "Epoch 5/50\n",
      "12/12 [==============================] - 1s 99ms/step - loss: 0.9949 - accuracy: 0.7367 - val_loss: 0.8807 - val_accuracy: 0.7619\n",
      "Epoch 6/50\n",
      "12/12 [==============================] - 1s 97ms/step - loss: 0.9770 - accuracy: 0.7367 - val_loss: 0.8688 - val_accuracy: 0.7619\n",
      "Epoch 7/50\n",
      "12/12 [==============================] - 1s 98ms/step - loss: 0.9756 - accuracy: 0.7367 - val_loss: 0.9199 - val_accuracy: 0.7619\n",
      "Epoch 8/50\n",
      "12/12 [==============================] - 1s 102ms/step - loss: 0.9536 - accuracy: 0.7367 - val_loss: 0.8739 - val_accuracy: 0.7619\n",
      "Epoch 9/50\n",
      "12/12 [==============================] - 1s 100ms/step - loss: 0.8619 - accuracy: 0.7367 - val_loss: 0.8624 - val_accuracy: 0.7619\n",
      "Epoch 10/50\n",
      "12/12 [==============================] - 1s 96ms/step - loss: 0.6471 - accuracy: 0.7367 - val_loss: 0.9333 - val_accuracy: 0.7619\n",
      "Epoch 11/50\n",
      "12/12 [==============================] - 1s 100ms/step - loss: 0.5223 - accuracy: 0.7367 - val_loss: 1.3871 - val_accuracy: 0.7619\n",
      "Epoch 12/50\n",
      "12/12 [==============================] - 1s 100ms/step - loss: 0.4524 - accuracy: 0.7553 - val_loss: 2.3493 - val_accuracy: 0.6905\n"
     ]
    }
   ],
   "source": [
    "batch_size = 32\n",
    "custom_early_stopping = EarlyStopping(monitor = 'val_loss', patience = 10, mode = 'min',\n",
    "    restore_best_weights=True\n",
    ")\n",
    "\n",
    "# Fit model\n",
    "model_3_history = model_3.fit(X_train,\n",
    "                              Y_train,\n",
    "                              epochs=50,\n",
    "                              validation_data=(X_test, Y_test),\n",
    "                              callbacks=[create_tensorboard_callback(SAVE_DIR,\"BI-LSTM\"), custom_early_stopping])"
   ]
  },
  {
   "cell_type": "code",
   "execution_count": 243,
   "metadata": {
    "id": "TJ4E-B-OYiTX"
   },
   "outputs": [
    {
     "name": "stdout",
     "output_type": "stream",
     "text": [
      "2/2 [==============================] - 0s 10ms/step - loss: 0.8605 - accuracy: 0.7619\n"
     ]
    },
    {
     "data": {
      "text/plain": [
       "[0.8605166673660278, 0.761904776096344]"
      ]
     },
     "execution_count": 243,
     "metadata": {},
     "output_type": "execute_result"
    }
   ],
   "source": [
    "model_3.evaluate(X_test, Y_test)"
   ]
  },
  {
   "cell_type": "code",
   "execution_count": 267,
   "metadata": {},
   "outputs": [
    {
     "name": "stdout",
     "output_type": "stream",
     "text": [
      "2/2 [==============================] - 0s 8ms/step - loss: 0.8605 - accuracy: 0.7619\n",
      "Test loss: 0.8605166673660278\n",
      "Test accuracy: 0.761904776096344\n"
     ]
    }
   ],
   "source": [
    "#Accuracy and loss of model_3\n",
    "model3_loss, model3_accuracy = model_3.evaluate(X_test, Y_test, verbose=1)\n",
    "print('Test loss:', model3_loss)\n",
    "print('Test accuracy:', model3_accuracy)"
   ]
  },
  {
   "cell_type": "code",
   "execution_count": 244,
   "metadata": {
    "id": "9otFpmjAYiXE"
   },
   "outputs": [
    {
     "name": "stdout",
     "output_type": "stream",
     "text": [
      "Classification Report:- \n",
      "              precision    recall  f1-score   support\n",
      "\n",
      "           0       0.76      1.00      0.86        32\n",
      "           1       0.00      0.00      0.00         2\n",
      "           2       0.00      0.00      0.00         2\n",
      "           3       0.00      0.00      0.00         5\n",
      "           4       0.00      0.00      0.00         1\n",
      "\n",
      "    accuracy                           0.76        42\n",
      "   macro avg       0.15      0.20      0.17        42\n",
      "weighted avg       0.58      0.76      0.66        42\n",
      "\n"
     ]
    },
    {
     "name": "stderr",
     "output_type": "stream",
     "text": [
      "D:\\anaconda\\lib\\site-packages\\sklearn\\metrics\\_classification.py:1248: UndefinedMetricWarning: Precision and F-score are ill-defined and being set to 0.0 in labels with no predicted samples. Use `zero_division` parameter to control this behavior.\n",
      "  _warn_prf(average, modifier, msg_start, len(result))\n",
      "D:\\anaconda\\lib\\site-packages\\sklearn\\metrics\\_classification.py:1248: UndefinedMetricWarning: Precision and F-score are ill-defined and being set to 0.0 in labels with no predicted samples. Use `zero_division` parameter to control this behavior.\n",
      "  _warn_prf(average, modifier, msg_start, len(result))\n",
      "D:\\anaconda\\lib\\site-packages\\sklearn\\metrics\\_classification.py:1248: UndefinedMetricWarning: Precision and F-score are ill-defined and being set to 0.0 in labels with no predicted samples. Use `zero_division` parameter to control this behavior.\n",
      "  _warn_prf(average, modifier, msg_start, len(result))\n"
     ]
    }
   ],
   "source": [
    "Y_pred = model_3.predict(X_test)\n",
    "Y_test_decoded = uniques[np.argmax(Y_test, 1)]\n",
    "Y_pred_decoded = uniques[np.argmax(Y_pred, 1)]\n",
    "\n",
    "# Classification Report\n",
    "cr = classification_report(Y_test_decoded, Y_pred_decoded)\n",
    "print(\"Classification Report:- \")\n",
    "print(cr)"
   ]
  },
  {
   "cell_type": "code",
   "execution_count": 245,
   "metadata": {
    "id": "aXU80Bj1YibD"
   },
   "outputs": [],
   "source": [
    "def Get_Predicted_class(description, model):\n",
    "    print(description)\n",
    "    y_pred = model_3.predict([ description ])\n",
    "    print(y_pred)\n",
    "    return acident_level_encoder.inverse_transform([uniques[np.argmax(y_pred)]])"
   ]
  },
  {
   "cell_type": "code",
   "execution_count": 246,
   "metadata": {
    "id": "t_qbF3a9Zb9P"
   },
   "outputs": [
    {
     "name": "stdout",
     "output_type": "stream",
     "text": [
      "Being 2:40 am. Approximately, Luna - master loader of the company Incimet was carrying out the loading activity of the front in the Cruiser 771 of the 1970 level; in moments that was tying the pentacord of the crown and trying to reach the fanel on the left side, loses balance by a movement of the ladder and falls to the floor resulting in the accident.\n",
      "[[0.4377758  0.16007334 0.13246438 0.14220314 0.12748334]]\n"
     ]
    },
    {
     "data": {
      "text/plain": [
       "(array(['I'], dtype=object), array(['I'], dtype=object))"
      ]
     },
     "execution_count": 246,
     "metadata": {},
     "output_type": "execute_result"
    }
   ],
   "source": [
    "index = 90\n",
    "Get_Predicted_class(df1['Description'][index], model_2), acident_level_encoder.inverse_transform([df1['Accident Level'][index]])"
   ]
  },
  {
   "cell_type": "code",
   "execution_count": 248,
   "metadata": {
    "id": "zSOYS9FMZcNH"
   },
   "outputs": [
    {
     "name": "stdout",
     "output_type": "stream",
     "text": [
      "^C\n"
     ]
    }
   ],
   "source": [
    "!tensorboard dev upload --logdir ./model_logs \\\n",
    "   --name \" Accident data NLP model comparison\" \\\n",
    "   --description \" Accident data NLP model comparison\" \\\n",
    "   --one_shot"
   ]
  },
  {
   "cell_type": "code",
   "execution_count": 249,
   "metadata": {},
   "outputs": [],
   "source": [
    "#LSTM with target variable potential accident level"
   ]
  },
  {
   "cell_type": "code",
   "execution_count": 250,
   "metadata": {
    "id": "Cu5y9aDpWM6K"
   },
   "outputs": [
    {
     "data": {
      "text/plain": [
       "((418,), (418, 6), (418,))"
      ]
     },
     "execution_count": 250,
     "metadata": {},
     "output_type": "execute_result"
    }
   ],
   "source": [
    "from keras.utils import np_utils\n",
    "X1 = data1['description_processed'].to_numpy()\n",
    "uniques1, ids1 = np.unique(df1['Potential Accident Level'], return_inverse=True)\n",
    "\n",
    "Y1 = np_utils.to_categorical(ids1, len(uniques1))\n",
    "\n",
    "X1.shape, Y1.shape, ids1.shape"
   ]
  },
  {
   "cell_type": "code",
   "execution_count": 251,
   "metadata": {
    "id": "mLXapvjT8oiI"
   },
   "outputs": [],
   "source": [
    "from sklearn.model_selection import train_test_split\n",
    "num_classes1 = 6\n",
    "\n",
    "# Use train_test_split to split training data into training and validation sets\n",
    "X1_train, X1_test, Y1_train, Y1_test = train_test_split(X1,\n",
    "                                                    Y1,\n",
    "                                                    test_size=0.1, # dedicate 10% of samples to validation set\n",
    "                                                    random_state=42) # random state for reproducibility"
   ]
  },
  {
   "cell_type": "code",
   "execution_count": 252,
   "metadata": {
    "id": "k4H3FXaP8urk"
   },
   "outputs": [
    {
     "data": {
      "text/plain": [
       "array([0., 0., 0., 1., 0., 0.], dtype=float32)"
      ]
     },
     "execution_count": 252,
     "metadata": {},
     "output_type": "execute_result"
    }
   ],
   "source": [
    "Y1[0]"
   ]
  },
  {
   "cell_type": "code",
   "execution_count": 253,
   "metadata": {
    "id": "8IQ1rXOR8_LH"
   },
   "outputs": [
    {
     "data": {
      "text/plain": [
       "((376,), (376, 6))"
      ]
     },
     "execution_count": 253,
     "metadata": {},
     "output_type": "execute_result"
    }
   ],
   "source": [
    "X1_train.shape, Y1_train.shape"
   ]
  },
  {
   "cell_type": "code",
   "execution_count": 254,
   "metadata": {
    "id": "1Ko8FZb-9GbC"
   },
   "outputs": [],
   "source": [
    "from tensorflow.keras.layers import TextVectorization"
   ]
  },
  {
   "cell_type": "code",
   "execution_count": 255,
   "metadata": {
    "id": "4N0zTnW89HRX"
   },
   "outputs": [],
   "source": [
    "text_vectorizer1 = TextVectorization()"
   ]
  },
  {
   "cell_type": "code",
   "execution_count": 256,
   "metadata": {
    "id": "zzXXmsSW9N2q"
   },
   "outputs": [],
   "source": [
    "# Fit the text vectorizer to the training text\n",
    "text_vectorizer1.adapt(X1_train)"
   ]
  },
  {
   "cell_type": "code",
   "execution_count": 257,
   "metadata": {
    "id": "tn5GG2km9YE2"
   },
   "outputs": [
    {
     "name": "stdout",
     "output_type": "stream",
     "text": [
      "Original text:\n",
      "the technician magnetometric survey stepped thorn his reaction immediately retreat losing balance magnetometer antenna broke      \n",
      "\n",
      "Vectorized version:\n"
     ]
    },
    {
     "data": {
      "text/plain": [
       "<tf.Tensor: shape=(1, 15), dtype=int64, numpy=\n",
       "array([[   2,   98,  816,  608,  291,  605, 1210,  139,  109, 1703, 1166,\n",
       "         242, 1935, 2534, 1325]], dtype=int64)>"
      ]
     },
     "execution_count": 257,
     "metadata": {},
     "output_type": "execute_result"
    }
   ],
   "source": [
    "import random\n",
    "\n",
    "# Choose a random sentence from the training dataset and tokenize it\n",
    "\n",
    "random_sentence1 = random.choice(X1_train)\n",
    "print(f\"Original text:\\n{random_sentence1}\\\n",
    "      \\n\\nVectorized version:\")\n",
    "text_vectorizer1([random_sentence1])\n"
   ]
  },
  {
   "cell_type": "code",
   "execution_count": 258,
   "metadata": {
    "id": "Ol-S3Ke89jza"
   },
   "outputs": [
    {
     "name": "stdout",
     "output_type": "stream",
     "text": [
      "Number of words in vocab: 2598\n",
      "Top 5 most common words: ['', '[UNK]', 'the', 'hand', 'employee']\n",
      "Bottom 5 least common words: ['absorbing', 'absorbent', 'abratech', 'abdomen', 'abb']\n"
     ]
    }
   ],
   "source": [
    "# Get the unique words in the vocabulary\n",
    "words_in_vocab1 = text_vectorizer1.get_vocabulary()\n",
    "top_5_words1 = words_in_vocab1[:5] # most common tokens (notice the [UNK] token for \"unknown\" words)\n",
    "bottom_5_words1 = words_in_vocab1[-5:] # least common tokens\n",
    "print(f\"Number of words in vocab: {len(words_in_vocab1)}\")\n",
    "print(f\"Top 5 most common words: {top_5_words1}\") \n",
    "print(f\"Bottom 5 least common words: {bottom_5_words1}\")\n",
    "\n",
    "max_vocab_length1 = len(words_in_vocab1)\n",
    "max_length1 = round(max([len(i.split()) for i in X1_train]))"
   ]
  },
  {
   "cell_type": "code",
   "execution_count": 259,
   "metadata": {
    "id": "4vokNTrn-Hq3"
   },
   "outputs": [],
   "source": [
    "# Build model with the Functional API\n",
    "\n",
    "inputs1 = layers.Input(shape=(1,), dtype=\"string\") # inputs are 1-dimensional strings\n",
    "x1 = text_vectorizer1(inputs1) # turn the input text into numbers\n",
    "x1 = embedding(x1) # create an embedding of the numerized numbers\n",
    "x1 = layers.GlobalAveragePooling1D()(x1) # lower the dimensionality of the embedding (try running the model without this layer and see what happens)\n",
    "outputs1 = layers.Dense(num_classes1, activation=\"softmax\")(x1) # create the output layer, want binary outputs so use softmax activation\n",
    "modelp_1 = tf.keras.Model(inputs1, outputs1, name=\"modelp_1_dense\") # construct the model\n",
    "\n"
   ]
  },
  {
   "cell_type": "code",
   "execution_count": 260,
   "metadata": {
    "id": "Wi2L9LxR-hzI"
   },
   "outputs": [],
   "source": [
    "# Compile model\n",
    "modelp_1.compile(loss=\"categorical_crossentropy\",\n",
    "                optimizer=tf.keras.optimizers.Adam(),\n",
    "                metrics=[\"accuracy\"])\n",
    "\n"
   ]
  },
  {
   "cell_type": "code",
   "execution_count": 261,
   "metadata": {
    "id": "_dBv2Z7f-qP4"
   },
   "outputs": [
    {
     "name": "stdout",
     "output_type": "stream",
     "text": [
      "Model: \"modelp_1_dense\"\n",
      "_________________________________________________________________\n",
      " Layer (type)                Output Shape              Param #   \n",
      "=================================================================\n",
      " input_4 (InputLayer)        [(None, 1)]               0         \n",
      "                                                                 \n",
      " text_vectorization_1 (TextV  (None, None)             0         \n",
      " ectorization)                                                   \n",
      "                                                                 \n",
      " embedding_1 (Embedding)     (None, None, 128)         332544    \n",
      "                                                                 \n",
      " global_average_pooling1d_1   (None, 128)              0         \n",
      " (GlobalAveragePooling1D)                                        \n",
      "                                                                 \n",
      " dense_15 (Dense)            (None, 6)                 774       \n",
      "                                                                 \n",
      "=================================================================\n",
      "Total params: 333,318\n",
      "Trainable params: 333,318\n",
      "Non-trainable params: 0\n",
      "_________________________________________________________________\n"
     ]
    }
   ],
   "source": [
    "modelp_1.summary()"
   ]
  },
  {
   "cell_type": "code",
   "execution_count": 262,
   "metadata": {
    "id": "l88snbZE-6p3"
   },
   "outputs": [
    {
     "name": "stdout",
     "output_type": "stream",
     "text": [
      "Epoch 1/20\n",
      "12/12 [==============================] - 0s 17ms/step - loss: 1.7828 - accuracy: 0.2261 - val_loss: 1.7363 - val_accuracy: 0.3095\n",
      "Epoch 2/20\n",
      "12/12 [==============================] - 0s 9ms/step - loss: 1.6946 - accuracy: 0.4282 - val_loss: 1.6629 - val_accuracy: 0.4524\n",
      "Epoch 3/20\n",
      "12/12 [==============================] - 0s 8ms/step - loss: 1.6261 - accuracy: 0.4016 - val_loss: 1.6068 - val_accuracy: 0.3810\n",
      "Epoch 4/20\n",
      "12/12 [==============================] - 0s 9ms/step - loss: 1.5726 - accuracy: 0.3484 - val_loss: 1.5625 - val_accuracy: 0.3810\n",
      "Epoch 5/20\n",
      "12/12 [==============================] - 0s 8ms/step - loss: 1.5324 - accuracy: 0.3457 - val_loss: 1.5285 - val_accuracy: 0.3810\n",
      "Epoch 6/20\n",
      "12/12 [==============================] - 0s 9ms/step - loss: 1.4980 - accuracy: 0.3457 - val_loss: 1.5016 - val_accuracy: 0.3810\n",
      "Epoch 7/20\n",
      "12/12 [==============================] - 0s 9ms/step - loss: 1.4696 - accuracy: 0.3617 - val_loss: 1.4801 - val_accuracy: 0.3810\n",
      "Epoch 8/20\n",
      "12/12 [==============================] - 0s 8ms/step - loss: 1.4431 - accuracy: 0.3750 - val_loss: 1.4652 - val_accuracy: 0.3810\n",
      "Epoch 9/20\n",
      "12/12 [==============================] - 0s 9ms/step - loss: 1.4242 - accuracy: 0.3750 - val_loss: 1.4492 - val_accuracy: 0.3810\n",
      "Epoch 10/20\n",
      "12/12 [==============================] - 0s 9ms/step - loss: 1.4000 - accuracy: 0.4122 - val_loss: 1.4373 - val_accuracy: 0.3810\n",
      "Epoch 11/20\n",
      "12/12 [==============================] - 0s 8ms/step - loss: 1.3808 - accuracy: 0.4734 - val_loss: 1.4278 - val_accuracy: 0.3810\n",
      "Epoch 12/20\n",
      "12/12 [==============================] - 0s 8ms/step - loss: 1.3565 - accuracy: 0.4761 - val_loss: 1.4157 - val_accuracy: 0.3810\n",
      "Epoch 13/20\n",
      "12/12 [==============================] - 0s 9ms/step - loss: 1.3419 - accuracy: 0.5080 - val_loss: 1.4065 - val_accuracy: 0.4048\n",
      "Epoch 14/20\n",
      "12/12 [==============================] - 0s 14ms/step - loss: 1.3138 - accuracy: 0.5612 - val_loss: 1.3980 - val_accuracy: 0.4286\n",
      "Epoch 15/20\n",
      "12/12 [==============================] - 0s 8ms/step - loss: 1.2936 - accuracy: 0.5904 - val_loss: 1.3881 - val_accuracy: 0.4286\n",
      "Epoch 16/20\n",
      "12/12 [==============================] - 0s 8ms/step - loss: 1.2786 - accuracy: 0.5665 - val_loss: 1.3792 - val_accuracy: 0.4286\n",
      "Epoch 17/20\n",
      "12/12 [==============================] - 0s 8ms/step - loss: 1.2578 - accuracy: 0.6223 - val_loss: 1.3730 - val_accuracy: 0.4524\n",
      "Epoch 18/20\n",
      "12/12 [==============================] - 0s 8ms/step - loss: 1.2245 - accuracy: 0.6968 - val_loss: 1.3634 - val_accuracy: 0.4048\n",
      "Epoch 19/20\n",
      "12/12 [==============================] - 0s 8ms/step - loss: 1.2051 - accuracy: 0.6782 - val_loss: 1.3558 - val_accuracy: 0.4286\n",
      "Epoch 20/20\n",
      "12/12 [==============================] - 0s 9ms/step - loss: 1.1749 - accuracy: 0.6941 - val_loss: 1.3468 - val_accuracy: 0.4524\n"
     ]
    }
   ],
   "source": [
    "from keras.callbacks import EarlyStopping\n",
    "import datetime\n",
    "\n",
    "batch_size1 = 32\n",
    "custom_early_stopping1 = EarlyStopping(monitor = 'val_loss', patience = 10, mode = 'min',\n",
    "    restore_best_weights=True\n",
    ")\n",
    "\n",
    "# Fit the model\n",
    "modelp_1_history = modelp_1.fit(X1_train, # input sentences can be a list of strings due to text preprocessing layer built-in model\n",
    "                              Y1_train,\n",
    "                              epochs=20,\n",
    "                              validation_data=(X1_test, Y1_test),\n",
    "                              callbacks=[custom_early_stopping1])"
   ]
  },
  {
   "cell_type": "code",
   "execution_count": 265,
   "metadata": {},
   "outputs": [],
   "source": [
    "#Evaluating the model"
   ]
  },
  {
   "cell_type": "code",
   "execution_count": 263,
   "metadata": {
    "id": "o2E6I6c4A5zN"
   },
   "outputs": [
    {
     "name": "stdout",
     "output_type": "stream",
     "text": [
      "2/2 [==============================] - 0s 0s/step - loss: 1.3468 - accuracy: 0.4524\n"
     ]
    },
    {
     "data": {
      "text/plain": [
       "[1.346811056137085, 0.4523809552192688]"
      ]
     },
     "execution_count": 263,
     "metadata": {},
     "output_type": "execute_result"
    }
   ],
   "source": [
    "modelp_1.evaluate(X1_test, Y1_test)\n"
   ]
  },
  {
   "cell_type": "code",
   "execution_count": 268,
   "metadata": {},
   "outputs": [
    {
     "name": "stdout",
     "output_type": "stream",
     "text": [
      "2/2 [==============================] - 0s 5ms/step - loss: 1.3468 - accuracy: 0.4524\n",
      "Test loss: 1.346811056137085\n",
      "Test accuracy: 0.4523809552192688\n"
     ]
    }
   ],
   "source": [
    "#Finding the loss of the modelp_1\n",
    "#Accuracy and loss of model_2\n",
    "modelp_1_loss, modelp_1_accuracy = modelp_1.evaluate(X1_test, Y1_test, verbose=1)\n",
    "print('Test loss:', modelp_1_loss)\n",
    "print('Test accuracy:', modelp_1_accuracy)"
   ]
  },
  {
   "cell_type": "code",
   "execution_count": 269,
   "metadata": {},
   "outputs": [],
   "source": [
    "#LSTM"
   ]
  },
  {
   "cell_type": "code",
   "execution_count": 270,
   "metadata": {
    "id": "V1V5hDuwBJ1F"
   },
   "outputs": [
    {
     "name": "stdout",
     "output_type": "stream",
     "text": [
      "Model: \"sequential_4\"\n",
      "_________________________________________________________________\n",
      " Layer (type)                Output Shape              Param #   \n",
      "=================================================================\n",
      " text_vectorization_1 (TextV  (None, None)             0         \n",
      " ectorization)                                                   \n",
      "                                                                 \n",
      " embedding_p1 (Embedding)    (None, None, 128)         332544    \n",
      "                                                                 \n",
      " lstm_3 (LSTM)               (None, None, 128)         131584    \n",
      "                                                                 \n",
      " lstm_4 (LSTM)               (None, 128)               131584    \n",
      "                                                                 \n",
      " dense_16 (Dense)            (None, 6)                 774       \n",
      "                                                                 \n",
      "=================================================================\n",
      "Total params: 596,486\n",
      "Trainable params: 596,486\n",
      "Non-trainable params: 0\n",
      "_________________________________________________________________\n",
      "None\n"
     ]
    }
   ],
   "source": [
    "lstm_out1 = 128\n",
    "\n",
    "modelp_2 = Sequential()\n",
    "modelp_2.add(layers.Input(shape=(1,), dtype=\"string\"))\n",
    "modelp_2.add(text_vectorizer1)\n",
    "modelp_2.add(layers.Embedding(input_dim=max_vocab_length,\n",
    "                                     output_dim=128,\n",
    "                                     embeddings_initializer=\"uniform\",\n",
    "                                     input_length=max_length,\n",
    "                                     name=\"embedding_p1\"))\n",
    "modelp_2.add(layers.LSTM(lstm_out1, dropout=0.2, recurrent_dropout=0.2,return_sequences=True))\n",
    "modelp_2.add(layers.LSTM(lstm_out1, dropout=0.2, recurrent_dropout=0.2))\n",
    "modelp_2.add(layers.Dense(num_classes1, activation=\"softmax\")) # create the output layer, want binary outputs so use softmax activation\n",
    "print(modelp_2.summary())"
   ]
  },
  {
   "cell_type": "code",
   "execution_count": 271,
   "metadata": {
    "id": "f06pVvJzBhq5"
   },
   "outputs": [],
   "source": [
    "modelp_2.compile(loss=\"categorical_crossentropy\",\n",
    "                optimizer=tf.keras.optimizers.Adam(),\n",
    "                metrics=[\"accuracy\"])"
   ]
  },
  {
   "cell_type": "code",
   "execution_count": 272,
   "metadata": {},
   "outputs": [],
   "source": [
    "#fitting the model"
   ]
  },
  {
   "cell_type": "code",
   "execution_count": 273,
   "metadata": {
    "id": "0SA05BrxBrhd"
   },
   "outputs": [
    {
     "name": "stdout",
     "output_type": "stream",
     "text": [
      "Epoch 1/50\n",
      "12/12 [==============================] - 6s 212ms/step - loss: 1.6333 - accuracy: 0.3005 - val_loss: 1.5485 - val_accuracy: 0.1905\n",
      "Epoch 2/50\n",
      "12/12 [==============================] - 3s 202ms/step - loss: 1.5309 - accuracy: 0.2979 - val_loss: 1.4468 - val_accuracy: 0.3810\n",
      "Epoch 3/50\n",
      "12/12 [==============================] - 2s 167ms/step - loss: 1.5016 - accuracy: 0.3378 - val_loss: 1.4665 - val_accuracy: 0.2381\n",
      "Epoch 4/50\n",
      "12/12 [==============================] - 2s 164ms/step - loss: 1.4875 - accuracy: 0.3245 - val_loss: 1.4359 - val_accuracy: 0.3810\n",
      "Epoch 5/50\n",
      "12/12 [==============================] - 2s 160ms/step - loss: 1.4783 - accuracy: 0.3324 - val_loss: 1.4479 - val_accuracy: 0.3810\n",
      "Epoch 6/50\n",
      "12/12 [==============================] - 2s 188ms/step - loss: 1.4758 - accuracy: 0.2952 - val_loss: 1.4746 - val_accuracy: 0.3810\n",
      "Epoch 7/50\n",
      "12/12 [==============================] - 2s 192ms/step - loss: 1.5102 - accuracy: 0.3378 - val_loss: 1.4460 - val_accuracy: 0.3095\n",
      "Epoch 8/50\n",
      "12/12 [==============================] - 2s 194ms/step - loss: 1.3261 - accuracy: 0.3245 - val_loss: 1.4592 - val_accuracy: 0.4048\n",
      "Epoch 9/50\n",
      "12/12 [==============================] - 2s 185ms/step - loss: 1.2327 - accuracy: 0.4096 - val_loss: 1.6319 - val_accuracy: 0.3333\n",
      "Epoch 10/50\n",
      "12/12 [==============================] - 2s 175ms/step - loss: 1.1823 - accuracy: 0.3324 - val_loss: 1.5420 - val_accuracy: 0.4048\n",
      "Epoch 11/50\n",
      "12/12 [==============================] - 2s 171ms/step - loss: 1.1649 - accuracy: 0.3777 - val_loss: 1.5598 - val_accuracy: 0.4048\n",
      "Epoch 12/50\n",
      "12/12 [==============================] - 2s 170ms/step - loss: 1.1346 - accuracy: 0.4335 - val_loss: 1.5141 - val_accuracy: 0.3810\n",
      "Epoch 13/50\n",
      "12/12 [==============================] - 3s 237ms/step - loss: 1.1366 - accuracy: 0.3670 - val_loss: 1.5850 - val_accuracy: 0.3810\n",
      "Epoch 14/50\n",
      "12/12 [==============================] - 2s 173ms/step - loss: 1.1870 - accuracy: 0.3830 - val_loss: 1.5669 - val_accuracy: 0.3571\n"
     ]
    }
   ],
   "source": [
    "batch_size2 = 32\n",
    "custom_early_stopping2 = EarlyStopping(monitor = 'val_loss', patience = 10, mode = 'min',\n",
    "    restore_best_weights=True\n",
    ")\n",
    "\n",
    "# Fit model\n",
    "modelp_2_history = modelp_2.fit(X1_train,\n",
    "                              Y1_train,\n",
    "                              epochs=50,\n",
    "                              validation_data=(X1_test, Y1_test),\n",
    "                              callbacks=[custom_early_stopping2])\n",
    "\n"
   ]
  },
  {
   "cell_type": "code",
   "execution_count": 274,
   "metadata": {},
   "outputs": [],
   "source": [
    "#Evaluating the moddel"
   ]
  },
  {
   "cell_type": "code",
   "execution_count": 275,
   "metadata": {
    "id": "N0B0TGSaCtMd"
   },
   "outputs": [
    {
     "name": "stdout",
     "output_type": "stream",
     "text": [
      "2/2 [==============================] - 0s 14ms/step - loss: 1.4359 - accuracy: 0.3810\n"
     ]
    },
    {
     "data": {
      "text/plain": [
       "[1.4359499216079712, 0.380952388048172]"
      ]
     },
     "execution_count": 275,
     "metadata": {},
     "output_type": "execute_result"
    }
   ],
   "source": [
    "modelp_2.evaluate(X1_test, Y1_test)\n"
   ]
  },
  {
   "cell_type": "code",
   "execution_count": 277,
   "metadata": {},
   "outputs": [
    {
     "name": "stdout",
     "output_type": "stream",
     "text": [
      "2/2 [==============================] - 0s 9ms/step - loss: 1.4359 - accuracy: 0.3810\n",
      "Test loss: 1.4359499216079712\n",
      "Test accuracy: 0.380952388048172\n"
     ]
    }
   ],
   "source": [
    "\n",
    "#Accuracy and loss of modelp_2\n",
    "modelp_2_loss, modelp_2_accuracy = modelp_2.evaluate(X1_test, Y1_test, verbose=1)\n",
    "print('Test loss:', modelp_2_loss)\n",
    "print('Test accuracy:', modelp_2_accuracy)"
   ]
  },
  {
   "cell_type": "code",
   "execution_count": 278,
   "metadata": {},
   "outputs": [],
   "source": [
    "#Tuning the model"
   ]
  },
  {
   "cell_type": "code",
   "execution_count": 279,
   "metadata": {
    "id": "qAogtN5ACxpd"
   },
   "outputs": [
    {
     "name": "stdout",
     "output_type": "stream",
     "text": [
      "Epoch 1/100\n",
      "12/12 [==============================] - 2s 187ms/step - loss: 1.4856 - accuracy: 0.3324 - val_loss: 1.4481 - val_accuracy: 0.3810\n",
      "Epoch 2/100\n",
      "12/12 [==============================] - 2s 185ms/step - loss: 1.4802 - accuracy: 0.3324 - val_loss: 1.4429 - val_accuracy: 0.3810\n",
      "Epoch 3/100\n",
      "12/12 [==============================] - 2s 193ms/step - loss: 1.4800 - accuracy: 0.3351 - val_loss: 1.4436 - val_accuracy: 0.3810\n",
      "Epoch 4/100\n",
      "12/12 [==============================] - 2s 164ms/step - loss: 1.4749 - accuracy: 0.3351 - val_loss: 1.4370 - val_accuracy: 0.3810\n",
      "Epoch 5/100\n",
      "12/12 [==============================] - 2s 201ms/step - loss: 1.4691 - accuracy: 0.3378 - val_loss: 1.4398 - val_accuracy: 0.3810\n",
      "Epoch 6/100\n",
      "12/12 [==============================] - 2s 179ms/step - loss: 1.4842 - accuracy: 0.2899 - val_loss: 1.4422 - val_accuracy: 0.3810\n",
      "Epoch 7/100\n",
      "12/12 [==============================] - 2s 180ms/step - loss: 1.4635 - accuracy: 0.3378 - val_loss: 1.4410 - val_accuracy: 0.3810\n",
      "Epoch 8/100\n",
      "12/12 [==============================] - 2s 182ms/step - loss: 1.4249 - accuracy: 0.3165 - val_loss: 1.5279 - val_accuracy: 0.2857\n",
      "Epoch 9/100\n",
      "12/12 [==============================] - 2s 200ms/step - loss: 1.4056 - accuracy: 0.3404 - val_loss: 1.3832 - val_accuracy: 0.4048\n",
      "Epoch 10/100\n",
      "12/12 [==============================] - 2s 188ms/step - loss: 1.2574 - accuracy: 0.4388 - val_loss: 1.4268 - val_accuracy: 0.4048\n",
      "Epoch 11/100\n",
      "12/12 [==============================] - 2s 180ms/step - loss: 1.2440 - accuracy: 0.3697 - val_loss: 1.4217 - val_accuracy: 0.2619\n",
      "Epoch 12/100\n",
      "12/12 [==============================] - 2s 193ms/step - loss: 1.2282 - accuracy: 0.3856 - val_loss: 1.4369 - val_accuracy: 0.3571\n",
      "Epoch 13/100\n",
      "12/12 [==============================] - 2s 201ms/step - loss: 1.1702 - accuracy: 0.4335 - val_loss: 1.3886 - val_accuracy: 0.3333\n",
      "Epoch 14/100\n",
      "12/12 [==============================] - 2s 190ms/step - loss: 1.1087 - accuracy: 0.4867 - val_loss: 1.4821 - val_accuracy: 0.4286\n",
      "Epoch 15/100\n",
      "12/12 [==============================] - 2s 187ms/step - loss: 0.9865 - accuracy: 0.5505 - val_loss: 1.5145 - val_accuracy: 0.5000\n",
      "Epoch 16/100\n",
      "12/12 [==============================] - 2s 189ms/step - loss: 1.4355 - accuracy: 0.5293 - val_loss: 1.5252 - val_accuracy: 0.3810\n",
      "Epoch 17/100\n",
      "12/12 [==============================] - 2s 205ms/step - loss: 1.4177 - accuracy: 0.3670 - val_loss: 1.4543 - val_accuracy: 0.4048\n",
      "Epoch 18/100\n",
      "12/12 [==============================] - 3s 230ms/step - loss: 1.3924 - accuracy: 0.3670 - val_loss: 1.5053 - val_accuracy: 0.2381\n",
      "Epoch 19/100\n",
      "12/12 [==============================] - 3s 212ms/step - loss: 1.2830 - accuracy: 0.4814 - val_loss: 1.5525 - val_accuracy: 0.3571\n"
     ]
    }
   ],
   "source": [
    "batch_size3 = 32\n",
    "custom_early_stopping3 = EarlyStopping(monitor = 'val_loss', patience = 10, mode = 'min',\n",
    "    restore_best_weights=True\n",
    ")\n",
    "\n",
    "# Fit model\n",
    "modelpt_2_history = modelp_2.fit(X1_train,\n",
    "                              Y1_train,\n",
    "                              epochs=100,\n",
    "                              validation_data=(X1_test, Y1_test),\n",
    "                              callbacks=[custom_early_stopping3])\n",
    "\n"
   ]
  },
  {
   "cell_type": "code",
   "execution_count": 280,
   "metadata": {},
   "outputs": [],
   "source": [
    "#Evaluating the model"
   ]
  },
  {
   "cell_type": "code",
   "execution_count": 281,
   "metadata": {
    "id": "m8fcvTzsDjX1"
   },
   "outputs": [
    {
     "name": "stdout",
     "output_type": "stream",
     "text": [
      "2/2 [==============================] - 0s 10ms/step - loss: 1.3832 - accuracy: 0.4048\n"
     ]
    },
    {
     "data": {
      "text/plain": [
       "[1.3831945657730103, 0.4047619104385376]"
      ]
     },
     "execution_count": 281,
     "metadata": {},
     "output_type": "execute_result"
    }
   ],
   "source": [
    "modelp_2.evaluate(X1_test, Y1_test)\n"
   ]
  },
  {
   "cell_type": "code",
   "execution_count": 282,
   "metadata": {},
   "outputs": [
    {
     "name": "stdout",
     "output_type": "stream",
     "text": [
      "2/2 [==============================] - 0s 8ms/step - loss: 1.3832 - accuracy: 0.4048\n",
      "Test loss: 1.3831945657730103\n",
      "Test accuracy: 0.4047619104385376\n"
     ]
    }
   ],
   "source": [
    "#Accuracy and loss of model_2\n",
    "model2t_loss, model2t_accuracy = modelp_2.evaluate(X1_test, Y1_test, verbose=1)\n",
    "print('Test loss:', model2t_loss)\n",
    "print('Test accuracy:', model2t_accuracy)"
   ]
  },
  {
   "cell_type": "code",
   "execution_count": 283,
   "metadata": {
    "id": "mzaAYcSxC6aV"
   },
   "outputs": [],
   "source": [
    "#Bidirectional for target variable potential accident level"
   ]
  },
  {
   "cell_type": "code",
   "execution_count": 284,
   "metadata": {
    "id": "PSR6OR04D9a5"
   },
   "outputs": [
    {
     "name": "stdout",
     "output_type": "stream",
     "text": [
      "Model: \"sequential_5\"\n",
      "_________________________________________________________________\n",
      " Layer (type)                Output Shape              Param #   \n",
      "=================================================================\n",
      " text_vectorization_1 (TextV  (None, None)             0         \n",
      " ectorization)                                                   \n",
      "                                                                 \n",
      " embedding_2p1 (Embedding)   (None, None, 128)         332544    \n",
      "                                                                 \n",
      " bidirectional_1 (Bidirectio  (None, None, 256)        263168    \n",
      " nal)                                                            \n",
      "                                                                 \n",
      " module_wrapper_1 (ModuleWra  (None, 256)              0         \n",
      " pper)                                                           \n",
      "                                                                 \n",
      " dropout_11 (Dropout)        (None, 256)               0         \n",
      "                                                                 \n",
      " dense_17 (Dense)            (None, 128)               32896     \n",
      "                                                                 \n",
      " dropout_12 (Dropout)        (None, 128)               0         \n",
      "                                                                 \n",
      " dense_18 (Dense)            (None, 64)                8256      \n",
      "                                                                 \n",
      " dropout_13 (Dropout)        (None, 64)                0         \n",
      "                                                                 \n",
      " dense_19 (Dense)            (None, 6)                 390       \n",
      "                                                                 \n",
      "=================================================================\n",
      "Total params: 637,254\n",
      "Trainable params: 637,254\n",
      "Non-trainable params: 0\n",
      "_________________________________________________________________\n",
      "None\n"
     ]
    }
   ],
   "source": [
    "from keras.layers import LSTM\n",
    "from keras.layers import Bidirectional\n",
    "from tensorflow.python.keras.layers import GlobalMaxPool1D\n",
    "\n",
    "lstm_outp = 128\n",
    "\n",
    "modelp_3 = Sequential()\n",
    "modelp_3.add(layers.Input(shape=(1,), dtype=\"string\"))\n",
    "modelp_3.add(text_vectorizer1)\n",
    "modelp_3.add(layers.Embedding(input_dim=max_vocab_length,\n",
    "                                     output_dim=128,\n",
    "                                     embeddings_initializer=\"uniform\",\n",
    "                                     input_length=max_length,\n",
    "                                     name=\"embedding_2p1\"))\n",
    "modelp_3.add(Bidirectional(LSTM(lstm_outp, return_sequences = True)))\n",
    "modelp_3.add(GlobalMaxPool1D())\n",
    "modelp_3.add(Dropout(0.5, input_shape = (256,)))\n",
    "modelp_3.add(Dense(128, activation = 'relu'))\n",
    "modelp_3.add(Dropout(0.5, input_shape = (128,)))\n",
    "modelp_3.add(Dense(64, activation = 'relu'))\n",
    "modelp_3.add(Dropout(0.5, input_shape = (64,)))\n",
    "modelp_3.add(layers.Dense(num_classes1, activation=\"softmax\")) # create the output layer, want binary outputs so use softmax activation\n",
    "print(modelp_3.summary())\n"
   ]
  },
  {
   "cell_type": "code",
   "execution_count": 285,
   "metadata": {
    "id": "x1pzOIhpEUOQ"
   },
   "outputs": [],
   "source": [
    "# Compile model\n",
    "modelp_3.compile(loss=\"categorical_crossentropy\",\n",
    "                optimizer=tf.keras.optimizers.Adam(),\n",
    "                metrics=[\"accuracy\"])"
   ]
  },
  {
   "cell_type": "code",
   "execution_count": 286,
   "metadata": {},
   "outputs": [],
   "source": [
    "#Fitting the model"
   ]
  },
  {
   "cell_type": "code",
   "execution_count": 287,
   "metadata": {
    "id": "nFtXCJGnEavU"
   },
   "outputs": [
    {
     "name": "stdout",
     "output_type": "stream",
     "text": [
      "Epoch 1/50\n",
      "12/12 [==============================] - 4s 184ms/step - loss: 1.7673 - accuracy: 0.2394 - val_loss: 1.6848 - val_accuracy: 0.3810\n",
      "Epoch 2/50\n",
      "12/12 [==============================] - 1s 85ms/step - loss: 1.6574 - accuracy: 0.3005 - val_loss: 1.5450 - val_accuracy: 0.3810\n",
      "Epoch 3/50\n",
      "12/12 [==============================] - 1s 85ms/step - loss: 1.6265 - accuracy: 0.3112 - val_loss: 1.5455 - val_accuracy: 0.3810\n",
      "Epoch 4/50\n",
      "12/12 [==============================] - 1s 93ms/step - loss: 1.5644 - accuracy: 0.3059 - val_loss: 1.4715 - val_accuracy: 0.3810\n",
      "Epoch 5/50\n",
      "12/12 [==============================] - 1s 92ms/step - loss: 1.5852 - accuracy: 0.2872 - val_loss: 1.5225 - val_accuracy: 0.3810\n",
      "Epoch 6/50\n",
      "12/12 [==============================] - 1s 91ms/step - loss: 1.5574 - accuracy: 0.3032 - val_loss: 1.4758 - val_accuracy: 0.3810\n",
      "Epoch 7/50\n",
      "12/12 [==============================] - 1s 87ms/step - loss: 1.5301 - accuracy: 0.3138 - val_loss: 1.4341 - val_accuracy: 0.3810\n",
      "Epoch 8/50\n",
      "12/12 [==============================] - 1s 94ms/step - loss: 1.5019 - accuracy: 0.3963 - val_loss: 1.4659 - val_accuracy: 0.3810\n",
      "Epoch 9/50\n",
      "12/12 [==============================] - 1s 98ms/step - loss: 1.2922 - accuracy: 0.4814 - val_loss: 1.4725 - val_accuracy: 0.3810\n",
      "Epoch 10/50\n",
      "12/12 [==============================] - 1s 89ms/step - loss: 1.1082 - accuracy: 0.5372 - val_loss: 1.5749 - val_accuracy: 0.4286\n",
      "Epoch 11/50\n",
      "12/12 [==============================] - 1s 86ms/step - loss: 1.0214 - accuracy: 0.5612 - val_loss: 1.5204 - val_accuracy: 0.3810\n",
      "Epoch 12/50\n",
      "12/12 [==============================] - 1s 88ms/step - loss: 1.0090 - accuracy: 0.5665 - val_loss: 1.5229 - val_accuracy: 0.4048\n",
      "Epoch 13/50\n",
      "12/12 [==============================] - 1s 88ms/step - loss: 0.8823 - accuracy: 0.6090 - val_loss: 2.1457 - val_accuracy: 0.3571\n",
      "Epoch 14/50\n",
      "12/12 [==============================] - 1s 86ms/step - loss: 0.8449 - accuracy: 0.6250 - val_loss: 2.5083 - val_accuracy: 0.3095\n",
      "Epoch 15/50\n",
      "12/12 [==============================] - 1s 88ms/step - loss: 0.6986 - accuracy: 0.6250 - val_loss: 2.6041 - val_accuracy: 0.3571\n",
      "Epoch 16/50\n",
      "12/12 [==============================] - 1s 84ms/step - loss: 0.6695 - accuracy: 0.6676 - val_loss: 3.4858 - val_accuracy: 0.3571\n",
      "Epoch 17/50\n",
      "12/12 [==============================] - 1s 88ms/step - loss: 0.6237 - accuracy: 0.6596 - val_loss: 3.6745 - val_accuracy: 0.3333\n"
     ]
    }
   ],
   "source": [
    "batch_sizep2 = 32\n",
    "custom_early_stoppingp2 = EarlyStopping(monitor = 'val_loss', patience = 10, mode = 'min',\n",
    "    restore_best_weights=True\n",
    ")\n",
    "\n",
    "# Fit model\n",
    "modelp_3_history = modelp_3.fit(X1_train,\n",
    "                              Y1_train,\n",
    "                              epochs=50,\n",
    "                              validation_data=(X1_test, Y1_test),\n",
    "                              callbacks=[custom_early_stoppingp2])"
   ]
  },
  {
   "cell_type": "code",
   "execution_count": 288,
   "metadata": {},
   "outputs": [],
   "source": [
    "#Evaluating the modelp_3"
   ]
  },
  {
   "cell_type": "code",
   "execution_count": 289,
   "metadata": {
    "id": "cr9Vs7vVFXfT"
   },
   "outputs": [
    {
     "name": "stdout",
     "output_type": "stream",
     "text": [
      "2/2 [==============================] - 0s 10ms/step - loss: 1.4341 - accuracy: 0.3810\n"
     ]
    },
    {
     "data": {
      "text/plain": [
       "[1.4341294765472412, 0.380952388048172]"
      ]
     },
     "execution_count": 289,
     "metadata": {},
     "output_type": "execute_result"
    }
   ],
   "source": [
    "modelp_3.evaluate(X1_test, Y1_test)"
   ]
  },
  {
   "cell_type": "code",
   "execution_count": 290,
   "metadata": {},
   "outputs": [
    {
     "name": "stdout",
     "output_type": "stream",
     "text": [
      "2/2 [==============================] - 0s 8ms/step - loss: 1.4341 - accuracy: 0.3810\n",
      "Test loss: 1.4341294765472412\n",
      "Test accuracy: 0.380952388048172\n"
     ]
    }
   ],
   "source": [
    "#Accuracy and loss of model_2\n",
    "modelp_3_loss, modelp_3_accuracy = modelp_3.evaluate(X1_test, Y1_test, verbose=1)\n",
    "print('Test loss:', modelp_3_loss)\n",
    "print('Test accuracy:', modelp_3_accuracy)"
   ]
  },
  {
   "cell_type": "code",
   "execution_count": 295,
   "metadata": {},
   "outputs": [
    {
     "name": "stdout",
     "output_type": "stream",
     "text": [
      "[0.8166620135307312, 0.8605166673660278]\n"
     ]
    }
   ],
   "source": [
    "#Comparing all the BILSTM and LSTM models with target variable accident level\n",
    "model_LSTM_accidentlevel_tf = [\"LSTM for accident level\",\"BILSTM for accident level\"]\n",
    "\n",
    "loss_LSTM_accidentlevel_tf = [model2_loss,model3_loss]\n",
    "print(loss_LSTM_accidentlevel_tf)"
   ]
  },
  {
   "cell_type": "code",
   "execution_count": 301,
   "metadata": {},
   "outputs": [
    {
     "data": {
      "image/png": "[encoded data removed]",
      "text/plain": [
       "<Figure size 720x360 with 1 Axes>"
      ]
     },
     "metadata": {
      "needs_background": "light"
     },
     "output_type": "display_data"
    }
   ],
   "source": [
    "# creating the bar plot\n",
    "fig = plt.figure(figsize = (10, 5)) \n",
    "plt.bar(model_LSTM_accidentlevel_tf,loss_LSTM_accidentlevel_tf, color ='black',width=0.8,) \n",
    "  \n",
    "plt.xlabel(\"Models to predict Accident level\") \n",
    "plt.xticks(rotation = 'vertical')\n",
    "plt.ylabel(\"Loss\") \n",
    "plt.title(\"Comparison of Loss of various LSTM models for Accident level\") \n",
    "plt.show()"
   ]
  },
  {
   "cell_type": "code",
   "execution_count": 302,
   "metadata": {},
   "outputs": [
    {
     "name": "stdout",
     "output_type": "stream",
     "text": [
      "[0.761904776096344, 0.761904776096344]\n"
     ]
    }
   ],
   "source": [
    "#Comparing accuracy\n",
    "model_LSTM_a_accidentlevel_tf = [\"LSTM for accident level\",\"BILSTM for accident level\"]\n",
    "\n",
    "accuracy_LSTM_accidentlevel_tf = [model2_accuracy,model3_accuracy]\n",
    "print(accuracy_LSTM_accidentlevel_tf)"
   ]
  },
  {
   "cell_type": "code",
   "execution_count": 303,
   "metadata": {},
   "outputs": [
    {
     "data": {
      "image/png": "[encoded data removed]",
      "text/plain": [
       "<Figure size 720x360 with 1 Axes>"
      ]
     },
     "metadata": {
      "needs_background": "light"
     },
     "output_type": "display_data"
    }
   ],
   "source": [
    "# creating the bar plot\n",
    "fig = plt.figure(figsize = (10, 5)) \n",
    "plt.bar(model_LSTM_a_accidentlevel_tf,accuracy_LSTM_accidentlevel_tf, color ='black',width=0.8,) \n",
    "  \n",
    "plt.xlabel(\"Models to predict Accident level\") \n",
    "plt.xticks(rotation = 'vertical')\n",
    "plt.ylabel(\"Accuracy\") \n",
    "plt.title(\"Comparison of Accuracy of various LSTM models for Accident level\") \n",
    "plt.show()"
   ]
  },
  {
   "cell_type": "code",
   "execution_count": 297,
   "metadata": {},
   "outputs": [
    {
     "name": "stdout",
     "output_type": "stream",
     "text": [
      "[1.3831945657730103, 1.4341294765472412]\n"
     ]
    }
   ],
   "source": [
    "#Comparing the accuracies and loss for BILSTM and LSTM for potential accident level\n",
    "model_LSTM_paccidentlevel_tf = [\"LSTM for potential accident level\",\"BILSTM for potential accident level\"]\n",
    "\n",
    "loss_LSTM_paccidentlevel_tf = [model2t_loss,modelp_3_loss]\n",
    "print(loss_LSTM_paccidentlevel_tf)"
   ]
  },
  {
   "cell_type": "code",
   "execution_count": 306,
   "metadata": {},
   "outputs": [
    {
     "data": {
      "image/png": "[encoded data removed]",
      "text/plain": [
       "<Figure size 720x360 with 1 Axes>"
      ]
     },
     "metadata": {
      "needs_background": "light"
     },
     "output_type": "display_data"
    }
   ],
   "source": [
    "#Bar plot\n",
    "fig = plt.figure(figsize = (10, 5)) \n",
    "plt.bar(model_LSTM_paccidentlevel_tf,loss_LSTM_paccidentlevel_tf, color ='black',width=0.8,) \n",
    "  \n",
    "plt.xlabel(\"Models to predict Potential Accident level\") \n",
    "plt.xticks(rotation = 'vertical')\n",
    "plt.ylabel(\"Loss\") \n",
    "plt.title(\"Comparison of Loss of various LSTM models for Potential Accident level\") \n",
    "plt.show()"
   ]
  },
  {
   "cell_type": "code",
   "execution_count": 304,
   "metadata": {},
   "outputs": [
    {
     "name": "stdout",
     "output_type": "stream",
     "text": [
      "[0.4047619104385376, 0.380952388048172]\n"
     ]
    }
   ],
   "source": [
    "#Comparing accuracy\n",
    "model_LSTM_a_paccidentlevel_tf = [\"LSTM for potential accident level\",\"BILSTM for potential accident level\"]\n",
    "\n",
    "accuracy_LSTM_paccidentlevel_tf = [model2t_accuracy,modelp_3_accuracy]\n",
    "print(accuracy_LSTM_paccidentlevel_tf)"
   ]
  },
  {
   "cell_type": "code",
   "execution_count": 305,
   "metadata": {},
   "outputs": [
    {
     "data": {
      "image/png": "[encoded data removed]",
      "text/plain": [
       "<Figure size 720x360 with 1 Axes>"
      ]
     },
     "metadata": {
      "needs_background": "light"
     },
     "output_type": "display_data"
    }
   ],
   "source": [
    "#Bar plot\n",
    "fig = plt.figure(figsize = (10, 5)) \n",
    "plt.bar(model_LSTM_a_paccidentlevel_tf,accuracy_LSTM_paccidentlevel_tf, color ='black',width=0.8,) \n",
    "  \n",
    "plt.xlabel(\"Models to predict Potential Accident level\") \n",
    "plt.xticks(rotation = 'vertical')\n",
    "plt.ylabel(\"Accuracy\") \n",
    "plt.title(\"Comparison of Accuracy of various LSTM models for Potential Accident level\") \n",
    "plt.show()"
   ]
  },
  {
   "cell_type": "code",
   "execution_count": 308,
   "metadata": {},
   "outputs": [],
   "source": [
    "#Step 5: Choose the best performing model classifier and pickle it"
   ]
  },
  {
   "cell_type": "markdown",
   "metadata": {},
   "source": [
    "Among the above applied classsifiers, the SVM model is performing the best for both the potential accident level and accident level as it is having high accuracy of about 77% for accident level and about 50% for potential accident level.The SVM model is performing better than the ANN classifier, LSTM and BILSTM classifiers.\n",
    "Hence, the SVM model is to be pickled for both potential accident level and accident level."
   ]
  },
  {
   "cell_type": "code",
   "execution_count": 309,
   "metadata": {},
   "outputs": [],
   "source": [
    "#Pickling the model\n",
    "#For accident level\n",
    "import pickle\n",
    "filename_accidentlevel = 'finalized_accidentlevelmodel.sav'\n",
    "pickle.dump(grid, open(filename_accidentlevel, 'wb'))"
   ]
  },
  {
   "cell_type": "code",
   "execution_count": 310,
   "metadata": {},
   "outputs": [],
   "source": [
    "#For potential accidnet level\n",
    "#Pickling\n",
    "import pickle\n",
    "filename_potentialaccidentlevel= 'finalized_potential_accidentlevelmodel.sav'\n",
    "pickle.dump(grid_p, open(filename_potentialaccidentlevel, 'wb'))"
   ]
  }
 ],
 "metadata": {
  "colab": {
   "collapsed_sections": [],
   "name": "Capstonemilestone2 .ipynb",
   "provenance": []
  },
  "kernelspec": {
   "display_name": "Python 3 (ipykernel)",
   "language": "python",
   "name": "python3"
  },
  "language_info": {
   "codemirror_mode": {
    "name": "ipython",
    "version": 3
   },
   "file_extension": ".py",
   "mimetype": "text/x-python",
   "name": "python",
   "nbconvert_exporter": "python",
   "pygments_lexer": "ipython3",
   "version": "3.9.7"
  }
 },
 "nbformat": 4,
 "nbformat_minor": 1
}
